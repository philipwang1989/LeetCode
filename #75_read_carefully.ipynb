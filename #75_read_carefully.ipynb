{
 "cells": [
  {
   "cell_type": "code",
   "execution_count": 26,
   "metadata": {},
   "outputs": [
    {
     "name": "stdout",
     "output_type": "stream",
     "text": [
      "[0, 1, 2]\n"
     ]
    }
   ],
   "source": [
    "# 75. Sort Colors\n",
    "# Input: [2,0,2,1,1,0]\n",
    "# Output: [0,0,1,1,2,2]\n",
    "# has to be O(n)\n",
    "class Solution(object):\n",
    "    def sortColors(self, nums):\n",
    "        \"\"\"\n",
    "        :type nums: List[int]\n",
    "        :rtype: None Do not return anything, modify nums in-place instead.\n",
    "        \"\"\"\n",
    "        if len(nums) == 0:\n",
    "            return None\n",
    "        # sort in place\n",
    "        l = 0\n",
    "        r = len(nums) - 1\n",
    "        i = 0\n",
    "        while i <= r:\n",
    "            if nums[i] == 2:\n",
    "                nums[i], nums[r] = nums[r], nums[i]\n",
    "                r -= 1\n",
    "            elif nums[i] == 0:\n",
    "                nums[i], nums[l] = nums[l], nums[i]\n",
    "                l += 1\n",
    "                i += 1\n",
    "            elif nums[i] == 1:\n",
    "                i += 1\n",
    "\n",
    "nums = [1,2,0]\n",
    "Solution().sortColors(nums)\n",
    "print(nums)"
   ]
  },
  {
   "cell_type": "code",
   "execution_count": null,
   "metadata": {},
   "outputs": [],
   "source": []
  }
 ],
 "metadata": {
  "kernelspec": {
   "display_name": "Python 3",
   "language": "python",
   "name": "python3"
  },
  "language_info": {
   "codemirror_mode": {
    "name": "ipython",
    "version": 3
   },
   "file_extension": ".py",
   "mimetype": "text/x-python",
   "name": "python",
   "nbconvert_exporter": "python",
   "pygments_lexer": "ipython3",
   "version": "3.6.5"
  }
 },
 "nbformat": 4,
 "nbformat_minor": 2
}
