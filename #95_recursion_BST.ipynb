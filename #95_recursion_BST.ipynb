{
 "cells": [
  {
   "cell_type": "code",
   "execution_count": null,
   "metadata": {},
   "outputs": [],
   "source": [
    "# 95. Unique Binary Search Trees II\n",
    "# Definition for a binary tree node.\n",
    "class TreeNode(object):\n",
    "    def __init__(self, x):\n",
    "        self.val = x\n",
    "        self.left = None\n",
    "        self.right = None\n",
    "\n",
    "class Solution(object):\n",
    "    def generateTrees(self, n):\n",
    "        \"\"\"\n",
    "        :type n: int\n",
    "        :rtype: List[TreeNode]\n",
    "        \"\"\"\n",
    "        def generate(first, last):\n",
    "            trees = []\n",
    "            for root in range(first, last+1):\n",
    "                for left in generate(first, root-1):\n",
    "                    for right in generate(root+1, last):\n",
    "                        node = TreeNode(root)\n",
    "                        node.left = left\n",
    "                        node.right = right\n",
    "                        trees += node,\n",
    "            return trees or [None]\n",
    "        return generate(1, n)\n",
    "                "
   ]
  },
  {
   "cell_type": "code",
   "execution_count": 3,
   "metadata": {},
   "outputs": [
    {
     "data": {
      "text/plain": [
       "[]"
      ]
     },
     "execution_count": 3,
     "metadata": {},
     "output_type": "execute_result"
    }
   ],
   "source": [
    "# 95. Unique Binary Search Trees II\n",
    "# Definition for a binary tree node.\n",
    "# this one is most understandable\n",
    "class TreeNode(object):\n",
    "    def __init__(self, x):\n",
    "        self.val = x\n",
    "        self.left = None\n",
    "        self.right = None\n",
    "\n",
    "class Solution(object):\n",
    "    def generateTrees(self, n):\n",
    "        \"\"\"\n",
    "        :type n: int\n",
    "        :rtype: List[TreeNode]\n",
    "        \"\"\"\n",
    "        return self.helper(1, n+1)\n",
    "    def helper(self, beg, end):\n",
    "        if beg > end:\n",
    "            return []\n",
    "        result = []\n",
    "        for i in range(beg, end):\n",
    "            leftTree = self.helper(beg, i)\n",
    "            rightTree = self.helper(i + 1, end)\n",
    "            if len(leftTree) == 0:\n",
    "                leftTree.append(None)\n",
    "            if len(rightTree) == 0:\n",
    "                rightTree.append(None)\n",
    "            for j in range(len(leftTree)):\n",
    "                for k in range(len(rightTree)):\n",
    "                    tree = TreeNode(i)\n",
    "                    tree.left = leftTree[j]\n",
    "                    tree.right = rightTree[k]\n",
    "                    result.append(tree)\n",
    "        return result\n",
    "Solution().generateTrees(0)"
   ]
  },
  {
   "cell_type": "code",
   "execution_count": null,
   "metadata": {},
   "outputs": [],
   "source": [
    "class Solution(object):\n",
    "    def generateTrees(self, n):\n",
    "        \"\"\"\n",
    "        :type n: int\n",
    "        :rtype: List[TreeNode]\n",
    "        \"\"\"\n",
    "        if n == 0:\n",
    "            return []\n",
    "        return self.dfs(1, n+1)\n",
    "        \n",
    "    def dfs(self, start, end):\n",
    "        if start == end:\n",
    "            return None\n",
    "        result = []\n",
    "        for i in range(start, end):\n",
    "            for l in self.dfs(start, i) or [None]:\n",
    "                for r in self.dfs(i+1, end) or [None]:\n",
    "                    node = TreeNode(i)\n",
    "                    node.left, node.right  = l, r\n",
    "                    result.append(node)\n",
    "        return result"
   ]
  }
 ],
 "metadata": {
  "kernelspec": {
   "display_name": "Python 3",
   "language": "python",
   "name": "python3"
  },
  "language_info": {
   "codemirror_mode": {
    "name": "ipython",
    "version": 3
   },
   "file_extension": ".py",
   "mimetype": "text/x-python",
   "name": "python",
   "nbconvert_exporter": "python",
   "pygments_lexer": "ipython3",
   "version": "3.6.5"
  }
 },
 "nbformat": 4,
 "nbformat_minor": 2
}
