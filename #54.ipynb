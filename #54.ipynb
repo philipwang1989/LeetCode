{
 "cells": [
  {
   "cell_type": "code",
   "execution_count": 14,
   "metadata": {},
   "outputs": [
    {
     "data": {
      "text/plain": [
       "[1]"
      ]
     },
     "execution_count": 14,
     "metadata": {},
     "output_type": "execute_result"
    }
   ],
   "source": [
    "# 54. Spiral Matrix\n",
    "class Solution:\n",
    "    def __init__(self):\n",
    "        self.ans = []\n",
    "        self.direction = [(0,1), (1,0), (0,-1), (-1,0)] # right, down, left, up\n",
    "    def spiralOrder(self, matrix):\n",
    "        if not matrix:\n",
    "            return []\n",
    "        m = len(matrix)\n",
    "        n = len(matrix[0])\n",
    "        visited = [[0] * n for _ in range(m)]\n",
    "        count = 0\n",
    "        self.ans = [matrix[0][0]]\n",
    "        visited[0][0] = 1\n",
    "        self.move(matrix, visited, count, 0, 0)\n",
    "        return self.ans\n",
    "    def move(self, matrix, visited, count, i, j):\n",
    "        dx, dy = self.direction[count]\n",
    "        if i+dx < len(matrix) and j+dy < len(matrix[0]):\n",
    "            if not visited[i+dx][j+dy]:\n",
    "                visited[i+dx][j+dy] = 1\n",
    "                self.ans += [matrix[i+dx][j+dy]]\n",
    "                return self.move(matrix, visited, count, i+dx, j+dy)\n",
    "            else:\n",
    "                count += 1\n",
    "                count = count % 4\n",
    "                dx, dy = self.direction[count]\n",
    "                if visited[i+dx][j+dy]:\n",
    "                    return\n",
    "                else:\n",
    "                    visited[i+dx][j+dy] = 1\n",
    "                    self.ans += [matrix[i+dx][j+dy]]\n",
    "                    return self.move(matrix, visited, count, i+dx, j+dy)\n",
    "        else:\n",
    "            count += 1\n",
    "            count = count % 4\n",
    "            dx, dy = self.direction[count]\n",
    "            if i+dx < len(matrix) and j+dy < len(matrix[0]):\n",
    "                if visited[i+dx][j+dy]:\n",
    "                    return\n",
    "                else:\n",
    "                    visited[i+dx][j+dy] = 1\n",
    "                    self.ans += [matrix[i+dx][j+dy]]\n",
    "                    return self.move(matrix, visited, count, i+dx, j+dy)\n",
    "            else:\n",
    "                return\n",
    "            \n",
    "        \n",
    "        \n",
    "matrix = [\n",
    "  [1, 2, 3, 4],\n",
    "  [5, 6, 7, 8],\n",
    "  [9,10,11,12]\n",
    "]\n",
    "matrix = [\n",
    "  [1]\n",
    "]\n",
    "Solution().spiralOrder(matrix)"
   ]
  },
  {
   "cell_type": "code",
   "execution_count": null,
   "metadata": {},
   "outputs": [],
   "source": [
    "class Solution(object):\n",
    "    def spiralOrder(self, matrix):\n",
    "        if not matrix: return []\n",
    "        R, C = len(matrix), len(matrix[0])\n",
    "        seen = [[False] * C for _ in matrix]\n",
    "        ans = []\n",
    "        dr = [0, 1, 0, -1]\n",
    "        dc = [1, 0, -1, 0]\n",
    "        r = c = di = 0\n",
    "        for _ in range(R * C):\n",
    "            ans.append(matrix[r][c])\n",
    "            seen[r][c] = True\n",
    "            cr, cc = r + dr[di], c + dc[di]\n",
    "            if 0 <= cr < R and 0 <= cc < C and not seen[cr][cc]:\n",
    "                r, c = cr, cc\n",
    "            else:\n",
    "                di = (di + 1) % 4\n",
    "                r, c = r + dr[di], c + dc[di]\n",
    "        return ans"
   ]
  }
 ],
 "metadata": {
  "kernelspec": {
   "display_name": "Python 3",
   "language": "python",
   "name": "python3"
  },
  "language_info": {
   "codemirror_mode": {
    "name": "ipython",
    "version": 3
   },
   "file_extension": ".py",
   "mimetype": "text/x-python",
   "name": "python",
   "nbconvert_exporter": "python",
   "pygments_lexer": "ipython3",
   "version": "3.6.5"
  }
 },
 "nbformat": 4,
 "nbformat_minor": 2
}
