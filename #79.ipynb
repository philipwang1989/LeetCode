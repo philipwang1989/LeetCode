{
 "cells": [
  {
   "cell_type": "code",
   "execution_count": 25,
   "metadata": {},
   "outputs": [
    {
     "data": {
      "text/plain": [
       "False"
      ]
     },
     "execution_count": 25,
     "metadata": {},
     "output_type": "execute_result"
    }
   ],
   "source": [
    "# 79. Word Search\n",
    "# board =\n",
    "# [\n",
    "#   ['A','B','C','E'],\n",
    "#   ['S','F','C','S'],\n",
    "#   ['A','D','E','E']\n",
    "# ]\n",
    "\n",
    "# Given word = \"ABCCED\", return true.\n",
    "# Given word = \"SEE\", return true.\n",
    "# Given word = \"ABCB\", return false.\n",
    "class Solution(object):\n",
    "    def exist(self, board, word):\n",
    "        \"\"\"\n",
    "        :type board: List[List[str]]\n",
    "        :type word: str\n",
    "        :rtype: bool\n",
    "        \"\"\"\n",
    "        if len(board) == 0 or len(board[0]) == 0:\n",
    "            return False\n",
    "        if not word:\n",
    "            return False\n",
    "        visited = [[0] * len(board[0]) for _ in range(len(board))]\n",
    "        curr = 0\n",
    "        for i in range(len(board)):\n",
    "            for j in range(len(board[0])):\n",
    "                if self.dfs(board, word, curr, i, j, visited):\n",
    "                    return True\n",
    "        return False\n",
    "    \n",
    "    def dfs(self, board, word, curr, i, j, visited):\n",
    "        if curr == len(word):\n",
    "            return True\n",
    "        if i < 0 or i >= len(board) or j < 0 or j >= len(board[0]):\n",
    "            return False\n",
    "        if visited[i][j]:\n",
    "            return False\n",
    "        if board[i][j] != word[curr]:\n",
    "            return False\n",
    "        visited[i][j] = 1\n",
    "        res = (self.dfs(board, word, curr+1, i-1, j, visited) or \n",
    "              self.dfs(board, word, curr+1, i+1, j, visited) or\n",
    "              self.dfs(board, word, curr+1, i, j-1, visited) or\n",
    "              self.dfs(board, word, curr+1, i, j+1, visited))\n",
    "        visited[i][j] = 0\n",
    "        return res\n",
    "\n",
    "board = [\n",
    "  ['A','B','C','E'],\n",
    "  ['S','F','C','S'],\n",
    "  ['A','D','E','E']\n",
    "]    \n",
    "word = \"ABCB\"\n",
    "Solution().exist(board, word)"
   ]
  },
  {
   "cell_type": "code",
   "execution_count": 27,
   "metadata": {},
   "outputs": [
    {
     "data": {
      "text/plain": [
       "False"
      ]
     },
     "execution_count": 27,
     "metadata": {},
     "output_type": "execute_result"
    }
   ],
   "source": [
    "# 79. Word Search\n",
    "# without visited\n",
    "# board =\n",
    "# [\n",
    "#   ['A','B','C','E'],\n",
    "#   ['S','F','C','S'],\n",
    "#   ['A','D','E','E']\n",
    "# ]\n",
    "\n",
    "# Given word = \"ABCCED\", return true.\n",
    "# Given word = \"SEE\", return true.\n",
    "# Given word = \"ABCB\", return false.\n",
    "class Solution(object):\n",
    "    def exist(self, board, word):\n",
    "        \"\"\"\n",
    "        :type board: List[List[str]]\n",
    "        :type word: str\n",
    "        :rtype: bool\n",
    "        \"\"\"\n",
    "        if len(board) == 0 or len(board[0]) == 0:\n",
    "            return False\n",
    "        if not word:\n",
    "            return False\n",
    "        for i in range(len(board)):\n",
    "            for j in range(len(board[0])):\n",
    "                if self.dfs(board, word, 0, i, j):\n",
    "                    return True\n",
    "        return False\n",
    "    \n",
    "    def dfs(self, board, word, curr, i, j):\n",
    "        if curr == len(word):\n",
    "            return True\n",
    "        if i < 0 or i >= len(board) or j < 0 or j >= len(board[0]):\n",
    "            return False\n",
    "        if board[i][j] != word[curr]:\n",
    "            return False\n",
    "        temp = board[i][j]\n",
    "        board[i][j] = '#'\n",
    "        res = (self.dfs(board, word, curr+1, i-1, j) or \n",
    "              self.dfs(board, word, curr+1, i+1, j) or\n",
    "              self.dfs(board, word, curr+1, i, j-1) or\n",
    "              self.dfs(board, word, curr+1, i, j+1))\n",
    "        board[i][j] = temp\n",
    "        return res\n",
    "\n",
    "board = [\n",
    "  ['A','B','C','E'],\n",
    "  ['S','F','C','S'],\n",
    "  ['A','D','E','E']\n",
    "]    \n",
    "word = \"ABCB\"\n",
    "Solution().exist(board, word)"
   ]
  },
  {
   "cell_type": "code",
   "execution_count": null,
   "metadata": {},
   "outputs": [],
   "source": []
  }
 ],
 "metadata": {
  "kernelspec": {
   "display_name": "Python 3",
   "language": "python",
   "name": "python3"
  },
  "language_info": {
   "codemirror_mode": {
    "name": "ipython",
    "version": 3
   },
   "file_extension": ".py",
   "mimetype": "text/x-python",
   "name": "python",
   "nbconvert_exporter": "python",
   "pygments_lexer": "ipython3",
   "version": "3.6.5"
  }
 },
 "nbformat": 4,
 "nbformat_minor": 2
}
