{
 "cells": [
  {
   "cell_type": "code",
   "execution_count": 1,
   "metadata": {},
   "outputs": [
    {
     "data": {
      "text/plain": [
       "[[1, 2, 3], [1, 3, 2], [2, 1, 3], [2, 3, 1], [3, 1, 2], [3, 2, 1]]"
      ]
     },
     "execution_count": 1,
     "metadata": {},
     "output_type": "execute_result"
    }
   ],
   "source": [
    "# permutation\n",
    "# input: [1,2,3]\n",
    "# output: [3, 2, 1], [3, 2, 1], [3, 2, 1], [3, 2, 1], [3, 2, 1], [3, 2, 1]\n",
    "\n",
    "class main():\n",
    "    def permute(self,nums):  \n",
    "        res = []\n",
    "        used = [False] * len(nums)\n",
    "        self.P(nums,len(nums),used,[],res)\n",
    "        return res\n",
    "\n",
    "    def P(self,nums,deepest,used,curr,ans):\n",
    "        if len(curr) == deepest:\n",
    "            # cur是指针引用  cur[:]是深拷贝 \n",
    "            # 如果用cur 后续对cur操作 都会影响已经加入结果的cur\n",
    "            ans.append(curr.copy()) # !!! or use curr[:]\n",
    "            return\n",
    "        for i in range(len(nums)):\n",
    "            if used[i]:\n",
    "                continue\n",
    "            used[i] = True\n",
    "            curr.append(nums[i])\n",
    "            self.P(nums,deepest,used,curr,ans)\n",
    "            curr.pop()\n",
    "            used[i] = False\n",
    "\n",
    "main().permute([1,2,3])"
   ]
  },
  {
   "cell_type": "code",
   "execution_count": 3,
   "metadata": {},
   "outputs": [
    {
     "data": {
      "text/plain": [
       "[[1, 2, 3]]"
      ]
     },
     "execution_count": 3,
     "metadata": {},
     "output_type": "execute_result"
    }
   ],
   "source": [
    "# combination\n",
    "# input: [1,2,3]\n",
    "class main():\n",
    "    def combine(self,nums):  \n",
    "        res = []\n",
    "        self.C(nums,len(nums),0,[],res)\n",
    "        return res\n",
    "    def C(self,nums,deepest,s,curr,ans):\n",
    "        if len(curr) == deepest:\n",
    "            # cur是指针引用  cur[:]是深拷贝 \n",
    "            # 如果用cur 后续对cur操作 都会影响已经加入结果的cur\n",
    "            ans.append(curr.copy()) # !!! or use curr[:]\n",
    "            return\n",
    "        for i in range(s,len(nums)):\n",
    "            curr.append(nums[i])\n",
    "            self.C(nums,deepest,i+1,curr,ans)\n",
    "            curr.pop()\n",
    "            \n",
    "main().combine([1,2,3])"
   ]
  },
  {
   "cell_type": "code",
   "execution_count": null,
   "metadata": {},
   "outputs": [],
   "source": []
  }
 ],
 "metadata": {
  "kernelspec": {
   "display_name": "Python 3",
   "language": "python",
   "name": "python3"
  },
  "language_info": {
   "codemirror_mode": {
    "name": "ipython",
    "version": 3
   },
   "file_extension": ".py",
   "mimetype": "text/x-python",
   "name": "python",
   "nbconvert_exporter": "python",
   "pygments_lexer": "ipython3",
   "version": "3.6.5"
  }
 },
 "nbformat": 4,
 "nbformat_minor": 2
}
