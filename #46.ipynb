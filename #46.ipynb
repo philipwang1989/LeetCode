{
 "cells": [
  {
   "cell_type": "code",
   "execution_count": 6,
   "metadata": {},
   "outputs": [
    {
     "name": "stdout",
     "output_type": "stream",
     "text": [
      "[[1, 2, 3], [1, 3, 2], [2, 1, 3], [2, 3, 1], [3, 1, 2], [3, 2, 1]]\n"
     ]
    }
   ],
   "source": [
    "# 46. Permutations\n",
    "# recursive method\n",
    "class Solution:\n",
    "    def permute(self, nums):\n",
    "        if len(nums) == 0:\n",
    "            return []\n",
    "        if len(nums) == 1:\n",
    "            return [nums]\n",
    "        result = []\n",
    "        for i in range(len(nums)):\n",
    "            m = nums[i]\n",
    "            remLst = nums[0:i] + nums[i+1:] # extract everything except i\n",
    "            for p in self.permute(remLst):\n",
    "                result.append([m] + p)\n",
    "        return result\n",
    "        \n",
    "s = Solution()\n",
    "print(s.permute([1,2,3]))"
   ]
  },
  {
   "cell_type": "code",
   "execution_count": 28,
   "metadata": {},
   "outputs": [
    {
     "name": "stdout",
     "output_type": "stream",
     "text": [
      "[[3, 1, 2], [1, 3, 2], [1, 2, 3], [3, 2, 1], [2, 3, 1], [2, 1, 3]]\n"
     ]
    }
   ],
   "source": [
    "# iterative method?\n",
    "# 1 // 12,21 // 312,132,123,321,231,213 //\n",
    "# but not very good...\n",
    "class Solution:\n",
    "    def permute(self, nums):\n",
    "        if len(nums) == 0:\n",
    "            return []\n",
    "        if len(nums) == 1:\n",
    "            return [nums]\n",
    "        result = [[nums[0]]]\n",
    "        count = 1\n",
    "        while count < len(nums):\n",
    "            tobeInsert = nums[count]\n",
    "            templist = []\n",
    "            while len(result) != 0:\n",
    "                temp = result.pop()\n",
    "                for i in range(len(temp)+1):\n",
    "                    temp2 = temp.copy()\n",
    "                    temp2.insert(i,tobeInsert)\n",
    "                    templist.append(temp2)\n",
    "            result = templist\n",
    "            count += 1\n",
    "        return result\n",
    "s = Solution()\n",
    "print(s.permute([1,2,3]))"
   ]
  },
  {
   "cell_type": "code",
   "execution_count": 10,
   "metadata": {},
   "outputs": [
    {
     "name": "stdout",
     "output_type": "stream",
     "text": [
      "[[1, 2]]\n",
      "[1, 2]\n",
      "[]\n"
     ]
    }
   ],
   "source": [
    "nums = [1,2,3]\n",
    "result = [nums[0:2]]\n",
    "print(result)\n",
    "print(result.pop())\n",
    "print(result)"
   ]
  },
  {
   "cell_type": "code",
   "execution_count": null,
   "metadata": {},
   "outputs": [],
   "source": []
  }
 ],
 "metadata": {
  "kernelspec": {
   "display_name": "Python 3",
   "language": "python",
   "name": "python3"
  },
  "language_info": {
   "codemirror_mode": {
    "name": "ipython",
    "version": 3
   },
   "file_extension": ".py",
   "mimetype": "text/x-python",
   "name": "python",
   "nbconvert_exporter": "python",
   "pygments_lexer": "ipython3",
   "version": "3.6.5"
  }
 },
 "nbformat": 4,
 "nbformat_minor": 2
}
