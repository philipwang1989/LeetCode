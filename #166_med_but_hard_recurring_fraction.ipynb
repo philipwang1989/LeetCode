{
 "cells": [
  {
   "cell_type": "code",
   "execution_count": 15,
   "metadata": {
    "scrolled": true
   },
   "outputs": [
    {
     "data": {
      "text/plain": [
       "'0.003(571428)'"
      ]
     },
     "execution_count": 15,
     "metadata": {},
     "output_type": "execute_result"
    }
   ],
   "source": [
    "# 166. Fraction to Recurring Decimal\n",
    "\n",
    "# new function: divmod(a, b)\n",
    "# Take two (non complex) numbers as arguments and\n",
    "# return a pair of numbers consisting of their quotient\n",
    "# and remainder when using integer division. With mixed\n",
    "# operand types, the rules for binary arithmetic operators apply.\n",
    "# For integers, the result is the same as (a // b, a % b).\n",
    "# For floating point numbers the result is (q, a % b), \n",
    "# where q is usually math.floor(a / b) but may be 1 less than that.\n",
    "# In any case q * b + a % b is very close to a,\n",
    "# if a % b is non-zero it has the same sign as b, \n",
    "# and 0 <= abs(a % b) < abs(b).\n",
    "\n",
    "class Solution:\n",
    "    def fractionToDecimal(self, numerator, denominator):\n",
    "        num, den = numerator, denominator\n",
    "        if not den:  # denominator is 0\n",
    "            return \n",
    "        if not num:  # numerator is 0\n",
    "            return \"0\"\n",
    "        res = []\n",
    "        if (num < 0) or (den < 0):\n",
    "            res.append(\"-\")  # add the sign\n",
    "        num, den = abs(num), abs(den)\n",
    "        res.append(str(num//den))\n",
    "        rmd = num % den\n",
    "        if not rmd:\n",
    "            return \"\".join(res)  # only has integral part\n",
    "        res.append(\".\")  # has frational part\n",
    "        dic = {}\n",
    "        while rmd:\n",
    "            if rmd in dic:   # the remainder recurs\n",
    "                res.insert(dic[rmd], \"(\")\n",
    "                res.append(\")\")\n",
    "                break\n",
    "            dic[rmd] = len(res) \n",
    "            div, rmd = divmod(rmd*10, den)\n",
    "            res.append(str(div))\n",
    "        return \"\".join(res)\n",
    "        \n",
    "numerator = 1\n",
    "denominator = 280\n",
    "Solution().fractionToDecimal(numerator, denominator)\n"
   ]
  },
  {
   "cell_type": "code",
   "execution_count": null,
   "metadata": {},
   "outputs": [],
   "source": []
  }
 ],
 "metadata": {
  "kernelspec": {
   "display_name": "Python 3",
   "language": "python",
   "name": "python3"
  },
  "language_info": {
   "codemirror_mode": {
    "name": "ipython",
    "version": 3
   },
   "file_extension": ".py",
   "mimetype": "text/x-python",
   "name": "python",
   "nbconvert_exporter": "python",
   "pygments_lexer": "ipython3",
   "version": "3.7.3"
  }
 },
 "nbformat": 4,
 "nbformat_minor": 2
}
