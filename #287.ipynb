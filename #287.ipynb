{
 "cells": [
  {
   "cell_type": "code",
   "execution_count": 16,
   "metadata": {},
   "outputs": [
    {
     "data": {
      "text/plain": [
       "2"
      ]
     },
     "execution_count": 16,
     "metadata": {},
     "output_type": "execute_result"
    }
   ],
   "source": [
    "# 287. Find the Duplicate Number\n",
    "# sorted solution\n",
    "import collections\n",
    "class Solution:\n",
    "    def findDuplicate(self, nums):\n",
    "        nums.sort()\n",
    "        for i in range(1,len(nums)):\n",
    "            if nums[i] == nums[i-1]:\n",
    "                return nums[i]\n",
    "        \n",
    "\n",
    "nums = [1,3,4,2,2]        \n",
    "Solution().findDuplicate(nums)"
   ]
  },
  {
   "cell_type": "code",
   "execution_count": 7,
   "metadata": {},
   "outputs": [
    {
     "data": {
      "text/plain": [
       "2"
      ]
     },
     "execution_count": 7,
     "metadata": {},
     "output_type": "execute_result"
    }
   ],
   "source": [
    "# 287. Find the Duplicate Number\n",
    "# sorted solution w/ binary search\n",
    "class Solution(object):\n",
    "    def findDuplicate(self, nums):\n",
    "        \"\"\"\n",
    "        :type nums: List[int]\n",
    "        :rtype: int\n",
    "        \"\"\"\n",
    "        low = 1\n",
    "        high = len(nums)-1\n",
    "        \n",
    "        while low < high:\n",
    "            mid = low+(high-low)/2\n",
    "            count = 0\n",
    "            for i in nums:\n",
    "                if i <= mid:\n",
    "                    count+=1\n",
    "            if count <= mid:\n",
    "                low = mid+1\n",
    "            else:\n",
    "                high = mid\n",
    "        return low\n",
    "    \n",
    "nums = [1,3,4,2,2]        \n",
    "Solution().findDuplicate(nums)"
   ]
  },
  {
   "cell_type": "code",
   "execution_count": 2,
   "metadata": {},
   "outputs": [
    {
     "data": {
      "text/plain": [
       "2"
      ]
     },
     "execution_count": 2,
     "metadata": {},
     "output_type": "execute_result"
    }
   ],
   "source": [
    "##### Many solution possible in python:\n",
    "# Set - time: O(n)\n",
    "class Solution:\n",
    "    def findDuplicate(self, nums):\n",
    "        s = set()\n",
    "        for i in range(len(nums)):\n",
    "            if nums[i] not in s:\n",
    "                s.add(nums[i])\n",
    "            else:\n",
    "                return nums[i]\n",
    "nums = [1,3,4,2,2]        \n",
    "Solution().findDuplicate(nums)"
   ]
  },
  {
   "cell_type": "code",
   "execution_count": null,
   "metadata": {},
   "outputs": [],
   "source": []
  }
 ],
 "metadata": {
  "kernelspec": {
   "display_name": "Python 3",
   "language": "python",
   "name": "python3"
  },
  "language_info": {
   "codemirror_mode": {
    "name": "ipython",
    "version": 3
   },
   "file_extension": ".py",
   "mimetype": "text/x-python",
   "name": "python",
   "nbconvert_exporter": "python",
   "pygments_lexer": "ipython3",
   "version": "3.7.3"
  }
 },
 "nbformat": 4,
 "nbformat_minor": 2
}
