{
 "cells": [
  {
   "cell_type": "code",
   "execution_count": 16,
   "metadata": {},
   "outputs": [
    {
     "data": {
      "text/plain": [
       "2"
      ]
     },
     "execution_count": 16,
     "metadata": {},
     "output_type": "execute_result"
    }
   ],
   "source": [
    "# 287. Find the Duplicate Number\n",
    "# sorted solution\n",
    "import collections\n",
    "class Solution:\n",
    "    def findDuplicate(self, nums):\n",
    "        nums.sort()\n",
    "        for i in range(1,len(nums)):\n",
    "            if nums[i] == nums[i-1]:\n",
    "                return nums[i]\n",
    "        \n",
    "\n",
    "nums = [1,3,4,2,2]        \n",
    "Solution().findDuplicate(nums)"
   ]
  },
  {
   "cell_type": "code",
   "execution_count": null,
   "metadata": {},
   "outputs": [],
   "source": [
    "##### Many solution possible in python:\n",
    "# Set - time: O(n)\n"
   ]
  }
 ],
 "metadata": {
  "kernelspec": {
   "display_name": "Python 3",
   "language": "python",
   "name": "python3"
  },
  "language_info": {
   "codemirror_mode": {
    "name": "ipython",
    "version": 3
   },
   "file_extension": ".py",
   "mimetype": "text/x-python",
   "name": "python",
   "nbconvert_exporter": "python",
   "pygments_lexer": "ipython3",
   "version": "3.6.5"
  }
 },
 "nbformat": 4,
 "nbformat_minor": 2
}
