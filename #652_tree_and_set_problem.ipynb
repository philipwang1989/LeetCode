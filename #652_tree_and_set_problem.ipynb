{
 "cells": [
  {
   "cell_type": "code",
   "execution_count": 1,
   "metadata": {},
   "outputs": [],
   "source": [
    "# 652. Find Duplicate Subtrees\n",
    "\n",
    "# Definition for a binary tree node.\n",
    "# class TreeNode:\n",
    "#     def __init__(self, x):\n",
    "#         self.val = x\n",
    "#         self.left = None\n",
    "#         self.right = None\n",
    "\n",
    "class Solution(object):\n",
    "    def __init__(self):\n",
    "        self.ans = []\n",
    "    def findDuplicateSubtrees(self, root):\n",
    "        path = {}\n",
    "        self.helper(root, path)\n",
    "        return self.ans\n",
    "    def helper(self, root, path):\n",
    "        if not root:\n",
    "            return '#'\n",
    "        serial = str(root.val) + ',' + self.helper(root.left, path) + ',' + self.helper(root.right, path)\n",
    "        if serial in path:\n",
    "            if path[serial] == 1:\n",
    "                self.ans.append(root)\n",
    "            path[serial] += 1\n",
    "        else:\n",
    "            path[serial] = 1\n",
    "        return serial"
   ]
  },
  {
   "cell_type": "code",
   "execution_count": null,
   "metadata": {},
   "outputs": [],
   "source": []
  }
 ],
 "metadata": {
  "kernelspec": {
   "display_name": "Python 3",
   "language": "python",
   "name": "python3"
  },
  "language_info": {
   "codemirror_mode": {
    "name": "ipython",
    "version": 3
   },
   "file_extension": ".py",
   "mimetype": "text/x-python",
   "name": "python",
   "nbconvert_exporter": "python",
   "pygments_lexer": "ipython3",
   "version": "3.6.5"
  }
 },
 "nbformat": 4,
 "nbformat_minor": 2
}
