{
 "cells": [
  {
   "cell_type": "code",
   "execution_count": 4,
   "metadata": {},
   "outputs": [
    {
     "data": {
      "text/plain": [
       "13"
      ]
     },
     "execution_count": 4,
     "metadata": {},
     "output_type": "execute_result"
    }
   ],
   "source": [
    "# 378. Kth Smallest Element in a Sorted Matrix\n",
    "# Given: matrix = [\n",
    "#    [ 1,  5,  9],\n",
    "#    [10, 11, 13],\n",
    "#    [12, 13, 15]\n",
    "# ],\n",
    "# k = 8,\n",
    "# return 13.\n",
    "# okay but too slow\n",
    "class Solution:\n",
    "    def kthSmallest(self, m, k):\n",
    "        left = m[0][0]\n",
    "        right = m[len(m)-1][len(m[0])-1]\n",
    "        while left < right:\n",
    "            mid = (left + right) // 2\n",
    "            count = 0\n",
    "            for i in range(len(m)):\n",
    "                for j in range(len(m[0])):\n",
    "                    if m[i][j] <= mid:\n",
    "                        count += 1\n",
    "            if count < k:\n",
    "                left = mid + 1\n",
    "            else:\n",
    "                right = mid\n",
    "        return left\n",
    "m = [\n",
    "    [ 1,  5,  9],\n",
    "    [10, 11, 13],\n",
    "    [12, 13, 15]\n",
    "]\n",
    "k = 8\n",
    "Solution().kthSmallest(m, k)"
   ]
  },
  {
   "cell_type": "code",
   "execution_count": 7,
   "metadata": {},
   "outputs": [
    {
     "data": {
      "text/plain": [
       "13"
      ]
     },
     "execution_count": 7,
     "metadata": {},
     "output_type": "execute_result"
    }
   ],
   "source": [
    "# 378. Kth Smallest Element in a Sorted Matrix\n",
    "# Given: matrix = [\n",
    "#    [ 1,  5,  9],\n",
    "#    [10, 11, 13],\n",
    "#    [12, 13, 15]\n",
    "# ],\n",
    "# k = 8,\n",
    "# return 13.\n",
    "# improved significantly...\n",
    "class Solution:\n",
    "    def kthSmallest(self, m, k):\n",
    "        left = m[0][0]\n",
    "        right = m[len(m)-1][len(m[0])-1]\n",
    "        while left < right:\n",
    "            mid = (left + right) // 2\n",
    "            count = 0\n",
    "            j = len(m)-1 # indices\n",
    "            for i in range(len(m)):\n",
    "                while j >= 0 and m[i][j] > mid:\n",
    "                    j -= 1\n",
    "                count += (j+1)\n",
    "            if count < k:\n",
    "                left = mid + 1\n",
    "            else:\n",
    "                right = mid\n",
    "        return left\n",
    "m = [\n",
    "    [ 1,  5,  9],\n",
    "    [10, 11, 13],\n",
    "    [12, 13, 15]\n",
    "]\n",
    "k = 8\n",
    "Solution().kthSmallest(m, k)"
   ]
  },
  {
   "cell_type": "code",
   "execution_count": null,
   "metadata": {},
   "outputs": [],
   "source": []
  }
 ],
 "metadata": {
  "kernelspec": {
   "display_name": "Python 3",
   "language": "python",
   "name": "python3"
  },
  "language_info": {
   "codemirror_mode": {
    "name": "ipython",
    "version": 3
   },
   "file_extension": ".py",
   "mimetype": "text/x-python",
   "name": "python",
   "nbconvert_exporter": "python",
   "pygments_lexer": "ipython3",
   "version": "3.7.3"
  }
 },
 "nbformat": 4,
 "nbformat_minor": 2
}
