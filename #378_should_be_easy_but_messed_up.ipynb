{
 "cells": [
  {
   "cell_type": "code",
   "execution_count": 5,
   "metadata": {},
   "outputs": [
    {
     "data": {
      "text/plain": [
       "13"
      ]
     },
     "execution_count": 5,
     "metadata": {},
     "output_type": "execute_result"
    }
   ],
   "source": [
    "# 378. Kth Smallest Element in a Sorted Matrix\n",
    "# Given: matrix = [\n",
    "#    [ 1,  5,  9],\n",
    "#    [10, 11, 13],\n",
    "#    [12, 13, 15]\n",
    "# ],\n",
    "# k = 8,\n",
    "# return 13.\n",
    "# solution: binary search\n",
    "class Solution:\n",
    "    def kthSmallest(self, m, k):\n",
    "        left = m[0][0]\n",
    "        right = m[len(m)-1][len(m)-1]\n",
    "        while left < right:\n",
    "            mid = (left + right) // 2\n",
    "            count = 0\n",
    "            for i in range(len(m)):\n",
    "                for j in range(len(m[i])):\n",
    "                    if m[i][j] <= mid:\n",
    "                        count += 1\n",
    "            \n",
    "            if count < k:\n",
    "                left = mid + 1\n",
    "            else:\n",
    "                right = mid\n",
    "        return left\n",
    "\n",
    "# m = [[1,2],[1,3]]\n",
    "m = [[ 1,  5,  9],[10, 11, 13],[12, 13, 15]]\n",
    "k = 8\n",
    "(Solution().kthSmallest(m,k))"
   ]
  },
  {
   "cell_type": "code",
   "execution_count": null,
   "metadata": {},
   "outputs": [],
   "source": [
    "m = [[ 1,  5,  9],[10, 11, 13],[12, 13, 15]]\n",
    "print(m[len(m)-1][len(m)-1])"
   ]
  },
  {
   "cell_type": "code",
   "execution_count": null,
   "metadata": {},
   "outputs": [],
   "source": []
  }
 ],
 "metadata": {
  "kernelspec": {
   "display_name": "Python 3",
   "language": "python",
   "name": "python3"
  },
  "language_info": {
   "codemirror_mode": {
    "name": "ipython",
    "version": 3
   },
   "file_extension": ".py",
   "mimetype": "text/x-python",
   "name": "python",
   "nbconvert_exporter": "python",
   "pygments_lexer": "ipython3",
   "version": "3.6.5"
  }
 },
 "nbformat": 4,
 "nbformat_minor": 2
}
