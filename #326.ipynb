{
 "cells": [
  {
   "cell_type": "code",
   "execution_count": 7,
   "metadata": {},
   "outputs": [
    {
     "data": {
      "text/plain": [
       "True"
      ]
     },
     "execution_count": 7,
     "metadata": {},
     "output_type": "execute_result"
    }
   ],
   "source": [
    "# 326. Power of Three\n",
    "class Solution:\n",
    "    def isPowerOfThree(self, n):\n",
    "        num = 3\n",
    "        if not n:\n",
    "            return False\n",
    "        if n == 1 or n == num:\n",
    "            return True\n",
    "        while n > num:\n",
    "            n, rem = divmod(n,num)\n",
    "            if rem != 0:\n",
    "                return False\n",
    "            if n == num:\n",
    "                return True\n",
    "        return False\n",
    "    \n",
    "Solution().isPowerOfThree(3)"
   ]
  },
  {
   "cell_type": "code",
   "execution_count": 10,
   "metadata": {},
   "outputs": [
    {
     "data": {
      "text/plain": [
       "False"
      ]
     },
     "execution_count": 10,
     "metadata": {},
     "output_type": "execute_result"
    }
   ],
   "source": [
    "class Solution:\n",
    "    def isPowerOfThree(self, n):\n",
    "        num = 3\n",
    "        if not n:\n",
    "            return False\n",
    "        if n == 1 or n == num:\n",
    "            return True\n",
    "        while (n % num == 0):\n",
    "            n = n // 3\n",
    "            \n",
    "        return n == 1\n",
    "Solution().isPowerOfThree(6)"
   ]
  },
  {
   "cell_type": "code",
   "execution_count": 14,
   "metadata": {},
   "outputs": [
    {
     "data": {
      "text/plain": [
       "True"
      ]
     },
     "execution_count": 14,
     "metadata": {},
     "output_type": "execute_result"
    }
   ],
   "source": [
    "import math\n",
    "class Solution:\n",
    "    def isPowerOfThree(self, n):\n",
    "        return (math.log10(n) / math.log10(3)) % 1 == 0\n",
    "\n",
    "Solution().isPowerOfThree(27)    "
   ]
  },
  {
   "cell_type": "code",
   "execution_count": null,
   "metadata": {},
   "outputs": [],
   "source": []
  }
 ],
 "metadata": {
  "kernelspec": {
   "display_name": "Python 3",
   "language": "python",
   "name": "python3"
  },
  "language_info": {
   "codemirror_mode": {
    "name": "ipython",
    "version": 3
   },
   "file_extension": ".py",
   "mimetype": "text/x-python",
   "name": "python",
   "nbconvert_exporter": "python",
   "pygments_lexer": "ipython3",
   "version": "3.7.3"
  }
 },
 "nbformat": 4,
 "nbformat_minor": 2
}
