{
 "cells": [
  {
   "cell_type": "code",
   "execution_count": 7,
   "metadata": {},
   "outputs": [
    {
     "name": "stdout",
     "output_type": "stream",
     "text": [
      "e\n",
      "e\n",
      "e\n"
     ]
    },
    {
     "data": {
      "text/plain": [
       "'e'"
      ]
     },
     "execution_count": 7,
     "metadata": {},
     "output_type": "execute_result"
    }
   ],
   "source": [
    "# 5. Longest Palindromic Substring\n",
    "# naive solution - O(n) * O(n)\n",
    "class Solution:\n",
    "    def longestPalindrome(self, s):\n",
    "        ans = ''\n",
    "        for i in range(len(s)):\n",
    "            even = self.getPalindrome(s, i, i+1)\n",
    "            odd = self.getPalindrome(s, i, i)\n",
    "            if max([len(even), len(odd), len(ans)]) > len(ans):\n",
    "                if len(even) > len(odd):\n",
    "                    ans = even\n",
    "                else:\n",
    "                    ans = odd\n",
    "            print(ans)\n",
    "        return ans\n",
    "        return \n",
    "    def getPalindrome(self, s, l, r):\n",
    "        while l>= 0 and r < len(s) and s[l] == s[r]:\n",
    "            l -= 1\n",
    "            r += 1\n",
    "        return s[l+1:r]\n",
    "\n",
    "Solution().longestPalindrome('eabcb')"
   ]
  },
  {
   "cell_type": "code",
   "execution_count": null,
   "metadata": {},
   "outputs": [],
   "source": []
  }
 ],
 "metadata": {
  "kernelspec": {
   "display_name": "Python 3",
   "language": "python",
   "name": "python3"
  },
  "language_info": {
   "codemirror_mode": {
    "name": "ipython",
    "version": 3
   },
   "file_extension": ".py",
   "mimetype": "text/x-python",
   "name": "python",
   "nbconvert_exporter": "python",
   "pygments_lexer": "ipython3",
   "version": "3.6.5"
  }
 },
 "nbformat": 4,
 "nbformat_minor": 2
}
