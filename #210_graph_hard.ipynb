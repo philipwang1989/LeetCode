{
 "cells": [
  {
   "cell_type": "code",
   "execution_count": 11,
   "metadata": {},
   "outputs": [
    {
     "data": {
      "text/plain": [
       "[0, 1, 2, 3]"
      ]
     },
     "execution_count": 11,
     "metadata": {},
     "output_type": "execute_result"
    }
   ],
   "source": [
    "import collections\n",
    "class Solution:\n",
    "    def findOrder(self, numCourses, prerequisites):\n",
    "        '''\n",
    "        return type: List[int]\n",
    "        \n",
    "        '''\n",
    "        graph = collections.defaultdict(set)\n",
    "#         graph = [[] for _ in range(numCourses)]\n",
    "        indegrees = [0 for _ in range(numCourses)]\n",
    "        # A pair [a, b] in the input represents edge from b --> a\n",
    "        for a, b in prerequisites:\n",
    "            graph[b].add(a)\n",
    "#             graph[b].append(a)\n",
    "            indegrees[a] += 1\n",
    "        path = []\n",
    "        for i in range(numCourses):\n",
    "            zeroDegree = False\n",
    "            for j in range(numCourses):\n",
    "                if indegrees[j] == 0:\n",
    "                    zeroDegree = True\n",
    "                    break\n",
    "            if not zeroDegree:\n",
    "                return []\n",
    "            indegrees[j] -= 1\n",
    "            path.append(j)\n",
    "            for node in graph[j]:\n",
    "                # 把从这个点(j)指向的点的入度都-1\n",
    "                indegrees[node] -= 1\n",
    "        return path\n",
    "        \n",
    "        \n",
    "numCourses = 4\n",
    "prerequisites = [[1,0],[2,0],[3,1],[3,2]]\n",
    "Solution().findOrder(numCourses, prerequisites)"
   ]
  },
  {
   "cell_type": "code",
   "execution_count": null,
   "metadata": {},
   "outputs": [],
   "source": []
  }
 ],
 "metadata": {
  "kernelspec": {
   "display_name": "Python 3",
   "language": "python",
   "name": "python3"
  },
  "language_info": {
   "codemirror_mode": {
    "name": "ipython",
    "version": 3
   },
   "file_extension": ".py",
   "mimetype": "text/x-python",
   "name": "python",
   "nbconvert_exporter": "python",
   "pygments_lexer": "ipython3",
   "version": "3.7.3"
  }
 },
 "nbformat": 4,
 "nbformat_minor": 2
}
