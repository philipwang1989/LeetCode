{
 "cells": [
  {
   "cell_type": "code",
   "execution_count": 17,
   "metadata": {},
   "outputs": [
    {
     "data": {
      "text/plain": [
       "1200"
      ]
     },
     "execution_count": 17,
     "metadata": {},
     "output_type": "execute_result"
    }
   ],
   "source": [
    "# 152. Maximum Product Subarray\n",
    "# O(2N): space\n",
    "# O(N): time\n",
    "class Solution:\n",
    "    def maxProduct(self, nums):\n",
    "        if not nums:\n",
    "            return 0\n",
    "        localMin = [0] * len(nums)\n",
    "        localMax = [0] * len(nums)\n",
    "        localMin[0] = localMax[0] = nums[0]\n",
    "        for i in range(1, len(nums)):\n",
    "            if nums[i] > 0:\n",
    "                localMax[i] = max(localMax[i-1]*nums[i], nums[i])\n",
    "                localMin[i] = min(localMin[i-1]*nums[i], nums[i])\n",
    "            else:\n",
    "                localMax[i] = max(localMin[i-1]*nums[i], nums[i])\n",
    "                localMin[i] = min(localMax[i-1]*nums[i], nums[i])\n",
    "        return max(localMax)\n",
    "    \n",
    "nums = [2,3,-2,4,5,-5,-6]\n",
    "# nums = [-2,0,-1]\n",
    "Solution().maxProduct(nums)"
   ]
  },
  {
   "cell_type": "code",
   "execution_count": 15,
   "metadata": {},
   "outputs": [
    {
     "data": {
      "text/plain": [
       "1200"
      ]
     },
     "execution_count": 15,
     "metadata": {},
     "output_type": "execute_result"
    }
   ],
   "source": [
    "# 152. Maximum Product Subarray\n",
    "# O(1): space, time\n",
    "class Solution:\n",
    "    def maxProduct(self, nums):\n",
    "        if not nums:\n",
    "            return 0\n",
    "        localMin = localMax = globalMax = nums[0]\n",
    "        for i in range(1, len(nums)):\n",
    "            temp = localMin\n",
    "            localMin = min(localMin * nums[i], nums[i], localMax * nums[i])\n",
    "            localMax = max(temp * nums[i], nums[i], localMax * nums[i])\n",
    "            globalMax = max(globalMax, localMax)\n",
    "        return globalMax\n",
    "    \n",
    "nums = [2,3,-2,4,5,-5,-6]\n",
    "# nums = [-2,0,-1]\n",
    "Solution().maxProduct(nums)"
   ]
  }
 ],
 "metadata": {
  "kernelspec": {
   "display_name": "Python 3",
   "language": "python",
   "name": "python3"
  },
  "language_info": {
   "codemirror_mode": {
    "name": "ipython",
    "version": 3
   },
   "file_extension": ".py",
   "mimetype": "text/x-python",
   "name": "python",
   "nbconvert_exporter": "python",
   "pygments_lexer": "ipython3",
   "version": "3.7.3"
  }
 },
 "nbformat": 4,
 "nbformat_minor": 2
}
