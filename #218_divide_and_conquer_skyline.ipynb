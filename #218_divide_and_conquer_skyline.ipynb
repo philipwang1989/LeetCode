{
 "cells": [
  {
   "cell_type": "code",
   "execution_count": 10,
   "metadata": {},
   "outputs": [
    {
     "name": "stdout",
     "output_type": "stream",
     "text": [
      "2 3\n",
      "9 3\n",
      "9 7\n",
      "15 19\n",
      "20 19\n",
      "20 24\n",
      "5 15\n",
      "12 15\n",
      "2 5\n",
      "3 5\n",
      "7 5\n",
      "7 12\n",
      "9 12\n"
     ]
    },
    {
     "data": {
      "text/plain": [
       "[[2, 10], [3, 15], [7, 12], [12, 0], [15, 10], [20, 8], [24, 0]]"
      ]
     },
     "execution_count": 10,
     "metadata": {},
     "output_type": "execute_result"
    }
   ],
   "source": [
    "# 218. The Skyline Problem\n",
    "class Solution(object):\n",
    "    def getSkyline(self, blds):\n",
    "        \"\"\"\n",
    "        :type blds: List[List[int]]\n",
    "        :rtype: List[List[int]]\n",
    "        \"\"\"\n",
    "        # blds: [Li, Ri, Hi]\n",
    "        if not blds:\n",
    "            return []\n",
    "        if len(blds) == 1:\n",
    "            return [[blds[0][0],blds[0][2]], [blds[0][1],0]]\n",
    "        mid = len(blds) // 2\n",
    "        left = self.getSkyline(blds[:mid])\n",
    "        right = self.getSkyline(blds[mid:])\n",
    "        return self.merge(left, right)\n",
    "    \n",
    "    def merge(self, left, right):\n",
    "        maxH = leftH = rightH = 0\n",
    "        pl = pr = 0\n",
    "        nl = len(left)\n",
    "        nr = len(right)\n",
    "        res = []\n",
    "        while pl < nl and pr < nr:\n",
    "            if left[pl][0] < right[pr][0]:\n",
    "                pos, leftH = left[pl] # returns bottom left\n",
    "                pl += 1\n",
    "            elif left[pl][0] > right[pr][0]:\n",
    "                pos, rightH = right[pr]\n",
    "                pr += 1\n",
    "            else:\n",
    "                pos, leftH = left[pl]\n",
    "                rightH = right[pr][1]\n",
    "                pl += 1\n",
    "                pr += 1\n",
    "            maxH = max(leftH, rightH)\n",
    "            # update result\n",
    "            if not res or maxH != res[-1][1]:\n",
    "                res += [[pos, maxH]]\n",
    "        if pl < nl:\n",
    "            res += left[pl:]\n",
    "        if pr < nr:\n",
    "            res += right[pr:]\n",
    "        return res\n",
    "        \n",
    "blds = [[2,9,10],[3,7,15],[5,12,12],[15,20,10],[19,24,8]]\n",
    "Solution().getSkyline(blds)"
   ]
  },
  {
   "cell_type": "code",
   "execution_count": 11,
   "metadata": {},
   "outputs": [
    {
     "data": {
      "text/plain": [
       "[[2, 10], [3, 15], [7, 12], [12, 0], [15, 10], [20, 8], [24, 0]]"
      ]
     },
     "execution_count": 11,
     "metadata": {},
     "output_type": "execute_result"
    }
   ],
   "source": [
    "# 218. The Skyline Problem\n",
    "class Solution(object):\n",
    "    def getSkyline(self, blds):\n",
    "        \"\"\"\n",
    "        :type blds: List[List[int]]\n",
    "        :rtype: List[List[int]]\n",
    "        \"\"\"\n",
    "        # blds: [Li, Ri, Hi]\n",
    "        if not blds: return []\n",
    "        if len(blds) == 1: return [[blds[0][0], blds[0][2]], [blds[0][1], 0]]\n",
    "        mid = len(blds) // 2\n",
    "        left = self.getSkyline(blds[:mid])\n",
    "        right = self.getSkyline(blds[mid:])\n",
    "        return self.merge(left, right)\n",
    "    \n",
    "    def merge(self, left, right):\n",
    "        h1, h2, res = 0, 0, []\n",
    "        while left and right:\n",
    "            if left[0][0] < right[0][0]:\n",
    "                pos, h1 = left[0]\n",
    "                left = left[1:]\n",
    "            elif left[0][0] > right[0][0]:\n",
    "                pos, h2 = right[0]\n",
    "                right = right[1:]\n",
    "            else:\n",
    "                pos, h1 = left[0]\n",
    "                h2 = right[0][1]\n",
    "                left = left[1:]\n",
    "                right = right[1:]\n",
    "            H = max(h1, h2)\n",
    "            if not res or H != res[-1][1]:\n",
    "                res.append([pos, H])\n",
    "        if left:\n",
    "            res += left\n",
    "        if right:\n",
    "            res += right\n",
    "        return res\n",
    "    \n",
    "# buildings = [[2,9,10],[3,7,15]]\n",
    "buildings = [[2,9,10],[3,7,15],[5,12,12],[15,20,10],[19,24,8]]\n",
    "Solution().getSkyline(buildings)"
   ]
  },
  {
   "cell_type": "code",
   "execution_count": null,
   "metadata": {},
   "outputs": [],
   "source": []
  }
 ],
 "metadata": {
  "kernelspec": {
   "display_name": "Python 3",
   "language": "python",
   "name": "python3"
  },
  "language_info": {
   "codemirror_mode": {
    "name": "ipython",
    "version": 3
   },
   "file_extension": ".py",
   "mimetype": "text/x-python",
   "name": "python",
   "nbconvert_exporter": "python",
   "pygments_lexer": "ipython3",
   "version": "3.6.5"
  }
 },
 "nbformat": 4,
 "nbformat_minor": 2
}
