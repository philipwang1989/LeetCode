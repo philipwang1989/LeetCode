{
 "cells": [
  {
   "cell_type": "code",
   "execution_count": 16,
   "metadata": {},
   "outputs": [
    {
     "data": {
      "text/plain": [
       "1"
      ]
     },
     "execution_count": 16,
     "metadata": {},
     "output_type": "execute_result"
    }
   ],
   "source": [
    "# 29. Divide Two Integers\n",
    "# Input: dividend = 10, divisor = 3, Output: 3\n",
    "# Input: dividend = 7, divisor = -3, Output: -2\n",
    "# TLE, O(N)\n",
    "class Solution:\n",
    "    def divide(self, dividend: int, divisor: int) -> int:\n",
    "        if dividend == 0:\n",
    "            return 0\n",
    "        sign = 1\n",
    "        if dividend < 0 and divisor < 0:\n",
    "            sign = 1\n",
    "            dividend = abs(dividend)\n",
    "            divisor = abs(divisor)\n",
    "        elif dividend < 0 or divisor < 0:\n",
    "            sign = -1\n",
    "            dividend = abs(dividend)\n",
    "            divisor = abs(divisor)\n",
    "        if dividend < divisor:\n",
    "            return 0\n",
    "        for ans in range(1, dividend+1):\n",
    "            if ans * divisor <= dividend < (ans + 1) * divisor:\n",
    "                return sign * ans\n",
    "Solution().divide(-1, -1)"
   ]
  },
  {
   "cell_type": "code",
   "execution_count": 26,
   "metadata": {},
   "outputs": [
    {
     "data": {
      "text/plain": [
       "2147483647"
      ]
     },
     "execution_count": 26,
     "metadata": {},
     "output_type": "execute_result"
    }
   ],
   "source": [
    "# 29. Divide Two Integers\n",
    "# Input: dividend = 10, divisor = 3, Output: 3\n",
    "# Input: dividend = 7, divisor = -3, Output: -2\n",
    "# Binary search, O(lg(N))\n",
    "class Solution:\n",
    "    def divide(self, dividend: int, divisor: int) -> int:\n",
    "        if dividend == 0:\n",
    "            return 0\n",
    "        sign = 1\n",
    "        if dividend < 0 and divisor < 0:\n",
    "            sign = 1\n",
    "            dividend = abs(dividend)\n",
    "            divisor = abs(divisor)\n",
    "        elif dividend < 0 or divisor < 0:\n",
    "            sign = -1\n",
    "            dividend = abs(dividend)\n",
    "            divisor = abs(divisor)\n",
    "        if dividend < divisor:\n",
    "            return 0\n",
    "        l = 1\n",
    "        r = dividend+1\n",
    "        while l < r:\n",
    "            ans = (l+r)//2\n",
    "            if ans * divisor <= dividend < (ans + 1) * divisor:\n",
    "                return min(sign * ans, 2**31-1)\n",
    "            if ans * divisor > dividend:\n",
    "                r = ans\n",
    "            else:\n",
    "                l = ans + 1\n",
    "Solution().divide(-2147483648, -1)\n",
    "# Solution().divide(10, 3)"
   ]
  },
  {
   "cell_type": "code",
   "execution_count": 22,
   "metadata": {},
   "outputs": [
    {
     "data": {
      "text/plain": [
       "2147483648"
      ]
     },
     "execution_count": 22,
     "metadata": {},
     "output_type": "execute_result"
    }
   ],
   "source": [
    "int(-2147483648/-1)"
   ]
  },
  {
   "cell_type": "code",
   "execution_count": 24,
   "metadata": {},
   "outputs": [
    {
     "data": {
      "text/plain": [
       "2147483648"
      ]
     },
     "execution_count": 24,
     "metadata": {},
     "output_type": "execute_result"
    }
   ],
   "source": [
    "2**31"
   ]
  },
  {
   "cell_type": "code",
   "execution_count": null,
   "metadata": {},
   "outputs": [],
   "source": []
  }
 ],
 "metadata": {
  "kernelspec": {
   "display_name": "Python 3",
   "language": "python",
   "name": "python3"
  },
  "language_info": {
   "codemirror_mode": {
    "name": "ipython",
    "version": 3
   },
   "file_extension": ".py",
   "mimetype": "text/x-python",
   "name": "python",
   "nbconvert_exporter": "python",
   "pygments_lexer": "ipython3",
   "version": "3.7.3"
  }
 },
 "nbformat": 4,
 "nbformat_minor": 2
}
