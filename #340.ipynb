{
 "cells": [
  {
   "cell_type": "code",
   "execution_count": 11,
   "metadata": {},
   "outputs": [
    {
     "data": {
      "text/plain": [
       "1"
      ]
     },
     "execution_count": 11,
     "metadata": {},
     "output_type": "execute_result"
    }
   ],
   "source": [
    "# 340. Longest Substring with At Most K Distinct Characters\n",
    "# sliding window + hashmap\n",
    "class Solution:\n",
    "    def lengthOfLongestSubstringKDistinct(self, s, k):\n",
    "        if not s or k == 0:\n",
    "            return 0\n",
    "        if len(s) == 1:\n",
    "            return 1\n",
    "        hashmap = {}\n",
    "        l = r = 0\n",
    "        ans = 1\n",
    "        while r < len(s):\n",
    "            hashmap[s[r]] = r\n",
    "            r += 1\n",
    "            if len(hashmap) > k:\n",
    "                minkey = min(hashmap.keys(), key=(lambda k: hashmap[k]))\n",
    "                l = hashmap[minkey] + 1\n",
    "                del hashmap[minkey]\n",
    "            ans = max(ans, r-l)    \n",
    "        return ans\n",
    "s = \"ab\"\n",
    "k = 1\n",
    "Solution().lengthOfLongestSubstringKDistinct(s, k)"
   ]
  },
  {
   "cell_type": "code",
   "execution_count": 3,
   "metadata": {},
   "outputs": [
    {
     "name": "stdout",
     "output_type": "stream",
     "text": [
      "{'a'}\n",
      "0\n"
     ]
    }
   ],
   "source": [
    "hashmap = set()\n",
    "hashmap.add('a')\n",
    "print(hashmap)\n",
    "hashmap.remove('a')\n",
    "print(len(hashmap))"
   ]
  },
  {
   "cell_type": "code",
   "execution_count": null,
   "metadata": {},
   "outputs": [],
   "source": [
    "from collections import defaultdict\n",
    "class Solution:\n",
    "    def lengthOfLongestSubstringKDistinct(self, s: 'str', k: 'int') -> 'int':\n",
    "        n = len(s) \n",
    "        if k == 0 or n == 0:\n",
    "            return 0\n",
    "        \n",
    "        # sliding window left and right pointers\n",
    "        left, right = 0, 0\n",
    "        # hashmap character -> its rightmost position \n",
    "        # in the sliding window\n",
    "        hashmap = defaultdict()\n",
    "\n",
    "        max_len = 1\n",
    "        \n",
    "        while right < n:\n",
    "            # add new character and move right pointer\n",
    "            hashmap[s[right]] = right\n",
    "            right += 1\n",
    "\n",
    "            # slidewindow contains 3 characters\n",
    "            if len(hashmap) == k + 1:\n",
    "                # delete the leftmost character\n",
    "                del_idx = min(hashmap.values())\n",
    "                del hashmap[s[del_idx]]\n",
    "                # move left pointer of the slidewindow\n",
    "                left = del_idx + 1\n",
    "\n",
    "            max_len = max(max_len, right - left)\n",
    "\n",
    "        return max_len"
   ]
  }
 ],
 "metadata": {
  "kernelspec": {
   "display_name": "Python 3",
   "language": "python",
   "name": "python3"
  },
  "language_info": {
   "codemirror_mode": {
    "name": "ipython",
    "version": 3
   },
   "file_extension": ".py",
   "mimetype": "text/x-python",
   "name": "python",
   "nbconvert_exporter": "python",
   "pygments_lexer": "ipython3",
   "version": "3.7.3"
  }
 },
 "nbformat": 4,
 "nbformat_minor": 2
}
