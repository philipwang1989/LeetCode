{
 "cells": [
  {
   "cell_type": "code",
   "execution_count": null,
   "metadata": {},
   "outputs": [],
   "source": [
    "def longestSubstring(self, s, k):\n",
    "    for c in set(s):\n",
    "        if s.count(c) < k:\n",
    "            return max(self.longestSubstring(t, k) for t in s.split(c))\n",
    "    return len(s)"
   ]
  },
  {
   "cell_type": "code",
   "execution_count": null,
   "metadata": {},
   "outputs": [],
   "source": [
    "class Solution(object):\n",
    "    def longestSubstring(self, s, k):\n",
    "        \"\"\"\n",
    "        :type s: str\n",
    "        :type k: int\n",
    "        :rtype: int\n",
    "        \"\"\"\n",
    "        def longestSubstringHelper(s, k, start, end):\n",
    "            count = [0] * 26\n",
    "            for i in range(start, end):\n",
    "                count[ord(s[i]) - ord('a')] += 1\n",
    "            max_len = 0\n",
    "            i = start\n",
    "            while i < end:\n",
    "                while i < end and count[ord(s[i]) - ord('a')] < k:\n",
    "                    i += 1\n",
    "                j = i\n",
    "                while j < end and count[ord(s[j]) - ord('a')] >= k:\n",
    "                    j += 1\n",
    " \n",
    "                if i == start and j == end:\n",
    "                    return end - start\n",
    " \n",
    "                max_len = max(max_len, longestSubstringHelper(s, k, i, j))\n",
    "                i = j\n",
    "            return max_len\n",
    " \n",
    "        return longestSubstringHelper(s, k, 0, len(s))"
   ]
  },
  {
   "cell_type": "code",
   "execution_count": 14,
   "metadata": {},
   "outputs": [
    {
     "data": {
      "text/plain": [
       "3"
      ]
     },
     "execution_count": 14,
     "metadata": {},
     "output_type": "execute_result"
    }
   ],
   "source": [
    "# 395. Longest Substring with At Least K Repeating Characters\n",
    "# \n",
    "class Solution(object):\n",
    "    def longestSubstring(self, s, k):\n",
    "        \"\"\"\n",
    "        :type s: str\n",
    "        :type k: int\n",
    "        :rtype: int\n",
    "        \"\"\"\n",
    "        if len(s) < k:\n",
    "            return 0\n",
    "        ans = 0\n",
    "        mins = min(set(s), key=s.count)\n",
    "        if s.count(mins) >= k:\n",
    "            return len(s)\n",
    "        for char in set(s):\n",
    "            if s.count(char) < k:\n",
    "                for t in s.split(char):\n",
    "                    ans = max(ans,len(t))\n",
    "        return ans\n",
    "s = \"aaabb\"\n",
    "k = 3\n",
    "# output = 3\n",
    "# s = \"aaabbb\"\n",
    "# k = 3\n",
    "# output = 5\n",
    "Solution().longestSubstring(s,k)        "
   ]
  },
  {
   "cell_type": "code",
   "execution_count": 1,
   "metadata": {},
   "outputs": [
    {
     "name": "stdout",
     "output_type": "stream",
     "text": [
      "[1, 2, 3, 1, 2]\n"
     ]
    }
   ],
   "source": [
    "# 395. Longest Substring with At Least K Repeating Characters\n",
    "# not DP!\n",
    "class Solution(object):\n",
    "    def longestSubstring(self, s, k):\n",
    "        \"\"\"\n",
    "        :type s: str\n",
    "        :type k: int\n",
    "        :rtype: int\n",
    "        \"\"\"\n",
    "        dp = [1] * len(s)\n",
    "        for i in range(len(s)):\n",
    "            for j in range(i):\n",
    "                if s[j] == s[i]:\n",
    "                    dp[i] = max(dp[i],dp[j]+1)\n",
    "                    \n",
    "        print(dp)\n",
    "        return\n",
    "        \n",
    "s = \"aaabb\"\n",
    "k = 3\n",
    "# output = 3\n",
    "# s = \"ababbc\"\n",
    "# k = 2\n",
    "# output = 5\n",
    "Solution().longestSubstring(s,k)"
   ]
  },
  {
   "cell_type": "code",
   "execution_count": null,
   "metadata": {},
   "outputs": [],
   "source": []
  }
 ],
 "metadata": {
  "kernelspec": {
   "display_name": "Python 3",
   "language": "python",
   "name": "python3"
  },
  "language_info": {
   "codemirror_mode": {
    "name": "ipython",
    "version": 3
   },
   "file_extension": ".py",
   "mimetype": "text/x-python",
   "name": "python",
   "nbconvert_exporter": "python",
   "pygments_lexer": "ipython3",
   "version": "3.6.5"
  }
 },
 "nbformat": 4,
 "nbformat_minor": 2
}
