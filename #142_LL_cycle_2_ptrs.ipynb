{
 "cells": [
  {
   "cell_type": "code",
   "execution_count": null,
   "metadata": {},
   "outputs": [],
   "source": [
    "# 142. Linked List Cycle II\n",
    "# Given a linked list, return the node where the cycle begins.\n",
    "# Definition for singly-linked list.\n",
    "# class ListNode:\n",
    "#     def __init__(self, x):\n",
    "#         self.val = x\n",
    "#         self.next = None\n",
    "\n",
    "# 快指针比慢指针多走了一圈\n",
    "# 所以 head 到环的起点+环的起点到他们相遇的点的距离 与 环N圈的距离相等。\n",
    "# a: dist. from head to start of cycle\n",
    "# b: dist. from start of cycle to intersection of fast/slow\n",
    "# c: dist. from intersection of fast/slow to start of cycle\n",
    "# slow: a+x(b+c)+b\n",
    "# fast: 2(a+x(b+c)+b), also equals to a+y(b+c)+b since it's in the loop\n",
    "# diff using fast: a+b = k(b+c) -> need to find a\n",
    "# from b and then move by a more gives one cycle\n",
    "\n",
    "class Solution:\n",
    "    def detectCycle(self, head: ListNode) -> ListNode:\n",
    "        if not head:\n",
    "            return None\n",
    "        fast = head\n",
    "        slow = head\n",
    "        while fast.next and fast.next.next:\n",
    "            slow = slow.next\n",
    "            fast = fast.next.next\n",
    "            if fast == slow:\n",
    "                break\n",
    "        if fast.next == None or fast.next.next == None:\n",
    "            return None\n",
    "        fast = head\n",
    "        while fast != slow:\n",
    "            fast = fast.next\n",
    "            slow = slow.next\n",
    "        return fast"
   ]
  }
 ],
 "metadata": {
  "kernelspec": {
   "display_name": "Python 3",
   "language": "python",
   "name": "python3"
  },
  "language_info": {
   "codemirror_mode": {
    "name": "ipython",
    "version": 3
   },
   "file_extension": ".py",
   "mimetype": "text/x-python",
   "name": "python",
   "nbconvert_exporter": "python",
   "pygments_lexer": "ipython3",
   "version": "3.6.5"
  }
 },
 "nbformat": 4,
 "nbformat_minor": 2
}
