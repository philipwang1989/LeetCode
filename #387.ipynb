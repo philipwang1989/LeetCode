{
 "cells": [
  {
   "cell_type": "code",
   "execution_count": null,
   "metadata": {},
   "outputs": [],
   "source": [
    "# 387. First Unique Character in a String\n",
    "# Solution 1: homemade hashing\n",
    "class Solution:\n",
    "    def firstUniqChar(self, s: str) -> int:\n",
    "        d = {}\n",
    "        for i in range(len(s)):\n",
    "            if s[i] not in d:\n",
    "                d[s[i]] = 1\n",
    "            else:\n",
    "                d[s[i]] += 1\n",
    "        \n",
    "        for i in range(len(s)):\n",
    "            if d[s[i]] == 1:\n",
    "                return i\n",
    "        return -1"
   ]
  },
  {
   "cell_type": "code",
   "execution_count": 4,
   "metadata": {},
   "outputs": [
    {
     "data": {
      "text/plain": [
       "0"
      ]
     },
     "execution_count": 4,
     "metadata": {},
     "output_type": "execute_result"
    }
   ],
   "source": [
    "# Solution 2: python hashing\n",
    "import collections\n",
    "class Solution:\n",
    "    def firstUniqChar(self, s):\n",
    "        d = collections.Counter(s)\n",
    "        for i in range(len(s)):\n",
    "            if d[s[i]] == 1:\n",
    "                return i\n",
    "        return -1\n",
    "        \n",
    "Solution().firstUniqChar('leetcode')"
   ]
  },
  {
   "cell_type": "code",
   "execution_count": null,
   "metadata": {},
   "outputs": [],
   "source": []
  }
 ],
 "metadata": {
  "kernelspec": {
   "display_name": "Python 3",
   "language": "python",
   "name": "python3"
  },
  "language_info": {
   "codemirror_mode": {
    "name": "ipython",
    "version": 3
   },
   "file_extension": ".py",
   "mimetype": "text/x-python",
   "name": "python",
   "nbconvert_exporter": "python",
   "pygments_lexer": "ipython3",
   "version": "3.6.5"
  }
 },
 "nbformat": 4,
 "nbformat_minor": 2
}
