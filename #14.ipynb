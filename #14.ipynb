{
 "cells": [
  {
   "cell_type": "code",
   "execution_count": 17,
   "metadata": {},
   "outputs": [
    {
     "data": {
      "text/plain": [
       "'fl'"
      ]
     },
     "execution_count": 17,
     "metadata": {},
     "output_type": "execute_result"
    }
   ],
   "source": [
    "# 14. Longest Common Prefix\n",
    "# Input: [\"flower\",\"flow\",\"flight\"]\n",
    "# Output: \"fl\"\n",
    "# Input: [\"dog\",\"racecar\",\"car\"]\n",
    "# Output: \"\"\n",
    "class Solution(object):\n",
    "    def longestCommonPrefix(self, strs):\n",
    "        \"\"\"\n",
    "        :type strs: List[str]\n",
    "        :rtype: str\n",
    "        \"\"\"\n",
    "        if len(strs) == 0:\n",
    "            return ''\n",
    "        if len(strs) == 1:\n",
    "            return strs[0]\n",
    "        strs = sorted(strs)\n",
    "        ans = ''\n",
    "        smin = min([len(strs[0]),len(strs[-1])])\n",
    "        for i in range(smin):\n",
    "            if strs[0][i] == strs[-1][i]:\n",
    "                ans += strs[0][i]\n",
    "            else:\n",
    "                return ans\n",
    "        return ans\n",
    "        \n",
    "s = [\"flower\",\"flow\",\"flight\",'flame']\n",
    "Solution().longestCommonPrefix(s)"
   ]
  },
  {
   "cell_type": "code",
   "execution_count": 14,
   "metadata": {},
   "outputs": [
    {
     "name": "stdout",
     "output_type": "stream",
     "text": [
      "6\n",
      "flame\n",
      "['flame', 'flight', 'flow', 'flower']\n",
      "None\n"
     ]
    }
   ],
   "source": [
    "s = [\"flower\",\"flow\",\"flight\",'flame']\n",
    "print(max([len(char) for char in s]))\n",
    "print(min(s))\n",
    "print(sorted(s))\n",
    "print(s.sort())"
   ]
  },
  {
   "cell_type": "code",
   "execution_count": 16,
   "metadata": {},
   "outputs": [
    {
     "name": "stdout",
     "output_type": "stream",
     "text": [
      "4\n"
     ]
    }
   ],
   "source": [
    "s = 'sabd'\n",
    "print(len(s)) "
   ]
  },
  {
   "cell_type": "code",
   "execution_count": null,
   "metadata": {},
   "outputs": [],
   "source": []
  }
 ],
 "metadata": {
  "kernelspec": {
   "display_name": "Python 3",
   "language": "python",
   "name": "python3"
  },
  "language_info": {
   "codemirror_mode": {
    "name": "ipython",
    "version": 3
   },
   "file_extension": ".py",
   "mimetype": "text/x-python",
   "name": "python",
   "nbconvert_exporter": "python",
   "pygments_lexer": "ipython3",
   "version": "3.6.5"
  }
 },
 "nbformat": 4,
 "nbformat_minor": 2
}
