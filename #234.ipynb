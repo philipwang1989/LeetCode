{
 "cells": [
  {
   "cell_type": "code",
   "execution_count": null,
   "metadata": {},
   "outputs": [],
   "source": [
    "# 234. Palindrome Linked List\n",
    "# Could you do it in O(n) time and O(1) space?\n",
    "# Definition for singly-linked list.\n",
    "# class ListNode(object):\n",
    "#     def __init__(self, x):\n",
    "#         self.val = x\n",
    "#         self.next = None\n",
    "\n",
    "class Solution(object):\n",
    "    def isPalindrome(self, head):\n",
    "        \"\"\"\n",
    "        :type head: ListNode\n",
    "        :rtype: bool\n",
    "        \"\"\"\n",
    "        if not head:\n",
    "            return True\n",
    "        if head.next == None:\n",
    "            return True\n",
    "        # step 1: find depth of linked list\n",
    "        node = head\n",
    "        maxlen = 0\n",
    "        while node:\n",
    "            node = node.next\n",
    "            maxlen += 1\n",
    "        ans = self.reverse(head, maxlen)\n",
    "        return ans\n",
    "    def reverse(self, head, lenmax):\n",
    "        prev = None\n",
    "        node = head\n",
    "        count = 0\n",
    "        while count < lenmax//2:\n",
    "            next = node.next\n",
    "            node.next = prev\n",
    "            prev = node\n",
    "            node = next\n",
    "            count += 1\n",
    "        \n",
    "        if lenmax % 2 == 1:\n",
    "            node = node.next\n",
    "\n",
    "        count = 0\n",
    "        node_rev = prev\n",
    "        while count < lenmax//2:\n",
    "            if node.val != node_rev.val:\n",
    "                return False\n",
    "            node_rev = node_rev.next\n",
    "            node = node.next\n",
    "            count += 1\n",
    "        \n",
    "        return True"
   ]
  },
  {
   "cell_type": "code",
   "execution_count": null,
   "metadata": {},
   "outputs": [],
   "source": [
    "class Solution(object):\n",
    "    def isPalindrome(self, head):\n",
    "        \"\"\"\n",
    "        :type head: ListNode\n",
    "        :rtype: bool\n",
    "        \"\"\"\n",
    "        if not head:\n",
    "            return False\n",
    "        if head.next == None:\n",
    "            return True\n",
    "        # step 1: find depth of linked list\n",
    "        node = head\n",
    "        maxlen = 0\n",
    "        while node:\n",
    "            node = node.next\n",
    "            maxlen += 1\n",
    "        rev = self.reverse(head)\n",
    "        count = 0\n",
    "        node = head\n",
    "        node_rev = rev\n",
    "        while count < maxlen//2:\n",
    "            if node.val != node_rev.val:\n",
    "                return False\n",
    "            node_rev = node_rev.next\n",
    "            node = node.next\n",
    "            count += 1\n",
    "        return True\n",
    "    def reverse(self, head):\n",
    "        prev = None\n",
    "        node = head\n",
    "        while node:\n",
    "            next = node.next\n",
    "            node.next = prev\n",
    "            prev = node\n",
    "            node = next\n",
    "        return prev"
   ]
  },
  {
   "cell_type": "code",
   "execution_count": 7,
   "metadata": {},
   "outputs": [
    {
     "data": {
      "text/plain": [
       "1"
      ]
     },
     "execution_count": 7,
     "metadata": {},
     "output_type": "execute_result"
    }
   ],
   "source": [
    "5%2\n",
    "#3//2\n"
   ]
  },
  {
   "cell_type": "code",
   "execution_count": null,
   "metadata": {},
   "outputs": [],
   "source": []
  }
 ],
 "metadata": {
  "kernelspec": {
   "display_name": "Python 3",
   "language": "python",
   "name": "python3"
  },
  "language_info": {
   "codemirror_mode": {
    "name": "ipython",
    "version": 3
   },
   "file_extension": ".py",
   "mimetype": "text/x-python",
   "name": "python",
   "nbconvert_exporter": "python",
   "pygments_lexer": "ipython3",
   "version": "3.6.5"
  }
 },
 "nbformat": 4,
 "nbformat_minor": 2
}
