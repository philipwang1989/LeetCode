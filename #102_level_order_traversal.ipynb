{
 "cells": [
  {
   "cell_type": "code",
   "execution_count": null,
   "metadata": {},
   "outputs": [],
   "source": [
    "# 102. Binary Tree Level Order Traversal\n",
    "# Given binary tree: [3,9,20,null,null,15,7]\n",
    "# return: [[3],[9,20],[15,7]]\n",
    "\n",
    "# Definition for a binary tree node.\n",
    "# class TreeNode:\n",
    "#     def __init__(self, x):\n",
    "#         self.val = x\n",
    "#         self.left = None\n",
    "#         self.right = None\n",
    "\n",
    "# Brute force method!\n",
    "\n",
    "class Solution:\n",
    "    def levelOrder(self, root):\n",
    "        if not root:\n",
    "            return []\n",
    "        result = []\n",
    "        level = [root]\n",
    "        while level:\n",
    "            currentNodes = []\n",
    "            nextLevel = []\n",
    "            for node in level:\n",
    "                currentNodes += [node.val]\n",
    "                if node.left:\n",
    "                    nextLevel += [node.left]\n",
    "                if node.right:\n",
    "                    nextLevel += [node.right]\n",
    "            result += [currentNodes]\n",
    "            level = nextLevel\n",
    "        return result"
   ]
  }
 ],
 "metadata": {
  "kernelspec": {
   "display_name": "Python 3",
   "language": "python",
   "name": "python3"
  },
  "language_info": {
   "codemirror_mode": {
    "name": "ipython",
    "version": 3
   },
   "file_extension": ".py",
   "mimetype": "text/x-python",
   "name": "python",
   "nbconvert_exporter": "python",
   "pygments_lexer": "ipython3",
   "version": "3.6.5"
  }
 },
 "nbformat": 4,
 "nbformat_minor": 2
}
