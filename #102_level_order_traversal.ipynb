{
 "cells": [
  {
   "cell_type": "code",
   "execution_count": null,
   "metadata": {},
   "outputs": [],
   "source": [
    "# 102. Binary Tree Level Order Traversal\n",
    "# Given binary tree: [3,9,20,null,null,15,7]\n",
    "# return: [[3],[9,20],[15,7]]\n",
    "\n",
    "# Definition for a binary tree node.\n",
    "# class TreeNode:\n",
    "#     def __init__(self, x):\n",
    "#         self.val = x\n",
    "#         self.left = None\n",
    "#         self.right = None\n",
    "\n",
    "# Brute force method!\n",
    "\n",
    "class Solution:\n",
    "    def levelOrder(self, root):\n",
    "        if not root:\n",
    "            return []\n",
    "        result = []\n",
    "        level = [root]\n",
    "        while level:\n",
    "            currentNodes = []\n",
    "            nextLevel = []\n",
    "            for node in level:\n",
    "                currentNodes += [node.val]\n",
    "                if node.left:\n",
    "                    nextLevel += [node.left]\n",
    "                if node.right:\n",
    "                    nextLevel += [node.right]\n",
    "            result += [currentNodes]\n",
    "            level = nextLevel\n",
    "        return result"
   ]
  },
  {
   "cell_type": "code",
   "execution_count": null,
   "metadata": {},
   "outputs": [],
   "source": [
    "# 102. Binary Tree Level Order Traversal\n",
    "# recursion\n",
    "class Solution:\n",
    "    def levelOrder(self, root):\n",
    "        \"\"\"\n",
    "        :type root: TreeNode\n",
    "        :rtype: List[List[int]]\n",
    "        \"\"\"\n",
    "        levels = []\n",
    "        if not root:\n",
    "            return levels\n",
    "        \n",
    "        def helper(node, level):\n",
    "            # start the current level\n",
    "            if len(levels) == level:\n",
    "                levels.append([])\n",
    "\n",
    "            # append the current node value\n",
    "            levels[level].append(node.val)\n",
    "\n",
    "            # process child nodes for the next level\n",
    "            if node.left:\n",
    "                helper(node.left, level + 1)\n",
    "            if node.right:\n",
    "                helper(node.right, level + 1)\n",
    "            \n",
    "        helper(root, 0)\n",
    "        return levels"
   ]
  }
 ],
 "metadata": {
  "kernelspec": {
   "display_name": "Python 3",
   "language": "python",
   "name": "python3"
  },
  "language_info": {
   "codemirror_mode": {
    "name": "ipython",
    "version": 3
   },
   "file_extension": ".py",
   "mimetype": "text/x-python",
   "name": "python",
   "nbconvert_exporter": "python",
   "pygments_lexer": "ipython3",
   "version": "3.7.3"
  }
 },
 "nbformat": 4,
 "nbformat_minor": 2
}
