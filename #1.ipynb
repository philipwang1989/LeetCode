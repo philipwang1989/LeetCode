{
 "cells": [
  {
   "cell_type": "code",
   "execution_count": 2,
   "metadata": {},
   "outputs": [
    {
     "name": "stdout",
     "output_type": "stream",
     "text": [
      "{7: 0}\n",
      "(0, 1)\n"
     ]
    }
   ],
   "source": [
    "# 1. Two Sum\n",
    "# Given a list of nums, find if sum of any two elements in nums\n",
    "# can make target\n",
    "class Solution:\n",
    "    def twoSum(self, nums, target):\n",
    "        if len(nums) <= 1:\n",
    "            return None\n",
    "        d = {}\n",
    "        for i in range(len(nums)):\n",
    "            if nums[i] not in d:\n",
    "            # if nums[i] is not a key in the dict\n",
    "            # add key (complement) with val i to dict\n",
    "                d[target - nums[i]] = i\n",
    "            else:\n",
    "            # found nums[i] equal to the complement that we looking for\n",
    "                # print(d)\n",
    "                return d[nums[i]], i\n",
    "        return -1, -1\n",
    "\n",
    "nums = [2,7,11,15]\n",
    "target = 9\n",
    "s = Solution()\n",
    "print(s.twoSum(nums,target))"
   ]
  },
  {
   "cell_type": "code",
   "execution_count": 1,
   "metadata": {},
   "outputs": [
    {
     "data": {
      "text/plain": [
       "(0, 1)"
      ]
     },
     "execution_count": 1,
     "metadata": {},
     "output_type": "execute_result"
    }
   ],
   "source": [
    "# 1. Two Sum\n",
    "# Given a list of nums, find if sum of any two elements in nums\n",
    "# can make exactly one target\n",
    "class Solution:\n",
    "    def twoSum(self, nums, target):\n",
    "        if len(nums) == 0:\n",
    "            return None\n",
    "        d = {}\n",
    "        for i in range(len(nums)):\n",
    "            if nums[i] not in d:\n",
    "                d[target - nums[i]] = i # use the complementary as key\n",
    "            else:\n",
    "                return d[nums[i]], i # found the complementary, return val\n",
    "        return -1,-1\n",
    "         \n",
    "nums = [2,7,11,15]\n",
    "target = 9\n",
    "\n",
    "Solution().twoSum(nums,target)"
   ]
  },
  {
   "cell_type": "code",
   "execution_count": null,
   "metadata": {},
   "outputs": [],
   "source": []
  }
 ],
 "metadata": {
  "kernelspec": {
   "display_name": "Python 3",
   "language": "python",
   "name": "python3"
  },
  "language_info": {
   "codemirror_mode": {
    "name": "ipython",
    "version": 3
   },
   "file_extension": ".py",
   "mimetype": "text/x-python",
   "name": "python",
   "nbconvert_exporter": "python",
   "pygments_lexer": "ipython3",
   "version": "3.7.3"
  }
 },
 "nbformat": 4,
 "nbformat_minor": 2
}
