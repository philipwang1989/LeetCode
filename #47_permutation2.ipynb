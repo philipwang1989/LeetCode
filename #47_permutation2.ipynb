{
 "cells": [
  {
   "cell_type": "code",
   "execution_count": 20,
   "metadata": {},
   "outputs": [
    {
     "data": {
      "text/plain": [
       "[[1, 1, 2], [1, 2, 1], [2, 1, 1]]"
      ]
     },
     "execution_count": 20,
     "metadata": {},
     "output_type": "execute_result"
    }
   ],
   "source": [
    "# 47. Permutations II\n",
    "class Solution(object):\n",
    "    def permuteUnique(self, nums):\n",
    "        res, visited = [], [False]*len(nums)\n",
    "        nums.sort()\n",
    "        self.dfs(nums, visited, [], res)\n",
    "        return res\n",
    "\n",
    "    def dfs(self, nums, visited, path, res):\n",
    "        if len(nums) == len(path):\n",
    "            res.append(path)\n",
    "            return \n",
    "        for i in range(len(nums)):\n",
    "            if not visited[i]: \n",
    "                if i>0 and not visited[i-1] and nums[i] == nums[i-1]:  # here should pay attention\n",
    "                    continue\n",
    "                visited[i] = True\n",
    "                self.dfs(nums, visited, path+[nums[i]], res)\n",
    "                visited[i] = False\n",
    "        \n",
    "nums = [1,1,2]\n",
    "Solution().permuteUnique(nums)"
   ]
  },
  {
   "cell_type": "code",
   "execution_count": 24,
   "metadata": {},
   "outputs": [
    {
     "data": {
      "text/plain": [
       "[[1, 1, 2], [1, 2, 1], [2, 1, 1]]"
      ]
     },
     "execution_count": 24,
     "metadata": {},
     "output_type": "execute_result"
    }
   ],
   "source": [
    "class Solution():\n",
    "    def permuteUnique(self, nums):\n",
    "        res = []\n",
    "        nums.sort()\n",
    "        self.dfs(nums, [], res)\n",
    "        return res\n",
    "\n",
    "    def dfs(self, nums, path, res):\n",
    "        if not nums:\n",
    "            res.append(path)\n",
    "        for i in range(len(nums)):\n",
    "            if i > 0 and nums[i] == nums[i-1]:\n",
    "                continue\n",
    "            self.dfs(nums[:i]+nums[i+1:], path+[nums[i]], res)\n",
    "            \n",
    "nums = [1,1,2]\n",
    "Solution().permuteUnique(nums)"
   ]
  },
  {
   "cell_type": "code",
   "execution_count": 27,
   "metadata": {},
   "outputs": [
    {
     "name": "stdout",
     "output_type": "stream",
     "text": [
      "[]\n",
      "[1]\n",
      "[1, 1]\n",
      "[1, 1, 2]\n",
      "[1, 2]\n",
      "[1, 2, 1]\n",
      "[2]\n",
      "[2, 1]\n",
      "[2, 1, 1]\n"
     ]
    },
    {
     "data": {
      "text/plain": [
       "[[1, 1, 2], [1, 2, 1], [2, 1, 1]]"
      ]
     },
     "execution_count": 27,
     "metadata": {},
     "output_type": "execute_result"
    }
   ],
   "source": [
    "class Solution(object):\n",
    "    def __init__(self):\n",
    "        self.ans = []\n",
    "    def permuteUnique(self, nums):\n",
    "        \"\"\"\n",
    "        :type nums: List[int]\n",
    "        :rtype: List[List[int]]\n",
    "        \"\"\"\n",
    "        nums.sort()\n",
    "        visited = [False] * len(nums)\n",
    "        path = []\n",
    "        self.dfs(nums, path, visited)\n",
    "        return self.ans\n",
    "    def dfs(self, nums, path, visited):\n",
    "        if len(path) == len(nums):\n",
    "            self.ans += [path]\n",
    "            return\n",
    "        for i in range(len(nums)):\n",
    "            if not visited[i]:\n",
    "                if (i>0 and nums[i]==nums[i-1] and not visited[i-1]):\n",
    "                    continue\n",
    "                visited[i] = True\n",
    "                self.dfs(nums, path+[nums[i]], visited)\n",
    "                visited[i] = False\n",
    "nums = [1,1,2]\n",
    "Solution().permuteUnique(nums)"
   ]
  },
  {
   "cell_type": "code",
   "execution_count": null,
   "metadata": {},
   "outputs": [],
   "source": []
  }
 ],
 "metadata": {
  "kernelspec": {
   "display_name": "Python 3",
   "language": "python",
   "name": "python3"
  },
  "language_info": {
   "codemirror_mode": {
    "name": "ipython",
    "version": 3
   },
   "file_extension": ".py",
   "mimetype": "text/x-python",
   "name": "python",
   "nbconvert_exporter": "python",
   "pygments_lexer": "ipython3",
   "version": "3.6.5"
  }
 },
 "nbformat": 4,
 "nbformat_minor": 2
}
