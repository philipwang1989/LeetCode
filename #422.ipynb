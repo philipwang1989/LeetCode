{
 "cells": [
  {
   "cell_type": "code",
   "execution_count": 4,
   "metadata": {},
   "outputs": [
    {
     "data": {
      "text/plain": [
       "[2, 3]"
      ]
     },
     "execution_count": 4,
     "metadata": {},
     "output_type": "execute_result"
    }
   ],
   "source": [
    "# 442. Find All Duplicates in an Array\n",
    "# Input:\n",
    "# [4,3,2,7,8,2,3,1]\n",
    "\n",
    "# Output:\n",
    "# [2,3]\n",
    "# TLE\n",
    "class Solution(object):\n",
    "    def findDuplicates(self, nums):\n",
    "        \"\"\"\n",
    "        :type nums: List[int]\n",
    "        :rtype: List[int]\n",
    "        \"\"\"\n",
    "        d = {}\n",
    "        ans = []\n",
    "        for num in nums:\n",
    "            if num not in d.keys():\n",
    "                d[num] = 1\n",
    "            else:\n",
    "                d[num] += 1\n",
    "                ans.append(num)\n",
    "        return ans\n",
    "nums = [4,3,2,7,8,2,3,1]\n",
    "Solution().findDuplicates(nums)"
   ]
  },
  {
   "cell_type": "code",
   "execution_count": 6,
   "metadata": {},
   "outputs": [
    {
     "name": "stdout",
     "output_type": "stream",
     "text": [
      "[4, 3, 2, -7, 8, 2, 3, 1]\n",
      "[4, 3, -2, -7, 8, 2, 3, 1]\n",
      "[4, -3, -2, -7, 8, 2, 3, 1]\n",
      "[4, -3, -2, -7, 8, 2, -3, 1]\n",
      "[4, -3, -2, -7, 8, 2, -3, -1]\n",
      "[4, -3, -2, -7, 8, 2, -3, -1]\n",
      "[4, -3, -2, -7, 8, 2, -3, -1]\n",
      "[-4, -3, -2, -7, 8, 2, -3, -1]\n"
     ]
    },
    {
     "data": {
      "text/plain": [
       "[2, 3]"
      ]
     },
     "execution_count": 6,
     "metadata": {},
     "output_type": "execute_result"
    }
   ],
   "source": [
    "class Solution(object):\n",
    "    def findDuplicates(self, nums):\n",
    "        \"\"\"\n",
    "        :type nums: List[int]\n",
    "        :rtype: List[int]\n",
    "        \"\"\"\n",
    "        res = []\n",
    "        for x in nums:\n",
    "            if nums[abs(x)-1] < 0:\n",
    "                res.append(abs(x))\n",
    "            else:\n",
    "                nums[abs(x)-1] *= -1\n",
    "        return res\n",
    "nums = [4,3,2,7,8,2,3,1]\n",
    "Solution().findDuplicates(nums)"
   ]
  },
  {
   "cell_type": "code",
   "execution_count": null,
   "metadata": {},
   "outputs": [],
   "source": []
  }
 ],
 "metadata": {
  "kernelspec": {
   "display_name": "Python 3",
   "language": "python",
   "name": "python3"
  },
  "language_info": {
   "codemirror_mode": {
    "name": "ipython",
    "version": 3
   },
   "file_extension": ".py",
   "mimetype": "text/x-python",
   "name": "python",
   "nbconvert_exporter": "python",
   "pygments_lexer": "ipython3",
   "version": "3.6.5"
  }
 },
 "nbformat": 4,
 "nbformat_minor": 2
}
