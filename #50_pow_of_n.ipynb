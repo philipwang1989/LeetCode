{
 "cells": [
  {
   "cell_type": "code",
   "execution_count": 5,
   "metadata": {},
   "outputs": [
    {
     "data": {
      "text/plain": [
       "0.25"
      ]
     },
     "execution_count": 5,
     "metadata": {},
     "output_type": "execute_result"
    }
   ],
   "source": [
    "# 50. Pow(x, n)\n",
    "# Input: 2.00000, 10\n",
    "# Output: 1024.00000\n",
    "class Solution(object):\n",
    "    def myPow(self, x, n):\n",
    "        if n < 0:\n",
    "            x = 1/x\n",
    "            n = abs(n)\n",
    "        return self.helper(x, n)\n",
    "    def helper(self, x, n):\n",
    "        if n == 0:\n",
    "            return 1\n",
    "        if n % 2 == 0:\n",
    "            return self.helper(x * x, n // 2)\n",
    "        else:\n",
    "            return x * self.helper(x, n - 1)\n",
    "x = 2\n",
    "n = -2\n",
    "Solution().myPow(x, n)"
   ]
  },
  {
   "cell_type": "raw",
   "metadata": {},
   "source": [
    "# 50. Pow(x, n)\n",
    "# Input: 2.00000, 10\n",
    "# Output: 1024.00000\n",
    "class Solution(object):\n",
    "    def myPow(self, x, n):\n",
    "        \"\"\"\n",
    "        :type x: float\n",
    "        :type n: int\n",
    "        :rtype: float\n",
    "        \"\"\"\n",
    "        if n < 0:\n",
    "            x = 1/x\n",
    "            n = -n\n",
    "        return self.helper(x, n)\n",
    "    def helper(self, num, n):\n",
    "        if n == 0:\n",
    "            return 1\n",
    "        if n % 2 == 0: # even\n",
    "            return self.helper(num * num, n//2)\n",
    "        else:\n",
    "            return num * self.helper(num, n-1)\n",
    "        \n",
    "Solution().myPow(2, 0)\n"
   ]
  }
 ],
 "metadata": {
  "kernelspec": {
   "display_name": "Python 3",
   "language": "python",
   "name": "python3"
  },
  "language_info": {
   "codemirror_mode": {
    "name": "ipython",
    "version": 3
   },
   "file_extension": ".py",
   "mimetype": "text/x-python",
   "name": "python",
   "nbconvert_exporter": "python",
   "pygments_lexer": "ipython3",
   "version": "3.7.3"
  }
 },
 "nbformat": 4,
 "nbformat_minor": 2
}
