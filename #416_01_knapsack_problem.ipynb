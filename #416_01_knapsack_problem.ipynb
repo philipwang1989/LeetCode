{
 "cells": [
  {
   "cell_type": "code",
   "execution_count": 14,
   "metadata": {},
   "outputs": [
    {
     "data": {
      "text/plain": [
       "True"
      ]
     },
     "execution_count": 14,
     "metadata": {},
     "output_type": "execute_result"
    }
   ],
   "source": [
    "# 416. Partition Equal Subset Sum\n",
    "# Input: [1, 5, 11, 5]\n",
    "# Output: true\n",
    "# Explanation: The array can be partitioned as [1, 5, 5] and [11].\n",
    "\n",
    "# Input: [1, 2, 3, 5]\n",
    "# Output: false\n",
    "# Explanation: The array cannot be partitioned into equal sum subsets.\n",
    "\n",
    "class Solution(object):\n",
    "    def canPartition(self, nums):\n",
    "        \"\"\"\n",
    "        :type nums: List[int]\n",
    "        :rtype: bool\n",
    "        \"\"\"\n",
    "        total = sum(nums)\n",
    "        if total % 2 == 1:\n",
    "            return False \n",
    "        total = total // 2\n",
    "        N = len(nums)\n",
    "        dp = [[False] * (total + 1) for _ in range(N + 1)]\n",
    "#         print(len(dp),len(dp[0]))\n",
    "        dp[0][0] = True\n",
    "        for i in range(1, N + 1):\n",
    "            dp[i][0] = True\n",
    "        for j in range(1, total + 1):\n",
    "            dp[0][j] = False\n",
    "        for i in range(1, N + 1):\n",
    "            for j in range(1, total + 1):\n",
    "                dp[i][j] = dp[i-1][j]\n",
    "                if j >= nums[i-1]:\n",
    "                    dp[i][j] = dp[i][j] or dp[i-1][j-nums[i-1]]\n",
    "        return dp[N][total]\n",
    "        \n",
    "nums = [1,2,3,6]\n",
    "Solution().canPartition(nums)"
   ]
  },
  {
   "cell_type": "code",
   "execution_count": null,
   "metadata": {},
   "outputs": [],
   "source": []
  }
 ],
 "metadata": {
  "kernelspec": {
   "display_name": "Python 3",
   "language": "python",
   "name": "python3"
  },
  "language_info": {
   "codemirror_mode": {
    "name": "ipython",
    "version": 3
   },
   "file_extension": ".py",
   "mimetype": "text/x-python",
   "name": "python",
   "nbconvert_exporter": "python",
   "pygments_lexer": "ipython3",
   "version": "3.6.5"
  }
 },
 "nbformat": 4,
 "nbformat_minor": 2
}
