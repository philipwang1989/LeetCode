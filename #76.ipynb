{
 "cells": [
  {
   "cell_type": "code",
   "execution_count": 15,
   "metadata": {},
   "outputs": [
    {
     "name": "stdout",
     "output_type": "stream",
     "text": [
      "0 0\n",
      "0 1\n",
      "0 2\n",
      "0 3\n",
      "0 4\n",
      "1 5\n",
      "1 6\n",
      "1 7\n",
      "1 8\n",
      "1 9\n",
      "6 10\n",
      "6 11\n",
      "10 12\n"
     ]
    },
    {
     "data": {
      "text/plain": [
       "'BANC'"
      ]
     },
     "execution_count": 15,
     "metadata": {},
     "output_type": "execute_result"
    }
   ],
   "source": [
    "# 76. Minimum Window Substring\n",
    "# sliding window\n",
    "class Solution(object):\n",
    "    def minWindow(self, s, t):\n",
    "        \"\"\"\n",
    "        :type s: str\n",
    "        :type t: str\n",
    "        :rtype: str\n",
    "        \"\"\"\n",
    "        if not s or not t:\n",
    "            return ''\n",
    "        d_t = {}\n",
    "        d_s = {}\n",
    "        for ch in t:\n",
    "            if ch not in d_t:\n",
    "                d_t[ch] = 1\n",
    "                d_s[ch] = 0\n",
    "            else:\n",
    "                d_t[ch] += 1\n",
    "                \n",
    "        required = len(d_t)\n",
    "        formed = 0\n",
    "        l = 0   \n",
    "        while s[l] not in d_s:\n",
    "            l += 1\n",
    "        r = l\n",
    "        minlen = float('inf')\n",
    "        ans = []\n",
    "        while r < len(s):\n",
    "            if s[r] in d_s:\n",
    "                d_s[s[r]] += 1\n",
    "                if d_s[s[r]] == d_t[s[r]]:\n",
    "                    formed += 1\n",
    "            while l <= r and formed == required:\n",
    "                if r-l+1 < minlen:\n",
    "                    minlen = r-l+1\n",
    "                    ans = [l,r]\n",
    "                if s[l] in d_t:\n",
    "                    d_s[s[l]] -= 1\n",
    "                    if d_s[s[l]] < d_t[s[l]]:\n",
    "                        formed -= 1\n",
    "                l += 1\n",
    "            r += 1\n",
    "        if minlen == float('inf'):\n",
    "            return ''\n",
    "        return s[ans[0]:ans[1]+1]\n",
    "\n",
    "S = \"ADOBECODEBANC\"\n",
    "T = \"ABC\"\n",
    "Solution().minWindow(S, T)\n",
    "        "
   ]
  },
  {
   "cell_type": "code",
   "execution_count": null,
   "metadata": {},
   "outputs": [],
   "source": []
  }
 ],
 "metadata": {
  "kernelspec": {
   "display_name": "Python 3",
   "language": "python",
   "name": "python3"
  },
  "language_info": {
   "codemirror_mode": {
    "name": "ipython",
    "version": 3
   },
   "file_extension": ".py",
   "mimetype": "text/x-python",
   "name": "python",
   "nbconvert_exporter": "python",
   "pygments_lexer": "ipython3",
   "version": "3.6.5"
  }
 },
 "nbformat": 4,
 "nbformat_minor": 2
}
