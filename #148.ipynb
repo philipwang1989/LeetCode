{
 "cells": [
  {
   "cell_type": "code",
   "execution_count": null,
   "metadata": {},
   "outputs": [],
   "source": [
    "# 148. Sort List\n",
    "# Definition for singly-linked list.\n",
    "# sort in O(nlogn)\n",
    "# class ListNode(object):\n",
    "#     def __init__(self, x):\n",
    "#         self.val = x\n",
    "#         self.next = None\n",
    "\n",
    "class Solution(object):\n",
    "    def sortList(self, head):\n",
    "        \"\"\"\n",
    "        :type head: ListNode\n",
    "        :rtype: ListNode\n",
    "        \"\"\"\n",
    "        def sortList(self, head):\n",
    "        \"\"\"\n",
    "        :type head: ListNode\n",
    "        :rtype: ListNode\n",
    "        \"\"\"\n",
    "        if not head or not head.next:\n",
    "            return head\n",
    "        fast, slow = head.next, head\n",
    "        while fast and fast.next:\n",
    "            fast = fast.next.next\n",
    "            slow = slow.next\n",
    "        second = slow.next\n",
    "        slow.next = None # important\n",
    "        left = self.sortList(head)\n",
    "        right = self.sortList(second)\n",
    "        return self.merge(left, right)\n",
    "    def merge(self, left, right):\n",
    "        if not left or not right:\n",
    "            return left or right\n",
    "        # want l < r as a starting point\n",
    "        if left.val > right.val:\n",
    "            left, right = right, left\n",
    "        head = dummy = left\n",
    "        left = left.next\n",
    "        while left and right:\n",
    "            if left.val < right.val:\n",
    "                dummy.next = left\n",
    "                left = left.next\n",
    "            else:\n",
    "                dummy.next = right\n",
    "                right = right.next\n",
    "            dummy = dummy.next\n",
    "        if left:\n",
    "            dummy.next = left\n",
    "        else:\n",
    "            dummy.next = right\n",
    "        return head"
   ]
  },
  {
   "cell_type": "code",
   "execution_count": null,
   "metadata": {},
   "outputs": [],
   "source": [
    "# merge sort, recursively \n",
    "def sortList(self, head):\n",
    "    if not head or not head.next:\n",
    "        return head\n",
    "    # divide list into two parts\n",
    "    fast, slow = head.next, head\n",
    "    while fast and fast.next:\n",
    "        fast = fast.next.next\n",
    "        slow = slow.next\n",
    "    second = slow.next\n",
    "    # cut down the first part\n",
    "    slow.next = None\n",
    "    l = self.sortList(head)\n",
    "    r = self.sortList(second)\n",
    "    return self.merge(l, r)\n",
    "    \n",
    "# merge in-place without dummy node        \n",
    "def merge(self, l, r):\n",
    "    if not l or not r:\n",
    "        return l or r\n",
    "    if l.val > r.val:\n",
    "        l, r = r, l\n",
    "    # get the return node \"head\"\n",
    "    head = pre = l\n",
    "    l = l.next\n",
    "    while l and r:\n",
    "        if l.val < r.val:\n",
    "            pre.next = l\n",
    "            l = l.next\n",
    "        else:\n",
    "            pre.next = r\n",
    "            r = r.next\n",
    "        pre = pre.next\n",
    "    # l and r at least one is None\n",
    "    pre.next = l or r\n",
    "    return head"
   ]
  },
  {
   "cell_type": "code",
   "execution_count": 9,
   "metadata": {},
   "outputs": [
    {
     "name": "stdout",
     "output_type": "stream",
     "text": [
      "[12] [44]\n",
      "[58] [62]\n",
      "[12, 44] [58, 62]\n",
      "[29] [31]\n",
      "[74] [80]\n",
      "[29, 31] [74, 80]\n",
      "[12, 44, 58, 62] [29, 31, 74, 80]\n",
      "[12, 29, 31, 44, 58, 62, 74, 80]\n"
     ]
    }
   ],
   "source": [
    "# mergesort review\n",
    "# mergesort has two parts:\n",
    "# 1. divide\n",
    "# 2. merge\n",
    "\n",
    "def msort(nums):\n",
    "    if len(nums) <= 1:\n",
    "        return nums[:] # return a COPY\n",
    "    midpoint = len(nums) // 2\n",
    "    left = msort(nums[:midpoint])\n",
    "    right = msort(nums[midpoint:])\n",
    "    sorted_nums = merge(left, right)\n",
    "    return sorted_nums\n",
    "\n",
    "def merge(left, right):\n",
    "    l = 0\n",
    "    r = 0\n",
    "    q = []\n",
    "    llen = len(left)\n",
    "    rlen = len(right)\n",
    "    while l < llen and r < rlen:\n",
    "        if left[l] <= right[r]:\n",
    "            q.append(left[l])\n",
    "            l += 1\n",
    "        else:\n",
    "            q.append(right[r])\n",
    "            r += 1\n",
    "    if l < llen:\n",
    "        q.extend(left[l:])\n",
    "    elif r < rlen:\n",
    "        q.extend(right[r:])\n",
    "    return q\n",
    "\n",
    "arr = [12,44,58,62,29,31,74,80]\n",
    "print(msort(arr))"
   ]
  },
  {
   "cell_type": "code",
   "execution_count": 8,
   "metadata": {},
   "outputs": [
    {
     "name": "stdout",
     "output_type": "stream",
     "text": [
      "[5, 6, 4, 1]\n"
     ]
    }
   ],
   "source": [
    "nums = [5,6]\n",
    "nums.extend([4,1])\n",
    "print(nums)"
   ]
  },
  {
   "cell_type": "code",
   "execution_count": null,
   "metadata": {},
   "outputs": [],
   "source": []
  }
 ],
 "metadata": {
  "kernelspec": {
   "display_name": "Python 3",
   "language": "python",
   "name": "python3"
  },
  "language_info": {
   "codemirror_mode": {
    "name": "ipython",
    "version": 3
   },
   "file_extension": ".py",
   "mimetype": "text/x-python",
   "name": "python",
   "nbconvert_exporter": "python",
   "pygments_lexer": "ipython3",
   "version": "3.7.3"
  }
 },
 "nbformat": 4,
 "nbformat_minor": 2
}
