{
 "cells": [
  {
   "cell_type": "code",
   "execution_count": 8,
   "metadata": {},
   "outputs": [
    {
     "name": "stdout",
     "output_type": "stream",
     "text": [
      "deque([0])\n",
      "deque([1])\n",
      "deque([1, 2])\n",
      "deque([1, 2, 3])\n",
      "deque([4])\n",
      "deque([4, 5])\n",
      "deque([6])\n",
      "deque([7])\n"
     ]
    },
    {
     "data": {
      "text/plain": [
       "[3, 3, 5, 5, 6, 7]"
      ]
     },
     "execution_count": 8,
     "metadata": {},
     "output_type": "execute_result"
    }
   ],
   "source": [
    "# 239. Sliding Window Maximum\n",
    "# Keep indexes of good candidates in deque d.\n",
    "# The indexes in d are from the current window,\n",
    "# they're increasing, and their corresponding\n",
    "# nums are decreasing. Then the first deque \n",
    "# element is the index of the largest window value.\n",
    "\n",
    "# For each index i:\n",
    "\n",
    "# 1. Pop (from the end) indexes of smaller elements (they'll be useless).\n",
    "# 2. Append the current index.\n",
    "# 3. Pop (from the front) the index i - k, \n",
    "# if it's still in the deque (it falls out of the window).\n",
    "# 4. If our window has reached size k, append the current \n",
    "# window maximum to the output.\n",
    "import collections\n",
    "class Solution(object):\n",
    "    def maxSlidingWindow(self, nums, k):\n",
    "        d = collections.deque()\n",
    "        out = []\n",
    "        for i, n in enumerate(nums): # enumerate returns (index, value)\n",
    "            while d and nums[d[-1]] < n:\n",
    "                d.pop()\n",
    "            d += i,\n",
    "            if d[0] == i - k: # if current largest is out of window\n",
    "                d.popleft()\n",
    "            if i >= k - 1: # record current largest\n",
    "                out += [nums[d[0]]]\n",
    "#             print(d)\n",
    "        return out\n",
    "    \n",
    "nums = [1,3,-1,-3,5,3,6,7]\n",
    "k = 3\n",
    "Solution().maxSlidingWindow(nums, k)"
   ]
  },
  {
   "cell_type": "code",
   "execution_count": 3,
   "metadata": {},
   "outputs": [
    {
     "data": {
      "text/plain": [
       "[3, 3, 5, 5, 6, 7]"
      ]
     },
     "execution_count": 3,
     "metadata": {},
     "output_type": "execute_result"
    }
   ],
   "source": [
    "# 239. Sliding Window Maximum\n",
    "# brute force?\n",
    "class Solution(object):\n",
    "    def maxSlidingWindow(self, nums, k):\n",
    "        \"\"\"\n",
    "        :type nums: List[int]\n",
    "        :type k: int\n",
    "        :rtype: List[int]\n",
    "        \"\"\" \n",
    "        if k == 0:\n",
    "            return\n",
    "        if len(nums) == 0:\n",
    "            return \n",
    "        num_run = len(nums) - k + 1\n",
    "        ans = []\n",
    "        for i in range(num_run):\n",
    "            ans.append(max(nums[i:i+k]))\n",
    "        return ans\n",
    "        \n",
    "nums = [1,3,-1,-3,5,3,6,7]\n",
    "k = 3\n",
    "Solution().maxSlidingWindow(nums, k)"
   ]
  },
  {
   "cell_type": "code",
   "execution_count": null,
   "metadata": {},
   "outputs": [],
   "source": []
  }
 ],
 "metadata": {
  "kernelspec": {
   "display_name": "Python 3",
   "language": "python",
   "name": "python3"
  },
  "language_info": {
   "codemirror_mode": {
    "name": "ipython",
    "version": 3
   },
   "file_extension": ".py",
   "mimetype": "text/x-python",
   "name": "python",
   "nbconvert_exporter": "python",
   "pygments_lexer": "ipython3",
   "version": "3.6.5"
  }
 },
 "nbformat": 4,
 "nbformat_minor": 2
}
