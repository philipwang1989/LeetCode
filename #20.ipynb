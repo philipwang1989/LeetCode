{
 "cells": [
  {
   "cell_type": "code",
   "execution_count": null,
   "metadata": {},
   "outputs": [],
   "source": [
    "# 20. Valid Parentheses\n",
    "class Solution(object):\n",
    "    def isValid(self, s):\n",
    "        \"\"\"\n",
    "        :type s: str\n",
    "        :rtype: bool\n",
    "        \"\"\"\n",
    "        left = '([{'\n",
    "        right = ')]}'\n",
    "        q = []\n",
    "        balanced = True\n",
    "        for ch in s:\n",
    "            if ch in left:\n",
    "                q.append(ch)\n",
    "            else:\n",
    "                if len(q) != 0:\n",
    "                    temp = q.pop()\n",
    "                    if left.index(temp) != right.index(ch):\n",
    "                        return False\n",
    "                else:\n",
    "                    return False\n",
    "        if len(q) != 0:\n",
    "            return False\n",
    "        return balanced"
   ]
  }
 ],
 "metadata": {
  "kernelspec": {
   "display_name": "Python 3",
   "language": "python",
   "name": "python3"
  },
  "language_info": {
   "codemirror_mode": {
    "name": "ipython",
    "version": 3
   },
   "file_extension": ".py",
   "mimetype": "text/x-python",
   "name": "python",
   "nbconvert_exporter": "python",
   "pygments_lexer": "ipython3",
   "version": "3.7.3"
  }
 },
 "nbformat": 4,
 "nbformat_minor": 2
}
