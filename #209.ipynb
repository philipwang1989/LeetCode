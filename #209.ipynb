{
 "cells": [
  {
   "cell_type": "code",
   "execution_count": 15,
   "metadata": {},
   "outputs": [
    {
     "data": {
      "text/plain": [
       "2"
      ]
     },
     "execution_count": 15,
     "metadata": {},
     "output_type": "execute_result"
    }
   ],
   "source": [
    "# 209. Minimum Size Subarray Sum\n",
    "# Input: s = 7, nums = [2,3,1,2,4,3]\n",
    "# Output: 2\n",
    "# brute force, TLE\n",
    "class Solution:\n",
    "    def minSubArrayLen(self, s, nums):\n",
    "        if not nums:\n",
    "            return 0\n",
    "        ans = float('inf')\n",
    "        for i in range(len(nums)):\n",
    "            V = 0\n",
    "            for j in range(i, len(nums)):\n",
    "                V += nums[j]\n",
    "                if V >= s:\n",
    "                    ans = min(ans, j-i+1)\n",
    "                    break\n",
    "        return ans if ans != float('inf') else 0\n",
    "s = 7\n",
    "nums = [2,3,1,2,4,3]\n",
    "Solution().minSubArrayLen(s, nums)    "
   ]
  },
  {
   "cell_type": "code",
   "execution_count": 13,
   "metadata": {},
   "outputs": [
    {
     "data": {
      "text/plain": [
       "2"
      ]
     },
     "execution_count": 13,
     "metadata": {},
     "output_type": "execute_result"
    }
   ],
   "source": [
    "# 209. Minimum Size Subarray Sum\n",
    "# Input: s = 7, nums = [2,3,1,2,4,3]\n",
    "# Output: 2\n",
    "# two-pointers\n",
    "class Solution:\n",
    "    def minSubArrayLen(self, s, nums):\n",
    "        if not nums:\n",
    "            return 0\n",
    "        l = r = 0\n",
    "        V = nums[0]\n",
    "        ans = float('inf')\n",
    "        while l < len(nums) or r < len(nums):\n",
    "            if V >= s:\n",
    "                ans = min(ans,r-l+1)\n",
    "                V -= nums[l]\n",
    "                l += 1\n",
    "            elif r < len(nums)-1:\n",
    "                r += 1\n",
    "                V += nums[r]\n",
    "            else:\n",
    "                break\n",
    "        return ans if ans != float('inf') else 0\n",
    "s = 7\n",
    "nums = [2,3,1,2,4,3]\n",
    "Solution().minSubArrayLen(s, nums)"
   ]
  }
 ],
 "metadata": {
  "kernelspec": {
   "display_name": "Python 3",
   "language": "python",
   "name": "python3"
  },
  "language_info": {
   "codemirror_mode": {
    "name": "ipython",
    "version": 3
   },
   "file_extension": ".py",
   "mimetype": "text/x-python",
   "name": "python",
   "nbconvert_exporter": "python",
   "pygments_lexer": "ipython3",
   "version": "3.7.3"
  }
 },
 "nbformat": 4,
 "nbformat_minor": 2
}
