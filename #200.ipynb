{
 "cells": [
  {
   "cell_type": "code",
   "execution_count": 3,
   "metadata": {},
   "outputs": [
    {
     "name": "stdout",
     "output_type": "stream",
     "text": [
      "[['.', '.', '.', '.', '0'], ['.', '.', '0', '.', '0'], ['.', '.', '0', '0', '0'], ['0', '0', '0', '0', '0']]\n"
     ]
    },
    {
     "data": {
      "text/plain": [
       "1"
      ]
     },
     "execution_count": 3,
     "metadata": {},
     "output_type": "execute_result"
    }
   ],
   "source": [
    "# 200. Number of Islands\n",
    "# DFS approach\n",
    "class Solution(object):\n",
    "    def numIslands(self, grid):\n",
    "        \"\"\"\n",
    "        :type grid: List[List[str]]\n",
    "        :rtype: int\n",
    "        \"\"\"\n",
    "        if not grid:\n",
    "            return 0\n",
    "        count = 0\n",
    "        for i in range(len(grid)):\n",
    "            for j in range(len(grid[0])):\n",
    "                if grid[i][j] == '1':\n",
    "                    self.DFS(grid, i, j)\n",
    "                    count += 1\n",
    "        print(grid)\n",
    "        return count\n",
    "        \n",
    "    def DFS(self, grid, i, j):\n",
    "        if (i < 0 or j < 0 or i >= len(grid) or j >= len(grid[0])\n",
    "            or grid[i][j] != '1'):\n",
    "            return\n",
    "        grid[i][j] = '.'\n",
    "        \n",
    "        self.DFS(grid, i+1, j)\n",
    "        self.DFS(grid, i-1, j)\n",
    "        self.DFS(grid, i, j+1)\n",
    "        self.DFS(grid, i, j-1)\n",
    "\n",
    "grid = [[\"1\",\"1\",\"1\",\"1\",\"0\"],[\"1\",\"1\",\"0\",\"1\",\"0\"],[\"1\",\"1\",\"0\",\"0\",\"0\"],[\"0\",\"0\",\"0\",\"0\",\"0\"]]\n",
    "Solution().numIslands(grid)"
   ]
  },
  {
   "cell_type": "code",
   "execution_count": 12,
   "metadata": {},
   "outputs": [
    {
     "data": {
      "text/plain": [
       "1"
      ]
     },
     "execution_count": 12,
     "metadata": {},
     "output_type": "execute_result"
    }
   ],
   "source": [
    "# 200. Number of Islands\n",
    "# BFS\n",
    "class Solution(object):\n",
    "    def numIslands(self, grid):\n",
    "        \"\"\"\n",
    "        :type grid: List[List[str]]\n",
    "        :rtype: int\n",
    "        \"\"\"\n",
    "        if not grid:\n",
    "            return 0\n",
    "        count = 0\n",
    "        for i in range(len(grid)):\n",
    "            for j in range(len(grid[0])):\n",
    "                if grid[i][j] == '1':\n",
    "                    count += 1\n",
    "                    q = [(i,j)]\n",
    "                    grid[i][j] = '.'\n",
    "                    while len(q) > 0:\n",
    "                        (x, y) = q.pop(0)\n",
    "                        \n",
    "                        if self.isLand(grid, x+1, y):\n",
    "                            grid[x+1][y] = '.'\n",
    "                            q.append((x+1, y))\n",
    "                            \n",
    "                        if self.isLand(grid, x-1, y):\n",
    "                            grid[x-1][y] = '.'\n",
    "                            q.append((x-1, y))\n",
    "                            \n",
    "                        if self.isLand(grid, x, y+1):\n",
    "                            grid[x][y+1] = '.'\n",
    "                            q.append((x, y+1))\n",
    "                            \n",
    "                        if self.isLand(grid, x, y-1):\n",
    "                            grid[x][y-1] = '.'\n",
    "                            q.append((x, y-1))\n",
    "        return count\n",
    "\n",
    "    def isLand(self,grid,i,j):\n",
    "        if (i >= 0 and j >= 0 and i < len(grid) and j < len(grid[0])\n",
    "            and grid[i][j] == '1'):\n",
    "            return True\n",
    "        return False\n",
    "grid = [[\"1\",\"1\",\"1\",\"1\",\"0\"],[\"1\",\"1\",\"0\",\"1\",\"0\"],[\"1\",\"1\",\"0\",\"0\",\"0\"],[\"0\",\"0\",\"0\",\"0\",\"0\"]]\n",
    "Solution().numIslands(grid)"
   ]
  },
  {
   "cell_type": "code",
   "execution_count": null,
   "metadata": {},
   "outputs": [],
   "source": [
    "class Solution {\n",
    "public:\n",
    "  int numIslands(vector<vector<char>>& grid) {\n",
    "    int nr = grid.size();\n",
    "    if (!nr) return 0;\n",
    "    int nc = grid[0].size();\n",
    "\n",
    "    int num_islands = 0;\n",
    "    for (int r = 0; r < nr; ++r) {\n",
    "      for (int c = 0; c < nc; ++c) {\n",
    "        if (grid[r][c] == '1') {\n",
    "          ++num_islands;\n",
    "          grid[r][c] = '0'; // mark as visited\n",
    "          queue<pair<int, int>> neighbors;\n",
    "          neighbors.push({r, c});\n",
    "          while (!neighbors.empty()) {\n",
    "            auto rc = neighbors.front();\n",
    "            neighbors.pop();\n",
    "            int row = rc.first, col = rc.second;\n",
    "            if (row - 1 >= 0 && grid[row-1][col] == '1') {\n",
    "              neighbors.push({row-1, col}); grid[row-1][col] = '0';\n",
    "            }\n",
    "            if (row + 1 < nr && grid[row+1][col] == '1') {\n",
    "              neighbors.push({row+1, col}); grid[row+1][col] = '0';\n",
    "            }\n",
    "            if (col - 1 >= 0 && grid[row][col-1] == '1') {\n",
    "              neighbors.push({row, col-1}); grid[row][col-1] = '0';\n",
    "            }\n",
    "            if (col + 1 < nc && grid[row][col+1] == '1') {\n",
    "              neighbors.push({row, col+1}); grid[row][col+1] = '0';\n",
    "            }\n",
    "          }\n",
    "        }\n",
    "      }\n",
    "    }\n",
    "\n",
    "    return num_islands;\n",
    "  }\n",
    "};"
   ]
  }
 ],
 "metadata": {
  "kernelspec": {
   "display_name": "Python 3",
   "language": "python",
   "name": "python3"
  },
  "language_info": {
   "codemirror_mode": {
    "name": "ipython",
    "version": 3
   },
   "file_extension": ".py",
   "mimetype": "text/x-python",
   "name": "python",
   "nbconvert_exporter": "python",
   "pygments_lexer": "ipython3",
   "version": "3.7.3"
  }
 },
 "nbformat": 4,
 "nbformat_minor": 2
}
