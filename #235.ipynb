{
 "cells": [
  {
   "cell_type": "code",
   "execution_count": null,
   "metadata": {},
   "outputs": [],
   "source": [
    "# 235. Lowest Common Ancestor of a Binary Search Tree\n",
    "\n",
    "# Input: root = [6,2,8,0,4,7,9,null,null,3,5], p = 2, q = 8\n",
    "# Output: 6\n",
    "# Explanation: The LCA of nodes 2 and 8 is 6.\n",
    "\n",
    "# Input: root = [6,2,8,0,4,7,9,null,null,3,5], p = 2, q = 4\n",
    "# Output: 2\n",
    "# Explanation: The LCA of nodes 2 and 4 is 2, since a node \n",
    "# can be a descendant of itself according to the LCA definition.\n",
    "    \n",
    "# Definition for a binary tree node.\n",
    "# class TreeNode(object):\n",
    "#     def __init__(self, x):\n",
    "#         self.val = x\n",
    "#         self.left = None\n",
    "#         self.right = None\n",
    "\n",
    "class Solution(object):\n",
    "    def lowestCommonAncestor(self, root, p, q):\n",
    "        \"\"\"\n",
    "        :type root: TreeNode\n",
    "        :type p: TreeNode\n",
    "        :type q: TreeNode\n",
    "        :rtype: TreeNode\n",
    "        \"\"\"\n",
    "        if not root or root.val == p.val or root.val == q.val:\n",
    "            return root\n",
    "        l, r = p, q\n",
    "        if p.val > q.val:\n",
    "            l, r = q, p\n",
    "        return self.search(root, l, r)\n",
    "    def search(self, node, l, r):\n",
    "        if not node:\n",
    "            return \n",
    "        if l.val == node.val or r.val == node.val:\n",
    "            return node\n",
    "        if l.val < node.val < r.val:\n",
    "            return node\n",
    "        return self.search(node.left, l, r) or self.search(node.right, l, r)"
   ]
  }
 ],
 "metadata": {
  "kernelspec": {
   "display_name": "Python 3",
   "language": "python",
   "name": "python3"
  },
  "language_info": {
   "codemirror_mode": {
    "name": "ipython",
    "version": 3
   },
   "file_extension": ".py",
   "mimetype": "text/x-python",
   "name": "python",
   "nbconvert_exporter": "python",
   "pygments_lexer": "ipython3",
   "version": "3.6.5"
  }
 },
 "nbformat": 4,
 "nbformat_minor": 2
}
