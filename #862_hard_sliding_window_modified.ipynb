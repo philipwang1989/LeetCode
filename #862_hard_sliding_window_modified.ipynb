{
 "cells": [
  {
   "cell_type": "code",
   "execution_count": 13,
   "metadata": {},
   "outputs": [
    {
     "name": "stdout",
     "output_type": "stream",
     "text": [
      "[0, 84, 47, 79, 119, 214]\n",
      "[0]\n",
      "[0, 1]\n",
      "[0, 2]\n",
      "[0, 2, 3]\n",
      "[0, 2, 3, 4]\n",
      "[3, 4, 5]\n"
     ]
    },
    {
     "data": {
      "text/plain": [
       "3"
      ]
     },
     "execution_count": 13,
     "metadata": {},
     "output_type": "execute_result"
    }
   ],
   "source": [
    "# the deque solution requires that T is always increasing:\n",
    "\n",
    "# Why is it increasing :\n",
    "# So that when we move the start pointer and we violate the\n",
    "# condition, we are sure we will violate it if we keep taking \n",
    "# the other values from the Deque. In other words, if the sum \n",
    "# of the subarray from start=first value in the deque to end \n",
    "# is smaller than target, then the sum of the subarray from\n",
    "# start=second value in the deque to end is necessarily smaller\n",
    "# than target.\n",
    "# So because the Deque is increasing (B[d[0]] <= B[d[1]]), we\n",
    "# have B[i] - B[d[0]] >= B[i] - B[d[1]], which means the sum \n",
    "# of the subarray starting from d[0] is greater than the sum \n",
    "# of the sub array starting from d[1].\n",
    "\n",
    "class Solution:\n",
    "    def shortestSubarray(self, A, K):\n",
    "        if not A:\n",
    "            return -1\n",
    "        T = [0] * (len(A) + 1)\n",
    "        for i in range(len(A)):\n",
    "            T[i+1] = T[i] + A[i]\n",
    "        d = []\n",
    "        ans = float('inf')\n",
    "#         print(T)\n",
    "        for i in range(len(T)):\n",
    "            while d and T[i] - T[d[0]] >= K:\n",
    "                ans = min(ans, i-d.pop(0))\n",
    "            # next step is crucial\n",
    "            # without this it becomes sliding window\n",
    "            while d and T[i] <= T[d[-1]]: \n",
    "                d.pop()\n",
    "            d.append(i)\n",
    "#             print(d)\n",
    "        return ans if ans != float('inf') else -1\n",
    "    \n",
    "A = [84,-37,32,40,95]\n",
    "K = 167\n",
    "Solution().shortestSubarray(A, K)"
   ]
  },
  {
   "cell_type": "code",
   "execution_count": 7,
   "metadata": {},
   "outputs": [
    {
     "name": "stdout",
     "output_type": "stream",
     "text": [
      "47\n",
      "79\n",
      "119\n",
      "214\n",
      "130\n"
     ]
    },
    {
     "data": {
      "text/plain": [
       "5"
      ]
     },
     "execution_count": 7,
     "metadata": {},
     "output_type": "execute_result"
    }
   ],
   "source": [
    "# 862. Shortest Subarray with Sum at Least K\n",
    "# Input: A = [1,2], K = 4\n",
    "# Output: -1\n",
    "# Input: A = [2,-1,2], K = 3\n",
    "# Output: 3\n",
    "# sliding window will fail!!!\n",
    "class Solution:\n",
    "    def shortestSubarray(self, A, K):\n",
    "        if not A:\n",
    "            return -1\n",
    "        ans = float('inf')\n",
    "        l = r = 0\n",
    "        V = A[0]\n",
    "        while l < len(A) or r < len(A):\n",
    "            if V >= K:\n",
    "                ans = min(ans, r-l+1)\n",
    "                V -= A[l]\n",
    "                l += 1\n",
    "            elif r < len(A)-1:\n",
    "                r += 1\n",
    "                V += A[r]\n",
    "            else:\n",
    "                break\n",
    "        return ans if ans != float('inf') else -1\n",
    "A = [84,-37,32,40,95]\n",
    "K = 167\n",
    "Solution().shortestSubarray(A, K)"
   ]
  }
 ],
 "metadata": {
  "kernelspec": {
   "display_name": "Python 3",
   "language": "python",
   "name": "python3"
  },
  "language_info": {
   "codemirror_mode": {
    "name": "ipython",
    "version": 3
   },
   "file_extension": ".py",
   "mimetype": "text/x-python",
   "name": "python",
   "nbconvert_exporter": "python",
   "pygments_lexer": "ipython3",
   "version": "3.7.3"
  }
 },
 "nbformat": 4,
 "nbformat_minor": 2
}
