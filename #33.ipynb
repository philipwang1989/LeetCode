{
 "cells": [
  {
   "cell_type": "code",
   "execution_count": 15,
   "metadata": {},
   "outputs": [
    {
     "data": {
      "text/plain": [
       "2"
      ]
     },
     "execution_count": 15,
     "metadata": {},
     "output_type": "execute_result"
    }
   ],
   "source": [
    "# 33. Search in Rotated Sorted Array\n",
    "class Solution(object):\n",
    "    def search(self, nums, target):\n",
    "        \"\"\"\n",
    "        :type nums: List[int]\n",
    "        :type target: int\n",
    "        :rtype: int\n",
    "        \"\"\"\n",
    "        if len(nums) == 0:\n",
    "            return -1\n",
    "        if len(nums) == 1:\n",
    "            if nums[0] == target:\n",
    "                return 0\n",
    "            else:\n",
    "                return -1\n",
    "        # find pivot for the two sorted array\n",
    "        pivot = 0\n",
    "        for i in range(1,len(nums)):\n",
    "            if nums[i] < nums[i-1]:\n",
    "                pivot = i\n",
    "                break\n",
    "        if nums[pivot] == target:\n",
    "            return pivot\n",
    "        l, r = 0, pivot\n",
    "        l_ind = self.binarySearch(nums, l, r, target)\n",
    "        if l_ind != -1:\n",
    "            return l_ind\n",
    "        l, r = pivot, len(nums)-1\n",
    "        r_ind = self.binarySearch(nums, l, r, target)\n",
    "        if r_ind != -1:\n",
    "            return r_ind\n",
    "        return -1\n",
    "        \n",
    "    def binarySearch(self, sub_nums, l, r, target):\n",
    "        while l <= r:\n",
    "            mid = (l+r)//2\n",
    "            if sub_nums[mid] == target:\n",
    "                return mid\n",
    "            if sub_nums[mid] > target:\n",
    "                r = mid - 1\n",
    "            else:\n",
    "                l = mid + 1\n",
    "        return -1\n",
    "        \n",
    "nums = [5,1,3]\n",
    "target = 3\n",
    "Solution().search(nums, target)"
   ]
  },
  {
   "cell_type": "code",
   "execution_count": null,
   "metadata": {},
   "outputs": [],
   "source": []
  }
 ],
 "metadata": {
  "kernelspec": {
   "display_name": "Python 3",
   "language": "python",
   "name": "python3"
  },
  "language_info": {
   "codemirror_mode": {
    "name": "ipython",
    "version": 3
   },
   "file_extension": ".py",
   "mimetype": "text/x-python",
   "name": "python",
   "nbconvert_exporter": "python",
   "pygments_lexer": "ipython3",
   "version": "3.6.5"
  }
 },
 "nbformat": 4,
 "nbformat_minor": 2
}
