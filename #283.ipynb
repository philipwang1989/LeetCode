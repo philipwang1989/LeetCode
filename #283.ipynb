{
 "cells": [
  {
   "cell_type": "code",
   "execution_count": 4,
   "metadata": {},
   "outputs": [
    {
     "name": "stdout",
     "output_type": "stream",
     "text": [
      "[1, 0, 4, 0, 3]\n",
      "[1, 0, 4, 0, 3]\n",
      "[1, 4, 0, 0, 3]\n",
      "[1, 4, 0, 0, 3]\n",
      "[1, 4, 3, 0, 0]\n"
     ]
    },
    {
     "data": {
      "text/plain": [
       "[1, 4, 3, 0, 0]"
      ]
     },
     "execution_count": 4,
     "metadata": {},
     "output_type": "execute_result"
    }
   ],
   "source": [
    "# 283. Move Zeroes\n",
    "# two-pointers approach\n",
    "class Solution:\n",
    "    def moveZeroes(self, nums):\n",
    "        \"\"\"\n",
    "        Do not return anything, modify nums in-place instead.\n",
    "        \"\"\"\n",
    "        # pos keep track of the previous zero position\n",
    "        pos = 0\n",
    "        \n",
    "        for i in range(len(nums)):\n",
    "            if nums[i] != 0:\n",
    "                nums[pos], nums[i] = nums[i], nums[pos]\n",
    "                pos += 1\n",
    "            # print(nums)\n",
    "        return nums\n",
    "s = Solution()\n",
    "test = [1,0,4,0,3]\n",
    "s.moveZeroes(test)\n",
    "# print(test)"
   ]
  },
  {
   "cell_type": "code",
   "execution_count": null,
   "metadata": {},
   "outputs": [],
   "source": []
  }
 ],
 "metadata": {
  "kernelspec": {
   "display_name": "Python 3",
   "language": "python",
   "name": "python3"
  },
  "language_info": {
   "codemirror_mode": {
    "name": "ipython",
    "version": 3
   },
   "file_extension": ".py",
   "mimetype": "text/x-python",
   "name": "python",
   "nbconvert_exporter": "python",
   "pygments_lexer": "ipython3",
   "version": "3.7.3"
  }
 },
 "nbformat": 4,
 "nbformat_minor": 2
}
