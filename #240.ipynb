{
 "cells": [
  {
   "cell_type": "code",
   "execution_count": 51,
   "metadata": {},
   "outputs": [
    {
     "name": "stdout",
     "output_type": "stream",
     "text": [
      "[1, 2, 3, 4, 5]\n",
      "[6, 7, 8, 9, 10]\n",
      "[11, 12, 13, 14, 15]\n",
      "[16, 17, 18, 19, 20]\n",
      "[21, 22, 23, 24, 25]\n"
     ]
    },
    {
     "data": {
      "text/plain": [
       "True"
      ]
     },
     "execution_count": 51,
     "metadata": {},
     "output_type": "execute_result"
    }
   ],
   "source": [
    "class Solution(object):\n",
    "    def searchMatrix(self, matrix, target):\n",
    "        j = -1\n",
    "        for row in matrix:\n",
    "            print(row)\n",
    "            while j + len(row) >= 0 and row[j] > target:\n",
    "                j -= 1\n",
    "            if j + len(row) >= 0 and row[j] == target:\n",
    "                return True\n",
    "        return False\n",
    "matrix = [[ 1, 2, 3, 4, 5],\n",
    "          [ 6, 7, 8, 9,10],\n",
    "          [11,12,13,14,15],\n",
    "          [16,17,18,19,20],\n",
    "          [21,22,23,24,25]]\n",
    "\n",
    "# target = 1 # return true\n",
    "target = 24 # return false\n",
    "Solution().searchMatrix(matrix, target)"
   ]
  },
  {
   "cell_type": "code",
   "execution_count": 59,
   "metadata": {},
   "outputs": [
    {
     "data": {
      "text/plain": [
       "True"
      ]
     },
     "execution_count": 59,
     "metadata": {},
     "output_type": "execute_result"
    }
   ],
   "source": [
    "# Search a 2D Matrix II\n",
    "\n",
    "class Solution(object):\n",
    "    def searchMatrix(self, matrix, target):\n",
    "        \"\"\"\n",
    "        :type matrix: List[List[int]]\n",
    "        :type target: int\n",
    "        :rtype: bool\n",
    "        \"\"\"\n",
    "        if not matrix:\n",
    "            return False\n",
    "        row_beg = 0\n",
    "        row_end = len(matrix) - 1\n",
    "        coll_beg = 0\n",
    "        coll_end = len(matrix[0]) - 1\n",
    "        \n",
    "        return self.helper(matrix, row_beg, row_end, coll_beg, coll_end, target)\n",
    "        \n",
    "    def helper(self, matrix, row_beg, row_end, coll_beg, coll_end, target):\n",
    "        if row_beg > row_end or coll_beg > coll_end:\n",
    "            return False\n",
    "        midrow = (row_beg + row_end) // 2\n",
    "        midcoll = (coll_beg + coll_end) // 2\n",
    "        curr = matrix[midrow][midcoll]\n",
    "        if curr == target:\n",
    "            return True\n",
    "        else:\n",
    "            if curr > target: # element is not in bottom right\n",
    "                # need top right, top left, bottom left\n",
    "                return (self.helper(matrix,row_beg,midrow-1,midcoll,coll_end,target) or\n",
    "                       self.helper(matrix,row_beg,midrow-1,coll_beg,midcoll-1,target) or \n",
    "                       self.helper(matrix,midrow,row_end,coll_beg,midcoll-1,target))\n",
    "            else: # element is not in top left\n",
    "                # need top right, bottom right, bottom left\n",
    "                return (self.helper(matrix,row_beg,midrow,midcoll+1,coll_end,target) or\n",
    "                       self.helper(matrix,midrow+1,row_end,midcoll+1,coll_end,target) or \n",
    "                       self.helper(matrix,midrow+1,row_end,coll_beg,midcoll,target))\n",
    "            \n",
    "\n",
    "# matrix = [\n",
    "#     [1,   4,  7],\n",
    "#     [2,   5,  8],\n",
    "#     [3,   6,  9]\n",
    "# ]\n",
    "# matrix = [\n",
    "#   [1,   4,  7, 11, 15],\n",
    "#   [2,   5,  8, 12, 19],\n",
    "#   [3,   6,  9, 16, 22],\n",
    "#   [10, 13, 14, 17, 24],\n",
    "#   [18, 21, 23, 26, 30]\n",
    "# ]\n",
    "matrix = [[ 1, 2, 3, 4, 5],\n",
    "          [ 6, 7, 8, 9,10],\n",
    "          [11,12,13,14,15],\n",
    "          [16,17,18,19,20],\n",
    "          [21,22,23,24,25]]\n",
    "\n",
    "# target = 1 # return true\n",
    "target = 5 # return false\n",
    "Solution().searchMatrix(matrix, target)"
   ]
  },
  {
   "cell_type": "code",
   "execution_count": 5,
   "metadata": {},
   "outputs": [
    {
     "name": "stdout",
     "output_type": "stream",
     "text": [
      "0\n"
     ]
    }
   ],
   "source": [
    "nums = [[1]]\n",
    "print(len(nums[0])//2)"
   ]
  },
  {
   "cell_type": "code",
   "execution_count": 19,
   "metadata": {},
   "outputs": [
    {
     "data": {
      "text/plain": [
       "True"
      ]
     },
     "execution_count": 19,
     "metadata": {},
     "output_type": "execute_result"
    }
   ],
   "source": [
    "True or False"
   ]
  },
  {
   "cell_type": "code",
   "execution_count": 15,
   "metadata": {},
   "outputs": [
    {
     "name": "stdout",
     "output_type": "stream",
     "text": [
      "[[1, 4, 7, 11, 15], [2, 5, 8, 12, 19]]\n"
     ]
    }
   ],
   "source": [
    "matrix = [\n",
    "  [1,   4,  7, 11, 15],\n",
    "  [2,   5,  8, 12, 19],\n",
    "  [3,   6,  9, 16, 22],\n",
    "  [10, 13, 14, 17, 24],\n",
    "  [18, 21, 23, 26, 30]\n",
    "]\n",
    "print(matrix[0:2][0:2])"
   ]
  },
  {
   "cell_type": "code",
   "execution_count": null,
   "metadata": {},
   "outputs": [],
   "source": []
  }
 ],
 "metadata": {
  "kernelspec": {
   "display_name": "Python 3",
   "language": "python",
   "name": "python3"
  },
  "language_info": {
   "codemirror_mode": {
    "name": "ipython",
    "version": 3
   },
   "file_extension": ".py",
   "mimetype": "text/x-python",
   "name": "python",
   "nbconvert_exporter": "python",
   "pygments_lexer": "ipython3",
   "version": "3.6.5"
  }
 },
 "nbformat": 4,
 "nbformat_minor": 2
}
