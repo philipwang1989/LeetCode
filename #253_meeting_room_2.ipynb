{
 "cells": [
  {
   "cell_type": "code",
   "execution_count": 10,
   "metadata": {},
   "outputs": [
    {
     "data": {
      "text/plain": [
       "2"
      ]
     },
     "execution_count": 10,
     "metadata": {},
     "output_type": "execute_result"
    }
   ],
   "source": [
    "# 253. Meeting Rooms II\n",
    "# minMeetingRooms(self, intervals: List[List[int]]) -> int:\n",
    "class Solution:\n",
    "    def minMeetingRooms(self, intervals):\n",
    "        if not intervals:\n",
    "            return 0\n",
    "        room = 0\n",
    "        start = []\n",
    "        stop = []\n",
    "        for i in range(len(intervals)):\n",
    "            start.append(intervals[i][0])\n",
    "            stop.append(intervals[i][1])\n",
    "        start.sort()\n",
    "        stop.sort()\n",
    "        s_ptr = 0\n",
    "        e_ptr = 0\n",
    "        while s_ptr < len(start):\n",
    "            if start[s_ptr] >= stop[e_ptr]:\n",
    "#                 room -= 1\n",
    "                e_ptr += 1\n",
    "            else:\n",
    "                room += 1\n",
    "            s_ptr += 1\n",
    "        return room\n",
    "        \n",
    "intervals = [[0,30],[5,10],[15,20]]\n",
    "# intervals = [[7,10],[2,4]]\n",
    "Solution().minMeetingRooms(intervals)"
   ]
  },
  {
   "cell_type": "code",
   "execution_count": null,
   "metadata": {},
   "outputs": [],
   "source": [
    "# Definition for an interval.\n",
    "# class Interval(object):\n",
    "#     def __init__(self, s=0, e=0):\n",
    "#         self.start = s\n",
    "#         self.end = e\n",
    "\n",
    "class Solution(object):\n",
    "    def minMeetingRooms(self, intervals):\n",
    "        \"\"\"\n",
    "        :type intervals: List[Interval]\n",
    "        :rtype: int\n",
    "        \"\"\"\n",
    "\n",
    "        # If there are no meetings, we don't need any rooms.\n",
    "        if not intervals:\n",
    "            return 0\n",
    "\n",
    "        used_rooms = 0\n",
    "\n",
    "        # Separate out the start and the end timings and sort them individually.\n",
    "        start_timings = sorted([i.start for i in intervals])\n",
    "        end_timings = sorted(i.end for i in intervals)\n",
    "        L = len(intervals)\n",
    "\n",
    "        # The two pointers in the algorithm: e_ptr and s_ptr.\n",
    "        end_pointer = 0\n",
    "        start_pointer = 0\n",
    "\n",
    "        # Until all the meetings have been processed\n",
    "        while start_pointer < L:\n",
    "            # If there is a meeting that has ended by the time the meeting at `start_pointer` starts\n",
    "            if start_timings[start_pointer] >= end_timings[end_pointer]:\n",
    "                # Free up a room and increment the end_pointer.\n",
    "                used_rooms -= 1\n",
    "                end_pointer += 1\n",
    "\n",
    "            # We do this irrespective of whether a room frees up or not.\n",
    "            # If a room got free, then this used_rooms += 1 wouldn't have any effect. used_rooms would\n",
    "            # remain the same in that case. If no room was free, then this would increase used_rooms\n",
    "            used_rooms += 1    \n",
    "            start_pointer += 1   \n",
    "\n",
    "        return used_rooms\n",
    "\n",
    "\n"
   ]
  }
 ],
 "metadata": {
  "kernelspec": {
   "display_name": "Python 3",
   "language": "python",
   "name": "python3"
  },
  "language_info": {
   "codemirror_mode": {
    "name": "ipython",
    "version": 3
   },
   "file_extension": ".py",
   "mimetype": "text/x-python",
   "name": "python",
   "nbconvert_exporter": "python",
   "pygments_lexer": "ipython3",
   "version": "3.6.5"
  }
 },
 "nbformat": 4,
 "nbformat_minor": 2
}
