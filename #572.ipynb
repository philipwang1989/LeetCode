{
 "cells": [
  {
   "cell_type": "code",
   "execution_count": null,
   "metadata": {},
   "outputs": [],
   "source": [
    "# 572. Subtree of Another Tree\n",
    "# s is the large tree\n",
    "# t is the subtree to be compared\n",
    "class Solution:\n",
    "    def isSubtree(self, s: TreeNode, t: TreeNode) -> bool:\n",
    "        return self.BFS(s, t)\n",
    "    \n",
    "    def BFS(self, s, t):\n",
    "        if not s:\n",
    "            return False\n",
    "        return self.check(s, t) or self.BFS(s.left, t) or self.BFS(s.right, t)\n",
    "        \n",
    "    def check(self, s, t):\n",
    "        if not s and not t:\n",
    "            return True\n",
    "        if not s or not t:\n",
    "            return False\n",
    "        return s.val == t.val and self.check(s.left, t.left) and self.check(s.right, t.right)"
   ]
  }
 ],
 "metadata": {
  "kernelspec": {
   "display_name": "Python 3",
   "language": "python",
   "name": "python3"
  },
  "language_info": {
   "codemirror_mode": {
    "name": "ipython",
    "version": 3
   },
   "file_extension": ".py",
   "mimetype": "text/x-python",
   "name": "python",
   "nbconvert_exporter": "python",
   "pygments_lexer": "ipython3",
   "version": "3.7.3"
  }
 },
 "nbformat": 4,
 "nbformat_minor": 2
}
