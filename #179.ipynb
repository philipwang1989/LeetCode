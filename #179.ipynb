{
 "cells": [
  {
   "cell_type": "code",
   "execution_count": 60,
   "metadata": {},
   "outputs": [
    {
     "data": {
      "text/plain": [
       "0"
      ]
     },
     "execution_count": 60,
     "metadata": {},
     "output_type": "execute_result"
    }
   ],
   "source": [
    "# 179. Largest Number\n",
    "# input = [10,2]\n",
    "# ... output = '9534330'\n",
    "class Solution(object):\n",
    "    def largestNumber(self, nums):\n",
    "        \"\"\"\n",
    "        :type nums: List[int]\n",
    "        :rtype: str\n",
    "        \"\"\"\n",
    "        # quicksort - w/ sort function: ab <-> ba\n",
    "        nums = [str(i) for i in nums]\n",
    "        left = 0\n",
    "        right = len(nums)-1\n",
    "        self.quickSort(nums,left,right)\n",
    "        ans = ''.join(nums).lstrip('0')\n",
    "        return ans or '0'\n",
    "    def quickSort(self,strs,left,right):\n",
    "        if left < right:\n",
    "            pivot = self.partition(strs,left,right)\n",
    "            self.quickSort(strs,left,pivot-1)\n",
    "            self.quickSort(strs,pivot+1,right)\n",
    "    \n",
    "    def partition(self,strs,left,right):\n",
    "        pivot = strs[left]\n",
    "        l = left + 1\n",
    "        r = right\n",
    "        while l <= r:\n",
    "            while l <= r and int(strs[l] + pivot) >= int(pivot + strs[l]):\n",
    "                l += 1\n",
    "            while int(pivot + strs[r]) >= int(strs[r] + pivot) and r >= l:\n",
    "                r -= 1\n",
    "            if l <= r:\n",
    "                temp = strs[l]\n",
    "                strs[l] = strs[r]\n",
    "                strs[r] = temp\n",
    "        temp = strs[r]\n",
    "        strs[r] = strs[left]\n",
    "        strs[left] = temp\n",
    "        return r\n",
    "    \n",
    "# nums = [3,30,34,5,9]\n",
    "nums = [0,0,0]\n",
    "Solution().largestNumber(nums)"
   ]
  },
  {
   "cell_type": "code",
   "execution_count": 41,
   "metadata": {},
   "outputs": [
    {
     "name": "stdout",
     "output_type": "stream",
     "text": [
      "['45', '23', '35']\n",
      "452335\n"
     ]
    }
   ],
   "source": [
    "b = [45,23,35]\n",
    "b = [str(i) for i in b]\n",
    "print(b)\n",
    "a = ['45','23','35']\n",
    "print(''.join(b))"
   ]
  },
  {
   "cell_type": "code",
   "execution_count": null,
   "metadata": {},
   "outputs": [],
   "source": []
  }
 ],
 "metadata": {
  "kernelspec": {
   "display_name": "Python 3",
   "language": "python",
   "name": "python3"
  },
  "language_info": {
   "codemirror_mode": {
    "name": "ipython",
    "version": 3
   },
   "file_extension": ".py",
   "mimetype": "text/x-python",
   "name": "python",
   "nbconvert_exporter": "python",
   "pygments_lexer": "ipython3",
   "version": "3.6.5"
  }
 },
 "nbformat": 4,
 "nbformat_minor": 2
}
