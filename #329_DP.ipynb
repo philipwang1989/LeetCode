{
 "cells": [
  {
   "cell_type": "code",
   "execution_count": 21,
   "metadata": {},
   "outputs": [
    {
     "name": "stdout",
     "output_type": "stream",
     "text": [
      "[[4, 3, 2], [4, 3, 2], [4, 3, 2]]\n"
     ]
    },
    {
     "data": {
      "text/plain": [
       "[[4, 3, 2], [4, 3, 2], [4, 3, 2]]"
      ]
     },
     "execution_count": 21,
     "metadata": {},
     "output_type": "execute_result"
    }
   ],
   "source": [
    "# 329. Longest Increasing Path in a Matrix\n",
    "# use DFS, not sure why it doesn;t\n",
    "class Solution(object):\n",
    "    def longestIncreasingPath(self, matrix):\n",
    "        \"\"\"\n",
    "        :type matrix: List[List[int]]\n",
    "        :rtype: int\n",
    "        \"\"\"\n",
    "        m = len(matrix)\n",
    "        n = len(matrix[0])\n",
    "        dp = [[0] * m] * n\n",
    "        for i in range(m):\n",
    "            for j in range(n):\n",
    "                if not dp[i][j]:\n",
    "                    dp[i][j] = self.DFS(matrix,i,j,dp)\n",
    "        print(dp)\n",
    "        return dp\n",
    "    def DFS(self, matrix, i, j, dp):\n",
    "        for dx, dy in zip([1, 0, -1, 0], [0, 1, 0, -1]):\n",
    "            if len(matrix)>i+dx>=0 and len(matrix[0])>j+dy>=0:\n",
    "                if matrix[i+dx][j+dy] > matrix[i][j]:\n",
    "                    if not dp[i+dx][j+dy]:\n",
    "                        dp[i+dx][j+dy] = self.DFS(matrix,i+dx,j+dy,dp)\n",
    "                    dp[i][j] = max(dp[i][j],dp[i+dx][j+dy]+1)\n",
    "                    \n",
    "        dp[i][j] = max(dp[i][j],1)\n",
    "        return dp[i][j]\n",
    "# nums = (\n",
    "# [\n",
    "#   [9,9,4],\n",
    "#   [6,6,8],\n",
    "#   [2,1,1]\n",
    "# ] )\n",
    "nums = (\n",
    "[\n",
    "  [3,4,5],\n",
    "  [3,2,6],\n",
    "  [2,2,1]\n",
    "] )\n",
    "Solution().longestIncreasingPath(nums)"
   ]
  },
  {
   "cell_type": "code",
   "execution_count": 22,
   "metadata": {},
   "outputs": [
    {
     "name": "stdout",
     "output_type": "stream",
     "text": [
      "[[4, 3, 2], [1, 4, 1], [2, 1, 2]]\n"
     ]
    },
    {
     "data": {
      "text/plain": [
       "4"
      ]
     },
     "execution_count": 22,
     "metadata": {},
     "output_type": "execute_result"
    }
   ],
   "source": [
    "class Solution(object):\n",
    "    def longestIncreasingPath(self, matrix):\n",
    "        \"\"\"\n",
    "        :type matrix: List[List[int]]\n",
    "        :rtype: int\n",
    "        \"\"\"\n",
    "        h = len(matrix)\n",
    "        if h == 0: return 0\n",
    "        w = len(matrix[0])\n",
    "\n",
    "        def dfs(x, y):\n",
    "            for dx, dy in zip([1, 0, -1, 0], [0, 1, 0, -1]):\n",
    "                nx, ny = x + dx, y + dy\n",
    "                if 0 <= nx < h and 0 <= ny < w and matrix[nx][ny] > matrix[x][y]:\n",
    "                    if not dp[nx][ny]: dp[nx][ny] = dfs(nx, ny)\n",
    "                    dp[x][y] = max(dp[x][y], dp[nx][ny] + 1)\n",
    "            dp[x][y] = max(dp[x][y], 1)\n",
    "            return dp[x][y]\n",
    "\n",
    "        dp = [[0] * w for x in range(h)]\n",
    "        for x in range(h):\n",
    "            for y in range(w):\n",
    "                if not dp[x][y]:\n",
    "                    dp[x][y] = dfs(x, y)\n",
    "        print(dp)\n",
    "        return max([max(x) for x in dp])\n",
    "\n",
    "nums = (\n",
    "[\n",
    "  [9,9,4],\n",
    "  [6,6,8],\n",
    "  [2,1,1]\n",
    "] )\n",
    "nums = (\n",
    "[\n",
    "  [3,4,5],\n",
    "  [3,2,6],\n",
    "  [2,2,1]\n",
    "] )\n",
    "Solution().longestIncreasingPath(nums)"
   ]
  },
  {
   "cell_type": "code",
   "execution_count": null,
   "metadata": {},
   "outputs": [],
   "source": []
  }
 ],
 "metadata": {
  "kernelspec": {
   "display_name": "Python 3",
   "language": "python",
   "name": "python3"
  },
  "language_info": {
   "codemirror_mode": {
    "name": "ipython",
    "version": 3
   },
   "file_extension": ".py",
   "mimetype": "text/x-python",
   "name": "python",
   "nbconvert_exporter": "python",
   "pygments_lexer": "ipython3",
   "version": "3.6.5"
  }
 },
 "nbformat": 4,
 "nbformat_minor": 2
}
