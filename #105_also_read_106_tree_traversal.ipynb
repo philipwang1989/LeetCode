{
 "cells": [
  {
   "cell_type": "code",
   "execution_count": 6,
   "metadata": {},
   "outputs": [
    {
     "data": {
      "text/plain": [
       "<__main__.TreeNode at 0x1062680b8>"
      ]
     },
     "execution_count": 6,
     "metadata": {},
     "output_type": "execute_result"
    }
   ],
   "source": [
    "# 105. Construct Binary Tree from Preorder and Inorder Traversal\n",
    "\n",
    "# preorder = [3,9,20,15,7]\n",
    "# inorder = [9,3,15,20,7]\n",
    "# root: 3\n",
    "# lev1: 9, 20\n",
    "# lev2: null, null, 15, 7\n",
    "\n",
    "# preorder: VLR\n",
    "# inorder: LVR\n",
    "# postorder: LRV\n",
    "\n",
    "# Definition for a binary tree node.\n",
    "class TreeNode(object):\n",
    "    def __init__(self, x):\n",
    "        self.val = x\n",
    "        self.left = None\n",
    "        self.right = None\n",
    "# no duplicates\n",
    "\n",
    "class Solution(object):\n",
    "    def buildTree(self, preorder, inorder):\n",
    "        \"\"\"\n",
    "        :type preorder: List[int]\n",
    "        :type inorder: List[int]\n",
    "        :rtype: TreeNode\n",
    "        \"\"\"\n",
    "        pleft = 0\n",
    "        ileft = 0\n",
    "        pright = len(preorder) - 1\n",
    "        iright = len(inorder) - 1\n",
    "        root = self.helper(preorder,pleft,pright,inorder,ileft,iright)\n",
    "        return root\n",
    "    def helper(self,preorder,pleft,pright,inorder,ileft,iright):\n",
    "        if pleft > pright:\n",
    "            return None\n",
    "        if pleft == pright:\n",
    "            return TreeNode(preorder[pleft])\n",
    "        root = TreeNode(preorder[pleft])\n",
    "        ind_root_i = inorder.index(preorder[pleft])\n",
    "        left_length = ind_root_i - ileft\n",
    "        # why -1 at the end?\n",
    "        root.left = self.helper(preorder,pleft+1,pleft+left_length,inorder,ileft,ind_root_i-1)\n",
    "        root.right = self.helper(preorder,pleft+left_length+1,pright,inorder,ind_root_i+1,iright)\n",
    "        return root\n",
    "    \n",
    "preorder = [3,9,20,15,7]\n",
    "inorder = [9,3,15,20,7]\n",
    "Solution().buildTree(preorder,inorder)"
   ]
  },
  {
   "cell_type": "code",
   "execution_count": null,
   "metadata": {},
   "outputs": [],
   "source": [
    "# preorder = [3,9,20,15,7]\n",
    "# inorder = [9,3,15,20,7]\n",
    "# root: 3\n",
    "# lev1: 9, 20\n",
    "# lev2: null, null, 15, 7\n",
    "\n",
    "class Solution(object):\n",
    "    def buildTree(self, preorder, inorder):\n",
    "        if not preorder:\n",
    "            return None\n",
    "        node = TreeNode(preorder[0])\n",
    "        idx = inorder.index(preorder[0])\n",
    "        # idx also gives you the number of elements in the left subtree\n",
    "        \n",
    "        node.left = self.buildTree(preorder[1:idx+1], inorder[:idx])\n",
    "        node.right = self.buildTree(preorder[idx+1:], inorder[idx+1:])\n",
    "        return node   \n",
    "--------------------- \n",
    "作者：风轻扬逍遥子 \n",
    "来源：CSDN \n",
    "原文：https://blog.csdn.net/u014256231/article/details/84001133 \n",
    "版权声明：本文为博主原创文章，转载请附上博文链接！"
   ]
  },
  {
   "cell_type": "code",
   "execution_count": null,
   "metadata": {},
   "outputs": [],
   "source": [
    "# iterative method\n",
    "# much faster!\n",
    "class Solution:\n",
    "    def buildTree(self, preorder, inorder):\n",
    "        \"\"\"\n",
    "        :type preorder: List[int]\n",
    "        :type inorder: List[int]\n",
    "        :rtype: TreeNode\n",
    "        \"\"\"\n",
    "        idx = {} \n",
    "        for i, val in enumerate(inorder):\n",
    "            idx[val] = i \n",
    "        stack = []\n",
    "        head = None\n",
    "        for val in preorder:\n",
    "            if not head:\n",
    "                head = TreeNode(val)\n",
    "                stack.append(head)\n",
    "            else:\n",
    "                node = TreeNode(val)\n",
    "                if idx[val] < idx[stack[-1].val]: \n",
    "                    # L.Node of last node\n",
    "                    stack[-1].left = node\n",
    "                else:\n",
    "                    while stack and idx[stack[-1].val] < idx[val]:\n",
    "                        u = stack.pop()\n",
    "                    u.right = node\n",
    "                stack.append(node)\n",
    "        return head"
   ]
  }
 ],
 "metadata": {
  "kernelspec": {
   "display_name": "Python 3",
   "language": "python",
   "name": "python3"
  },
  "language_info": {
   "codemirror_mode": {
    "name": "ipython",
    "version": 3
   },
   "file_extension": ".py",
   "mimetype": "text/x-python",
   "name": "python",
   "nbconvert_exporter": "python",
   "pygments_lexer": "ipython3",
   "version": "3.7.3"
  }
 },
 "nbformat": 4,
 "nbformat_minor": 2
}
