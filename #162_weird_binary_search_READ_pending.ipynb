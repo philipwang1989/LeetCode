{
 "cells": [
  {
   "cell_type": "code",
   "execution_count": 10,
   "metadata": {},
   "outputs": [
    {
     "data": {
      "text/plain": [
       "1"
      ]
     },
     "execution_count": 10,
     "metadata": {},
     "output_type": "execute_result"
    }
   ],
   "source": [
    "# 162. Find Peak Element\n",
    "class Solution(object):\n",
    "    def findPeakElement(self, nums):\n",
    "        \"\"\"\n",
    "        :type nums: List[int]\n",
    "        :rtype: int\n",
    "        \"\"\"\n",
    "        if len(nums) < 2:\n",
    "            return 0\n",
    "        for i in range(0,len(nums)):\n",
    "            if i == 0 and nums[i] > -float('inf') and nums[i] > nums[i+1]:\n",
    "                return i\n",
    "            elif i == len(nums)-1 and nums[i] > nums[i-1] and nums[i] > -float('inf'):\n",
    "                return i\n",
    "            elif nums[i] > nums[i-1] and nums[i] > nums[i+1]:\n",
    "                return i\n",
    "        return 0\n",
    "        \n",
    "nums = [1,2]\n",
    "Solution().findPeakElement(nums)"
   ]
  },
  {
   "cell_type": "code",
   "execution_count": null,
   "metadata": {},
   "outputs": [],
   "source": [
    "# Binary search?\n",
    "Basic Idea: Binary search\n",
    "\n",
    "Elaboration: \n",
    " if an element(not the right-most one) is smaller than its right neighbor, then there must be a peak element on its right, because the elements on its right is either \n",
    "   1. always increasing  -> the right-most element is the peak\n",
    "   2. always decreasing  -> the left-most element is the peak\n",
    "   3. first increasing then decreasing -> the pivot point is the peak\n",
    "   4. first decreasing then increasing -> the left-most element is the peak  \n",
    "\n",
    "   Therefore, we can find the peak only on its right elements( cut the array to half)\n",
    "\n",
    "   The same idea applies to that an element(not the left-most one) is smaller than its left neighbor.\n",
    "\n",
    "\n",
    "\n",
    "Conditions:\n",
    "     1. array length is 1  -> return the only index \n",
    "     2. array length is 2  -> return the bigger number's index \n",
    "     3. array length is bigger than 2 -> \n",
    "           (1) find mid, compare it with its left and right neighbors  \n",
    "           (2) return mid if nums[mid] greater than both neighbors\n",
    "           (3) take the right half array if nums[mid] smaller than right neighbor\n",
    "           (4) otherwise, take the left half\n",
    "\n",
    "Run time: O(logn)\n",
    "Memory: constant\n",
    "Test cases: \n",
    "     [1]\n",
    "     [1,2]\n",
    "     [2,1]\n",
    "     [1,2,3]\n",
    "     [3,2,1]\n",
    "     [2,1,3]\n",
    "\n",
    "\n",
    "def findPeakElement(self, nums):\n",
    "    left = 0\n",
    "    right = len(nums)-1\n",
    "\n",
    "    # handle condition 3\n",
    "    while left < right-1:\n",
    "        mid = (left+right)/2\n",
    "        if nums[mid] > nums[mid+1] and nums[mid] > nums[mid-1]:\n",
    "            return mid\n",
    "            \n",
    "        if nums[mid] < nums[mid+1]:\n",
    "            left = mid+1\n",
    "        else:\n",
    "            right = mid-1\n",
    "            \n",
    "    #handle condition 1 and 2\n",
    "    return left if nums[left] >= nums[right] else right"
   ]
  },
  {
   "cell_type": "code",
   "execution_count": 6,
   "metadata": {},
   "outputs": [
    {
     "data": {
      "text/plain": [
       "False"
      ]
     },
     "execution_count": 6,
     "metadata": {},
     "output_type": "execute_result"
    }
   ],
   "source": [
    "5 < -float('inf')"
   ]
  },
  {
   "cell_type": "code",
   "execution_count": null,
   "metadata": {},
   "outputs": [],
   "source": []
  }
 ],
 "metadata": {
  "kernelspec": {
   "display_name": "Python 3",
   "language": "python",
   "name": "python3"
  },
  "language_info": {
   "codemirror_mode": {
    "name": "ipython",
    "version": 3
   },
   "file_extension": ".py",
   "mimetype": "text/x-python",
   "name": "python",
   "nbconvert_exporter": "python",
   "pygments_lexer": "ipython3",
   "version": "3.6.5"
  }
 },
 "nbformat": 4,
 "nbformat_minor": 2
}
