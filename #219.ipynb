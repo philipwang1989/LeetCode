{
 "cells": [
  {
   "cell_type": "code",
   "execution_count": 14,
   "metadata": {},
   "outputs": [
    {
     "name": "stdout",
     "output_type": "stream",
     "text": [
      "{}\n",
      "{1: [0]}\n",
      "{1: [0], 0: [1]}\n",
      "{1: [0, 2], 0: [1]}\n"
     ]
    },
    {
     "data": {
      "text/plain": [
       "True"
      ]
     },
     "execution_count": 14,
     "metadata": {},
     "output_type": "execute_result"
    }
   ],
   "source": [
    "# 219. Contains Duplicate II\n",
    "# Given an array of integers and an integer k,\n",
    "# find out whether there are two distinct indices \n",
    "# i and j in the array such that nums[i] = nums[j] \n",
    "# and the absolute difference between i and j is at most k.\n",
    "# Input: nums = [1,2,3,1], k = 3\n",
    "# Output: true\n",
    "# Input: nums = [1,0,1,1], k = 1\n",
    "# Output: true\n",
    "# Input: nums = [1,2,3,1,2,3], k = 2\n",
    "# Output: false\n",
    "class Solution:\n",
    "    def containsNearbyDuplicate(self, nums, k):\n",
    "        hashmap = {}\n",
    "        for i in range(len(nums)):\n",
    "            if nums[i] not in hashmap:\n",
    "                hashmap[nums[i]] = [i]\n",
    "            else:\n",
    "                for ind in hashmap[nums[i]]:\n",
    "                    if abs(ind - i) <= k:\n",
    "                        return True\n",
    "                hashmap[nums[i]].append(i)\n",
    "        \n",
    "        return False\n",
    "    \n",
    "nums = [1,0,1,1]\n",
    "k = 1\n",
    "Solution().containsNearbyDuplicate(nums, k)"
   ]
  },
  {
   "cell_type": "code",
   "execution_count": 15,
   "metadata": {},
   "outputs": [
    {
     "ename": "TypeError",
     "evalue": "unsupported operand type(s) for -: 'int' and 'list'",
     "output_type": "error",
     "traceback": [
      "\u001b[0;31m---------------------------------------------------------------------------\u001b[0m",
      "\u001b[0;31mTypeError\u001b[0m                                 Traceback (most recent call last)",
      "\u001b[0;32m<ipython-input-15-172ed1f40e73>\u001b[0m in \u001b[0;36m<module>\u001b[0;34m()\u001b[0m\n\u001b[1;32m      1\u001b[0m \u001b[0mhashmap\u001b[0m \u001b[0;34m=\u001b[0m \u001b[0;34m{\u001b[0m\u001b[0;36m1\u001b[0m\u001b[0;34m:\u001b[0m \u001b[0;34m[\u001b[0m\u001b[0;36m0\u001b[0m\u001b[0;34m,\u001b[0m \u001b[0;36m2\u001b[0m\u001b[0;34m]\u001b[0m\u001b[0;34m,\u001b[0m \u001b[0;36m0\u001b[0m\u001b[0;34m:\u001b[0m \u001b[0;34m[\u001b[0m\u001b[0;36m1\u001b[0m\u001b[0;34m]\u001b[0m\u001b[0;34m}\u001b[0m\u001b[0;34m\u001b[0m\u001b[0m\n\u001b[0;32m----> 2\u001b[0;31m \u001b[0mprint\u001b[0m\u001b[0;34m(\u001b[0m\u001b[0;36m5\u001b[0m \u001b[0;34m-\u001b[0m \u001b[0mhashmap\u001b[0m\u001b[0;34m[\u001b[0m\u001b[0;36m1\u001b[0m\u001b[0;34m]\u001b[0m\u001b[0;34m)\u001b[0m\u001b[0;34m\u001b[0m\u001b[0m\n\u001b[0m",
      "\u001b[0;31mTypeError\u001b[0m: unsupported operand type(s) for -: 'int' and 'list'"
     ]
    }
   ],
   "source": [
    "class Solution:\n",
    "    def containsNearbyDuplicate(self, nums, k):\n",
    "        hashmap = {}\n",
    "        for i in range(len(nums)):\n",
    "            if nums[i] in hashmap and i - hashmap[nums[i]] <= k:\n",
    "                return True\n",
    "            hashmap[nums[i]] = i\n",
    "        return False"
   ]
  },
  {
   "cell_type": "code",
   "execution_count": null,
   "metadata": {},
   "outputs": [],
   "source": []
  }
 ],
 "metadata": {
  "kernelspec": {
   "display_name": "Python 3",
   "language": "python",
   "name": "python3"
  },
  "language_info": {
   "codemirror_mode": {
    "name": "ipython",
    "version": 3
   },
   "file_extension": ".py",
   "mimetype": "text/x-python",
   "name": "python",
   "nbconvert_exporter": "python",
   "pygments_lexer": "ipython3",
   "version": "3.6.5"
  }
 },
 "nbformat": 4,
 "nbformat_minor": 2
}
