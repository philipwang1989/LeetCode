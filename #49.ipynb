{
 "cells": [
  {
   "cell_type": "code",
   "execution_count": null,
   "metadata": {},
   "outputs": [],
   "source": [
    "# 49. Group Anagrams\n",
    "# Input: [\"eat\", \"tea\", \"tan\", \"ate\", \"nat\", \"bat\"],\n",
    "# Output: [[\"ate\",\"eat\",\"tea\"],[\"nat\",\"tan\"],[\"bat\"]]\n",
    "\n",
    "class Solution:\n",
    "    def groupAnagrams(self, strs: List[str]) -> List[List[str]]:\n",
    "        ans = {}\n",
    "        for s in strs:\n",
    "            count = [0] * 26\n",
    "            for char in s:\n",
    "                count[ord(char) - ord('a')] += 1\n",
    "            if tuple(count) not in ans:\n",
    "                ans[tuple(count)] = [s]\n",
    "            else:\n",
    "                ans[tuple(count)] += [s]\n",
    "        return list(ans.values())"
   ]
  },
  {
   "cell_type": "code",
   "execution_count": 13,
   "metadata": {},
   "outputs": [
    {
     "name": "stdout",
     "output_type": "stream",
     "text": [
      "[['abd', 'abc']]\n"
     ]
    }
   ],
   "source": [
    "# need to learn tuple!\n",
    "d = {}\n",
    "\n",
    "if tuple([4,5,6,7]) not in d:\n",
    "    d[tuple([4,5,6,7])] = ['abd']\n",
    "\n",
    "d[tuple([4,5,6,7])] += ['abc']\n",
    "print(list(d.values()))"
   ]
  },
  {
   "cell_type": "code",
   "execution_count": null,
   "metadata": {},
   "outputs": [],
   "source": []
  }
 ],
 "metadata": {
  "kernelspec": {
   "display_name": "Python 3",
   "language": "python",
   "name": "python3"
  },
  "language_info": {
   "codemirror_mode": {
    "name": "ipython",
    "version": 3
   },
   "file_extension": ".py",
   "mimetype": "text/x-python",
   "name": "python",
   "nbconvert_exporter": "python",
   "pygments_lexer": "ipython3",
   "version": "3.6.5"
  }
 },
 "nbformat": 4,
 "nbformat_minor": 2
}
