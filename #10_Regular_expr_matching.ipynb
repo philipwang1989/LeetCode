{
 "cells": [
  {
   "cell_type": "code",
   "execution_count": null,
   "metadata": {},
   "outputs": [],
   "source": [
    "# 10. Regular Expression Matching\n",
    "# DP solution, top-down\n",
    "class Solution(object):\n",
    "    def isMatch(self, text, pattern):\n",
    "        memo = {}\n",
    "        def dp(i, j):\n",
    "            if (i, j) not in memo:\n",
    "                if j == len(pattern):\n",
    "                    ans = i == len(text)\n",
    "                else:\n",
    "                    first_match = i < len(text) and pattern[j] in {text[i], '.'}\n",
    "                    if j+1 < len(pattern) and pattern[j+1] == '*':\n",
    "                        ans = dp(i, j+2) or first_match and dp(i+1, j)\n",
    "                    else:\n",
    "                        ans = first_match and dp(i+1, j+1)\n",
    "\n",
    "                memo[i, j] = ans\n",
    "            return memo[i, j]\n",
    "\n",
    "        return dp(0, 0)"
   ]
  },
  {
   "cell_type": "code",
   "execution_count": null,
   "metadata": {},
   "outputs": [],
   "source": [
    "# 10. Regular Expression Matching\n",
    "# DP solution, bottom-up\n",
    "class Solution(object):\n",
    "    def isMatch(self, text, pattern):\n",
    "        dp = [[False] * (len(pattern) + 1) for _ in range(len(text) + 1)]\n",
    "\n",
    "        dp[-1][-1] = True\n",
    "        for i in range(len(text), -1, -1):\n",
    "            for j in range(len(pattern) - 1, -1, -1):\n",
    "                first_match = i < len(text) and pattern[j] in {text[i], '.'}\n",
    "                if j+1 < len(pattern) and pattern[j+1] == '*':\n",
    "                    dp[i][j] = dp[i][j+2] or first_match and dp[i+1][j]\n",
    "                else:\n",
    "                    dp[i][j] = first_match and dp[i+1][j+1]\n",
    "\n",
    "        return dp[0][0]"
   ]
  },
  {
   "cell_type": "code",
   "execution_count": 6,
   "metadata": {},
   "outputs": [
    {
     "data": {
      "text/plain": [
       "True"
      ]
     },
     "execution_count": 6,
     "metadata": {},
     "output_type": "execute_result"
    }
   ],
   "source": [
    "# recursion\n",
    "class Solution:\n",
    "    def isMatch(self, s: str, p: str) -> bool:\n",
    "        if not p:\n",
    "            return not s\n",
    "        \n",
    "        first = bool(s) and p[0] in {s[0], '.'}\n",
    "        \n",
    "        if len(p) >= 2 and p[1] == '*':\n",
    "            # two scenarios:\n",
    "            # 1. ignore everything before and included\n",
    "            # '*' and check everything else\n",
    "            # case1 = self.isMatch(s, p[2:])\n",
    "            # 2. first char. matched, proceed to next\n",
    "            # char. in s since 'char*' means 0 or \n",
    "            # duplicates of 'char' and '.*' means 0\n",
    "            # or everything/anything\n",
    "            # case2 = self.isMatch(s[1:], p)\n",
    "            return self.isMatch(s, p[2:]) or (first and self.isMatch(s[1:], p))\n",
    "        else:\n",
    "            return first and self.isMatch(s[1:], p[1:])\n",
    "\n",
    "s = \"aa\"\n",
    "p = \"a*\"\n",
    "        \n",
    "Solution().isMatch(s, p)"
   ]
  },
  {
   "cell_type": "code",
   "execution_count": null,
   "metadata": {},
   "outputs": [],
   "source": []
  }
 ],
 "metadata": {
  "kernelspec": {
   "display_name": "Python 3",
   "language": "python",
   "name": "python3"
  },
  "language_info": {
   "codemirror_mode": {
    "name": "ipython",
    "version": 3
   },
   "file_extension": ".py",
   "mimetype": "text/x-python",
   "name": "python",
   "nbconvert_exporter": "python",
   "pygments_lexer": "ipython3",
   "version": "3.7.3"
  }
 },
 "nbformat": 4,
 "nbformat_minor": 2
}
