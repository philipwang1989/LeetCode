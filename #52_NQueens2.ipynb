{
 "cells": [
  {
   "cell_type": "code",
   "execution_count": 11,
   "metadata": {},
   "outputs": [
    {
     "data": {
      "text/plain": [
       "2"
      ]
     },
     "execution_count": 11,
     "metadata": {},
     "output_type": "execute_result"
    }
   ],
   "source": [
    "class Solution(object):\n",
    "    def __init__(self):\n",
    "        self.result = 0\n",
    "    def solveNQueens(self, n):\n",
    "        \"\"\"\n",
    "        :type n: int\n",
    "        :rtype: List[List[str]]\n",
    "        \"\"\"\n",
    "        if n <= 0:\n",
    "            return self.result\n",
    "\n",
    "        cols = []\n",
    "        self.search(n, cols);\n",
    "        return self.result\n",
    "        \n",
    "    def search(self, n, cols):\n",
    "        if len(cols) == n:\n",
    "            self.result += 1\n",
    "            return \n",
    "\n",
    "        for col in range(n):\n",
    "            if not self.isValid(cols, col):\n",
    "                continue\n",
    "            self.search(n, cols + [col])\n",
    "            \n",
    "    def isValid(self, cols, col):\n",
    "        currentRowNumber = len(cols)\n",
    "        for i in range(currentRowNumber):\n",
    "            # same column\n",
    "            if cols[i] == col:\n",
    "                return False\n",
    "            # left-top to right-bottom\n",
    "            if col == currentRowNumber - i + cols[i]:\n",
    "                return False\n",
    "            # right-top to left-bottom\n",
    "            if col == -(currentRowNumber - i) + cols[i]:\n",
    "                return False\n",
    "        return True\n",
    "        \n",
    "    def drawBoard(self, cols):\n",
    "        board = []\n",
    "        for i in range(len(cols)):\n",
    "            line = \"\"\n",
    "            for j in range(len(cols)):\n",
    "                if j == cols[i]:\n",
    "                    line += \"Q\"\n",
    "                else:\n",
    "                    line += \".\"\n",
    "            board.append(line)\n",
    "        return board\n",
    "Solution().solveNQueens(4)"
   ]
  },
  {
   "cell_type": "code",
   "execution_count": 51,
   "metadata": {},
   "outputs": [
    {
     "data": {
      "text/plain": [
       "[['.Q..', '...Q', 'Q...', '..Q.'], ['..Q.', 'Q...', '...Q', '.Q..']]"
      ]
     },
     "execution_count": 51,
     "metadata": {},
     "output_type": "execute_result"
    }
   ],
   "source": [
    "class Solution:\n",
    "    def solveNQueens(self, n: int) -> int:\n",
    "        result = []\n",
    "        if n <= 0:\n",
    "            return result\n",
    "        \n",
    "        queen_pos = []\n",
    "        self.search(n, queen_pos, result)\n",
    "        return result\n",
    "    def search(self, n, queen_pos, result):\n",
    "        if len(queen_pos) == n:\n",
    "            result.append(self.drawBoard(n, queen_pos))\n",
    "            return \n",
    "        # move in col of each row\n",
    "        # where row is recorded by len(queen_pos)\n",
    "        for col in range(n):\n",
    "            # if current position is valid\n",
    "            # move to next row\n",
    "            if self.isValid(queen_pos, col):\n",
    "                self.search(n, queen_pos + [col], result)\n",
    "        # do nothing if reached here\n",
    "    def isValid(self, queen_pos, col):\n",
    "        currentRow = len(queen_pos)\n",
    "        for i in range(currentRow):\n",
    "            if col == queen_pos[i]:\n",
    "                return False\n",
    "            if col - queen_pos[i] == currentRow - i:\n",
    "                return False\n",
    "            if col - queen_pos[i] == -(currentRow - i):\n",
    "                return False\n",
    "        return True\n",
    "    def drawBoard(self, n, queen_pos):\n",
    "        board = []\n",
    "        for i in range(len(queen_pos)):\n",
    "            temp = ''\n",
    "            for j in range(n):\n",
    "                if queen_pos[i] == j:\n",
    "                    temp += 'Q'\n",
    "                else:\n",
    "                    temp += '.'\n",
    "            board.append(temp)\n",
    "        return board\n",
    "Solution().totalNQueens(4)"
   ]
  },
  {
   "cell_type": "code",
   "execution_count": 47,
   "metadata": {},
   "outputs": [
    {
     "name": "stdout",
     "output_type": "stream",
     "text": [
      "['..Q.']\n"
     ]
    }
   ],
   "source": [
    "n = 4\n",
    "queen_pos = [2]\n",
    "i = 0\n",
    "# ''.join('.' * (n - queen_pos[i]),'Q',)\n",
    "temp = ['.' * (n - queen_pos[i]) + 'Q' + '.' * (n - queen_pos[i] - 1)]\n",
    "print(temp)"
   ]
  },
  {
   "cell_type": "code",
   "execution_count": 38,
   "metadata": {},
   "outputs": [
    {
     "name": "stdout",
     "output_type": "stream",
     "text": [
      "[5]\n",
      "[]\n",
      "None\n",
      "[5]\n"
     ]
    }
   ],
   "source": [
    "a = []\n",
    "b = 5\n",
    "print(a + [b])\n",
    "print(a)\n",
    "print(a.extend([b]))\n",
    "print(a)\n",
    "# print(a.extend([b]))\n",
    "# print(a)"
   ]
  },
  {
   "cell_type": "code",
   "execution_count": 9,
   "metadata": {},
   "outputs": [
    {
     "name": "stdout",
     "output_type": "stream",
     "text": [
      "['..........', '..........', '..........', '..........', '..........', '..........', '..........', '..........', '..........', '..........']\n"
     ]
    }
   ],
   "source": [
    "board = ['.' * 10 for _ in range(10) ]\n",
    "# board[0][2] = 'Q'\n",
    "print(board)"
   ]
  },
  {
   "cell_type": "code",
   "execution_count": null,
   "metadata": {},
   "outputs": [],
   "source": [
    "class Solution(object):\n",
    "    def solveNQueens(self, n):\n",
    "        def DFS(queens, xy_dif, xy_sum):\n",
    "            p = len(queens)\n",
    "            if p==n:\n",
    "                result.append(queens)\n",
    "                return None\n",
    "            for q in range(n):\n",
    "                if q not in queens and p-q not in xy_dif and p+q not in xy_sum: \n",
    "                    DFS(queens+[q], xy_dif+[p-q], xy_sum+[p+q])  \n",
    "        result = []\n",
    "        DFS([],[],[])\n",
    "        return [ [\".\"*i + \"Q\" + \".\"*(n-i-1) for i in sol] for sol in result]"
   ]
  }
 ],
 "metadata": {
  "kernelspec": {
   "display_name": "Python 3",
   "language": "python",
   "name": "python3"
  },
  "language_info": {
   "codemirror_mode": {
    "name": "ipython",
    "version": 3
   },
   "file_extension": ".py",
   "mimetype": "text/x-python",
   "name": "python",
   "nbconvert_exporter": "python",
   "pygments_lexer": "ipython3",
   "version": "3.6.5"
  }
 },
 "nbformat": 4,
 "nbformat_minor": 2
}
