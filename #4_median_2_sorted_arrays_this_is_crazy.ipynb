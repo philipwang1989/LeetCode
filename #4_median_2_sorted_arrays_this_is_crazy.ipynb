{
 "cells": [
  {
   "cell_type": "code",
   "execution_count": 13,
   "metadata": {},
   "outputs": [
    {
     "data": {
      "text/plain": [
       "2"
      ]
     },
     "execution_count": 13,
     "metadata": {},
     "output_type": "execute_result"
    }
   ],
   "source": [
    "# 4. Median of Two Sorted Arrays\n",
    "# start with the brute force solution, \n",
    "# since sorted is used, it will be nlgn\n",
    "class Solution(object):\n",
    "    def findMedianSortedArrays(self, nums1, nums2):\n",
    "        \"\"\"\n",
    "        :type nums1: List[int]\n",
    "        :type nums2: List[int]\n",
    "        :rtype: float\n",
    "        \"\"\"\n",
    "        nums = sorted(nums1 + nums2)\n",
    "        l = len(nums)\n",
    "        if l%2 == 0: # even\n",
    "            return (nums[l//2-1]+nums[l//2])/2\n",
    "        else: # odd\n",
    "            return nums[l//2]\n",
    "#         return nums\n",
    "\n",
    "nums1 = [1,2,3]\n",
    "nums2 = [4,5,6]\n",
    "Solution().findMedianSortedArrays(nums1, nums2)"
   ]
  },
  {
   "cell_type": "code",
   "execution_count": 4,
   "metadata": {},
   "outputs": [],
   "source": [
    "class Solution(object):\n",
    "    def findMedianSortedArrays(self, nums1, nums2):\n",
    "        \"\"\"\n",
    "        :type nums1: List[int]\n",
    "        :type nums2: List[int]\n",
    "        :rtype: float\n",
    "        \"\"\"\n",
    "        l = len(A) + len(B)\n",
    "        if l % 2 == 1:\n",
    "            return self.findkth(A, B, l // 2)\n",
    "        else:\n",
    "            return (self.findkth(A, B, l // 2) + self.findkth(A, B, l // 2 - 1)) / 2.\n",
    "    def findkth(self, a, b, k):\n",
    "        if not a:\n",
    "            return b[k]\n",
    "        if not b:\n",
    "            return a[k]\n",
    "        ia = len(a) // 2\n",
    "        ib = len(b) // 2\n",
    "        ma = a[ia]\n",
    "        mb = b[ib]\n",
    "        if (ia + ib) < k: # not enough elements in left\n",
    "            # discard smaller elements in the left\n",
    "            # to include more right\n",
    "            if ma > mb: \n",
    "                return self.findkth(a, b[:ib+1], k-ib-1)\n",
    "            else:\n",
    "                return self.findkth(a[:ia+1], b, k-ia-1)\n",
    "        else: # too much elements in right\n",
    "            # discard larger elements in the right\n",
    "            # to include more left\n",
    "            if ma > mb:\n",
    "                return self.findkth(a[:ia], b, k)\n",
    "            else:\n",
    "                return self.findkth(a, b[:ib], k)"
   ]
  },
  {
   "cell_type": "code",
   "execution_count": 3,
   "metadata": {},
   "outputs": [
    {
     "data": {
      "text/plain": [
       "3.5"
      ]
     },
     "execution_count": 3,
     "metadata": {},
     "output_type": "execute_result"
    }
   ],
   "source": [
    "# 4. Median of Two Sorted Arrays\n",
    "# now with the crazy binary search\n",
    "class Solution(object):\n",
    "    def findMedianSortedArrays(self, A, B):\n",
    "        l = len(A) + len(B)\n",
    "        if l % 2 == 1:\n",
    "            return self.kth(A, B, l // 2)\n",
    "        else:\n",
    "            return (self.kth(A, B, l // 2) + self.kth(A, B, l // 2 - 1)) / 2.   \n",
    "\n",
    "    def kth(self, a, b, k):\n",
    "        if not a:\n",
    "            return b[k]\n",
    "        if not b:\n",
    "            return a[k]\n",
    "        ia, ib = len(a) // 2 , len(b) // 2\n",
    "        ma, mb = a[ia], b[ib]\n",
    "        # the key is first split A and B in half, look for\n",
    "        # where the median(s) will be seating.\n",
    "        # When k is bigger than the sum of a and b's median indices,\n",
    "        # then we know the median we are looking for is in the right\n",
    "        # branch of the A and/or B.\n",
    "        # If median of A > median of B: we know for sure that the median\n",
    "        # we are looking for is not in the left branch of B and we \n",
    "        # can discard it.\n",
    "        if ia + ib < k:\n",
    "            # if a's median is bigger than b's, b's first half doesn't include k\n",
    "            if ma > mb:\n",
    "                return self.kth(a, b[ib + 1:], k - ib - 1)\n",
    "            else:\n",
    "                return self.kth(a[ia + 1:], b, k - ia - 1)\n",
    "        # when k is smaller than or equal to the sum of a and b's indices,\n",
    "        # then we know the median we are looking for is in the left\n",
    "        # branch of A and/or B.\n",
    "        # If median of A > median of B: we know for sure that the median\n",
    "        # we are looking for is not in the right branch of A and we \n",
    "        # can discard it.\n",
    "        else:\n",
    "            # if a's median is bigger than b's, a's second half doesn't include k\n",
    "            if ma > mb:\n",
    "                return self.kth(a[:ia], b, k)\n",
    "            else:\n",
    "                return self.kth(a, b[:ib], k)\n",
    "nums1 = [1,2,3]\n",
    "nums2 = [4,5,6]\n",
    "Solution().findMedianSortedArrays(nums1, nums2)        "
   ]
  },
  {
   "cell_type": "code",
   "execution_count": 20,
   "metadata": {},
   "outputs": [
    {
     "data": {
      "text/plain": [
       "2"
      ]
     },
     "execution_count": 20,
     "metadata": {},
     "output_type": "execute_result"
    }
   ],
   "source": [
    "class Solution:\n",
    "# @param {integer[]} nums1\n",
    "# @param {integer[]} nums2\n",
    "    # @return {float}\n",
    "    def find(self, nums1, s1, e1, nums2, s2, e2, k):\n",
    "        if e1 - s1 < 0:\n",
    "            return nums2[k + s2]\n",
    "        if e2 - s2 < 0:\n",
    "            return nums1[k + s1]\n",
    "        if k < 1:\n",
    "            return min(nums1[k + s1], nums2[k + s2])\n",
    "        ia, ib = (s1 + e1) // 2 , (s2 + e2) // 2\n",
    "        ma, mb = nums1[ia], nums2[ib]\n",
    "        if (ia - s1) + (ib - s2) < k:\n",
    "            if ma > mb:\n",
    "                return self.find(nums1, s1, e1, nums2, ib + 1, e2, k - (ib - s2) - 1)\n",
    "            else:\n",
    "                return self.find(nums1, ia + 1, e1, nums2, s2, e2, k - (ia - s1) - 1)\n",
    "        else:\n",
    "            if ma > mb:\n",
    "                return self.find(nums1, s1, ia - 1, nums2, s2, e2, k)\n",
    "            else:\n",
    "                return self.find(nums1, s1, e1, nums2, s2, ib - 1, k)\n",
    "\n",
    "    def findMedianSortedArrays(self, nums1, nums2):\n",
    "        l = len(nums1) + len(nums2)\n",
    "        if l % 2 == 1:\n",
    "            return self.find(nums1, 0, len(nums1) - 1, nums2, 0, len(nums2) - 1, l // 2)\n",
    "        else:\n",
    "            return (self.find(nums1, 0, len(nums1) - 1, nums2, 0, len(nums2) - 1, l // 2) + self.find(nums1, 0, len(nums1) - 1, nums2, 0, len(nums2) - 1, l // 2 - 1)) / 2.0\n",
    "        \n",
    "nums1 = [1,2,3]\n",
    "nums2 = []\n",
    "Solution().findMedianSortedArrays(nums1, nums2)          "
   ]
  },
  {
   "cell_type": "code",
   "execution_count": null,
   "metadata": {},
   "outputs": [],
   "source": []
  }
 ],
 "metadata": {
  "kernelspec": {
   "display_name": "Python 3",
   "language": "python",
   "name": "python3"
  },
  "language_info": {
   "codemirror_mode": {
    "name": "ipython",
    "version": 3
   },
   "file_extension": ".py",
   "mimetype": "text/x-python",
   "name": "python",
   "nbconvert_exporter": "python",
   "pygments_lexer": "ipython3",
   "version": "3.7.3"
  }
 },
 "nbformat": 4,
 "nbformat_minor": 2
}
