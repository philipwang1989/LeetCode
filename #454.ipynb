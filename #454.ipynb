{
 "cells": [
  {
   "cell_type": "code",
   "execution_count": 1,
   "metadata": {},
   "outputs": [
    {
     "data": {
      "text/plain": [
       "2"
      ]
     },
     "execution_count": 1,
     "metadata": {},
     "output_type": "execute_result"
    }
   ],
   "source": [
    "# 454. 4Sum II\n",
    "# count (i, j, k, l) there are such that \n",
    "# A[i] + B[j] + C[k] + D[l] = 0\n",
    "# 1. (0, 0, 0, 1) -> A[0] + B[0] + C[0] + D[1] \n",
    "# = 1 + (-2) + (-1) + 2 = 0\n",
    "# 2. (1, 1, 0, 0) -> A[1] + B[1] + C[0] + D[0]\n",
    "# = 2 + (-1) + (-1) + 0 = 0\n",
    "class Solution:\n",
    "    def fourSumCount(self, A, B, C, D):\n",
    "        d = {}\n",
    "        count = 0\n",
    "        for i in range(len(A)):\n",
    "            for j in range(len(B)):\n",
    "                if A[i] + B[j] not in d:\n",
    "                    d[A[i] + B[j]] = 1\n",
    "                else:\n",
    "                    d[A[i] + B[j]] += 1\n",
    "        for i in range(len(C)):\n",
    "            for j in range(len(D)):\n",
    "                if -(C[i] + D[j]) in d:\n",
    "                    count += d[-(C[i] + D[j])]\n",
    "        return count\n",
    "\n",
    "A = [ 1, 2]\n",
    "B = [-2,-1]\n",
    "C = [-1, 2]\n",
    "D = [ 0, 2]\n",
    "Solution().fourSumCount(A, B, C, D)"
   ]
  },
  {
   "cell_type": "code",
   "execution_count": 2,
   "metadata": {},
   "outputs": [
    {
     "name": "stdout",
     "output_type": "stream",
     "text": [
      "2\n"
     ]
    }
   ],
   "source": [
    "# 454. 4Sum II\n",
    "# sum goes to 0\n",
    "# returns integer - count of the satisfying tuples\n",
    "class Solution:\n",
    "    def fourSumCount(self, A, B, C, D):\n",
    "        d = {}\n",
    "        count = 0\n",
    "        for i in range(len(A)):\n",
    "            for j in range(len(B)):\n",
    "                if (A[i] + B[j]) not in d:\n",
    "                    d[A[i] + B[j]] = 1\n",
    "                else:\n",
    "                    d[A[i] + B[j]] += 1\n",
    "                \n",
    "        for i in range(len(C)):\n",
    "            for j in range(len(D)):\n",
    "                target = -(C[i] + D[j])\n",
    "                if target in d:\n",
    "                    count += d[target]\n",
    "        return count\n",
    "\n",
    "    \n",
    "A = [ 1, 2]\n",
    "B = [-2,-1]\n",
    "C = [-1, 2]\n",
    "D = [ 0, 2]\n",
    "s = Solution()\n",
    "print(s.fourSumCount(A,B,C,D))"
   ]
  }
 ],
 "metadata": {
  "kernelspec": {
   "display_name": "Python 3",
   "language": "python",
   "name": "python3"
  },
  "language_info": {
   "codemirror_mode": {
    "name": "ipython",
    "version": 3
   },
   "file_extension": ".py",
   "mimetype": "text/x-python",
   "name": "python",
   "nbconvert_exporter": "python",
   "pygments_lexer": "ipython3",
   "version": "3.7.3"
  }
 },
 "nbformat": 4,
 "nbformat_minor": 2
}
