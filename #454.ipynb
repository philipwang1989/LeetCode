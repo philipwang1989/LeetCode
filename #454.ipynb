{
 "cells": [
  {
   "cell_type": "code",
   "execution_count": 2,
   "metadata": {},
   "outputs": [
    {
     "name": "stdout",
     "output_type": "stream",
     "text": [
      "2\n"
     ]
    }
   ],
   "source": [
    "# 454. 4Sum II\n",
    "# sum goes to 0\n",
    "# returns integer - count of the satisfying tuples\n",
    "class Solution:\n",
    "    def fourSumCount(self, A, B, C, D):\n",
    "        d = {}\n",
    "        count = 0\n",
    "        for i in range(len(A)):\n",
    "            for j in range(len(B)):\n",
    "                if (A[i] + B[j]) not in d:\n",
    "                    d[A[i] + B[j]] = 1\n",
    "                else:\n",
    "                    d[A[i] + B[j]] += 1\n",
    "                \n",
    "        for i in range(len(C)):\n",
    "            for j in range(len(D)):\n",
    "                target = -(C[i] + D[j])\n",
    "                if target in d:\n",
    "                    count += d[target]\n",
    "        return count\n",
    "\n",
    "    \n",
    "A = [ 1, 2]\n",
    "B = [-2,-1]\n",
    "C = [-1, 2]\n",
    "D = [ 0, 2]\n",
    "s = Solution()\n",
    "print(s.fourSumCount(A,B,C,D))"
   ]
  },
  {
   "cell_type": "code",
   "execution_count": null,
   "metadata": {},
   "outputs": [],
   "source": []
  }
 ],
 "metadata": {
  "kernelspec": {
   "display_name": "Python 3",
   "language": "python",
   "name": "python3"
  },
  "language_info": {
   "codemirror_mode": {
    "name": "ipython",
    "version": 3
   },
   "file_extension": ".py",
   "mimetype": "text/x-python",
   "name": "python",
   "nbconvert_exporter": "python",
   "pygments_lexer": "ipython3",
   "version": "3.6.5"
  }
 },
 "nbformat": 4,
 "nbformat_minor": 2
}
