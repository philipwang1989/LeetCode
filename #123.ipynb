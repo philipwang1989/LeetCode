{
 "cells": [
  {
   "cell_type": "code",
   "execution_count": 7,
   "metadata": {},
   "outputs": [
    {
     "data": {
      "text/plain": [
       "6"
      ]
     },
     "execution_count": 7,
     "metadata": {},
     "output_type": "execute_result"
    }
   ],
   "source": [
    "# 123. Best Time to Buy and Sell Stock III\n",
    "# Input: [3,3,5,0,0,3,1,4]\n",
    "# Output: 6\n",
    "# Explanation: Buy on day 4 (price = 0) and sell on day 6 \n",
    "# (price = 3), profit = 3-0 = 3.\n",
    "# Then buy on day 7 (price = 1) and sell on day 8 (price = 4),\n",
    "# profit = 4-1 = 3.\n",
    "\n",
    "# can be extended to most k transactions\n",
    "\n",
    "class Solution:\n",
    "    def maxProfit(self, prices):\n",
    "        b1 = float('inf')\n",
    "        b2 = float('inf')\n",
    "        profit1 = 0\n",
    "        profit2 = 0\n",
    "        for price in prices:\n",
    "            b1 = min(b1, price)\n",
    "            profit1 = max(profit1, price - b1)\n",
    "            b2 = min(b2, price - profit1)\n",
    "            profit2 = max(profit2, price - b2)\n",
    "            \n",
    "        return profit2\n",
    "prices = [3,3,5,0,0,3,1,4]\n",
    "Solution().maxProfit(prices)"
   ]
  },
  {
   "cell_type": "code",
   "execution_count": null,
   "metadata": {},
   "outputs": [],
   "source": []
  }
 ],
 "metadata": {
  "kernelspec": {
   "display_name": "Python 3",
   "language": "python",
   "name": "python3"
  },
  "language_info": {
   "codemirror_mode": {
    "name": "ipython",
    "version": 3
   },
   "file_extension": ".py",
   "mimetype": "text/x-python",
   "name": "python",
   "nbconvert_exporter": "python",
   "pygments_lexer": "ipython3",
   "version": "3.7.3"
  }
 },
 "nbformat": 4,
 "nbformat_minor": 2
}
