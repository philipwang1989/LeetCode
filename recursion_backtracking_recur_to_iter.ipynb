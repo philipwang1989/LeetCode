{
 "cells": [
  {
   "cell_type": "code",
   "execution_count": null,
   "metadata": {},
   "outputs": [],
   "source": [
    "# example: N-queens\n",
    "def backtrack_nqueen(row = 0, count = 0):\n",
    "    for col in range(n):\n",
    "        # iterate through columns at the curent row.\n",
    "        if is_not_under_attack(row, col):\n",
    "            # explore this partial candidate solution, and mark the attacking zone\n",
    "            place_queen(row, col)\n",
    "            if row + 1 == n:\n",
    "                # we reach the bottom, i.e. we find a solution!\n",
    "                count += 1\n",
    "            else:\n",
    "                # we move on to the next row\n",
    "                count = backtrack(row + 1, count)\n",
    "            # backtrack, i.e. remove the queen and remove the attacking zone.\n",
    "            remove_queen(row, col)\n",
    "    return count"
   ]
  },
  {
   "cell_type": "code",
   "execution_count": null,
   "metadata": {},
   "outputs": [],
   "source": [
    "def backtrack(candidate):\n",
    "    if find_solution(candidate):\n",
    "        output(candidate)\n",
    "        return\n",
    "    \n",
    "    # iterate all possible candidates.\n",
    "    for next_candidate in list_of_candidates:\n",
    "        if is_valid(next_candidate):\n",
    "            # try this partial candidate solution\n",
    "            place(next_candidate)\n",
    "            # given the candidate, explore further.\n",
    "            backtrack(next_candidate)\n",
    "            # backtrack\n",
    "            remove(next_candidate)"
   ]
  }
 ],
 "metadata": {
  "kernelspec": {
   "display_name": "Python 3",
   "language": "python",
   "name": "python3"
  },
  "language_info": {
   "codemirror_mode": {
    "name": "ipython",
    "version": 3
   },
   "file_extension": ".py",
   "mimetype": "text/x-python",
   "name": "python",
   "nbconvert_exporter": "python",
   "pygments_lexer": "ipython3",
   "version": "3.6.5"
  }
 },
 "nbformat": 4,
 "nbformat_minor": 2
}
