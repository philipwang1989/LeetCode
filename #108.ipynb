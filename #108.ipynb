{
 "cells": [
  {
   "cell_type": "code",
   "execution_count": null,
   "metadata": {},
   "outputs": [],
   "source": [
    "# 108. Convert Sorted Array to Binary Search Tree\n",
    "# Given: [-10,-3,0,5,9]\n",
    "# Return: [0,-3,9,-10,null,5]\n",
    "# class TreeNode:\n",
    "#     def __init__(self, x):\n",
    "#         self.val = x\n",
    "#         self.left = None\n",
    "#         self.right = None\n",
    "# recursion 1:\n",
    "# notice that Python slicing takes O(n), \n",
    "# therefore the time complexity is O(nlogn) and space complexity is O(n)\n",
    "# 68 ms\n",
    "class Solution:\n",
    "    def sortedArrayToBST(self, nums: List[int]) -> TreeNode:\n",
    "        if len(nums) == 0:\n",
    "            return None\n",
    "        mid = len(nums) // 2\n",
    "        root = TreeNode(nums[mid])\n",
    "        root.left = self.sortedArrayToBST(nums[:mid])\n",
    "        root.right = self.sortedArrayToBST(nums[mid+1:])\n",
    "        return root"
   ]
  },
  {
   "cell_type": "code",
   "execution_count": null,
   "metadata": {},
   "outputs": [],
   "source": [
    "# recursion 2:?\n",
    "# not necessary faster: 72 ms\n",
    "class Solution:\n",
    "    def sortedArrayToBST(self, nums: List[int]) -> TreeNode:\n",
    "        if len(nums) == 0:\n",
    "            return None\n",
    "        root = self.helper(nums, 0, len(nums))\n",
    "        return root\n",
    "    def helper(self, nums, begin, end):\n",
    "        if begin == end:\n",
    "            return None\n",
    "        mid = (begin + end) // 2\n",
    "        root = TreeNode(nums[mid])\n",
    "        root.left = self.helper(nums,begin,mid)\n",
    "        root.right = self.helper(nums,mid+1,end)\n",
    "        return root"
   ]
  },
  {
   "cell_type": "code",
   "execution_count": null,
   "metadata": {},
   "outputs": [],
   "source": [
    "# recursion 3: \n",
    "# passing the index only:\n",
    "# get bad result, not sure why?\n",
    "class Solution:\n",
    "    def sortedArrayToBST(self, nums: List[int]) -> TreeNode:\n",
    "        if len(nums) == 0:\n",
    "            return None\n",
    "        def helper(begin, end):\n",
    "            if begin > end:\n",
    "                return None\n",
    "            mid = (begin + end) // 2\n",
    "            root = TreeNode(nums[mid])\n",
    "            root.left = helper(begin, mid-1)\n",
    "            root.right = helper(mid+1, end)\n",
    "            return root\n",
    "        return helper(0, len(nums)-1)\n",
    "        "
   ]
  }
 ],
 "metadata": {
  "kernelspec": {
   "display_name": "Python 3",
   "language": "python",
   "name": "python3"
  },
  "language_info": {
   "codemirror_mode": {
    "name": "ipython",
    "version": 3
   },
   "file_extension": ".py",
   "mimetype": "text/x-python",
   "name": "python",
   "nbconvert_exporter": "python",
   "pygments_lexer": "ipython3",
   "version": "3.6.5"
  }
 },
 "nbformat": 4,
 "nbformat_minor": 2
}
