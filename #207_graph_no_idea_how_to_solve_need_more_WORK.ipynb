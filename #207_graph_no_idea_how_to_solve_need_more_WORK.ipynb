{
 "cells": [
  {
   "cell_type": "code",
   "execution_count": null,
   "metadata": {},
   "outputs": [],
   "source": [
    "# 207. Course Schedule\n",
    "class Solution(object):\n",
    "    def canFinish(self, numCourses, prerequisites):\n",
    "        \"\"\"\n",
    "        :type numCourses: int\n",
    "        :type prerequisites: List[List[int]]\n",
    "        :rtype: bool\n",
    "        \"\"\"\n",
    "        graph = [[] for _ in range(numCourses)]\n",
    "        visited = [0 for _ in range(numCourses)]\n",
    "        # create graph\n",
    "        for pair in prerequisites:\n",
    "            x, y = pair\n",
    "            graph[x].append(y)\n",
    "        # visit each node\n",
    "        for i in range(numCourses):\n",
    "            if not self.dfs(graph, visited, i):\n",
    "                return False\n",
    "        return True\n",
    "    \n",
    "    def dfs(self, graph, visited, i):\n",
    "        # if ith node is marked as being visited, then a cycle is found\n",
    "        if visited[i] == -1:\n",
    "            return False\n",
    "        # if it is done visted, then do not visit again\n",
    "        if visited[i] == 1:\n",
    "            return True\n",
    "        # mark as being visited\n",
    "        visited[i] = -1\n",
    "        # visit all the neighbours\n",
    "        for j in graph[i]:\n",
    "            if not self.dfs(graph, visited, j):\n",
    "                return False\n",
    "        # after visit all the neighbours, mark it as done visited\n",
    "        visited[i] = 1\n",
    "        return True\n",
    "        \n",
    "numCourses = 2\n",
    "prerequisites = [[1,0],[0,1]]"
   ]
  },
  {
   "cell_type": "code",
   "execution_count": 44,
   "metadata": {},
   "outputs": [
    {
     "name": "stdout",
     "output_type": "stream",
     "text": [
      "[[], [], [], [], []]\n"
     ]
    }
   ],
   "source": [
    "numCourses = 5\n",
    "graph = [[] for _ in range(numCourses)]\n",
    "print(graph)"
   ]
  },
  {
   "cell_type": "code",
   "execution_count": 36,
   "metadata": {},
   "outputs": [
    {
     "name": "stdout",
     "output_type": "stream",
     "text": [
      "{0: [1, 2], 1: [0]}\n"
     ]
    },
    {
     "data": {
      "text/plain": [
       "[1, 2]"
      ]
     },
     "execution_count": 36,
     "metadata": {},
     "output_type": "execute_result"
    }
   ],
   "source": [
    "def graph(Courses):\n",
    "    d = dict()\n",
    "    for i in range(len(Courses)):\n",
    "        if Courses[i][1] not in d:\n",
    "            d[Courses[i][1]] = [Courses[i][0]]\n",
    "        else:\n",
    "            d[Courses[i][1]].append(Courses[i][0])\n",
    "    return d\n",
    "\n",
    "prerequisites = [[1,0],[2,0],[0,1]]\n",
    "g = graph(prerequisites)\n",
    "print(g)\n",
    "g[0]"
   ]
  },
  {
   "cell_type": "code",
   "execution_count": 42,
   "metadata": {},
   "outputs": [
    {
     "name": "stdout",
     "output_type": "stream",
     "text": [
      "{1: [0, 3], 2: [0], 0: [1]}\n",
      "3\n"
     ]
    }
   ],
   "source": [
    "import collections\n",
    "def graph(Courses):\n",
    "    d = {}\n",
    "#     d = collections.defaultdict(list)\n",
    "    for u, v in Courses:\n",
    "        if u not in d:\n",
    "            d[u] = [v]\n",
    "        else:\n",
    "            d[u].append(v)\n",
    "#         d[u].append(v)\n",
    "        \n",
    "    return d\n",
    "\n",
    "prerequisites = [[1,0],[2,0],[1,3],[0,1]]\n",
    "g = graph(prerequisites)\n",
    "print(g)\n",
    "print(len(g))"
   ]
  },
  {
   "cell_type": "code",
   "execution_count": null,
   "metadata": {},
   "outputs": [],
   "source": []
  }
 ],
 "metadata": {
  "kernelspec": {
   "display_name": "Python 3",
   "language": "python",
   "name": "python3"
  },
  "language_info": {
   "codemirror_mode": {
    "name": "ipython",
    "version": 3
   },
   "file_extension": ".py",
   "mimetype": "text/x-python",
   "name": "python",
   "nbconvert_exporter": "python",
   "pygments_lexer": "ipython3",
   "version": "3.6.5"
  }
 },
 "nbformat": 4,
 "nbformat_minor": 2
}
