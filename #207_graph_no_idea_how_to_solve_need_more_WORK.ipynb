{
 "cells": [
  {
   "cell_type": "code",
   "execution_count": 3,
   "metadata": {},
   "outputs": [
    {
     "name": "stdout",
     "output_type": "stream",
     "text": [
      "[[1], [0]]\n"
     ]
    },
    {
     "data": {
      "text/plain": [
       "False"
      ]
     },
     "execution_count": 3,
     "metadata": {},
     "output_type": "execute_result"
    }
   ],
   "source": [
    "# 207. Course Schedule\n",
    "# DFS\n",
    "#下面我们来看 DFS 的解法，也需要建立有向图，\n",
    "#还是用二维数组来建立，和 BFS 不同的是，\n",
    "#我们像现在需要一个一维数组 visit 来记录访问状态，\n",
    "#这里有三种状态，0表示还未访问过，1表示已经访问了，-1 表示有冲突。\n",
    "#大体思路是，先建立好有向图，然后从第一个门课开始，找其可构成哪门课，\n",
    "#暂时将当前课程标记为已访问，然后对新得到的课程调用 DFS 递归，\n",
    "#直到出现新的课程已经访问过了，则返回 false，没有冲突的话返回 true，\n",
    "#然后把标记为已访问的课程改为未访问。\n",
    "# 1. if node v has not been visited, then mark it as 0.\n",
    "# 2. if node v is being visited, then mark it as -1. \n",
    "# If we find a vertex marked as -1 in DFS, then their is a ring.\n",
    "# 3. if node v has been visited, then mark it as 1. (memo!!!)\n",
    "# If a vertex was marked as 1, then no ring contains v or \n",
    "# its successors.\n",
    "class Solution(object):\n",
    "    def canFinish(self, numCourses, prerequisites):\n",
    "        \"\"\"\n",
    "        :type numCourses: int\n",
    "        :type prerequisites: List[List[int]]\n",
    "        :rtype: bool\n",
    "        \"\"\"\n",
    "        graph = [[] for _ in range(numCourses)]\n",
    "        visited = [0 for _ in range(numCourses)] # not visited\n",
    "        # create graph\n",
    "        for pair in prerequisites:\n",
    "            x, y = pair\n",
    "            graph[x].append(y)\n",
    "        # visit each node\n",
    "        for i in range(numCourses):\n",
    "            if not self.dfs(graph, visited, i):\n",
    "                return False\n",
    "        return True\n",
    "    \n",
    "    def dfs(self, graph, visited, i):\n",
    "        # check condition, also the break condition\n",
    "        # if ith node is marked as being visited, then a cycle is found\n",
    "        if visited[i] == -1:\n",
    "            return False\n",
    "        # if it is done visted, then do not visit again\n",
    "        if visited[i] == 1:\n",
    "            return True\n",
    "        \n",
    "        # mark as being visited (initialization)\n",
    "        visited[i] = -1\n",
    "        # visit all the neighbours\n",
    "        for j in graph[i]:\n",
    "            if not self.dfs(graph, visited, j):\n",
    "                return False\n",
    "        # after visit all the neighbours, mark it as done visited\n",
    "        visited[i] = 1\n",
    "        return True\n",
    "        \n",
    "numCourses = 2\n",
    "prerequisites = [[1,0],[0,1]]\n",
    "Solution().canFinish(numCourses, prerequisites)"
   ]
  },
  {
   "cell_type": "code",
   "execution_count": null,
   "metadata": {},
   "outputs": [],
   "source": []
  }
 ],
 "metadata": {
  "kernelspec": {
   "display_name": "Python 3",
   "language": "python",
   "name": "python3"
  },
  "language_info": {
   "codemirror_mode": {
    "name": "ipython",
    "version": 3
   },
   "file_extension": ".py",
   "mimetype": "text/x-python",
   "name": "python",
   "nbconvert_exporter": "python",
   "pygments_lexer": "ipython3",
   "version": "3.7.3"
  }
 },
 "nbformat": 4,
 "nbformat_minor": 2
}
