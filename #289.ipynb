{
 "cells": [
  {
   "cell_type": "code",
   "execution_count": 14,
   "metadata": {},
   "outputs": [
    {
     "data": {
      "text/plain": [
       "[[0, 0, 0], [1, 0, 1], [0, 1, 1], [0, 1, 0]]"
      ]
     },
     "execution_count": 14,
     "metadata": {},
     "output_type": "execute_result"
    }
   ],
   "source": [
    "# 289. Game of Life\n",
    "class Solution:\n",
    "    def gameOfLife(self, board):\n",
    "        \"\"\"\n",
    "        Do not return anything, modify board in-place instead.\n",
    "        \"\"\"\n",
    "        if not board:\n",
    "            return board\n",
    "        m = len(board)\n",
    "        n = len(board[0])\n",
    "        if m == 1 and n == 1:\n",
    "            board[0][0] = 0\n",
    "            return board\n",
    "        next_board = [[0] * n for _ in range(m)]\n",
    "        for i in range(m):\n",
    "            for j in range(n):\n",
    "                next_board[i][j] = self.update(board, i, j)\n",
    "        for i in range(m):\n",
    "            for j in range(n):\n",
    "                board[i][j] = next_board[i][j]\n",
    "        return board\n",
    "    \n",
    "    def update(self, board, i, j):\n",
    "        count = 0\n",
    "        for x in range(-1,2):\n",
    "            for y in range(-1,2):\n",
    "                if x == 0 and y == 0:\n",
    "                    continue\n",
    "                if 0<=i+y<len(board) and 0<=j+x<len(board[0]) and board[i+y][j+x]:\n",
    "                    count += 1\n",
    "        return self.check(count, board[i][j])\n",
    "    def check(self, count, curr):\n",
    "        if curr == 0:\n",
    "            if count == 3:\n",
    "                return 1\n",
    "            else:\n",
    "                return 0\n",
    "        else:\n",
    "            if count < 2 or count > 3:\n",
    "                return 0\n",
    "            else:\n",
    "                return 1\n",
    "board = [\n",
    "  [0,1,0],\n",
    "  [0,0,1],\n",
    "  [1,1,1],\n",
    "  [0,0,0]\n",
    "]\n",
    "Solution().gameOfLife(board)"
   ]
  },
  {
   "cell_type": "code",
   "execution_count": 21,
   "metadata": {},
   "outputs": [
    {
     "data": {
      "text/plain": [
       "[[0, 0, 0], [1, 0, 1], [0, 1, 1], [0, 1, 0]]"
      ]
     },
     "execution_count": 21,
     "metadata": {},
     "output_type": "execute_result"
    }
   ],
   "source": [
    "# 289. Game of Life\n",
    "# in place update\n",
    "class Solution:\n",
    "    def gameOfLife(self, board):\n",
    "        \"\"\"\n",
    "        Do not return anything, modify board in-place instead.\n",
    "        \"\"\"\n",
    "        if not board:\n",
    "            return board\n",
    "        m = len(board)\n",
    "        n = len(board[0])\n",
    "        if m == 1 and n == 1:\n",
    "            board[0][0] = 0\n",
    "            return board\n",
    "        for i in range(m):\n",
    "            for j in range(n):\n",
    "                board[i][j] = self.update(board, i, j)\n",
    "        for i in range(m):\n",
    "            for j in range(n):\n",
    "                if board[i][j] <= 0:\n",
    "                    board[i][j] = 0\n",
    "                else:\n",
    "                    board[i][j] = 1\n",
    "        return board\n",
    "    \n",
    "    def update(self, board, i, j):\n",
    "        count = 0\n",
    "        for x in range(-1,2):\n",
    "            for y in range(-1,2):\n",
    "                if x == 0 and y == 0:\n",
    "                    continue\n",
    "                if 0<=i+y<len(board) and 0<=j+x<len(board[0]):\n",
    "                    if abs(board[i+y][j+x]) == 1:\n",
    "                        count += 1\n",
    "        return self.check(count, board[i][j])\n",
    "    def check(self, count, curr):\n",
    "        if curr == 0:\n",
    "            if count == 3:\n",
    "                return 2\n",
    "            else:\n",
    "                return 0\n",
    "        else:\n",
    "            if count < 2:\n",
    "                return -1 # underpopulation\n",
    "            if count > 3: \n",
    "                return -1 # overpopulation\n",
    "            else:\n",
    "                return 1\n",
    "board = [\n",
    "  [0,1,0],\n",
    "  [0,0,1],\n",
    "  [1,1,1],\n",
    "  [0,0,0]\n",
    "]\n",
    "Solution().gameOfLife(board)"
   ]
  },
  {
   "cell_type": "code",
   "execution_count": 17,
   "metadata": {},
   "outputs": [
    {
     "name": "stdout",
     "output_type": "stream",
     "text": [
      "1\n"
     ]
    }
   ],
   "source": [
    "class Solution:\n",
    "    def gameOfLife(self, board: List[List[int]]) -> None:\n",
    "        \"\"\"\n",
    "        Do not return anything, modify board in-place instead.\n",
    "        \"\"\"\n",
    "        # Neighbors array to find 8 neighboring cells for a given cell\n",
    "        neighbors = [(1,0), (1,-1), (0,-1), (-1,-1), (-1,0), (-1,1), (0,1), (1,1)]\n",
    "\n",
    "        rows = len(board)\n",
    "        cols = len(board[0])\n",
    "\n",
    "        # Iterate through board cell by cell.\n",
    "        for row in range(rows):\n",
    "            for col in range(cols):\n",
    "\n",
    "                # For each cell count the number of live neighbors.\n",
    "                live_neighbors = 0\n",
    "                for neighbor in neighbors:\n",
    "\n",
    "                    # row and column of the neighboring cell\n",
    "                    r = (row + neighbor[0])\n",
    "                    c = (col + neighbor[1])\n",
    "\n",
    "                    # Check the validity of the neighboring cell and if it was originally a live cell.\n",
    "                    if (r < rows and r >= 0) and (c < cols and c >= 0) and abs(board[r][c]) == 1:\n",
    "                        live_neighbors += 1\n",
    "\n",
    "                # Rule 1 or Rule 3\n",
    "                if board[row][col] == 1 and (live_neighbors < 2 or live_neighbors > 3):\n",
    "                    # -1 signifies the cell is now dead but originally was live.\n",
    "                    board[row][col] = -1\n",
    "                # Rule 4\n",
    "                if board[row][col] == 0 and live_neighbors == 3:\n",
    "                    # 2 signifies the cell is now live but was originally dead.\n",
    "                    board[row][col] = 2\n",
    "\n",
    "        # Get the final representation for the newly updated board.\n",
    "        for row in range(rows):\n",
    "            for col in range(cols):\n",
    "                if board[row][col] > 0:\n",
    "                    board[row][col] = 1\n",
    "                else:\n",
    "                    board[row][col] = 0"
   ]
  },
  {
   "cell_type": "code",
   "execution_count": null,
   "metadata": {},
   "outputs": [],
   "source": []
  }
 ],
 "metadata": {
  "kernelspec": {
   "display_name": "Python 3",
   "language": "python",
   "name": "python3"
  },
  "language_info": {
   "codemirror_mode": {
    "name": "ipython",
    "version": 3
   },
   "file_extension": ".py",
   "mimetype": "text/x-python",
   "name": "python",
   "nbconvert_exporter": "python",
   "pygments_lexer": "ipython3",
   "version": "3.7.3"
  }
 },
 "nbformat": 4,
 "nbformat_minor": 2
}
