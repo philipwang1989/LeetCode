{
 "cells": [
  {
   "cell_type": "code",
   "execution_count": 26,
   "metadata": {},
   "outputs": [
    {
     "name": "stdout",
     "output_type": "stream",
     "text": [
      "7 3 10\n"
     ]
    },
    {
     "data": {
      "text/plain": [
       "[5, 6, 7, 8]"
      ]
     },
     "execution_count": 26,
     "metadata": {},
     "output_type": "execute_result"
    }
   ],
   "source": [
    "# 685. Find K Closest Elements\n",
    "# Input: [1,2,3,4,5], k=4, x=3\n",
    "# Output: [1,2,3,4]\n",
    "# Input: [1,2,3,4,5], k=4, x=-1\n",
    "# Output: [1,2,3,4]\n",
    "class Solution(object):\n",
    "    def findClosestElements(self, arr, k, x):\n",
    "        \"\"\"\n",
    "        :type arr: List[int]\n",
    "        :type k: int\n",
    "        :type x: int\n",
    "        :rtype: List[int]\n",
    "        \"\"\"\n",
    "        if x >= arr[-1]:\n",
    "            return arr[-k:]\n",
    "        if x <= arr[0]:\n",
    "            return arr[:k]\n",
    "        # step 1: find x\n",
    "        l = 0\n",
    "        r = len(arr) - 1\n",
    "        while l <= r:\n",
    "            mid = (l + r) // 2\n",
    "            if arr[mid] == x:\n",
    "                break\n",
    "            if arr[mid] < x:\n",
    "                l = mid + 1\n",
    "            else:\n",
    "                r = mid - 1\n",
    "        # step 3: find bound\n",
    "        l = max(0, mid - k)\n",
    "        r = min(len(arr)-1,mid + k)\n",
    "        while r - l + 1 > k:\n",
    "            if x - arr[l] <= arr[r] - x:\n",
    "                r -= 1\n",
    "            else:\n",
    "                l += 1\n",
    "        return arr[l:r+1]\n",
    "\n",
    "arr = [1,2,3,4,5,6,7,8,9,10]\n",
    "k = 4\n",
    "x = 7\n",
    "Solution().findClosestElements(arr,k,x)"
   ]
  },
  {
   "cell_type": "code",
   "execution_count": null,
   "metadata": {},
   "outputs": [],
   "source": [
    "def binarySearch(nums, target):\n",
    "    \"\"\"\n",
    "    :type nums: List[int]\n",
    "    :type target: int\n",
    "    :rtype: int\n",
    "    \"\"\"\n",
    "    if len(nums) == 0:\n",
    "        return -1\n",
    "\n",
    "    left, right = 0, len(nums) - 1\n",
    "    while left + 1 < right:\n",
    "        mid = (left + right) // 2\n",
    "        if nums[mid] == target:\n",
    "            return mid\n",
    "        elif nums[mid] < target:\n",
    "            left = mid\n",
    "        else:\n",
    "            right = mid\n",
    "\n",
    "    # Post-processing:\n",
    "    # End Condition: left + 1 == right\n",
    "    if nums[left] == target: return left\n",
    "    if nums[right] == target: return right\n",
    "    return -1"
   ]
  }
 ],
 "metadata": {
  "kernelspec": {
   "display_name": "Python 3",
   "language": "python",
   "name": "python3"
  },
  "language_info": {
   "codemirror_mode": {
    "name": "ipython",
    "version": 3
   },
   "file_extension": ".py",
   "mimetype": "text/x-python",
   "name": "python",
   "nbconvert_exporter": "python",
   "pygments_lexer": "ipython3",
   "version": "3.6.5"
  }
 },
 "nbformat": 4,
 "nbformat_minor": 2
}
