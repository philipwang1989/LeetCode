{
 "cells": [
  {
   "cell_type": "code",
   "execution_count": 18,
   "metadata": {},
   "outputs": [
    {
     "data": {
      "text/plain": [
       "False"
      ]
     },
     "execution_count": 18,
     "metadata": {},
     "output_type": "execute_result"
    }
   ],
   "source": [
    "# valid sudoku\n",
    "class Solution(object):\n",
    "    def __init__(self):\n",
    "        self.nums = {}\n",
    "        for i in range(1,10):\n",
    "            self.nums[str(i)] = 1\n",
    "    def isValidSudoku(self, board):\n",
    "        \"\"\"\n",
    "        :type board: List[List[str]]\n",
    "        :rtype: bool\n",
    "        \"\"\"\n",
    "        if len(board) != len(board[0]):\n",
    "            return False\n",
    "        row = self.checkRow(board)\n",
    "        col = self.checkCol(board)\n",
    "        sq = self.checkSq(board)\n",
    "        return row and col and sq\n",
    "\n",
    "    def checkRow(self, board):\n",
    "        for i in range(len(board)):\n",
    "            self.boardCount()\n",
    "            for ch in board[i]:\n",
    "                if ch != '.':\n",
    "                    self.nums[ch] -= 1\n",
    "                    if self.nums[ch] < 0:\n",
    "                        return False\n",
    "        return True\n",
    "    \n",
    "    def checkCol(self, board):\n",
    "        for j in range(len(board)):\n",
    "            self.boardCount()\n",
    "            for i in range(len(board)):\n",
    "                if board[i][j] != '.':\n",
    "                    self.nums[board[i][j]] -= 1\n",
    "                    if self.nums[board[i][j]] < 0:\n",
    "                        return False\n",
    "        return True\n",
    "    \n",
    "    def checkSq(self, board):\n",
    "        for row in range(3):\n",
    "            for col in range(3):\n",
    "                self.boardCount()\n",
    "                for i in range(9):\n",
    "                    x = i % 3 + (row * 3)\n",
    "                    y = i // 3 + (col * 3)\n",
    "                    if board[x][y] != '.':\n",
    "                        self.nums[board[x][y]] -= 1\n",
    "                        if self.nums[board[x][y]] < 0:\n",
    "                            return False\n",
    "        return True\n",
    "                    \n",
    "    \n",
    "    def boardCount(self):\n",
    "        for i in range(1,10):\n",
    "            self.nums[str(i)] = 1\n",
    "        return\n",
    "        \n",
    "        \n",
    "board = [\n",
    "  [\"8\",\"3\",\".\",\".\",\"7\",\".\",\".\",\".\",\".\"],\n",
    "  [\"6\",\".\",\".\",\"1\",\"9\",\"5\",\".\",\".\",\".\"],\n",
    "  [\".\",\"9\",\"8\",\".\",\".\",\".\",\".\",\"6\",\".\"],\n",
    "  [\"8\",\".\",\".\",\".\",\"6\",\".\",\".\",\".\",\"3\"],\n",
    "  [\"4\",\".\",\".\",\"8\",\".\",\"3\",\".\",\".\",\"1\"],\n",
    "  [\"7\",\".\",\".\",\".\",\"2\",\".\",\".\",\".\",\"6\"],\n",
    "  [\".\",\"6\",\".\",\".\",\".\",\".\",\"2\",\"8\",\".\"],\n",
    "  [\".\",\".\",\".\",\"4\",\"1\",\"9\",\".\",\".\",\"5\"],\n",
    "  [\".\",\".\",\".\",\".\",\"8\",\".\",\".\",\"7\",\"9\"]\n",
    "]\n",
    "Solution().isValidSudoku(board)"
   ]
  },
  {
   "cell_type": "code",
   "execution_count": null,
   "metadata": {},
   "outputs": [],
   "source": []
  }
 ],
 "metadata": {
  "kernelspec": {
   "display_name": "Python 3",
   "language": "python",
   "name": "python3"
  },
  "language_info": {
   "codemirror_mode": {
    "name": "ipython",
    "version": 3
   },
   "file_extension": ".py",
   "mimetype": "text/x-python",
   "name": "python",
   "nbconvert_exporter": "python",
   "pygments_lexer": "ipython3",
   "version": "3.6.5"
  }
 },
 "nbformat": 4,
 "nbformat_minor": 2
}
