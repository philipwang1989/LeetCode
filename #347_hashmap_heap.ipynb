{
 "cells": [
  {
   "cell_type": "code",
   "execution_count": 24,
   "metadata": {},
   "outputs": [
    {
     "name": "stdout",
     "output_type": "stream",
     "text": [
      "[1, 4]\n"
     ]
    }
   ],
   "source": [
    "# 347. Top K Frequent Elements\n",
    "# use heap \n",
    "import collections, heapq\n",
    "class Solution:\n",
    "    def topKFrequent(self, nums, k):\n",
    "        if len(nums) == 0:\n",
    "            return None\n",
    "        if len(nums) == 1:\n",
    "            return nums\n",
    "        count = collections.Counter(nums)   \n",
    "        return heapq.nlargest(k, count.keys(), key=count.get)\n",
    "s = Solution()\n",
    "print(s.topKFrequent([1,1,1,1,2,2,3,4,4,4,4],2))"
   ]
  },
  {
   "cell_type": "code",
   "execution_count": 15,
   "metadata": {},
   "outputs": [
    {
     "data": {
      "text/plain": [
       "collections.Counter"
      ]
     },
     "execution_count": 15,
     "metadata": {},
     "output_type": "execute_result"
    }
   ],
   "source": [
    "nums = [1,1,1,2,2,3,4,4,4,4]\n",
    "count = collections.Counter(nums)\n",
    "type(count)"
   ]
  },
  {
   "cell_type": "code",
   "execution_count": 38,
   "metadata": {},
   "outputs": [
    {
     "name": "stdout",
     "output_type": "stream",
     "text": [
      "[1, 4]\n"
     ]
    }
   ],
   "source": [
    "# brute force like approach\n",
    "class Solution:\n",
    "    def topKFrequent(self, nums, k):\n",
    "        nums.sort()\n",
    "        dicttemp = {}\n",
    "        dicttemp[nums[0]] = 1\n",
    "        count = 1\n",
    "        for i in range(1, len(nums)):\n",
    "            if nums[i] == nums[i - 1]:\n",
    "                count += 1\n",
    "            else:\n",
    "                count = 1\n",
    "            dicttemp[nums[i]] = count    \n",
    "        \n",
    "        # print(dicttemp)\n",
    "        result = sorted(dicttemp, key=dicttemp.get, reverse=True)\n",
    "        \n",
    "        return result[:k]\n",
    "    \n",
    "s = Solution()\n",
    "print(s.topKFrequent([1,1,1,1,2,2,7,4,4,4,4],2))"
   ]
  },
  {
   "cell_type": "code",
   "execution_count": 28,
   "metadata": {},
   "outputs": [
    {
     "name": "stdout",
     "output_type": "stream",
     "text": [
      "['e', 'q', 'r', 't', 'w', 'y']\n"
     ]
    }
   ],
   "source": [
    "x = {'q':1, 'w':2, 'e':3, 'r':4, 't':5, 'y':6} \n",
    "print(sorted(x))"
   ]
  },
  {
   "cell_type": "code",
   "execution_count": null,
   "metadata": {},
   "outputs": [],
   "source": []
  }
 ],
 "metadata": {
  "kernelspec": {
   "display_name": "Python 3",
   "language": "python",
   "name": "python3"
  },
  "language_info": {
   "codemirror_mode": {
    "name": "ipython",
    "version": 3
   },
   "file_extension": ".py",
   "mimetype": "text/x-python",
   "name": "python",
   "nbconvert_exporter": "python",
   "pygments_lexer": "ipython3",
   "version": "3.6.5"
  }
 },
 "nbformat": 4,
 "nbformat_minor": 2
}
