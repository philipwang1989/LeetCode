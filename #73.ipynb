{
 "cells": [
  {
   "cell_type": "code",
   "execution_count": 50,
   "metadata": {},
   "outputs": [
    {
     "name": "stdout",
     "output_type": "stream",
     "text": [
      "[[0], [0]]\n"
     ]
    }
   ],
   "source": [
    "# 73. Set Matrix Zeroes\n",
    "class Solution(object):\n",
    "    def setZeroes(self, matrix):\n",
    "        \"\"\"\n",
    "        :type matrix: List[List[int]]\n",
    "        :rtype: None Do not return anything, modify matrix in-place instead.\n",
    "        \"\"\"\n",
    "        m = len(matrix)\n",
    "        n = len(matrix[0])\n",
    "        label = [[0] * n for i in range(m)] \n",
    "        for i in range(0,m):\n",
    "            for j in range(0,n):\n",
    "                if matrix[i][j] == 0:\n",
    "                    label[i][j] = 1\n",
    "#         print(m,n,label)\n",
    "        for i in range(m):\n",
    "            for j in range(n):\n",
    "                if label[i][j] == 1:\n",
    "                    matrix[i] = [0] * n\n",
    "                    for k in range(m):\n",
    "                        matrix[k][j] = 0\n",
    "#         print(matrix)\n",
    "        return       \n",
    "# inMatrix = ([\n",
    "#   [1,1,1],\n",
    "#   [1,0,1],\n",
    "#   [1,1,1]\n",
    "# ])\n",
    "inMatrix = [[0],[1]]\n",
    "# print(inMatrix)\n",
    "Solution().setZeroes(inMatrix)"
   ]
  },
  {
   "cell_type": "code",
   "execution_count": 11,
   "metadata": {},
   "outputs": [
    {
     "name": "stdout",
     "output_type": "stream",
     "text": [
      "[[0, 0, 0], [1, 0, 1], [1, 1, 1]]\n"
     ]
    }
   ],
   "source": [
    "class Solution(object):\n",
    "    def setZeroes(self, matrix):\n",
    "        \"\"\"\n",
    "        :type matrix: List[List[int]]\n",
    "        :rtype: void Do not return anything, modify matrix in-place instead.\n",
    "        \"\"\"\n",
    "        R = len(matrix)\n",
    "        C = len(matrix[0])\n",
    "        rows, cols = set(), set()\n",
    "\n",
    "        # Essentially, we mark the rows and columns that are to be made zero\n",
    "        for i in range(R):\n",
    "            for j in range(C):\n",
    "                if matrix[i][j] == 0:\n",
    "                    rows.add(i)\n",
    "                    cols.add(j)\n",
    "\n",
    "        # Iterate over the array once again and using the rows and cols sets, update the elements\n",
    "        for i in range(R):\n",
    "            for j in range(C):\n",
    "                if i in rows or j in cols:\n",
    "                    matrix[i][j] = 0"
   ]
  },
  {
   "cell_type": "code",
   "execution_count": null,
   "metadata": {},
   "outputs": [],
   "source": [
    "class Solution(object):\n",
    "    def setZeroes(self, matrix):\n",
    "        \"\"\"\n",
    "        :type matrix: List[List[int]]\n",
    "        :rtype: void Do not return anything, modify matrix in-place instead.\n",
    "        \"\"\"\n",
    "        is_col = False\n",
    "        R = len(matrix)\n",
    "        C = len(matrix[0])\n",
    "        for i in range(R):\n",
    "            # Since first cell for both first row and first column is the same i.e. matrix[0][0]\n",
    "            # We can use an additional variable for either the first row/column.\n",
    "            # For this solution we are using an additional variable for the first column\n",
    "            # and using matrix[0][0] for the first row.\n",
    "            if matrix[i][0] == 0:\n",
    "                is_col = True\n",
    "            for j in range(1, C):\n",
    "                # If an element is zero, we set the first element of the corresponding row and column to 0\n",
    "                if matrix[i][j]  == 0:\n",
    "                    matrix[0][j] = 0\n",
    "                    matrix[i][0] = 0\n",
    "\n",
    "        # Iterate over the array once again and using the first row and first column, update the elements.\n",
    "        for i in range(1, R):\n",
    "            for j in range(1, C):\n",
    "                if not matrix[i][0] or not matrix[0][j]:\n",
    "                    matrix[i][j] = 0\n",
    "\n",
    "        # See if the first row needs to be set to zero as well\n",
    "        if matrix[0][0] == 0:\n",
    "            for j in range(C):\n",
    "                matrix[0][j] = 0\n",
    "\n",
    "        # See if the first column needs to be set to zero as well        \n",
    "        if is_col:\n",
    "            for i in range(R):\n",
    "                matrix[i][0] = 0"
   ]
  },
  {
   "cell_type": "code",
   "execution_count": 39,
   "metadata": {},
   "outputs": [
    {
     "name": "stdout",
     "output_type": "stream",
     "text": [
      "True\n",
      "2\n",
      "[[1, 11, 3], [4, 5, 6], [7, 8, 9]]\n",
      "[[0, 3, 2], [0, 3, 2], [0, 3, 2]]\n"
     ]
    }
   ],
   "source": [
    "inMatrix = ([\n",
    "  [1,2,3],\n",
    "  [4,5,6],\n",
    "  [7,8,9]\n",
    "])\n",
    "matrix2 = [[0,1,2]] * 3\n",
    "print(id(matrix2[0]) == id(matrix2[1]))\n",
    "print(inMatrix[0][1])\n",
    "inMatrix[0][1] = 11\n",
    "print(inMatrix)\n",
    "matrix2[0][1] = 3\n",
    "print(matrix2)"
   ]
  },
  {
   "cell_type": "code",
   "execution_count": null,
   "metadata": {},
   "outputs": [],
   "source": []
  }
 ],
 "metadata": {
  "kernelspec": {
   "display_name": "Python 3",
   "language": "python",
   "name": "python3"
  },
  "language_info": {
   "codemirror_mode": {
    "name": "ipython",
    "version": 3
   },
   "file_extension": ".py",
   "mimetype": "text/x-python",
   "name": "python",
   "nbconvert_exporter": "python",
   "pygments_lexer": "ipython3",
   "version": "3.6.5"
  }
 },
 "nbformat": 4,
 "nbformat_minor": 2
}
