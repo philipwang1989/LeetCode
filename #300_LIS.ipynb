{
 "cells": [
  {
   "cell_type": "code",
   "execution_count": 7,
   "metadata": {},
   "outputs": [
    {
     "name": "stdout",
     "output_type": "stream",
     "text": [
      "[1, 2, 3, 4]\n"
     ]
    },
    {
     "data": {
      "text/plain": [
       "4"
      ]
     },
     "execution_count": 7,
     "metadata": {},
     "output_type": "execute_result"
    }
   ],
   "source": [
    "class Solution(object):\n",
    "    def lengthOfLIS(self, nums):\n",
    "        \"\"\"\n",
    "        :type nums: List[int]\n",
    "        :rtype: int\n",
    "        \"\"\"\n",
    "        \n",
    "        size=len(nums)\n",
    "        ans=[]\n",
    "        \n",
    "        for x in range(size):\n",
    "            low=0\n",
    "            high=len(ans)-1\n",
    "            while low<=high:\n",
    "                mid=(low+high)//2\n",
    "                #目的就是把下一个大的元素放在相应的位置：如果比最后一个大，\n",
    "                #就append到最后\n",
    "                #如果不是比最后一个大，就找到那个位置low，把low替换成这个值\n",
    "                if ans[mid]<nums[x]:        \n",
    "                    low=mid+1               \n",
    "                else:\n",
    "                #如果ans[mid]>nums[x], 则用 high<low 去控制，\n",
    "                #然后把low上的值代替\n",
    "                    high=mid-1\n",
    "                \n",
    "            if low>=len(ans):\n",
    "                #初始时ans[0]=nums[0]，逐个向后比较，遇到大的，\n",
    "                #则加在ans后面\n",
    "                ans.append(nums[x])\n",
    "            else:\n",
    "                #遇到小的，则把它放在最小，因为是要升序的子序列\n",
    "                ans[low]=nums[x]\n",
    "        print(ans)\n",
    "        return len(ans)\n",
    "nums = [1,2,3,4]\n",
    "Solution().lengthOfLIS(nums)"
   ]
  },
  {
   "cell_type": "code",
   "execution_count": 2,
   "metadata": {},
   "outputs": [
    {
     "data": {
      "text/plain": [
       "6"
      ]
     },
     "execution_count": 2,
     "metadata": {},
     "output_type": "execute_result"
    }
   ],
   "source": [
    "# brute force\n",
    "class Solution(object):\n",
    "    def lengthOfLIS(self, nums):\n",
    "        return self.helper(nums, float('-inf'), 0)\n",
    "        \n",
    "    def helper(self, nums, prev, idxCur):\n",
    "        if idxCur == len(nums):\n",
    "            return 0\n",
    "        conLIS = 0\n",
    "        if nums[idxCur] > prev:\n",
    "            conLIS = 1 + self.helper(nums, nums[idxCur], idxCur+1)\n",
    "        discLIS = self.helper(nums, prev, idxCur+1)\n",
    "        return max(conLIS, discLIS)\n",
    "\n",
    "nums = [1,2,5,4,3,7,8,9]\n",
    "Solution().lengthOfLIS(nums)"
   ]
  },
  {
   "cell_type": "code",
   "execution_count": 1,
   "metadata": {},
   "outputs": [
    {
     "name": "stdout",
     "output_type": "stream",
     "text": [
      "[1, 1, 1, 1, 1, 1, 1, 1]\n",
      "[1, 2, 1, 1, 1, 1, 1, 1]\n",
      "[1, 2, 3, 1, 1, 1, 1, 1]\n",
      "[1, 2, 3, 3, 1, 1, 1, 1]\n",
      "[1, 2, 3, 3, 3, 1, 1, 1]\n",
      "[1, 2, 3, 3, 3, 4, 1, 1]\n",
      "[1, 2, 3, 3, 3, 4, 5, 1]\n",
      "[1, 2, 3, 3, 3, 4, 5, 6]\n"
     ]
    },
    {
     "data": {
      "text/plain": [
       "6"
      ]
     },
     "execution_count": 1,
     "metadata": {},
     "output_type": "execute_result"
    }
   ],
   "source": [
    "# 300. Longest Increasing Subsequence\n",
    "# subsequence, not subarray, can have jumps!!!\n",
    "# start with O(n2)\n",
    "# brute force - dynamic programming\n",
    "class Solution(object):\n",
    "    def lengthOfLIS(self, nums):\n",
    "        \"\"\"\n",
    "        :type nums: List[int]\n",
    "        :rtype: int\n",
    "        \"\"\"\n",
    "        if nums == []:\n",
    "            return 0\n",
    "        \n",
    "        l = len(nums)\n",
    "        \n",
    "        dp = [1] * l # use dp to store max.len. of inc. subseq.\n",
    "        \n",
    "        for x in range(l):\n",
    "            for y in range(x):\n",
    "                if nums[x] > nums[y]:\n",
    "                    dp[x] = max(dp[x],dp[y]+1)\n",
    "        return max(dp)\n",
    "              \n",
    "# nums = [10,9,2,5,3,3,7,7,101,18]\n",
    "nums = [1,2,5,4,3,7,8,9]\n",
    "Solution().lengthOfLIS(nums)\n"
   ]
  }
 ],
 "metadata": {
  "kernelspec": {
   "display_name": "Python 3",
   "language": "python",
   "name": "python3"
  },
  "language_info": {
   "codemirror_mode": {
    "name": "ipython",
    "version": 3
   },
   "file_extension": ".py",
   "mimetype": "text/x-python",
   "name": "python",
   "nbconvert_exporter": "python",
   "pygments_lexer": "ipython3",
   "version": "3.7.3"
  }
 },
 "nbformat": 4,
 "nbformat_minor": 2
}
