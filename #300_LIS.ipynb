{
 "cells": [
  {
   "cell_type": "code",
   "execution_count": 84,
   "metadata": {},
   "outputs": [
    {
     "name": "stdout",
     "output_type": "stream",
     "text": [
      "[1, 1, 1, 1, 1, 1, 1, 1, 1, 1]\n",
      "[1, 1, 1, 1, 1, 1, 1, 1, 1, 1]\n",
      "[1, 1, 1, 1, 1, 1, 1, 1, 1, 1]\n",
      "[1, 1, 1, 2, 1, 1, 1, 1, 1, 1]\n",
      "[1, 1, 1, 2, 2, 1, 1, 1, 1, 1]\n",
      "[1, 1, 1, 2, 2, 2, 1, 1, 1, 1]\n",
      "[1, 1, 1, 2, 2, 2, 3, 1, 1, 1]\n",
      "[1, 1, 1, 2, 2, 2, 3, 3, 1, 1]\n",
      "[1, 1, 1, 2, 2, 2, 3, 3, 4, 1]\n",
      "[1, 1, 1, 2, 2, 2, 3, 3, 4, 4]\n"
     ]
    },
    {
     "data": {
      "text/plain": [
       "4"
      ]
     },
     "execution_count": 84,
     "metadata": {},
     "output_type": "execute_result"
    }
   ],
   "source": [
    "# 300. Longest Increasing Subsequence\n",
    "# start with O(n2)\n",
    "# brute force - dynamic programming\n",
    "class Solution(object):\n",
    "    def lengthOfLIS(self, nums):\n",
    "        \"\"\"\n",
    "        :type nums: List[int]\n",
    "        :rtype: int\n",
    "        \"\"\"\n",
    "        if nums == []:\n",
    "            return 0\n",
    "        \n",
    "        l = len(nums)\n",
    "        \n",
    "        dp = [1] * l\n",
    "        \n",
    "        for x in range(l):\n",
    "            for y in range(x):\n",
    "                if nums[x] > nums[y]:\n",
    "                    dp[x] = max(dp[x],dp[y]+1)\n",
    "            print(dp)\n",
    "                    \n",
    "        return max(dp)\n",
    "              \n",
    "nums = [10,9,2,5,3,3,7,7,101,18]\n",
    "Solution().lengthOfLIS(nums)\n"
   ]
  },
  {
   "cell_type": "code",
   "execution_count": null,
   "metadata": {},
   "outputs": [],
   "source": [
    "class Solution(object):\n",
    "    def lengthOfLIS(self, nums):\n",
    "        \"\"\"\n",
    "        :type nums: List[int]\n",
    "        :rtype: int\n",
    "        \"\"\"\n",
    "        \n",
    "        size=len(nums)\n",
    "        ans=[]\n",
    "        \n",
    "        for x in range(size):\n",
    "            low=0\n",
    "            high=len(ans)-1\n",
    "            \n",
    "            while low<=high:\n",
    "                \n",
    "                mid=(low+high)/2\n",
    "                \n",
    "                if ans[mid]<nums[x]:        #目的就是把下一个大的元素放在相应的位置：如果比最后一个大，就append到最后\n",
    "                    low=mid+1               #如果不是比最后一个大，就找到那个位置low，把low替换成这个值\n",
    "                else:\n",
    "                    high=mid-1              #如果ans[mid]>nums[x], 则用 high<low 去控制，然后把low上的值代替\n",
    "                \n",
    "                \n",
    "            if low>=len(ans):                 #初始时ans[0]=nums[0]，逐个向后比较，遇到大的，则加在ans后面\n",
    "                ans.append(nums[x])\n",
    "            else:                               #遇到小的，则把它放在最小，因为是要升序的子序列\n",
    "                ans[low]=nums[x]\n",
    "            \n",
    "        return len(ans)\n",
    "\n",
    "--------------------- \n",
    "作者：Alice熹爱学习 \n",
    "来源：CSDN \n",
    "原文：https://blog.csdn.net/aliceyangxi1987/article/details/50478794 \n",
    "版权声明：本文为博主原创文章，转载请附上博文链接！"
   ]
  },
  {
   "cell_type": "code",
   "execution_count": 83,
   "metadata": {},
   "outputs": [
    {
     "name": "stdout",
     "output_type": "stream",
     "text": [
      "1 [10, 9, 2, 5, 3, 3, 7, 7, 101, 18]\n"
     ]
    }
   ],
   "source": [
    "# 300. Longest Increasing Subsequence\n",
    "# start with O(n2)\n",
    "# NOT DFS!!! Failed\n",
    "class Solution(object):\n",
    "    def lengthOfLIS(self, nums):\n",
    "        \"\"\"\n",
    "        :type nums: List[int]\n",
    "        :rtype: int\n",
    "        \"\"\"\n",
    "        if len(nums) == 0:\n",
    "            return 0\n",
    "        if len(nums) == 1:\n",
    "            return 1\n",
    "        res = 1\n",
    "        def dfs(nums,l,r,path,ans):\n",
    "            print(path,nums[l:r])\n",
    "            if l == r - 1:\n",
    "                return max(ans,path)\n",
    "            \n",
    "            while l < r:\n",
    "                curr = nums[l]\n",
    "                for i in range(l+1,len(nums)):\n",
    "                    if nums[i] > curr:\n",
    "                        ans = dfs(nums,i,r,path+1,ans)\n",
    "                    elif nums[i] == curr:\n",
    "                        ans = dfs(nums,i,r,path,ans)\n",
    "#                     else:\n",
    "#                         return\n",
    "                    \n",
    "#                 path -= 1\n",
    "                l += 1\n",
    "            return ans\n",
    "        \n",
    "        ans = dfs(nums,0,len(nums),1,res)\n",
    "        return ans\n",
    "    \n",
    "nums = [10,9,2,5,3,3,7,7,101,18]\n",
    "# nums = [2,2]\n",
    "# nums = [3,2,1] # expect = 1\n",
    "# nums = [4,10,4,3,8,9]\n",
    "Solution().lengthOfLIS(nums)"
   ]
  },
  {
   "cell_type": "code",
   "execution_count": null,
   "metadata": {},
   "outputs": [],
   "source": []
  }
 ],
 "metadata": {
  "kernelspec": {
   "display_name": "Python 3",
   "language": "python",
   "name": "python3"
  },
  "language_info": {
   "codemirror_mode": {
    "name": "ipython",
    "version": 3
   },
   "file_extension": ".py",
   "mimetype": "text/x-python",
   "name": "python",
   "nbconvert_exporter": "python",
   "pygments_lexer": "ipython3",
   "version": "3.6.5"
  }
 },
 "nbformat": 4,
 "nbformat_minor": 2
}
