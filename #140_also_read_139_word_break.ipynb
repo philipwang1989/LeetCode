{
 "cells": [
  {
   "cell_type": "code",
   "execution_count": 27,
   "metadata": {},
   "outputs": [
    {
     "data": {
      "text/plain": [
       "['cat sand dog', 'cats and dog']"
      ]
     },
     "execution_count": 27,
     "metadata": {},
     "output_type": "execute_result"
    }
   ],
   "source": [
    "# 140. Word Break II\n",
    "# Input:\n",
    "# s = \"catsanddog\"\n",
    "# wordDict = [\"cat\", \"cats\", \"and\", \"sand\", \"dog\"]\n",
    "# Output:\n",
    "# [\n",
    "#   \"cats and dog\",\n",
    "#   \"cat sand dog\"\n",
    "# ]\n",
    "# backtracking, TLE -> use isWordBreak() to improve speed\n",
    "class Solution:\n",
    "    def __init__(self):\n",
    "        self.ans = []\n",
    "        self.wordDict = []\n",
    "    def wordBreak(self, s, wordDict):\n",
    "        '''\n",
    "        rtype: List[str]\n",
    "        '''\n",
    "        self.wordDict = wordDict\n",
    "        self.backTracking(s, [])\n",
    "        return self.ans\n",
    "        \n",
    "    def backTracking(self, s, path):\n",
    "        if self.isWordBreak(s):\n",
    "            if not s:\n",
    "                self.ans += [' '.join(path)]\n",
    "                return\n",
    "            for i in range(len(s)+1):\n",
    "                if s[:i] in self.wordDict:\n",
    "                    path += ([s[:i]])\n",
    "                    self.backTracking(s[i:], path)\n",
    "                    path.pop()\n",
    "    def isWordBreak(self, s):\n",
    "        dp = [False] * (len(s) + 1)\n",
    "        dp[0] = True\n",
    "        for i in range(len(s)):\n",
    "            for j in range(i,len(s)):\n",
    "                if dp[i] and s[i:j+1] in self.wordDict:\n",
    "                    dp[j+1] = True\n",
    "        return dp[-1]\n",
    "        \n",
    "s = \"catsanddog\"\n",
    "wordDict = [\"cat\", \"cats\", \"and\", \"sand\", \"dog\"]\n",
    "Solution().wordBreak(s, wordDict)"
   ]
  },
  {
   "cell_type": "code",
   "execution_count": null,
   "metadata": {},
   "outputs": [],
   "source": [
    "class Solution:\n",
    "    def __init__(self):\n",
    "        self.res = []\n",
    "        \n",
    "    def dfs(self, s, path, dp, ind, word_dict):\n",
    "        if dp[ind+len(s)]:\n",
    "            if not s:\n",
    "                self.res.append(path.strip())\n",
    "            \n",
    "            for i in range(1, len(s)+1):\n",
    "                if s[:i] in word_dict:\n",
    "                    self.dfs(s[i:], path+ \" \" + s[:i], dp, ind+i, word_dict)\n",
    "                    \n",
    "    def word_break1(self, s, word_dict):\n",
    "        N = len(s)\n",
    "        dp = [False] * (N+1)\n",
    "        dp[0] =True\n",
    "        for i in range(N):\n",
    "            for j in range(i, N+1):\n",
    "                if dp[i] and s[i:j] in word_dict:\n",
    "                    dp[j] = True\n",
    "        # print(dp)\n",
    "        return dp\n",
    "        \n",
    "    def wordBreak(self, s: str, wordDict: List[str]) -> List[str]:\n",
    "        if not s:\n",
    "            return [\"\"]\n",
    "        wordDict = set(wordDict)\n",
    "        dp = self.word_break1(s, wordDict)\n",
    "        print(dp)\n",
    "        self.dfs(s, \"\", dp, 0, wordDict)\n",
    "        return self.res"
   ]
  }
 ],
 "metadata": {
  "kernelspec": {
   "display_name": "Python 3",
   "language": "python",
   "name": "python3"
  },
  "language_info": {
   "codemirror_mode": {
    "name": "ipython",
    "version": 3
   },
   "file_extension": ".py",
   "mimetype": "text/x-python",
   "name": "python",
   "nbconvert_exporter": "python",
   "pygments_lexer": "ipython3",
   "version": "3.7.3"
  }
 },
 "nbformat": 4,
 "nbformat_minor": 2
}
