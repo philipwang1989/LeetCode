{
 "cells": [
  {
   "cell_type": "code",
   "execution_count": null,
   "metadata": {},
   "outputs": [],
   "source": [
    "# 103. Binary Tree Zigzag Level Order Traversal\n",
    "# Definition for a binary tree node.\n",
    "# class TreeNode(object):\n",
    "#     def __init__(self, x):\n",
    "#         self.val = x\n",
    "#         self.left = None\n",
    "#         self.right = None\n",
    "# Given: tree - [3,9,20,null,null,15,7]\n",
    "# Return; [[3],[20,9],[15,7]]\n",
    "\n",
    "class Solution(object):\n",
    "    def zigzagLevelOrder(self, root):\n",
    "        \"\"\"\n",
    "        :type root: TreeNode\n",
    "        :rtype: List[List[int]]\n",
    "        \"\"\"\n",
    "        if not root:\n",
    "            return None\n",
    "        q = [root]\n",
    "        result = []\n",
    "        count = -1\n",
    "        while len(q) != 0:\n",
    "            qlen = len(q)\n",
    "            level = []\n",
    "            count += 1\n",
    "            while qlen != 0:\n",
    "                if count % 2 == 0:\n",
    "                    root = q.pop(0)\n",
    "                    level.append(root.val)\n",
    "                    if root.left != None:\n",
    "                        q.append(root.left)\n",
    "                    if root.right != None:\n",
    "                        q.append(root.right)\n",
    "                else:\n",
    "                    root = q.pop()\n",
    "                    level.append(root.val)\n",
    "                    if root.right != None:\n",
    "                        q.insert(0,root.right)\n",
    "                    if root.left != None:\n",
    "                        q.insert(0,root.left)\n",
    "                qlen -= 1\n",
    "            result.append(level)\n",
    "        return result"
   ]
  },
  {
   "cell_type": "code",
   "execution_count": 8,
   "metadata": {},
   "outputs": [
    {
     "data": {
      "text/plain": [
       "0"
      ]
     },
     "execution_count": 8,
     "metadata": {},
     "output_type": "execute_result"
    }
   ],
   "source": [
    "2%2"
   ]
  },
  {
   "cell_type": "code",
   "execution_count": null,
   "metadata": {},
   "outputs": [],
   "source": []
  }
 ],
 "metadata": {
  "kernelspec": {
   "display_name": "Python 3",
   "language": "python",
   "name": "python3"
  },
  "language_info": {
   "codemirror_mode": {
    "name": "ipython",
    "version": 3
   },
   "file_extension": ".py",
   "mimetype": "text/x-python",
   "name": "python",
   "nbconvert_exporter": "python",
   "pygments_lexer": "ipython3",
   "version": "3.6.5"
  }
 },
 "nbformat": 4,
 "nbformat_minor": 2
}
