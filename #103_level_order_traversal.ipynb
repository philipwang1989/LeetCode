{
 "cells": [
  {
   "cell_type": "code",
   "execution_count": null,
   "metadata": {},
   "outputs": [],
   "source": [
    "# 103. Binary Tree Zigzag Level Order Traversal\n",
    "class Solution(object):\n",
    "    def zigzagLevelOrder(self, root):\n",
    "        if not root:\n",
    "            return None\n",
    "        node = root\n",
    "        q = [node]\n",
    "        result = []\n",
    "        # if current is odd (root layer = 1)\n",
    "        # reverse the append (insert)\n",
    "        # else vice versa\n",
    "        layer = 0\n",
    "        while len(q) != 0:\n",
    "            qlen = len(q)\n",
    "            count = 0\n",
    "            layer += 1\n",
    "            temp = []\n",
    "            while count < qlen:\n",
    "                if layer % 2 == 1:\n",
    "                    # work as if this is regular \n",
    "                    # level order traversal\n",
    "                    node = q.pop(0)\n",
    "                    temp.append(node.val)\n",
    "                    if node.left:\n",
    "                        q.append(node.left)\n",
    "                    if node.right:\n",
    "                        q.append(node.right)\n",
    "                else:\n",
    "                    node = q.pop()\n",
    "                    temp.append(node.val)\n",
    "                    # it is to maintain the order of pop(0)\n",
    "                    # such that left will be pop out first\n",
    "                    if node.right:\n",
    "                        q.insert(0, node.right)\n",
    "                    if node.left:\n",
    "                        q.insert(0, node.left)\n",
    "                count += 1\n",
    "            result.append(temp)\n",
    "        return result"
   ]
  },
  {
   "cell_type": "code",
   "execution_count": null,
   "metadata": {},
   "outputs": [],
   "source": []
  }
 ],
 "metadata": {
  "kernelspec": {
   "display_name": "Python 3",
   "language": "python",
   "name": "python3"
  },
  "language_info": {
   "codemirror_mode": {
    "name": "ipython",
    "version": 3
   },
   "file_extension": ".py",
   "mimetype": "text/x-python",
   "name": "python",
   "nbconvert_exporter": "python",
   "pygments_lexer": "ipython3",
   "version": "3.7.3"
  }
 },
 "nbformat": 4,
 "nbformat_minor": 2
}
