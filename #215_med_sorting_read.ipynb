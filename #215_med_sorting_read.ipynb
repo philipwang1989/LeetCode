{
 "cells": [
  {
   "cell_type": "code",
   "execution_count": 16,
   "metadata": {},
   "outputs": [
    {
     "name": "stdout",
     "output_type": "stream",
     "text": [
      "[5, 4, 6, 3, 1, 2] 3\n",
      "[6, 5, 4, 3, 1, 2] 1\n"
     ]
    },
    {
     "data": {
      "text/plain": [
       "5"
      ]
     },
     "execution_count": 16,
     "metadata": {},
     "output_type": "execute_result"
    }
   ],
   "source": [
    "# 215. Kth Largest Element in an Array\n",
    "# array is unsorted\n",
    "# Sorting!\n",
    "class Solution:\n",
    "    def findKthLargest(self, nums, k):\n",
    "        left = 0\n",
    "        right = len(nums) -1\n",
    "        while True: # keep on running until found it\n",
    "            # pos is the position (index) of pivot\n",
    "            # kth largest (if sorted from large to small),\n",
    "            # if k=1 (largest), we want pivot to be index = 0\n",
    "            # thus we look for pos = k - 1\n",
    "            pos = self.partition(nums, left, right) # return k\n",
    "            if pos == k - 1:\n",
    "                return nums[pos]\n",
    "            # if now pivot is larger than the desired position\n",
    "            # this means the target is in the LHS\n",
    "            # so we reduce the bound of right to be pivot - 1 \n",
    "            # (excluding pivot)\n",
    "            elif pos > k - 1:\n",
    "                right = pos - 1\n",
    "            else:\n",
    "                left = pos + 1\n",
    "# LHS of pivot is greater than pivot whereas RHS of pivot is smaller\n",
    "# sorted from large to small\n",
    "    def partition(self, nums, left, right):\n",
    "        pivot = nums[left]\n",
    "        l = left + 1\n",
    "        r = right\n",
    "        while (l <= r):\n",
    "            if nums[l] <= pivot and nums[r] >= pivot:\n",
    "                nums[l], nums[r] = nums[r], nums[l]\n",
    "            if nums[l] >= pivot:\n",
    "                l += 1\n",
    "            if nums[r] <= pivot:\n",
    "                r -= 1\n",
    "        nums[left], nums[r] = nums[r], nums[left]\n",
    "        return r\n",
    "nums = [3,2,1,5,6,4]\n",
    "k = 2\n",
    "# return 5\n",
    "Solution().findKthLargest(nums,k)"
   ]
  },
  {
   "cell_type": "code",
   "execution_count": null,
   "metadata": {},
   "outputs": [],
   "source": []
  }
 ],
 "metadata": {
  "kernelspec": {
   "display_name": "Python 3",
   "language": "python",
   "name": "python3"
  },
  "language_info": {
   "codemirror_mode": {
    "name": "ipython",
    "version": 3
   },
   "file_extension": ".py",
   "mimetype": "text/x-python",
   "name": "python",
   "nbconvert_exporter": "python",
   "pygments_lexer": "ipython3",
   "version": "3.6.5"
  }
 },
 "nbformat": 4,
 "nbformat_minor": 2
}
