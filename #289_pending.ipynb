{
 "cells": [
  {
   "cell_type": "code",
   "execution_count": null,
   "metadata": {},
   "outputs": [],
   "source": [
    "# 289. Game of Life\n",
    "# Input: \n",
    "# [\n",
    "#   [0,1,0],\n",
    "#   [0,0,1],\n",
    "#   [1,1,1],\n",
    "#   [0,0,0]\n",
    "# ]\n",
    "# Output: \n",
    "# [\n",
    "#   [0,0,0],\n",
    "#   [1,0,1],\n",
    "#   [0,1,1],\n",
    "#   [0,1,0]\n",
    "# ]\n",
    "class Solution(object):\n",
    "    def gameOfLife(self, board):\n",
    "        \"\"\"\n",
    "        :type board: List[List[int]]\n",
    "        :rtype: None Do not return anything, modify board in-place instead.\n",
    "        \"\"\"\n",
    "        "
   ]
  }
 ],
 "metadata": {
  "kernelspec": {
   "display_name": "Python 3",
   "language": "python",
   "name": "python3"
  },
  "language_info": {
   "codemirror_mode": {
    "name": "ipython",
    "version": 3
   },
   "file_extension": ".py",
   "mimetype": "text/x-python",
   "name": "python",
   "nbconvert_exporter": "python",
   "pygments_lexer": "ipython3",
   "version": "3.6.5"
  }
 },
 "nbformat": 4,
 "nbformat_minor": 2
}
