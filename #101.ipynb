{
 "cells": [
  {
   "cell_type": "code",
   "execution_count": 7,
   "metadata": {},
   "outputs": [
    {
     "name": "stdout",
     "output_type": "stream",
     "text": [
      "[1, 2, 3, None, None, None, None, None, 2, None, None, None, 3, None, None]\n",
      "[1, 2, 3, None, None, None, None, None, 2, None, None, None, 3, None, None]\n"
     ]
    },
    {
     "data": {
      "text/plain": [
       "True"
      ]
     },
     "execution_count": 7,
     "metadata": {},
     "output_type": "execute_result"
    }
   ],
   "source": [
    "# 101. Symmetric Tree\n",
    "# symmetric: [1,2,2,3,4,4,3]\n",
    "# not symmetric: [1,2,2,null,3,null,3]\n",
    "# first try recursive method: traversal\n",
    "class Solution(object):\n",
    "    def isSymmetric(self, root):\n",
    "        \"\"\"\n",
    "        :type root: TreeNode\n",
    "        :rtype: bool\n",
    "        \"\"\"\n",
    "        if not root:\n",
    "            return True\n",
    "        listLeft = self.orderLeft(root)\n",
    "        listRight = self.orderRight(root)\n",
    "\n",
    "        for i in range(len(listLeft)):\n",
    "            if listLeft[i] != listRight[i]:\n",
    "                return False\n",
    "        return True\n",
    "    def orderLeft(self, root):\n",
    "        if root:\n",
    "            return [root.val] + self.orderLeft(root.left) + self.orderLeft(root.right)\n",
    "        else:\n",
    "            return []\n",
    "    def orderRight(self, root):\n",
    "        if root:\n",
    "            return [root.val] + self.orderRight(root.right) + self.orderRight(root.left)\n",
    "        else:\n",
    "            return []\n",
    "    \n",
    "class TreeNode(object):\n",
    "    def __init__(self, x):\n",
    "        self.val = x\n",
    "        self.left = None\n",
    "        self.right = None        \n",
    "\n",
    "# root = [1,2,2,3,4,4,3]\n",
    "root = TreeNode(1)\n",
    "root.left = TreeNode(2)\n",
    "root.right = TreeNode(2)\n",
    "# root.left.left = TreeNode(None)\n",
    "# root.left.right = TreeNode(3)\n",
    "root.left.left = TreeNode(3)\n",
    "root.left.right = TreeNode(None)\n",
    "root.right.left = TreeNode(None)\n",
    "root.right.right = TreeNode(3)\n",
    "Solution().isSymmetric(root)"
   ]
  },
  {
   "cell_type": "code",
   "execution_count": 5,
   "metadata": {},
   "outputs": [
    {
     "data": {
      "text/plain": [
       "True"
      ]
     },
     "execution_count": 5,
     "metadata": {},
     "output_type": "execute_result"
    }
   ],
   "source": [
    "# improved method: recursion\n",
    "class Solution(object):\n",
    "    def isSymmetric(self, root):\n",
    "        \"\"\"\n",
    "        :type root: TreeNode\n",
    "        :rtype: bool\n",
    "        \"\"\"\n",
    "        if not root:\n",
    "            return True\n",
    "        return self.mirror(root,root)\n",
    "    def mirror(self, t1, t2):\n",
    "        if t1 == None and t2 == None:\n",
    "            return True\n",
    "        if t1 == None or t2 == None:\n",
    "            return False\n",
    "        return t1.val == t2.val and self.mirror(t1.left,t2.right) and self.mirror(t1.right,t2.left)\n",
    "\n",
    "class TreeNode(object):    \n",
    "    def __init__(self, x):\n",
    "        self.val = x\n",
    "        self.left = None\n",
    "        self.right = None        \n",
    "\n",
    "# root = [1,2,2,3,4,4,3]\n",
    "root = TreeNode(1)\n",
    "root.left = TreeNode(2)\n",
    "root.right = TreeNode(2)\n",
    "# root.left.left = TreeNode(None)\n",
    "# root.left.right = TreeNode(3)\n",
    "root.left.left = TreeNode(3)\n",
    "root.left.right = TreeNode(None)\n",
    "root.right.left = TreeNode(None)\n",
    "root.right.right = TreeNode(3)\n",
    "Solution().isSymmetric(root)"
   ]
  },
  {
   "cell_type": "code",
   "execution_count": 8,
   "metadata": {},
   "outputs": [
    {
     "data": {
      "text/plain": [
       "True"
      ]
     },
     "execution_count": 8,
     "metadata": {},
     "output_type": "execute_result"
    }
   ],
   "source": [
    "# iteration: use one QUEUE!\n",
    "class Solution(object):\n",
    "    def isSymmetric(self, root):\n",
    "        \"\"\"\n",
    "        :type root: TreeNode\n",
    "        :rtype: bool\n",
    "        \"\"\"\n",
    "        if not root:\n",
    "            return True\n",
    "        q = []\n",
    "        q.append(root)\n",
    "        q.append(root)\n",
    "        while len(q) != 0:\n",
    "            node1 = q.pop(0)\n",
    "            node2 = q.pop(0)\n",
    "            \n",
    "            if (node1 == None and node2 != None) or (node1 != None and node2 == None):\n",
    "                return False\n",
    "            if node1 != None and node2 != None:\n",
    "                if node1.val != node2.val:\n",
    "                    return False\n",
    "            \n",
    "                q.append(node1.left)\n",
    "                q.append(node2.right)\n",
    "                q.append(node1.right)\n",
    "                q.append(node2.left)\n",
    "            \n",
    "        return True\n",
    "\n",
    "class TreeNode(object):    \n",
    "    def __init__(self, x):\n",
    "        self.val = x\n",
    "        self.left = None\n",
    "        self.right = None     \n",
    "\n",
    "root = TreeNode(1)\n",
    "root.left = TreeNode(2)\n",
    "root.right = TreeNode(2)\n",
    "# root.left.left = TreeNode(None)\n",
    "# root.left.right = TreeNode(3)\n",
    "root.left.left = TreeNode(3)\n",
    "root.left.right = TreeNode(None)\n",
    "root.right.left = TreeNode(None)\n",
    "root.right.right = TreeNode(3)\n",
    "Solution().isSymmetric(root)"
   ]
  },
  {
   "cell_type": "code",
   "execution_count": null,
   "metadata": {},
   "outputs": [],
   "source": []
  }
 ],
 "metadata": {
  "kernelspec": {
   "display_name": "Python 3",
   "language": "python",
   "name": "python3"
  },
  "language_info": {
   "codemirror_mode": {
    "name": "ipython",
    "version": 3
   },
   "file_extension": ".py",
   "mimetype": "text/x-python",
   "name": "python",
   "nbconvert_exporter": "python",
   "pygments_lexer": "ipython3",
   "version": "3.6.5"
  }
 },
 "nbformat": 4,
 "nbformat_minor": 2
}
