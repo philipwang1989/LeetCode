{
 "cells": [
  {
   "cell_type": "code",
   "execution_count": 25,
   "metadata": {},
   "outputs": [
    {
     "name": "stdout",
     "output_type": "stream",
     "text": [
      "[True, False, True, False, False, False]\n",
      "[True, False, True, False, False, False]\n",
      "[True, False, True, False, False, True]\n",
      "[True, False, True, False, False, True]\n",
      "[True, False, True, False, False, True]\n"
     ]
    },
    {
     "data": {
      "text/plain": [
       "True"
      ]
     },
     "execution_count": 25,
     "metadata": {},
     "output_type": "execute_result"
    }
   ],
   "source": [
    "class Solution(object):\n",
    "    def wordBreak(self, s, wordDict):\n",
    "        \"\"\"\n",
    "        :type s: str\n",
    "        :type wordDict: Set[str]\n",
    "        :rtype: bool\n",
    "        \"\"\"\n",
    "        dp = [False] * (len(s) + 1) # dp[i] means s[:i+1] can be segmented into words in the wordDicts \n",
    "        dp[0] = True\n",
    "        for i in range(len(s)):\n",
    "            for j in range(i, len(s)):\n",
    "                if dp[i] and s[i: j+1] in wordDict:\n",
    "                    dp[j+1] = True\n",
    "        return dp[-1]\n",
    "    \n",
    "s = \"ancat\"\n",
    "wordDict = [\"cats\", \"dog\", \"sand\", \"and\",'an', \"cat\"]\n",
    "Solution().wordBreak(s, wordDict)"
   ]
  },
  {
   "cell_type": "code",
   "execution_count": 20,
   "metadata": {},
   "outputs": [
    {
     "data": {
      "text/plain": [
       "True"
      ]
     },
     "execution_count": 20,
     "metadata": {},
     "output_type": "execute_result"
    }
   ],
   "source": [
    "# 139. Word Break\n",
    "class Solution(object):\n",
    "    def wordBreak(self, s, wordDict):\n",
    "        \"\"\"\n",
    "        :type s: str\n",
    "        :type wordDict: List[str]\n",
    "        :rtype: bool\n",
    "        \"\"\"\n",
    "        slen = len(wordDict)\n",
    "        for i in range(slen):\n",
    "            temp = ''.join(s.split(wordDict[i]))\n",
    "#             if len(temp) == 0:\n",
    "#                 return True\n",
    "            for j in range(i+1, slen):\n",
    "                temp = ''.join(temp.split(wordDict[j]))\n",
    "                if len(temp) == 0:\n",
    "                    return True\n",
    "        return False\n",
    "        \n",
    "        \n",
    "# s = \"catsandog\"\n",
    "# wordDict = [\"cats\", \"dog\", \"sand\", \"and\", \"cat\"]\n",
    "s = \"cbca\"\n",
    "wordDict = [\"bc\",'ca']\n",
    "Solution().wordBreak(s, wordDict)"
   ]
  },
  {
   "cell_type": "code",
   "execution_count": 13,
   "metadata": {},
   "outputs": [
    {
     "data": {
      "text/plain": [
       "'cb'"
      ]
     },
     "execution_count": 13,
     "metadata": {},
     "output_type": "execute_result"
    }
   ],
   "source": [
    "s = \"ccbb\"\n",
    "''.join(s.split('cb'))"
   ]
  },
  {
   "cell_type": "code",
   "execution_count": null,
   "metadata": {},
   "outputs": [],
   "source": []
  }
 ],
 "metadata": {
  "kernelspec": {
   "display_name": "Python 3",
   "language": "python",
   "name": "python3"
  },
  "language_info": {
   "codemirror_mode": {
    "name": "ipython",
    "version": 3
   },
   "file_extension": ".py",
   "mimetype": "text/x-python",
   "name": "python",
   "nbconvert_exporter": "python",
   "pygments_lexer": "ipython3",
   "version": "3.7.3"
  }
 },
 "nbformat": 4,
 "nbformat_minor": 2
}
