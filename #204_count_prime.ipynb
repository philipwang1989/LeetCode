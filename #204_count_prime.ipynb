{
 "cells": [
  {
   "cell_type": "code",
   "execution_count": 27,
   "metadata": {},
   "outputs": [
    {
     "data": {
      "text/plain": [
       "41537"
      ]
     },
     "execution_count": 27,
     "metadata": {},
     "output_type": "execute_result"
    }
   ],
   "source": [
    "# 204. Count Primes\n",
    "class Solution:\n",
    "    def __init__(self):\n",
    "        self.memo = 1\n",
    "    def countPrimes(self, n):\n",
    "        if n == 1:\n",
    "            return 0\n",
    "        if n == 2:\n",
    "            return 0\n",
    "        ans = []\n",
    "        for i in range(2,n):\n",
    "            if self.isPrime(i, ans):\n",
    "                ans.append(i)\n",
    "        return len(ans)\n",
    "        \n",
    "    def isPrime(self, num, prime):\n",
    "        if not prime:\n",
    "            maxnum = self.sqrt(num)\n",
    "            if maxnum == 1 and num != 1: # the case of 2 and 3\n",
    "                return True\n",
    "            for i in range(2,maxnum):\n",
    "                if num % i == 0:\n",
    "                    return False\n",
    "        else:\n",
    "            for i in range(len(prime)):\n",
    "                if num % prime[i] == 0:\n",
    "                    return False\n",
    "        return True\n",
    "        \n",
    "    def sqrt(self, num):\n",
    "        # return the floor of the sqrt(num)\n",
    "        n = self.memo\n",
    "        while True:\n",
    "            if n*n <= num < (n+1)*(n+1):\n",
    "                if self.memo != n:\n",
    "                    self.memo = n\n",
    "                return n\n",
    "            n += 1\n",
    "Solution().countPrimes(499979)"
   ]
  },
  {
   "cell_type": "code",
   "execution_count": null,
   "metadata": {},
   "outputs": [],
   "source": [
    "class Solution:\n",
    "    # @param {integer} n\n",
    "    # @return {integer}\n",
    "    def countPrimes(self, n):\n",
    "        if n < 2:\n",
    "            return 0\n",
    "        seive = [True] * n\n",
    "        seive[0] = False\n",
    "        seive[1] = False\n",
    "        i = 2\n",
    "        while i * i < n:\n",
    "            if seive[i]:\n",
    "                j = i\n",
    "                while i * j < n:\n",
    "                    seive[i * j] = False\n",
    "                    j += 1\n",
    "            i += 1\n",
    "        return sum(seive)"
   ]
  }
 ],
 "metadata": {
  "kernelspec": {
   "display_name": "Python 3",
   "language": "python",
   "name": "python3"
  },
  "language_info": {
   "codemirror_mode": {
    "name": "ipython",
    "version": 3
   },
   "file_extension": ".py",
   "mimetype": "text/x-python",
   "name": "python",
   "nbconvert_exporter": "python",
   "pygments_lexer": "ipython3",
   "version": "3.6.5"
  }
 },
 "nbformat": 4,
 "nbformat_minor": 2
}
