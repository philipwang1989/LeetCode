{
 "cells": [
  {
   "cell_type": "code",
   "execution_count": 25,
   "metadata": {},
   "outputs": [
    {
     "data": {
      "text/plain": [
       "3"
      ]
     },
     "execution_count": 25,
     "metadata": {},
     "output_type": "execute_result"
    }
   ],
   "source": [
    "# 41. First Missing Positive\n",
    "# by finding the second largest\n",
    "# O(n)?\n",
    "class Solution():\n",
    "    def firstMissingPositive(self, nums):\n",
    "        new = [nums[i] for i in range(len(nums)) if nums[i] > 0]\n",
    "        if len(new) == 0:\n",
    "            return 1\n",
    "        if len(new) == 1:\n",
    "            if new[0] != 1:\n",
    "                return 1\n",
    "            else:\n",
    "                return 2\n",
    "        min1 = min(new)\n",
    "        if min1 != 1:\n",
    "            return 1\n",
    "        new.remove(min1)\n",
    "        min2 = min(new)\n",
    "        if min2 > min1 + 1:\n",
    "            return min1 + 1\n",
    "        while len(new) > 1:\n",
    "            min1 = min2\n",
    "            new.remove(min1)\n",
    "            min2 = min(new)\n",
    "            if min2 > min1 + 1:\n",
    "                return min1 + 1\n",
    "        return new[0] + 1\n",
    "\n",
    "nums = [0,2,2,1,1]\n",
    "Solution().firstMissingPositive(nums)"
   ]
  },
  {
   "cell_type": "code",
   "execution_count": null,
   "metadata": {},
   "outputs": [],
   "source": [
    "class Solution:\n",
    "    def firstMissingPositive(self, nums):\n",
    "        \"\"\"\n",
    "        :type nums: List[int]\n",
    "        :rtype: int\n",
    "        \"\"\"\n",
    "        n = len(nums)\n",
    "        \n",
    "        # Base case.\n",
    "        if 1 not in nums:\n",
    "            return 1\n",
    "        \n",
    "        # nums = [1]\n",
    "        if n == 1:\n",
    "            return 2\n",
    "        \n",
    "        # Replace negative numbers, zeros,\n",
    "        # and numbers larger than n by 1s.\n",
    "        # After this convertion nums will contain \n",
    "        # only positive numbers.\n",
    "        for i in range(n):\n",
    "            if nums[i] <= 0 or nums[i] > n:\n",
    "                nums[i] = 1\n",
    "        \n",
    "        # Use index as a hash key and number sign as a presence detector.\n",
    "        # For example, if nums[1] is negative that means that number `1`\n",
    "        # is present in the array. \n",
    "        # If nums[2] is positive - number 2 is missing.\n",
    "        for i in range(n): \n",
    "            a = abs(nums[i])\n",
    "            # If you meet number a in the array - change the sign of a-th element.\n",
    "            # Be careful with duplicates : do it only once.\n",
    "            if a == n:\n",
    "                nums[0] = - abs(nums[0])\n",
    "            else:\n",
    "                nums[a] = - abs(nums[a])\n",
    "            \n",
    "        # Now the index of the first positive number \n",
    "        # is equal to first missing positive.\n",
    "        for i in range(1, n):\n",
    "            if nums[i] > 0:\n",
    "                return i\n",
    "        \n",
    "        if nums[0] > 0:\n",
    "            return n\n",
    "            \n",
    "        return n + 1"
   ]
  },
  {
   "cell_type": "code",
   "execution_count": 19,
   "metadata": {},
   "outputs": [
    {
     "name": "stdout",
     "output_type": "stream",
     "text": [
      "[1, 1, 2, 3]\n"
     ]
    }
   ],
   "source": [
    "nums = [1,1,1,2,3]\n",
    "nums.remove(1)\n",
    "print(nums)"
   ]
  },
  {
   "cell_type": "code",
   "execution_count": 11,
   "metadata": {},
   "outputs": [
    {
     "data": {
      "text/plain": [
       "1"
      ]
     },
     "execution_count": 11,
     "metadata": {},
     "output_type": "execute_result"
    }
   ],
   "source": [
    "# 41. First Missing Positive\n",
    "# O(nlgn)\n",
    "class Solution():\n",
    "    def firstMissingPositive(self, nums):\n",
    "        new = [nums[i] for i in range(len(nums)) if nums[i] > 0]\n",
    "        new.sort()\n",
    "        if len(new) == 0:\n",
    "            return 0\n",
    "        if len(new) == 1:\n",
    "            if new[0] != 1:\n",
    "                return 1\n",
    "            else:\n",
    "                return 2\n",
    "        if new[0] != 1:\n",
    "            return 1\n",
    "        for i in range(1,len(new)):\n",
    "            if new[i] == new[i-1]+1:\n",
    "                continue\n",
    "            else:\n",
    "                return new[i-1] + 1\n",
    "        return new[i] + 1\n",
    "        \n",
    "nums = [7,8,9,11,12]\n",
    "Solution().firstMissingPositive(nums)"
   ]
  }
 ],
 "metadata": {
  "kernelspec": {
   "display_name": "Python 3",
   "language": "python",
   "name": "python3"
  },
  "language_info": {
   "codemirror_mode": {
    "name": "ipython",
    "version": 3
   },
   "file_extension": ".py",
   "mimetype": "text/x-python",
   "name": "python",
   "nbconvert_exporter": "python",
   "pygments_lexer": "ipython3",
   "version": "3.6.5"
  }
 },
 "nbformat": 4,
 "nbformat_minor": 2
}
