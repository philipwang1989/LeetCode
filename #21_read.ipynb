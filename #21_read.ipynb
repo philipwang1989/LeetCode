{
 "cells": [
  {
   "cell_type": "code",
   "execution_count": null,
   "metadata": {},
   "outputs": [],
   "source": [
    "# 21. Merge Two Sorted Lists\n",
    "# Input: 1->2->4, 1->3->4\n",
    "# Output: 1->1->2->3->4->4\n",
    "# class ListNode:\n",
    "#     def __init__(self, x):\n",
    "#         self.val = x\n",
    "#         self.next = None\n",
    "# iterative method\n",
    "class Solution:\n",
    "    def mergeTwoLists(self, l1: ListNode, l2: ListNode) -> ListNode:\n",
    "        if not l1 and not l2:\n",
    "            return []\n",
    "        if not l1 or not l2:\n",
    "            if not l1:\n",
    "                return l2\n",
    "            else:\n",
    "                return l1\n",
    "        if l1.val > l2.val:\n",
    "            head = ListNode(l2.val)\n",
    "            l2 = l2.next\n",
    "        else:\n",
    "            head = ListNode(l1.val)\n",
    "            l1 = l1.next\n",
    "        current = head\n",
    "        while l1 != None and l2 != None:\n",
    "            if l1.val > l2.val:\n",
    "                current.next = l2\n",
    "                current = current.next\n",
    "                l2 = l2.next\n",
    "            else:\n",
    "                current.next = l1\n",
    "                current = current.next\n",
    "                l1 = l1.next\n",
    "        if l1 is None:\n",
    "            current.next = l2\n",
    "        else:\n",
    "            current.next = l1\n",
    "        return head"
   ]
  },
  {
   "cell_type": "code",
   "execution_count": null,
   "metadata": {},
   "outputs": [],
   "source": [
    "# solution 2\n",
    "def mergeTwoLists(self, l1, l2):\n",
    "    dummy = cur = ListNode(0)\n",
    "    while l1 and l2:\n",
    "        if l1.val < l2.val:\n",
    "            cur.next = l1\n",
    "            l1 = l1.next\n",
    "        else:\n",
    "            cur.next = l2\n",
    "            l2 = l2.next\n",
    "        cur = cur.next\n",
    "    cur.next = l1 or l2\n",
    "    return dummy.next"
   ]
  },
  {
   "cell_type": "code",
   "execution_count": null,
   "metadata": {},
   "outputs": [],
   "source": [
    "# solution 3, recursion\n",
    "def mergeTwoLists(self, l1, l2):\n",
    "    if not l1 or not l2:\n",
    "        return l1 or l2\n",
    "    if l1.val < l2.val:\n",
    "        l1.next = self.mergeTwoLists(l1.next, l2)\n",
    "        return l1\n",
    "    else:\n",
    "        l2.next = self.mergeTwoLists(l1, l2.next)\n",
    "        return l2"
   ]
  }
 ],
 "metadata": {
  "kernelspec": {
   "display_name": "Python 3",
   "language": "python",
   "name": "python3"
  },
  "language_info": {
   "codemirror_mode": {
    "name": "ipython",
    "version": 3
   },
   "file_extension": ".py",
   "mimetype": "text/x-python",
   "name": "python",
   "nbconvert_exporter": "python",
   "pygments_lexer": "ipython3",
   "version": "3.6.5"
  }
 },
 "nbformat": 4,
 "nbformat_minor": 2
}
