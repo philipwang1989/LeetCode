{
 "cells": [
  {
   "cell_type": "code",
   "execution_count": 12,
   "metadata": {},
   "outputs": [
    {
     "data": {
      "text/plain": [
       "['facebook']"
      ]
     },
     "execution_count": 12,
     "metadata": {},
     "output_type": "execute_result"
    }
   ],
   "source": [
    "# 916. Word Subsets\n",
    "class Solution(object):\n",
    "    def wordSubsets(self, A, B):\n",
    "        \"\"\"\n",
    "        :type A: List[str]\n",
    "        :type B: List[str]\n",
    "        :rtype: List[str]\n",
    "        \"\"\"\n",
    "        ans = []\n",
    "        maxCh_B = self.maxB(B)\n",
    "        for word in A:\n",
    "            maxch = [0] * 26\n",
    "            for ch in word:\n",
    "                maxch[ord(ch) - ord('a')] += 1\n",
    "            flag = True\n",
    "            for i in range(len(maxch)):\n",
    "                if maxch[i] < maxCh_B[i]:\n",
    "                    flag = False\n",
    "                    break\n",
    "            if flag:\n",
    "                ans.append(word)\n",
    "        return ans\n",
    "    def maxB(self, B):\n",
    "        maxB = [0] * 26\n",
    "        for word in B:\n",
    "            maxch = [0] * 26\n",
    "            for ch in word:\n",
    "                maxch[ord(ch) - ord('a')] += 1\n",
    "            for i in range(len(maxB)):\n",
    "                maxB[i] = max(maxB[i], maxch[i])\n",
    "        return maxB\n",
    "\n",
    "\n",
    "A = [\"amazon\",\"apple\",\"facebook\",\"google\",\"leetcode\"]\n",
    "B = [\"c\",\"oo\",\"ceo\"]\n",
    "Solution().wordSubsets(A, B)"
   ]
  }
 ],
 "metadata": {
  "kernelspec": {
   "display_name": "Python 3",
   "language": "python",
   "name": "python3"
  },
  "language_info": {
   "codemirror_mode": {
    "name": "ipython",
    "version": 3
   },
   "file_extension": ".py",
   "mimetype": "text/x-python",
   "name": "python",
   "nbconvert_exporter": "python",
   "pygments_lexer": "ipython3",
   "version": "3.6.5"
  }
 },
 "nbformat": 4,
 "nbformat_minor": 2
}
