{
 "cells": [
  {
   "cell_type": "code",
   "execution_count": 10,
   "metadata": {},
   "outputs": [
    {
     "data": {
      "text/plain": [
       "True"
      ]
     },
     "execution_count": 10,
     "metadata": {},
     "output_type": "execute_result"
    }
   ],
   "source": [
    "# 367. Valid perfect square\n",
    "class Solution(object):\n",
    "    def isPerfectSquare(self, x):\n",
    "        \"\"\"\n",
    "        :type num: int\n",
    "        :rtype: bool\n",
    "        \"\"\"\n",
    "        \n",
    "        if x == 1:\n",
    "            return True\n",
    "        l, r = 0, x\n",
    "        while l <= r:\n",
    "            mid = (r+l)//2\n",
    "            if mid * mid <= x < (mid+1)*(mid+1):\n",
    "                if mid * mid == x:\n",
    "                    return True\n",
    "                else:\n",
    "                    return False\n",
    "            if x < mid * mid:\n",
    "                r = mid\n",
    "            else:\n",
    "                l = mid\n",
    "\n",
    "Solution().isPerfectSquare(1)"
   ]
  },
  {
   "cell_type": "code",
   "execution_count": null,
   "metadata": {},
   "outputs": [],
   "source": []
  }
 ],
 "metadata": {
  "kernelspec": {
   "display_name": "Python 3",
   "language": "python",
   "name": "python3"
  },
  "language_info": {
   "codemirror_mode": {
    "name": "ipython",
    "version": 3
   },
   "file_extension": ".py",
   "mimetype": "text/x-python",
   "name": "python",
   "nbconvert_exporter": "python",
   "pygments_lexer": "ipython3",
   "version": "3.6.5"
  }
 },
 "nbformat": 4,
 "nbformat_minor": 2
}
