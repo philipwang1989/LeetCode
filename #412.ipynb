{
 "cells": [
  {
   "cell_type": "code",
   "execution_count": 11,
   "metadata": {},
   "outputs": [
    {
     "name": "stdout",
     "output_type": "stream",
     "text": [
      "['1', '2', 'Fizz', '4', 'Buzz', 'Fizz', '7', '8', 'Fizz', 'Buzz', '11', 'Fizz', '13', '14', 'FizzBuzz', '16', '17', 'Fizz', '19', 'Buzz', 'Fizz', '22', '23', 'Fizz', 'Buzz', '26', 'Fizz', '28', '29', 'FizzBuzz']\n"
     ]
    }
   ],
   "source": [
    "#412. Fizz Buzz\n",
    "class Solution:\n",
    "    def fizzBuzz(self, n):\n",
    "        ans = []\n",
    "        for i in range(1,n+1):\n",
    "            string = str()\n",
    "            if i%3 == 0:\n",
    "                string += \"Fizz\"\n",
    "            if i%5 == 0:\n",
    "                string += \"Buzz\"\n",
    "            if not string:\n",
    "                ans.append(str(i))\n",
    "            else:\n",
    "                ans.append(string)\n",
    "        return ans\n",
    "s = Solution()\n",
    "print(s.fizzBuzz(30))"
   ]
  },
  {
   "cell_type": "code",
   "execution_count": null,
   "metadata": {},
   "outputs": [],
   "source": []
  }
 ],
 "metadata": {
  "kernelspec": {
   "display_name": "Python 3",
   "language": "python",
   "name": "python3"
  },
  "language_info": {
   "codemirror_mode": {
    "name": "ipython",
    "version": 3
   },
   "file_extension": ".py",
   "mimetype": "text/x-python",
   "name": "python",
   "nbconvert_exporter": "python",
   "pygments_lexer": "ipython3",
   "version": "3.6.5"
  }
 },
 "nbformat": 4,
 "nbformat_minor": 2
}
