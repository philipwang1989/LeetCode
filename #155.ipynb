{
 "cells": [
  {
   "cell_type": "code",
   "execution_count": 5,
   "metadata": {},
   "outputs": [
    {
     "name": "stdout",
     "output_type": "stream",
     "text": [
      "1\n",
      "[1, 2, 3]\n",
      "[1, 2]\n",
      "2\n"
     ]
    }
   ],
   "source": [
    "# 155. Min Stack\n",
    "class MinStack(object):\n",
    "\n",
    "    def __init__(self):\n",
    "        \"\"\"\n",
    "        initialize your data structure here.\n",
    "        \"\"\"\n",
    "        self.data = []\n",
    "        self.min = None\n",
    "        self.size = 0\n",
    "\n",
    "    def push(self, x):\n",
    "        \"\"\"\n",
    "        :type x: int\n",
    "        :rtype: None\n",
    "        \"\"\"\n",
    "        if self.size == 0:\n",
    "            self.min = x\n",
    "        elif x < self.min:\n",
    "            self.min = x\n",
    "        self.data.append(x)\n",
    "        self.size += 1\n",
    "\n",
    "    def pop(self):\n",
    "        \"\"\"\n",
    "        :rtype: None\n",
    "        \"\"\"\n",
    "        self.data.pop()\n",
    "        self.size -= 1\n",
    "        if self.size != 0:\n",
    "            self.min = min(self.data)\n",
    "        else:\n",
    "            self.min = None\n",
    "\n",
    "    def top(self):\n",
    "        \"\"\"\n",
    "        :rtype: int\n",
    "        \"\"\"\n",
    "        return self.data[-1]\n",
    "\n",
    "    def getMin(self):\n",
    "        \"\"\"\n",
    "        :rtype: int\n",
    "        \"\"\"\n",
    "        return self.min\n",
    "        \n",
    "\n",
    "obj = MinStack()\n",
    "obj.push(1)\n",
    "print(obj.getMin())\n",
    "obj.push(2)\n",
    "obj.push(3)\n",
    "print(obj.data)\n",
    "obj.pop()\n",
    "print(obj.data)\n",
    "param_3 = obj.top()\n",
    "print(param_3)\n",
    "#param_4 = obj.getMin()"
   ]
  },
  {
   "cell_type": "code",
   "execution_count": null,
   "metadata": {},
   "outputs": [],
   "source": []
  }
 ],
 "metadata": {
  "kernelspec": {
   "display_name": "Python 3",
   "language": "python",
   "name": "python3"
  },
  "language_info": {
   "codemirror_mode": {
    "name": "ipython",
    "version": 3
   },
   "file_extension": ".py",
   "mimetype": "text/x-python",
   "name": "python",
   "nbconvert_exporter": "python",
   "pygments_lexer": "ipython3",
   "version": "3.7.3"
  }
 },
 "nbformat": 4,
 "nbformat_minor": 2
}
