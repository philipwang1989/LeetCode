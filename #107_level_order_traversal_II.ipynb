{
 "cells": [
  {
   "cell_type": "code",
   "execution_count": null,
   "metadata": {},
   "outputs": [],
   "source": [
    "# 107. Binary Tree Level Order Traversal II\n",
    "# Given a binary tree, return the bottom-up level order \n",
    "# traversal of its nodes' values. (ie, from left to right\n",
    "# , level by level from leaf to root).\n",
    "\n",
    "# Definition for a binary tree node.\n",
    "# class TreeNode(object):\n",
    "#     def __init__(self, x):\n",
    "#         self.val = x\n",
    "#         self.left = None\n",
    "#         self.right = None\n",
    "\n",
    "class Solution(object):\n",
    "    def levelOrderBottom(self, root):\n",
    "        \"\"\"\n",
    "        :type root: TreeNode\n",
    "        :rtype: List[List[int]]\n",
    "        \"\"\"\n",
    "        res = []\n",
    "        if not root:\n",
    "            return []\n",
    "        q = [root]\n",
    "        while len(q) != 0:\n",
    "            qlen = len(q)\n",
    "            count = 0\n",
    "            cur = []\n",
    "            while count < qlen:\n",
    "                count += 1\n",
    "                root = q.pop()\n",
    "                cur.append(root.val)\n",
    "                if root.left:\n",
    "                    q.append(root.left)\n",
    "                if root.right:\n",
    "                    q.append(root.right)\n",
    "            res.append(cur)\n",
    "        return res[::-1]"
   ]
  }
 ],
 "metadata": {
  "kernelspec": {
   "display_name": "Python 3",
   "language": "python",
   "name": "python3"
  },
  "language_info": {
   "codemirror_mode": {
    "name": "ipython",
    "version": 3
   },
   "file_extension": ".py",
   "mimetype": "text/x-python",
   "name": "python",
   "nbconvert_exporter": "python",
   "pygments_lexer": "ipython3",
   "version": "3.6.5"
  }
 },
 "nbformat": 4,
 "nbformat_minor": 2
}
