{
 "cells": [
  {
   "cell_type": "code",
   "execution_count": null,
   "metadata": {},
   "outputs": [],
   "source": [
    "# 23. Merge k Sorted Lists\n",
    "# Brute force, but working solution\n",
    "# Definition for singly-linked list.\n",
    "# good but slow - time: O(kN), space: O(N)\n",
    "class ListNode(object):\n",
    "    def __init__(self, x):\n",
    "        self.val = x\n",
    "        self.next = None\n",
    "\n",
    "class Solution(object):\n",
    "    def mergeKLists(self, lists):\n",
    "        \"\"\"\n",
    "        :type lists: List[ListNode]\n",
    "        :rtype: ListNode\n",
    "        \"\"\"\n",
    "        if not lists:\n",
    "            return None\n",
    "        for i in range(len(lists)-1,-1,-1):\n",
    "            if not lists[i]:\n",
    "                del lists[i]\n",
    "        if not lists:\n",
    "            return None\n",
    "        head = ListNode(0)\n",
    "        curr = head\n",
    "        while lists:\n",
    "            minval = float('inf')\n",
    "            node_candidate = None\n",
    "            for i in range(len(lists)):\n",
    "                node = lists[i]\n",
    "                if node.val < minval:\n",
    "                    minval = node.val\n",
    "                    node_candidate = i\n",
    "            node = lists[node_candidate]\n",
    "            curr.next = node\n",
    "            curr = curr.next\n",
    "            if node.next:\n",
    "                lists[node_candidate] = node.next\n",
    "            else:\n",
    "                del lists[node_candidate]\n",
    "        return head.next"
   ]
  },
  {
   "cell_type": "code",
   "execution_count": 2,
   "metadata": {},
   "outputs": [
    {
     "data": {
      "text/plain": [
       "True"
      ]
     },
     "execution_count": 2,
     "metadata": {},
     "output_type": "execute_result"
    }
   ],
   "source": [
    "# merge with divide and conquer - time: O(Nlogk), space: O(1)?\n",
    "# very fast\n",
    "class Solution(object):\n",
    "    def mergeKLists(self, lists):\n",
    "        \"\"\"\n",
    "        :type lists: List[ListNode]\n",
    "        :rtype: ListNode\n",
    "        \"\"\"\n",
    "        amount = len(lists)\n",
    "        interval = 1\n",
    "        while interval < amount:\n",
    "            # if amount=3 (lists)\n",
    "            # interval=1, merge(0,1),(2,3)->no 3\n",
    "            # interval=2, merge(0,2)->no further\n",
    "            # done!\n",
    "            for i in range(0, amount - interval, interval * 2):\n",
    "                lists[i] = self.merge2Lists(lists[i], lists[i + interval])\n",
    "            interval *= 2\n",
    "        return lists[0] if amount > 0 else lists\n",
    "\n",
    "    def merge2Lists(self, l1, l2):\n",
    "        head = point = ListNode(0)\n",
    "        while l1 and l2:\n",
    "            if l1.val <= l2.val:\n",
    "                point.next = l1\n",
    "                l1 = l1.next\n",
    "            else:\n",
    "                point.next = l2\n",
    "                l2 = l1\n",
    "                l1 = point.next.next\n",
    "            point = point.next\n",
    "        if not l1:\n",
    "            point.next=l2\n",
    "        else:\n",
    "            point.next=l1\n",
    "        return head.next"
   ]
  },
  {
   "cell_type": "code",
   "execution_count": null,
   "metadata": {},
   "outputs": [],
   "source": []
  }
 ],
 "metadata": {
  "kernelspec": {
   "display_name": "Python 3",
   "language": "python",
   "name": "python3"
  },
  "language_info": {
   "codemirror_mode": {
    "name": "ipython",
    "version": 3
   },
   "file_extension": ".py",
   "mimetype": "text/x-python",
   "name": "python",
   "nbconvert_exporter": "python",
   "pygments_lexer": "ipython3",
   "version": "3.7.3"
  }
 },
 "nbformat": 4,
 "nbformat_minor": 2
}
