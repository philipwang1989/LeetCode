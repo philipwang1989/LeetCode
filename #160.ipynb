{
 "cells": [
  {
   "cell_type": "code",
   "execution_count": null,
   "metadata": {},
   "outputs": [],
   "source": [
    "# 160. Intersection of Two Linked Lists\n",
    "# Write a program to find the node at which \n",
    "# the intersection of two singly linked lists begins.\n",
    "# Definition for singly-linked list.\n",
    "# class ListNode(object):\n",
    "#     def __init__(self, x):\n",
    "#         self.val = x\n",
    "#         self.next = None\n",
    "\n",
    "class Solution(object):\n",
    "    def getIntersectionNode(self, headA, headB):\n",
    "        \"\"\"\n",
    "        :type head1, head1: ListNode\n",
    "        :rtype: ListNode\n",
    "        \"\"\"\n",
    "        if not headA or not headB:\n",
    "            return None\n",
    "        nodeA = headA\n",
    "        nodeB = headB\n",
    "        lenA = 0\n",
    "        lenB = 0\n",
    "        while nodeA.next != None:\n",
    "            nodeA = nodeA.next\n",
    "            lenA += 1\n",
    "        while nodeB.next != None:\n",
    "            nodeB = nodeB.next\n",
    "            lenB += 1\n",
    "        if nodeA != nodeB:\n",
    "            return None\n",
    "        if lenA > lenB:\n",
    "            diff = lenA - lenB\n",
    "            nodeA = headA\n",
    "            nodeB = headB\n",
    "        else:\n",
    "            diff = lenB - lenA\n",
    "            nodeA = headB\n",
    "            nodeB = headA\n",
    "        while diff > 0:\n",
    "            nodeA = nodeA.next\n",
    "            diff -= 1\n",
    "        while nodeA != nodeB:\n",
    "            nodeA = nodeA.next\n",
    "            nodeB = nodeB.next\n",
    "        return nodeA"
   ]
  }
 ],
 "metadata": {
  "kernelspec": {
   "display_name": "Python 3",
   "language": "python",
   "name": "python3"
  },
  "language_info": {
   "codemirror_mode": {
    "name": "ipython",
    "version": 3
   },
   "file_extension": ".py",
   "mimetype": "text/x-python",
   "name": "python",
   "nbconvert_exporter": "python",
   "pygments_lexer": "ipython3",
   "version": "3.6.5"
  }
 },
 "nbformat": 4,
 "nbformat_minor": 2
}
