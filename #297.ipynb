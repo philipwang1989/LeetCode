{
 "cells": [
  {
   "cell_type": "code",
   "execution_count": null,
   "metadata": {},
   "outputs": [],
   "source": [
    "# 297. Serialize and Deserialize Binary Tree\n",
    "# You just need to ensure that a binary tree\n",
    "# can be serialized to a string and this string\n",
    "# can be deserialized to the original tree structure.\n",
    "# Definition for a binary tree node.\n",
    "# class TreeNode(object):\n",
    "#     def __init__(self, x):\n",
    "#         self.val = x\n",
    "#         self.left = None\n",
    "#         self.right = None\n",
    "\n",
    "class Codec:\n",
    "\n",
    "    def serialize(self, root):\n",
    "        \"\"\"Encodes a tree to a single string.\n",
    "        \n",
    "        :type root: TreeNode\n",
    "        :rtype: str\n",
    "        \"\"\"\n",
    "        if not root:\n",
    "            return None\n",
    "        return ','.join(self.preorder(root))\n",
    "    def preorder(self, node):\n",
    "        if not node:\n",
    "            return ['X']\n",
    "        return [str(node.val)] + self.preorder(node.left) + self.preorder(node.right)\n",
    "    def deserialize(self, data):\n",
    "        \"\"\"Decodes your encoded data to tree.\n",
    "        \n",
    "        :type data: str\n",
    "        :rtype: TreeNode\n",
    "        \"\"\"\n",
    "        if not data:\n",
    "            return None\n",
    "        data = data.split(',')\n",
    "        return self.buildTree(data)\n",
    "    def buildTree(self, data):\n",
    "        node = data.pop(0)\n",
    "        if node == 'X':\n",
    "            return None\n",
    "        root = TreeNode(int(node))\n",
    "        root.left = self.buildTree(data)\n",
    "        root.right = self.buildTree(data)\n",
    "        \n",
    "        return root\n",
    "\n",
    "# Your Codec object will be instantiated and called as such:\n",
    "# codec = Codec()\n",
    "# codec.deserialize(codec.serialize(root))"
   ]
  },
  {
   "cell_type": "code",
   "execution_count": 6,
   "metadata": {},
   "outputs": [
    {
     "name": "stdout",
     "output_type": "stream",
     "text": [
      "['1', '2', 'X', 'X', '3', '4', 'X', 'X', '5', 'X', 'X']\n"
     ]
    }
   ],
   "source": [
    "s = '12XX34XX5XX'\n",
    "print(list(s))"
   ]
  },
  {
   "cell_type": "code",
   "execution_count": 8,
   "metadata": {},
   "outputs": [
    {
     "name": "stdout",
     "output_type": "stream",
     "text": [
      "5,4,3,2,1\n",
      "['5', '4', '3', '2', '1']\n"
     ]
    }
   ],
   "source": [
    "a = ['5','4','3','2','1']\n",
    "b = ','.join(a)\n",
    "print(b)\n",
    "print(b.split(','))"
   ]
  },
  {
   "cell_type": "code",
   "execution_count": null,
   "metadata": {},
   "outputs": [],
   "source": []
  }
 ],
 "metadata": {
  "kernelspec": {
   "display_name": "Python 3",
   "language": "python",
   "name": "python3"
  },
  "language_info": {
   "codemirror_mode": {
    "name": "ipython",
    "version": 3
   },
   "file_extension": ".py",
   "mimetype": "text/x-python",
   "name": "python",
   "nbconvert_exporter": "python",
   "pygments_lexer": "ipython3",
   "version": "3.6.5"
  }
 },
 "nbformat": 4,
 "nbformat_minor": 2
}
