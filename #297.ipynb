{
 "cells": [
  {
   "cell_type": "code",
   "execution_count": null,
   "metadata": {},
   "outputs": [],
   "source": [
    "# 297. Serialize and Deserialize Binary Tree\n",
    "# You just need to ensure that a binary tree\n",
    "# can be serialized to a string and this string\n",
    "# can be deserialized to the original tree structure.\n",
    "# Definition for a binary tree node.\n",
    "# class TreeNode(object):\n",
    "#     def __init__(self, x):\n",
    "#         self.val = x\n",
    "#         self.left = None\n",
    "#         self.right = None\n",
    "\n",
    "class Codec:\n",
    "\n",
    "    def serialize(self, root):\n",
    "        \"\"\"Encodes a tree to a single string.\n",
    "        \n",
    "        :type root: TreeNode\n",
    "        :rtype: str\n",
    "        \"\"\"\n",
    "        if not root:\n",
    "            return None\n",
    "        return ','.join(self.preorder(root))\n",
    "    def preorder(self, node):\n",
    "        if not node:\n",
    "            return ['X']\n",
    "        return [str(node.val)] + self.preorder(node.left) + self.preorder(node.right)\n",
    "    def deserialize(self, data):\n",
    "        \"\"\"Decodes your encoded data to tree.\n",
    "        \n",
    "        :type data: str\n",
    "        :rtype: TreeNode\n",
    "        \"\"\"\n",
    "        if not data:\n",
    "            return None\n",
    "        data = data.split(',')\n",
    "        return self.buildTree(data)\n",
    "    def buildTree(self, data):\n",
    "        node = data.pop(0)\n",
    "        if node == 'X':\n",
    "            return None\n",
    "        root = TreeNode(int(node))\n",
    "        root.left = self.buildTree(data)\n",
    "        root.right = self.buildTree(data)\n",
    "        \n",
    "        return root\n",
    "\n",
    "# Your Codec object will be instantiated and called as such:\n",
    "# codec = Codec()\n",
    "# codec.deserialize(codec.serialize(root))"
   ]
  },
  {
   "cell_type": "code",
   "execution_count": 2,
   "metadata": {},
   "outputs": [
    {
     "ename": "IndentationError",
     "evalue": "expected an indented block (<ipython-input-2-037cbb12b901>, line 23)",
     "output_type": "error",
     "traceback": [
      "\u001b[0;36m  File \u001b[0;32m\"<ipython-input-2-037cbb12b901>\"\u001b[0;36m, line \u001b[0;32m23\u001b[0m\n\u001b[0;31m    def deserialize(self, data):\u001b[0m\n\u001b[0m      ^\u001b[0m\n\u001b[0;31mIndentationError\u001b[0m\u001b[0;31m:\u001b[0m expected an indented block\n"
     ]
    }
   ],
   "source": [
    "# 297. Serialize and Deserialize Binary Tree\n",
    "# preorder: CLR\n",
    "# postorder: LRC\n",
    "# inorder: LCR\n",
    "# this version does not deal with negative number:\n",
    "# s='-110'\n",
    "# ss=','.join(s)\n",
    "# ss becomes ['-', '1', '1', '0']\n",
    "class TreeNode(object):\n",
    "    def __init__(self, x):\n",
    "        self.val = x\n",
    "        self.left = None\n",
    "        self.right = None\n",
    "\n",
    "class Codec:\n",
    "    def serialize(self, root):\n",
    "        \"\"\"Encodes a tree to a single string.\n",
    "        \n",
    "        :type root: TreeNode\n",
    "        :rtype: str\n",
    "        \"\"\"\n",
    "        if not root:\n",
    "            return None\n",
    "        return list(self.preorder(root))\n",
    "    \n",
    "    def preorder(self, node):\n",
    "        if not node:\n",
    "            return 'X'\n",
    "        return str(node.val) + self.preorder(node.left) + self.preorder(node.right)\n",
    "\n",
    "    def deserialize(self, data):\n",
    "        \"\"\"Decodes your encoded data to tree.\n",
    "        \n",
    "        :type data: str\n",
    "        :rtype: TreeNode\n",
    "        \"\"\"\n",
    "        if not data:\n",
    "            return None\n",
    "        return self.toTree(data)\n",
    "        \n",
    "    def toTree(self, data):\n",
    "        node = data.pop(0)\n",
    "        if node == 'X':\n",
    "            return None\n",
    "        root = TreeNode(int(node))\n",
    "        root.left = self.toTree(data)\n",
    "        root.right = self.toTree(data)\n",
    "        return root\n",
    "\n",
    "# Your Codec object will be instantiated and called as such:\n",
    "# codec = Codec()\n",
    "# codec.deserialize(codec.serialize(root))\n"
   ]
  },
  {
   "cell_type": "code",
   "execution_count": 1,
   "metadata": {},
   "outputs": [
    {
     "name": "stdout",
     "output_type": "stream",
     "text": [
      "['1', '2', 'X', 'X', '3', '4', 'X', 'X', '5', 'X', 'X']\n"
     ]
    }
   ],
   "source": [
    "s = '12XX34XX5XX'\n",
    "print(list(s))"
   ]
  },
  {
   "cell_type": "code",
   "execution_count": 8,
   "metadata": {},
   "outputs": [
    {
     "name": "stdout",
     "output_type": "stream",
     "text": [
      "-,1,1,0\n",
      "['-', '1', '1', '0']\n",
      "[]\n"
     ]
    },
    {
     "ename": "IndexError",
     "evalue": "pop from empty list",
     "output_type": "error",
     "traceback": [
      "\u001b[0;31m---------------------------------------------------------------------------\u001b[0m",
      "\u001b[0;31mIndexError\u001b[0m                                Traceback (most recent call last)",
      "\u001b[0;32m<ipython-input-8-3e9a4d77f494>\u001b[0m in \u001b[0;36m<module>\u001b[0;34m\u001b[0m\n\u001b[1;32m      7\u001b[0m     \u001b[0msss\u001b[0m\u001b[0;34m.\u001b[0m\u001b[0mpop\u001b[0m\u001b[0;34m(\u001b[0m\u001b[0;36m0\u001b[0m\u001b[0;34m)\u001b[0m\u001b[0;34m\u001b[0m\u001b[0;34m\u001b[0m\u001b[0m\n\u001b[1;32m      8\u001b[0m \u001b[0mprint\u001b[0m\u001b[0;34m(\u001b[0m\u001b[0msss\u001b[0m\u001b[0;34m)\u001b[0m\u001b[0;34m\u001b[0m\u001b[0;34m\u001b[0m\u001b[0m\n\u001b[0;32m----> 9\u001b[0;31m \u001b[0msss\u001b[0m\u001b[0;34m.\u001b[0m\u001b[0mpop\u001b[0m\u001b[0;34m(\u001b[0m\u001b[0;36m0\u001b[0m\u001b[0;34m)\u001b[0m\u001b[0;34m\u001b[0m\u001b[0;34m\u001b[0m\u001b[0m\n\u001b[0m",
      "\u001b[0;31mIndexError\u001b[0m: pop from empty list"
     ]
    }
   ],
   "source": [
    "s='-110'\n",
    "ss=','.join(s)\n",
    "print(ss)\n",
    "sss=ss.split(',')\n",
    "print(sss)\n",
    "while sss:\n",
    "    sss.pop(0)\n",
    "print(sss)\n",
    "sss.pop(0)"
   ]
  },
  {
   "cell_type": "code",
   "execution_count": 8,
   "metadata": {},
   "outputs": [
    {
     "name": "stdout",
     "output_type": "stream",
     "text": [
      "5,4,3,2,1\n",
      "['5', '4', '3', '2', '1']\n"
     ]
    }
   ],
   "source": [
    "a = ['5','4','3','2','1']\n",
    "b = ','.join(a)\n",
    "print(b)\n",
    "print(b.split(','))"
   ]
  }
 ],
 "metadata": {
  "kernelspec": {
   "display_name": "Python 3",
   "language": "python",
   "name": "python3"
  },
  "language_info": {
   "codemirror_mode": {
    "name": "ipython",
    "version": 3
   },
   "file_extension": ".py",
   "mimetype": "text/x-python",
   "name": "python",
   "nbconvert_exporter": "python",
   "pygments_lexer": "ipython3",
   "version": "3.7.3"
  }
 },
 "nbformat": 4,
 "nbformat_minor": 2
}
