{
 "cells": [
  {
   "cell_type": "code",
   "execution_count": 13,
   "metadata": {},
   "outputs": [
    {
     "name": "stdout",
     "output_type": "stream",
     "text": [
      "3 []\n",
      "- [3]\n",
      "1 [3]\n",
      "/ [3, -1]\n",
      "2 [3, 0]\n"
     ]
    },
    {
     "data": {
      "text/plain": [
       "3"
      ]
     },
     "execution_count": 13,
     "metadata": {},
     "output_type": "execute_result"
    }
   ],
   "source": [
    "# 227. Basic Calculator II\n",
    "class Solution(object):\n",
    "    def calculate(self, s):\n",
    "        \"\"\"\n",
    "        :type s: str\n",
    "        :rtype: int\n",
    "        \"\"\"\n",
    "        if not s:\n",
    "            return '0'\n",
    "        stack = []\n",
    "        num = 0\n",
    "        sign = '+' # sign of first num is always positive\n",
    "        for i in range(len(s)):\n",
    "            if s[i].isdigit():\n",
    "                num = num * 10 + ord(s[i]) - ord('0')\n",
    "            if (not s[i].isdigit() and not s[i].isspace()) or i == len(s)-1:\n",
    "                if sign == '-':\n",
    "                    stack.append(-num)\n",
    "                elif sign == '+':\n",
    "                    stack.append(num)\n",
    "                elif sign == '*':\n",
    "                    stack.append(stack.pop() * num)\n",
    "                else:\n",
    "                    temp = stack.pop()\n",
    "                    # -1//2=-1, but wants 0\n",
    "                    if temp//num < 0 and temp%num != 0: \n",
    "                        stack.append(temp//num+1)\n",
    "                    else:\n",
    "                        stack.append(temp//num)\n",
    "                sign = s[i]\n",
    "                num = 0\n",
    "        return sum(stack)\n",
    "\n",
    "    \n",
    "s = \"3-1/2\"\n",
    "Solution().calculate(s)      "
   ]
  },
  {
   "cell_type": "code",
   "execution_count": 1,
   "metadata": {},
   "outputs": [
    {
     "name": "stdout",
     "output_type": "stream",
     "text": [
      "7\n"
     ]
    }
   ],
   "source": [
    "s = '7'\n",
    "print(ord(s)-ord('0'))"
   ]
  },
  {
   "cell_type": "code",
   "execution_count": 14,
   "metadata": {},
   "outputs": [
    {
     "data": {
      "text/plain": [
       "-1"
      ]
     },
     "execution_count": 14,
     "metadata": {},
     "output_type": "execute_result"
    }
   ],
   "source": [
    "-1//2"
   ]
  },
  {
   "cell_type": "code",
   "execution_count": null,
   "metadata": {},
   "outputs": [],
   "source": []
  }
 ],
 "metadata": {
  "kernelspec": {
   "display_name": "Python 3",
   "language": "python",
   "name": "python3"
  },
  "language_info": {
   "codemirror_mode": {
    "name": "ipython",
    "version": 3
   },
   "file_extension": ".py",
   "mimetype": "text/x-python",
   "name": "python",
   "nbconvert_exporter": "python",
   "pygments_lexer": "ipython3",
   "version": "3.6.5"
  }
 },
 "nbformat": 4,
 "nbformat_minor": 2
}
