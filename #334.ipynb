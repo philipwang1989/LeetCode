{
 "cells": [
  {
   "cell_type": "code",
   "execution_count": 11,
   "metadata": {},
   "outputs": [
    {
     "name": "stdout",
     "output_type": "stream",
     "text": [
      "1 inf\n",
      "1 inf\n",
      "1 inf\n",
      "1 inf\n",
      "1 inf\n",
      "1 inf\n",
      "1 inf\n",
      "1 inf\n",
      "1 inf\n",
      "1 inf\n",
      "1 inf\n",
      "1 inf\n"
     ]
    },
    {
     "data": {
      "text/plain": [
       "False"
      ]
     },
     "execution_count": 11,
     "metadata": {},
     "output_type": "execute_result"
    }
   ],
   "source": [
    "# 334. Increasing Triplet Subsequence\n",
    "# Return true if there exists i, j, k \n",
    "# such that arr[i] < arr[j] < arr[k] \n",
    "# given 0 ≤ i < j < k ≤ n-1 else return false.\n",
    "# time: O(n), space: O(1)\n",
    "class Solution(object):\n",
    "    def increasingTriplet(self, nums):\n",
    "        \"\"\"\n",
    "        :type nums: List[int]\n",
    "        :rtype: bool\n",
    "        \"\"\"\n",
    "        first = float('inf') # save the first smallest\n",
    "        second = float('inf')# save the second smallest\n",
    "        for i in range(len(nums)):\n",
    "            if nums[i] <= first:\n",
    "                first = nums[i]\n",
    "            elif nums[i] <= second:\n",
    "                second = nums[i]\n",
    "            else:\n",
    "                return True\n",
    "        return False\n",
    "    \n",
    "nums = [1,2,3,4,5]\n",
    "nums = [1,1,1,1,1,1,1,1,1,1,1,1]\n",
    "# nums = [5,4,3,2,1]\n",
    "Solution().increasingTriplet(nums)"
   ]
  },
  {
   "cell_type": "code",
   "execution_count": 2,
   "metadata": {},
   "outputs": [
    {
     "data": {
      "text/plain": [
       "False"
      ]
     },
     "execution_count": 2,
     "metadata": {},
     "output_type": "execute_result"
    }
   ],
   "source": [
    "float('inf') < 1"
   ]
  },
  {
   "cell_type": "code",
   "execution_count": null,
   "metadata": {},
   "outputs": [],
   "source": []
  }
 ],
 "metadata": {
  "kernelspec": {
   "display_name": "Python 3",
   "language": "python",
   "name": "python3"
  },
  "language_info": {
   "codemirror_mode": {
    "name": "ipython",
    "version": 3
   },
   "file_extension": ".py",
   "mimetype": "text/x-python",
   "name": "python",
   "nbconvert_exporter": "python",
   "pygments_lexer": "ipython3",
   "version": "3.6.5"
  }
 },
 "nbformat": 4,
 "nbformat_minor": 2
}
