{
 "cells": [
  {
   "cell_type": "code",
   "execution_count": 57,
   "metadata": {},
   "outputs": [
    {
     "data": {
      "text/plain": [
       "[3, 5]"
      ]
     },
     "execution_count": 57,
     "metadata": {},
     "output_type": "execute_result"
    }
   ],
   "source": [
    "class Solution(object):\n",
    "    def searchRange(self, nums, target):\n",
    "        \"\"\"\n",
    "        :type nums: List[int]\n",
    "        :type target: int\n",
    "        :rtype: List[int]\n",
    "        \"\"\"\n",
    "        res = [-1,-1]\n",
    "        res[0] = self.binarySearchLeft(nums, target)\n",
    "        if res[0] == len(nums) or nums[res[0]] != target:\n",
    "            return [-1,-1]\n",
    "        res[1] = self.binarySearchRight(nums, target)\n",
    "        return res\n",
    "    \n",
    "    def binarySearchLeft(self, nums, target):\n",
    "        l = 0\n",
    "        r = len(nums)\n",
    "        while l < r:\n",
    "            mid = (l + r)//2\n",
    "            if nums[mid] >= target:\n",
    "                r = mid\n",
    "            else:\n",
    "                l = mid + 1\n",
    "        return l\n",
    "        \n",
    "    def binarySearchRight(self, nums, target):\n",
    "        l = 0\n",
    "        r = len(nums)\n",
    "        while l < r:\n",
    "            mid = (l + r)//2\n",
    "            if nums[mid] > target:\n",
    "                r = mid\n",
    "            else:\n",
    "                l = mid + 1\n",
    "        return r - 1\n",
    "    \n",
    "nums = [1,2,3,8,8,8,10]\n",
    "target = 8\n",
    "Solution().searchRange(nums, target)"
   ]
  },
  {
   "cell_type": "code",
   "execution_count": null,
   "metadata": {},
   "outputs": [],
   "source": [
    "def binarySearch(nums, target):\n",
    "    \"\"\"\n",
    "    :type nums: List[int]\n",
    "    :type target: int\n",
    "    :rtype: int\n",
    "    \"\"\"\n",
    "    if len(nums) == 0:\n",
    "        return -1\n",
    "\n",
    "    left, right = 0, len(nums) - 1\n",
    "    while left + 1 < right:\n",
    "        mid = (left + right) // 2\n",
    "        if nums[mid] == target:\n",
    "            return mid\n",
    "        elif nums[mid] < target:\n",
    "            left = mid\n",
    "        else:\n",
    "            right = mid\n",
    "\n",
    "    # Post-processing:\n",
    "    # End Condition: left + 1 == right\n",
    "    if nums[left] == target: return left\n",
    "    if nums[right] == target: return right\n",
    "    return -1"
   ]
  }
 ],
 "metadata": {
  "kernelspec": {
   "display_name": "Python 3",
   "language": "python",
   "name": "python3"
  },
  "language_info": {
   "codemirror_mode": {
    "name": "ipython",
    "version": 3
   },
   "file_extension": ".py",
   "mimetype": "text/x-python",
   "name": "python",
   "nbconvert_exporter": "python",
   "pygments_lexer": "ipython3",
   "version": "3.6.5"
  }
 },
 "nbformat": 4,
 "nbformat_minor": 2
}
