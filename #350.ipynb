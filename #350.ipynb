{
 "cells": [
  {
   "cell_type": "code",
   "execution_count": null,
   "metadata": {},
   "outputs": [],
   "source": [
    "# 350. Intersection of Two Arrays II\n",
    "# Given: nums1 = [1,2,2,1], nums2 = [2,2]\n",
    "# Output: [2,2]\n",
    "# hash table\n",
    "import collections\n",
    "class Solution:\n",
    "    def intersect(self, nums1: List[int], nums2: List[int]) -> List[int]:\n",
    "        if not nums1 or not nums2:\n",
    "            return []\n",
    "        d = collections.Counter(nums1)\n",
    "        result = []\n",
    "        for i in range(len(nums2)):\n",
    "            if nums2[i] in d and d[nums2[i]] > 0:\n",
    "                result += [nums2[i]]\n",
    "                d[nums2[i]] -= 1\n",
    "        return result"
   ]
  },
  {
   "cell_type": "code",
   "execution_count": null,
   "metadata": {},
   "outputs": [],
   "source": [
    "# What if the given array is already sorted?\n",
    "# How would you optimize your algorithm?\n",
    "\n",
    "# What if nums1's size is small compared to nums2's size?\n",
    "# Which algorithm is better?\n",
    "\n",
    "# What if elements of nums2 are stored on disk,\n",
    "# and the memory is limited such that you cannot\n",
    "# load all elements into the memory at once?"
   ]
  }
 ],
 "metadata": {
  "kernelspec": {
   "display_name": "Python 3",
   "language": "python",
   "name": "python3"
  },
  "language_info": {
   "codemirror_mode": {
    "name": "ipython",
    "version": 3
   },
   "file_extension": ".py",
   "mimetype": "text/x-python",
   "name": "python",
   "nbconvert_exporter": "python",
   "pygments_lexer": "ipython3",
   "version": "3.6.5"
  }
 },
 "nbformat": 4,
 "nbformat_minor": 2
}
