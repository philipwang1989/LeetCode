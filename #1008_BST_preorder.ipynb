{
 "cells": [
  {
   "cell_type": "code",
   "execution_count": null,
   "metadata": {},
   "outputs": [],
   "source": [
    "# 1008. Construct Binary Search Tree from Preorder Traversal\n",
    "# Definition for a binary tree node.\n",
    "# stack\n",
    "class TreeNode(object):\n",
    "    def __init__(self, x):\n",
    "        self.val = x\n",
    "        self.left = None\n",
    "        self.right = None\n",
    "\n",
    "class Solution(object):\n",
    "    def bstFromPreorder(self, preorder):\n",
    "        \"\"\"\n",
    "        :type preorder: List[int]\n",
    "        :rtype: TreeNode\n",
    "        \"\"\"\n",
    "        head = TreeNode(preorder[0])\n",
    "        q = [head]\n",
    "        for i in range(1, len(preorder)):\n",
    "            if preorder[i] < q[-1].val:\n",
    "                q[-1].left = TreeNode(preorder[i])\n",
    "                q.append(q[-1].left)\n",
    "            else:\n",
    "                while q and preorder[i] > q[-1].val:\n",
    "                    prev = q.pop()\n",
    "                prev.right = TreeNode(preorder[i])\n",
    "                q.append(prev.right)\n",
    "        return head"
   ]
  }
 ],
 "metadata": {
  "kernelspec": {
   "display_name": "Python 3",
   "language": "python",
   "name": "python3"
  },
  "language_info": {
   "codemirror_mode": {
    "name": "ipython",
    "version": 3
   },
   "file_extension": ".py",
   "mimetype": "text/x-python",
   "name": "python",
   "nbconvert_exporter": "python",
   "pygments_lexer": "ipython3",
   "version": "3.6.5"
  }
 },
 "nbformat": 4,
 "nbformat_minor": 2
}
