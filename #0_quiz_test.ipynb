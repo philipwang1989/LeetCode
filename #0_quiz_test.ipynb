{
 "cells": [
  {
   "cell_type": "code",
   "execution_count": 9,
   "metadata": {},
   "outputs": [
    {
     "data": {
      "text/plain": [
       "[3, 4, 5, 10]"
      ]
     },
     "execution_count": 9,
     "metadata": {},
     "output_type": "execute_result"
    }
   ],
   "source": [
    "# intersection of two sorted array\n",
    "class Solution():\n",
    "    def intersection(self, a, b):\n",
    "        ans = []\n",
    "        i = j = 0\n",
    "        while i < len(a) and j < len(b):\n",
    "            while i+1<len(a) and a[i] == a[i+1]:\n",
    "                i += 1\n",
    "            while j+1<len(b) and b[j] == b[j+1]:\n",
    "                i += 1\n",
    "            if a[i] == b[j]:\n",
    "                ans += [a[i]]\n",
    "                i += 1\n",
    "                j += 1\n",
    "            elif (a[i] > b[j]):\n",
    "                j += 1\n",
    "            else:\n",
    "                i += 1\n",
    "        return ans\n",
    "    \n",
    "a = [1,1,2,3,3,3,4,5,10,12]\n",
    "b = [3,4,5,6,7,10,11]\n",
    "Solution().intersection(a, b)"
   ]
  },
  {
   "cell_type": "code",
   "execution_count": 14,
   "metadata": {},
   "outputs": [
    {
     "data": {
      "text/plain": [
       "{1, 2, 3, 4, 5, 6, 7, 10, 11, 12}"
      ]
     },
     "execution_count": 14,
     "metadata": {},
     "output_type": "execute_result"
    }
   ],
   "source": [
    "a = [1,1,2,3,3,3,4,5,10,12]\n",
    "b = [3,4,5,6,7,10,11]\n",
    "a = set(a)\n",
    "b = set(b)\n",
    "a.intersection(b)\n",
    "a & b\n",
    "a.union(b)"
   ]
  },
  {
   "cell_type": "code",
   "execution_count": 1,
   "metadata": {},
   "outputs": [
    {
     "name": "stdout",
     "output_type": "stream",
     "text": [
      "[1, 0.5, 0.5, 0.5, 0.5, 0.5, 0.5, 0.5, 0.5, 0.5, 0.5, 0.5, 0.5, 0.5, 0.5, 0.5, 0.5, 0.5, 0.5, 0.5, 0.5, 0.5, 0.5, 0.5, 0.5, 0.5, 0.5, 0.5, 0.5, 0.5, 0.5, 0.5, 0.5, 0.5, 0.5, 0.5, 0.5, 0.5, 0.5, 0.5, 0.5, 0.5, 0.5, 0.5, 0.5, 0.5, 0.5, 0.5, 0.5, 0.5, 0.5, 0.5, 0.5, 0.5, 0.5, 0.5, 0.5, 0.5, 0.5, 0.5, 0.5, 0.5, 0.5, 0.5, 0.5, 0.5, 0.5, 0.5, 0.5, 0.5, 0.5, 0.5, 0.5, 0.5, 0.5, 0.5, 0.5, 0.5, 0.5, 0.5, 0.5, 0.5, 0.5, 0.5, 0.5, 0.5, 0.5, 0.5, 0.5, 0.5, 0.5, 0.5, 0.5, 0.5, 0.5, 0.5, 0.5, 0.5, 0.5, 0.5]\n"
     ]
    }
   ],
   "source": [
    "# drunk passenger\n",
    "n = 100\n",
    "a = [1,0.5]\n",
    "for i in range(2,n):\n",
    "    temp = 1/i + ((i-2)/i) * a[-1]\n",
    "    a.append(temp)\n",
    "print(a)"
   ]
  },
  {
   "cell_type": "code",
   "execution_count": null,
   "metadata": {},
   "outputs": [],
   "source": []
  }
 ],
 "metadata": {
  "kernelspec": {
   "display_name": "Python 3",
   "language": "python",
   "name": "python3"
  },
  "language_info": {
   "codemirror_mode": {
    "name": "ipython",
    "version": 3
   },
   "file_extension": ".py",
   "mimetype": "text/x-python",
   "name": "python",
   "nbconvert_exporter": "python",
   "pygments_lexer": "ipython3",
   "version": "3.6.5"
  }
 },
 "nbformat": 4,
 "nbformat_minor": 2
}
