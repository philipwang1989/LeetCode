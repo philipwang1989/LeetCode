{
 "cells": [
  {
   "cell_type": "code",
   "execution_count": null,
   "metadata": {},
   "outputs": [],
   "source": [
    "# 269. Alien Dictionary\n",
    "\n",
    "class Solution:\n",
    "    def alienOrder(self, words: List[str]) -> str:\n",
    "        \n",
    "        \n",
    "        \n",
    "words = [\n",
    "  \"wrt\",\n",
    "  \"wrf\",\n",
    "  \"er\",\n",
    "  \"ett\",\n",
    "  \"rftt\"\n",
    "]\n",
    "Solution().alienOrder(words)\n"
   ]
  },
  {
   "cell_type": "code",
   "execution_count": 3,
   "metadata": {},
   "outputs": [
    {
     "name": "stdout",
     "output_type": "stream",
     "text": [
      "['tf', 'we', 'rt', 'er']\n"
     ]
    },
    {
     "data": {
      "text/plain": [
       "'wertf'"
      ]
     },
     "execution_count": 3,
     "metadata": {},
     "output_type": "execute_result"
    }
   ],
   "source": [
    "class Solution:\n",
    "    def alienOrder(self, words):\n",
    "        \"\"\"\n",
    "        :type words: List[str]\n",
    "        :rtype: str\n",
    "        \"\"\"\n",
    "        less = []\n",
    "        \n",
    "        for i in range(len(words) - 1):\n",
    "            word1 = words[i]\n",
    "            word2 = words[i+1]\n",
    "            \n",
    "            for j in range(min(len(word1), len(word2))):\n",
    "                a = word1[j]\n",
    "                b = word2[j]\n",
    "                \n",
    "                if a != b:\n",
    "                    less.append(a + b)\n",
    "                    break\n",
    "        print(less)\n",
    "        chars = set(''.join(words))\n",
    "        order = []\n",
    "        while less:\n",
    "            free = chars - {pair[1] for pair in less}\n",
    "            if not free:\n",
    "                return ''\n",
    "            order.extend(free)\n",
    "            chars -= free\n",
    "            \n",
    "            less = [pair for pair in less if free.isdisjoint(pair)]\n",
    "           \n",
    "        return ''.join(order + list(chars))\n",
    "\n",
    "words = [\n",
    "  \"wrt\",\n",
    "  \"wrf\",\n",
    "  \"er\",\n",
    "  \"ett\",\n",
    "  \"rftt\"\n",
    "]\n",
    "\n",
    "Solution().alienOrder(words)"
   ]
  },
  {
   "cell_type": "code",
   "execution_count": null,
   "metadata": {},
   "outputs": [],
   "source": []
  }
 ],
 "metadata": {
  "kernelspec": {
   "display_name": "Python 3",
   "language": "python",
   "name": "python3"
  },
  "language_info": {
   "codemirror_mode": {
    "name": "ipython",
    "version": 3
   },
   "file_extension": ".py",
   "mimetype": "text/x-python",
   "name": "python",
   "nbconvert_exporter": "python",
   "pygments_lexer": "ipython3",
   "version": "3.7.3"
  }
 },
 "nbformat": 4,
 "nbformat_minor": 2
}
