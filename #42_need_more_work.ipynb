{
 "cells": [
  {
   "cell_type": "code",
   "execution_count": 12,
   "metadata": {},
   "outputs": [
    {
     "data": {
      "text/plain": [
       "0"
      ]
     },
     "execution_count": 12,
     "metadata": {},
     "output_type": "execute_result"
    }
   ],
   "source": [
    "# 42. Trapping Rain Water\n",
    "# start with brute force\n",
    "# A TLE solution\n",
    "# 对于任意两个点 i，j，height[i] 和 height[j]，并且 i != j，\n",
    "# 那么 [i,j] 区间将形成一个储水槽，储水量取决于两则高度偏小的一方。\n",
    "# 对于任意 k=(i,j) && height[k] < min(height[i], height[j])，\n",
    "# 那么位置 k 储水量应该为 water_k = min(height[i], height[j]) - height[k]， \n",
    "# 将所有满足要求的 k 检查一遍并将储水量相加，则可得到 [i,j] 区间水槽的储水量。\n",
    "class Solution(object):\n",
    "    def trap(self, height):\n",
    "        ans = 0\n",
    "#         temp = [0] * len(height)\n",
    "        for i in range(0, len(height)):\n",
    "            max_l = 0\n",
    "            max_r = 0\n",
    "            # including i, make things easier\n",
    "            for j in range(i,-1,-1):\n",
    "                max_l = max(max_l,height[j])\n",
    "            for j in range(i,len(height)): \n",
    "                max_r = max(max_r,height[j])\n",
    "            ans += min(max_l, max_r) - height[i]\n",
    "#         print(temp)\n",
    "        return ans\n",
    "        \n",
    "# height = [0,1,0,2,1,0,1,3,2,1,2,1]\n",
    "height = []\n",
    "Solution().trap(height)"
   ]
  },
  {
   "cell_type": "code",
   "execution_count": 11,
   "metadata": {},
   "outputs": [
    {
     "data": {
      "text/plain": [
       "6"
      ]
     },
     "execution_count": 11,
     "metadata": {},
     "output_type": "execute_result"
    }
   ],
   "source": [
    "# with easy to understand two ptrs, or the so-called DP method\n",
    "# (1)当 right_max[i] > left_max[i] 时，储水量取决于 left_max[i]，\n",
    "# 其中 left_max[i] 存储 [0,...,i] 的最大值；\n",
    "# (2)当 right_max[i] < left_max[i] 时，储水量取决于 right_max[i]，\n",
    "# 其中 right_max[i] 存储 [i,...,n-1] 的最大值；\n",
    "class Solution(object):\n",
    "    def trap(self, height):\n",
    "        \"\"\"\n",
    "        :type height: List[int]\n",
    "        :rtype: int\n",
    "        \"\"\"\n",
    "        ans = 0\n",
    "        l = 0\n",
    "        r = len(height)-1\n",
    "        lmax = [0] * len(height)\n",
    "        rmax = [0] * len(height)\n",
    "        lmax[0] = height[0]\n",
    "        for i in range(1, len(height)):\n",
    "            lmax[i] = max(lmax[i-1], height[i])\n",
    "        rmax[len(height)-1] = height[len(height)-1]\n",
    "        for i in range(len(height)-2, -1, -1):\n",
    "            rmax[i] = max(rmax[i+1], height[i])\n",
    "        for i in range(0, len(height)):\n",
    "            ans += min(lmax[i], rmax[i]) - height[i]\n",
    "        return ans\n",
    "height = [0,1,0,2,1,0,1,3,2,1,2,1]\n",
    "Solution().trap(height)    "
   ]
  },
  {
   "cell_type": "code",
   "execution_count": 14,
   "metadata": {},
   "outputs": [
    {
     "name": "stdout",
     "output_type": "stream",
     "text": [
      "0 2 0 0\n",
      "1 2 1 0\n"
     ]
    },
    {
     "data": {
      "text/plain": [
       "1"
      ]
     },
     "execution_count": 14,
     "metadata": {},
     "output_type": "execute_result"
    }
   ],
   "source": [
    "# with two ptrs\n",
    "# (1)当 right_max[i] > left_max[i] 时，储水量取决于 left_max[i]，\n",
    "# 其中 left_max[i] 存储 [0,...,i] 的最大值；\n",
    "# (2)当 right_max[i] < left_max[i] 时，储水量取决于 right_max[i]，\n",
    "# 其中 right_max[i] 存储 [i,...,n-1] 的最大值；\n",
    "class Solution(object):\n",
    "    def trap(self, height):\n",
    "        \"\"\"\n",
    "        :type height: List[int]\n",
    "        :rtype: int\n",
    "        \"\"\"\n",
    "        ans = 0\n",
    "        l = 0\n",
    "        r = len(height)-1\n",
    "        lmax = 0\n",
    "        rmax = 0\n",
    "        while l < r:\n",
    "            print(l,r,lmax,rmax)\n",
    "            if height[l] < height[r]:\n",
    "                if height[l] >= lmax:\n",
    "                    lmax = height[l]\n",
    "                else:\n",
    "                    ans += (lmax - height[l])\n",
    "                l += 1\n",
    "            else:\n",
    "                if height[r] >= rmax:\n",
    "                    rmax = height[r]\n",
    "                else:\n",
    "                    ans += (rmax - height[r])\n",
    "                r -= 1\n",
    "        return ans\n",
    "        \n",
    "# height = [0,1,0,2,1,0,1,3,2,1,2,1]\n",
    "height = [1,0,2]\n",
    "Solution().trap(height)"
   ]
  },
  {
   "cell_type": "code",
   "execution_count": 8,
   "metadata": {},
   "outputs": [
    {
     "data": {
      "text/plain": [
       "0"
      ]
     },
     "execution_count": 8,
     "metadata": {},
     "output_type": "execute_result"
    }
   ],
   "source": [
    "# using stack, not working, why?\n",
    "class Solution(object):\n",
    "    def trap(self, height):\n",
    "        ans = 0\n",
    "        curr = 0\n",
    "        stack = []\n",
    "        while curr < len(height):\n",
    "            while len(stack) != 0 and height[curr] > height[stack[-1]]:\n",
    "                top = stack.pop()\n",
    "                if len(stack) == 0:\n",
    "                    break\n",
    "                distance = curr - stack[-1] - 1\n",
    "                bounded_height = min(height[curr], height[stack[-1]]) - height[top]\n",
    "                ans += distance * bounded_height\n",
    "            curr += 1\n",
    "            stack.append(curr)\n",
    "        return ans\n",
    "                \n",
    "height = [0,1,0,2,1,0,1,3,2,1,2,1]\n",
    "Solution().trap(height)\n",
    "# int trap(vector<int>& height)\n",
    "# {\n",
    "#     int ans = 0, current = 0;\n",
    "#     stack<int> st;\n",
    "#     while (current < height.size()) {\n",
    "#         while (!st.empty() && height[current] > height[st.top()]) {\n",
    "#             int top = st.top();\n",
    "#             st.pop();\n",
    "#             if (st.empty())\n",
    "#                 break;\n",
    "#             int distance = current - st.top() - 1;\n",
    "#             int bounded_height = min(height[current], height[st.top()]) - height[top];\n",
    "#             ans += distance * bounded_height;\n",
    "#         }\n",
    "#         st.push(current++);\n",
    "#     }\n",
    "#     return ans;\n",
    "# }"
   ]
  }
 ],
 "metadata": {
  "kernelspec": {
   "display_name": "Python 3",
   "language": "python",
   "name": "python3"
  },
  "language_info": {
   "codemirror_mode": {
    "name": "ipython",
    "version": 3
   },
   "file_extension": ".py",
   "mimetype": "text/x-python",
   "name": "python",
   "nbconvert_exporter": "python",
   "pygments_lexer": "ipython3",
   "version": "3.7.3"
  }
 },
 "nbformat": 4,
 "nbformat_minor": 2
}
