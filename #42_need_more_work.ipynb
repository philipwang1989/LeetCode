{
 "cells": [
  {
   "cell_type": "code",
   "execution_count": 6,
   "metadata": {},
   "outputs": [
    {
     "name": "stdout",
     "output_type": "stream",
     "text": [
      "0 0\n",
      "1 0\n",
      "1 1\n",
      "2 1\n",
      "2 2\n",
      "2 4\n",
      "2 5\n",
      "3 5\n",
      "3 6\n",
      "3 8\n",
      "3 9\n",
      "3 11\n"
     ]
    },
    {
     "data": {
      "text/plain": [
       "11"
      ]
     },
     "execution_count": 6,
     "metadata": {},
     "output_type": "execute_result"
    }
   ],
   "source": [
    "# 42. Trapping Rain Water\n",
    "# Input: [0,1,0,2,1,0,1,3,2,1,2,1]\n",
    "# Output: 6\n",
    "class Solution(object):\n",
    "    def trap(self, height):\n",
    "        \"\"\"\n",
    "        :type height: List[int]\n",
    "        :rtype: int\n",
    "        \"\"\"\n",
    "        result = 0\n",
    "        base = 0\n",
    "        for i in range(len(height)):\n",
    "            if base == 0 and height[i] != 0:\n",
    "                base = height[i]\n",
    "            if height[i] > base:\n",
    "                base = 0\n",
    "                base = height[i]\n",
    "            elif base:\n",
    "                result += (base - height[i])\n",
    "            print(base,result)\n",
    "        return result\n",
    "height = [0,1,0,2,1,0,1,3,2,1,2,1]\n",
    "Solution().trap(height)"
   ]
  },
  {
   "cell_type": "code",
   "execution_count": null,
   "metadata": {},
   "outputs": [],
   "source": []
  }
 ],
 "metadata": {
  "kernelspec": {
   "display_name": "Python 3",
   "language": "python",
   "name": "python3"
  },
  "language_info": {
   "codemirror_mode": {
    "name": "ipython",
    "version": 3
   },
   "file_extension": ".py",
   "mimetype": "text/x-python",
   "name": "python",
   "nbconvert_exporter": "python",
   "pygments_lexer": "ipython3",
   "version": "3.6.5"
  }
 },
 "nbformat": 4,
 "nbformat_minor": 2
}
