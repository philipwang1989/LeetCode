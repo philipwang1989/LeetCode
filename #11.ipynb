{
 "cells": [
  {
   "cell_type": "code",
   "execution_count": 4,
   "metadata": {},
   "outputs": [
    {
     "data": {
      "text/plain": [
       "49"
      ]
     },
     "execution_count": 4,
     "metadata": {},
     "output_type": "execute_result"
    }
   ],
   "source": [
    "# 11. Container With Most Water\n",
    "# brute force\n",
    "class Solution:\n",
    "    def maxArea(self, height):\n",
    "        maxarea = 0\n",
    "        for i in range(len(height)):\n",
    "            for j in range(i+1, len(height)):\n",
    "                maxarea = max(maxarea, min(height[i], height[j]) * (j - i))\n",
    "        return maxarea\n",
    "        \n",
    "height = [1,8,6,2,5,4,8,3,7]\n",
    "Solution().maxArea(height)"
   ]
  },
  {
   "cell_type": "code",
   "execution_count": 6,
   "metadata": {},
   "outputs": [
    {
     "data": {
      "text/plain": [
       "49"
      ]
     },
     "execution_count": 6,
     "metadata": {},
     "output_type": "execute_result"
    }
   ],
   "source": [
    "# 11. Container With Most Water\n",
    "# two pointers\n",
    "class Solution:\n",
    "    def maxArea(self, height):\n",
    "        l = 0\n",
    "        r = len(height) - 1\n",
    "        maxarea = 0\n",
    "        while l < r:\n",
    "            if height[r] > height[l]:\n",
    "                maxarea = max(maxarea, height[l] * (r - l))\n",
    "                l += 1\n",
    "            else:\n",
    "                maxarea = max(maxarea, height[r] * (r - l))\n",
    "                r -= 1\n",
    "        return maxarea\n",
    "height = [1,8,6,2,5,4,8,3,7]\n",
    "Solution().maxArea(height)"
   ]
  },
  {
   "cell_type": "code",
   "execution_count": null,
   "metadata": {},
   "outputs": [],
   "source": []
  }
 ],
 "metadata": {
  "kernelspec": {
   "display_name": "Python 3",
   "language": "python",
   "name": "python3"
  },
  "language_info": {
   "codemirror_mode": {
    "name": "ipython",
    "version": 3
   },
   "file_extension": ".py",
   "mimetype": "text/x-python",
   "name": "python",
   "nbconvert_exporter": "python",
   "pygments_lexer": "ipython3",
   "version": "3.6.5"
  }
 },
 "nbformat": 4,
 "nbformat_minor": 2
}
