{
 "cells": [
  {
   "cell_type": "code",
   "execution_count": 11,
   "metadata": {},
   "outputs": [
    {
     "name": "stdout",
     "output_type": "stream",
     "text": [
      "{1, 2, 4, 5, 6, 7, 105, 77, 210}\n",
      "1 2\n",
      "4 4\n",
      "105 4\n",
      "77 4\n",
      "210 4\n"
     ]
    },
    {
     "data": {
      "text/plain": [
       "4"
      ]
     },
     "execution_count": 11,
     "metadata": {},
     "output_type": "execute_result"
    }
   ],
   "source": [
    "# 128. Longest Consecutive Sequence\n",
    "\n",
    "# Input: [100, 4, 200, 1, 3, 2]\n",
    "# Output: 4\n",
    "# Explanation: \n",
    "# The longest consecutive elements sequence is [1, 2, 3, 4].\n",
    "# Therefore its length is 4.\n",
    "# requirement: O(n)\n",
    "\n",
    "class Solution(object):\n",
    "    def longestConsecutive(self, nums):\n",
    "        \"\"\"\n",
    "        :type nums: List[int]\n",
    "        :rtype: int\n",
    "        \"\"\"\n",
    "        longest_streak = 0\n",
    "        num_set = set(nums)\n",
    "        # print(num_set)\n",
    "        for num in num_set:\n",
    "            if num - 1 not in num_set: # this finds HEAD of consecutives\n",
    "                current_num = num\n",
    "                current_streak = 1\n",
    "\n",
    "                while current_num + 1 in num_set:\n",
    "                    current_num += 1\n",
    "                    current_streak += 1\n",
    "\n",
    "                longest_streak = max(longest_streak, current_streak)\n",
    "                # print(num,longest_streak)\n",
    "\n",
    "        return longest_streak\n",
    "nums = [210, 105, 4, 1, 5, 6, 2,77,7]\n",
    "Solution().longestConsecutive(nums)"
   ]
  },
  {
   "cell_type": "code",
   "execution_count": 3,
   "metadata": {},
   "outputs": [
    {
     "name": "stdout",
     "output_type": "stream",
     "text": [
      "{1, 2, 3, 100, 4, 200}\n"
     ]
    }
   ],
   "source": [
    "# set review\n",
    "nums = [100, 4, 200, 1, 3, 2]\n",
    "num_set = set(nums)\n",
    "print(num_set)"
   ]
  },
  {
   "cell_type": "code",
   "execution_count": null,
   "metadata": {},
   "outputs": [],
   "source": [
    "# brute force\n",
    "class Solution:\n",
    "    def longestConsecutive(self, nums):\n",
    "        longest_streak = 0\n",
    "\n",
    "        for num in nums:\n",
    "            current_num = num\n",
    "            current_streak = 1\n",
    "\n",
    "            while current_num + 1 in nums:\n",
    "                current_num += 1\n",
    "                current_streak += 1\n",
    "\n",
    "            longest_streak = max(longest_streak, current_streak)\n",
    "\n",
    "        return longest_streak"
   ]
  },
  {
   "cell_type": "code",
   "execution_count": null,
   "metadata": {},
   "outputs": [],
   "source": [
    "# sort then classify\n",
    "class Solution:\n",
    "    def longestConsecutive(self, nums):\n",
    "        if not nums:\n",
    "            return 0\n",
    "\n",
    "        nums.sort()\n",
    "\n",
    "        longest_streak = 1\n",
    "        current_streak = 1\n",
    "\n",
    "        for i in range(1, len(nums)):\n",
    "            if nums[i] != nums[i-1]:\n",
    "                if nums[i] == nums[i-1]+1:\n",
    "                    current_streak += 1\n",
    "                else:\n",
    "                    longest_streak = max(longest_streak, current_streak)\n",
    "                    current_streak = 1\n",
    "\n",
    "        return max(longest_streak, current_streak)"
   ]
  }
 ],
 "metadata": {
  "kernelspec": {
   "display_name": "Python 3",
   "language": "python",
   "name": "python3"
  },
  "language_info": {
   "codemirror_mode": {
    "name": "ipython",
    "version": 3
   },
   "file_extension": ".py",
   "mimetype": "text/x-python",
   "name": "python",
   "nbconvert_exporter": "python",
   "pygments_lexer": "ipython3",
   "version": "3.6.5"
  }
 },
 "nbformat": 4,
 "nbformat_minor": 2
}
