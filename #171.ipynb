{
 "cells": [
  {
   "cell_type": "code",
   "execution_count": 3,
   "metadata": {},
   "outputs": [
    {
     "name": "stdout",
     "output_type": "stream",
     "text": [
      "701\n"
     ]
    }
   ],
   "source": [
    "# 171. Excel Sheet Column Number\n",
    "# iteration 1\n",
    "class Solution:\n",
    "    def titleToNumber(self, s):\n",
    "        if len(s) == 0:\n",
    "            return None\n",
    "        if len(s) == 1:\n",
    "            return (ord(s) - ord('A') + 1)\n",
    "        result = 0\n",
    "        pos = 0\n",
    "        while pos < len(s):\n",
    "            current = len(s) - pos - 1\n",
    "            result += ((ord(s[current]) - ord('A') + 1) * (26 ** pos))\n",
    "            pos += 1\n",
    "        return result\n",
    "        \n",
    "string = 'ZY'\n",
    "s = Solution()\n",
    "print(s.titleToNumber(string))"
   ]
  },
  {
   "cell_type": "code",
   "execution_count": null,
   "metadata": {},
   "outputs": [],
   "source": [
    "# 171. Excel Sheet Column Number\n",
    "# iteration 2\n",
    "class Solution:\n",
    "    def titleToNumber(self, s):\n",
    "        res = 0\n",
    "        for i in s:\n",
    "            res = res*26 + ord(i)-ord('A')+1\n",
    "        return res"
   ]
  },
  {
   "cell_type": "code",
   "execution_count": null,
   "metadata": {},
   "outputs": [],
   "source": [
    "# 171. Excel Sheet Column Number\n",
    "# recursion\n"
   ]
  }
 ],
 "metadata": {
  "kernelspec": {
   "display_name": "Python 3",
   "language": "python",
   "name": "python3"
  },
  "language_info": {
   "codemirror_mode": {
    "name": "ipython",
    "version": 3
   },
   "file_extension": ".py",
   "mimetype": "text/x-python",
   "name": "python",
   "nbconvert_exporter": "python",
   "pygments_lexer": "ipython3",
   "version": "3.6.5"
  }
 },
 "nbformat": 4,
 "nbformat_minor": 2
}
