{
 "cells": [
  {
   "cell_type": "code",
   "execution_count": 10,
   "metadata": {},
   "outputs": [
    {
     "data": {
      "text/plain": [
       "(6, 3, 6)"
      ]
     },
     "execution_count": 10,
     "metadata": {},
     "output_type": "execute_result"
    }
   ],
   "source": [
    "# 53. Maximum Subarray w/ position\n",
    "# Input: [-2,1,-3,4,-1,2,1,-5,4],\n",
    "# Output: 6\n",
    "# Explanation: [4,-1,2,1] has the largest sum = 6.\n",
    "# T[i] is the sum of subarray from 0 to i-1\n",
    "# Vij = T[j] - T[i-1] - would have maximum if T[i-1] is minimized\n",
    "class Solution(object):\n",
    "    def maxSubArray(self, nums):\n",
    "        \"\"\"\n",
    "        :type nums: List[int]\n",
    "        :rtype: int\n",
    "        \"\"\"\n",
    "        T = nums[0] # sum from 0 to i-1\n",
    "        Vmax = nums[0]\n",
    "        Tmin = 0 # this is the minimizer s.t. Vmax = T - Tmin\n",
    "        l = r = 0\n",
    "        for i in range(1,len(nums)):\n",
    "            T += nums[i]\n",
    "            if T-Tmin > Vmax:\n",
    "                r = i\n",
    "                Vmax = T-Tmin\n",
    "            if T < Tmin:\n",
    "                Tmin = T\n",
    "                l = i+1\n",
    "#                 if i+1<r:\n",
    "#                     l = i+1\n",
    "#                 else:\n",
    "#                     l = r\n",
    "            \n",
    "        return Vmax, l, r\n",
    "            \n",
    "nums = [-2,1,-3,4,-1,2,1,-5,4]\n",
    "# nums = [-2,-3,-4,-5,2]\n",
    "Solution().maxSubArray(nums)"
   ]
  },
  {
   "cell_type": "code",
   "execution_count": 34,
   "metadata": {},
   "outputs": [
    {
     "data": {
      "text/plain": [
       "6"
      ]
     },
     "execution_count": 34,
     "metadata": {},
     "output_type": "execute_result"
    }
   ],
   "source": [
    "# Divide and conquer?\n",
    "class Solution(object):\n",
    "    def maxSubArray(self, nums):\n",
    "        \"\"\"\n",
    "        :type nums: List[int]\n",
    "        :rtype: int\n",
    "        \"\"\"\n",
    "        if len(nums) == 0:\n",
    "            return 0\n",
    "        return self.helper(nums, 0, len(nums)-1)\n",
    "    def helper(self, nums, l, r):\n",
    "        if l >= r:\n",
    "            return nums[l]\n",
    "        \n",
    "        mid = (l + r) // 2\n",
    "        lmax = self.helper(nums, l, mid-1)\n",
    "        rmax = self.helper(nums, mid+1, r)\n",
    "        mmax = nums[mid]\n",
    "        \n",
    "        t = mmax\n",
    "        for i in range(mid-1,l-1,-1):\n",
    "            t += nums[i]\n",
    "            mmax = max([mmax, t])\n",
    "            \n",
    "        t = mmax \n",
    "        for i in range(mid+1,r+1):\n",
    "            t += nums[i]\n",
    "            mmax = max([mmax, t])\n",
    "            \n",
    "        return max([mmax, max([lmax, rmax])])\n",
    "nums = [-2,1,-3,4,-1,2,1,-5,4]\n",
    "# nums = [1,1,-3]\n",
    "Solution().maxSubArray(nums)"
   ]
  },
  {
   "cell_type": "code",
   "execution_count": 3,
   "metadata": {},
   "outputs": [
    {
     "data": {
      "text/plain": [
       "(6, 1, 6)"
      ]
     },
     "execution_count": 3,
     "metadata": {},
     "output_type": "execute_result"
    }
   ],
   "source": [
    "class Solution:\n",
    "    def maxSubArray(self, nums):\n",
    "        T = nums[0]\n",
    "        Vmax = nums[0]\n",
    "        Tmin = min(0, T)\n",
    "        l = r = 0\n",
    "        for i in range(1,len(nums)):\n",
    "            T += nums[i]\n",
    "            if T - Tmin > Vmax:\n",
    "                Vmax = T - Tmin\n",
    "                r = i\n",
    "            if T < Tmin:\n",
    "                Tmin = T\n",
    "                # why this instead of l = i+1?\n",
    "                if i+1<r:\n",
    "                    l = i+1\n",
    "                else:\n",
    "                    l = r\n",
    "        return Vmax, l, r\n",
    "nums = [-2,1,-3,4,-1,2,1,-5,4]\n",
    "Solution().maxSubArray(nums)"
   ]
  },
  {
   "cell_type": "code",
   "execution_count": 3,
   "metadata": {},
   "outputs": [
    {
     "name": "stdout",
     "output_type": "stream",
     "text": [
      "[-2, 1, -3, 4, -1, 2, 1, -5, 4]\n",
      "[-2, 1, -3, 4, -1, 2, 1, -5, 4]\n",
      "[-2, 1, -2, 4, -1, 2, 1, -5, 4]\n",
      "[-2, 1, -2, 4, -1, 2, 1, -5, 4]\n",
      "[-2, 1, -2, 4, 3, 2, 1, -5, 4]\n",
      "[-2, 1, -2, 4, 3, 5, 1, -5, 4]\n",
      "[-2, 1, -2, 4, 3, 5, 6, -5, 4]\n",
      "[-2, 1, -2, 4, 3, 5, 6, 1, 4]\n",
      "[-2, 1, -2, 4, 3, 5, 6, 1, 5]\n"
     ]
    },
    {
     "data": {
      "text/plain": [
       "6"
      ]
     },
     "execution_count": 3,
     "metadata": {},
     "output_type": "execute_result"
    }
   ],
   "source": [
    "# 53. Maximum Subarray\n",
    "# Input: [-2,1,-3,4,-1,2,1,-5,4],\n",
    "# Output: 6\n",
    "# Explanation: [4,-1,2,1] has the largest sum = 6.\n",
    "class Solution(object):\n",
    "    def maxSubArray(self, nums):\n",
    "        \"\"\"\n",
    "        :type nums: List[int]\n",
    "        :rtype: int\n",
    "        \"\"\"\n",
    "        for i in range(1, len(nums)):\n",
    "            if nums[i-1] > 0:\n",
    "                nums[i] += nums[i-1]\n",
    "        return max(nums)\n",
    "\n",
    "nums = [-2,1,-3,4,-1,2,1,-5,4]\n",
    "print(nums)\n",
    "Solution().maxSubArray(nums)"
   ]
  },
  {
   "cell_type": "code",
   "execution_count": 32,
   "metadata": {},
   "outputs": [],
   "source": [
    "for i in range(0,0,-1):\n",
    "    print(i)"
   ]
  },
  {
   "cell_type": "code",
   "execution_count": null,
   "metadata": {},
   "outputs": [],
   "source": []
  }
 ],
 "metadata": {
  "kernelspec": {
   "display_name": "Python 3",
   "language": "python",
   "name": "python3"
  },
  "language_info": {
   "codemirror_mode": {
    "name": "ipython",
    "version": 3
   },
   "file_extension": ".py",
   "mimetype": "text/x-python",
   "name": "python",
   "nbconvert_exporter": "python",
   "pygments_lexer": "ipython3",
   "version": "3.7.3"
  }
 },
 "nbformat": 4,
 "nbformat_minor": 2
}
