{
 "cells": [
  {
   "cell_type": "code",
   "execution_count": 3,
   "metadata": {},
   "outputs": [
    {
     "name": "stdout",
     "output_type": "stream",
     "text": [
      "[-2, 1, -3, 4, -1, 2, 1, -5, 4]\n",
      "[-2, 1, -3, 4, -1, 2, 1, -5, 4]\n",
      "[-2, 1, -2, 4, -1, 2, 1, -5, 4]\n",
      "[-2, 1, -2, 4, -1, 2, 1, -5, 4]\n",
      "[-2, 1, -2, 4, 3, 2, 1, -5, 4]\n",
      "[-2, 1, -2, 4, 3, 5, 1, -5, 4]\n",
      "[-2, 1, -2, 4, 3, 5, 6, -5, 4]\n",
      "[-2, 1, -2, 4, 3, 5, 6, 1, 4]\n",
      "[-2, 1, -2, 4, 3, 5, 6, 1, 5]\n"
     ]
    },
    {
     "data": {
      "text/plain": [
       "6"
      ]
     },
     "execution_count": 3,
     "metadata": {},
     "output_type": "execute_result"
    }
   ],
   "source": [
    "# 53. Maximum Subarray\n",
    "# Input: [-2,1,-3,4,-1,2,1,-5,4],\n",
    "# Output: 6\n",
    "# Explanation: [4,-1,2,1] has the largest sum = 6.\n",
    "class Solution(object):\n",
    "    def maxSubArray(self, nums):\n",
    "        \"\"\"\n",
    "        :type nums: List[int]\n",
    "        :rtype: int\n",
    "        \"\"\"\n",
    "        for i in range(1, len(nums)):\n",
    "            if nums[i-1] > 0:\n",
    "                nums[i] += nums[i-1]\n",
    "        return max(nums)\n",
    "\n",
    "nums = [-2,1,-3,4,-1,2,1,-5,4]\n",
    "print(nums)\n",
    "Solution().maxSubArray(nums)"
   ]
  },
  {
   "cell_type": "code",
   "execution_count": 34,
   "metadata": {},
   "outputs": [
    {
     "data": {
      "text/plain": [
       "6"
      ]
     },
     "execution_count": 34,
     "metadata": {},
     "output_type": "execute_result"
    }
   ],
   "source": [
    "# Divide and conquer?\n",
    "class Solution(object):\n",
    "    def maxSubArray(self, nums):\n",
    "        \"\"\"\n",
    "        :type nums: List[int]\n",
    "        :rtype: int\n",
    "        \"\"\"\n",
    "        if len(nums) == 0:\n",
    "            return 0\n",
    "        return self.helper(nums, 0, len(nums)-1)\n",
    "    def helper(self, nums, l, r):\n",
    "        if l >= r:\n",
    "            return nums[l]\n",
    "        \n",
    "        mid = (l + r) // 2\n",
    "        lmax = self.helper(nums, l, mid-1)\n",
    "        rmax = self.helper(nums, mid+1, r)\n",
    "        mmax = nums[mid]\n",
    "        \n",
    "        t = mmax\n",
    "        for i in range(mid-1,l-1,-1):\n",
    "            t += nums[i]\n",
    "            mmax = max([mmax, t])\n",
    "            \n",
    "        t = mmax \n",
    "        for i in range(mid+1,r+1):\n",
    "            t += nums[i]\n",
    "            mmax = max([mmax, t])\n",
    "            \n",
    "        return max([mmax, max([lmax, rmax])])\n",
    "nums = [-2,1,-3,4,-1,2,1,-5,4]\n",
    "# nums = [1,1,-3]\n",
    "Solution().maxSubArray(nums)"
   ]
  },
  {
   "cell_type": "code",
   "execution_count": 32,
   "metadata": {},
   "outputs": [],
   "source": [
    "for i in range(0,0,-1):\n",
    "    print(i)"
   ]
  },
  {
   "cell_type": "code",
   "execution_count": null,
   "metadata": {},
   "outputs": [],
   "source": []
  }
 ],
 "metadata": {
  "kernelspec": {
   "display_name": "Python 3",
   "language": "python",
   "name": "python3"
  },
  "language_info": {
   "codemirror_mode": {
    "name": "ipython",
    "version": 3
   },
   "file_extension": ".py",
   "mimetype": "text/x-python",
   "name": "python",
   "nbconvert_exporter": "python",
   "pygments_lexer": "ipython3",
   "version": "3.6.5"
  }
 },
 "nbformat": 4,
 "nbformat_minor": 2
}
