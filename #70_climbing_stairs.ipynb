{
 "cells": [
  {
   "cell_type": "code",
   "execution_count": null,
   "metadata": {},
   "outputs": [],
   "source": [
    "# 70. Climbing Stairs\n",
    "# You are climbing a stair case. \n",
    "# It takes n steps to reach to the top.\n",
    "# Each time you can either climb 1 or 2 steps. \n",
    "# In how many distinct ways can you climb to the top?\n",
    "# n=1:\n",
    "# 1, 1\n",
    "# n=2:\n",
    "# 1+1 or 2, 2\n",
    "# n=3:\n",
    "# 1+1+1 or 1+2 or 2+1, 3, a3 = a2 + a1\n",
    "# n=4:\n",
    "# 1+1+1+1 or 2+2 or 1+2+1 or 2+1+1 or 1+1+2, 5, a4 = a3 + a2\n",
    "class Solution:\n",
    "    def climbStairs(self, n):\n",
    "        if n == 0:\n",
    "            return 0\n",
    "        a = [1,2] # for a1 and a2\n",
    "        if n < 3:\n",
    "            return a[n-1]\n",
    "        curr = 0\n",
    "        temp = 0\n",
    "        while curr < n:\n",
    "            temp = a[0] + a[1]\n",
    "            a[0] = a[1]\n",
    "            a[1] = temp\n",
    "            curr += 1\n",
    "        return a[-1]"
   ]
  }
 ],
 "metadata": {
  "kernelspec": {
   "display_name": "Python 3",
   "language": "python",
   "name": "python3"
  },
  "language_info": {
   "codemirror_mode": {
    "name": "ipython",
    "version": 3
   },
   "file_extension": ".py",
   "mimetype": "text/x-python",
   "name": "python",
   "nbconvert_exporter": "python",
   "pygments_lexer": "ipython3",
   "version": "3.6.5"
  }
 },
 "nbformat": 4,
 "nbformat_minor": 2
}
