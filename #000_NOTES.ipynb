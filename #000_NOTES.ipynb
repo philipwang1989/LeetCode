{
 "cells": [
  {
   "cell_type": "markdown",
   "metadata": {},
   "source": [
    "# Leetcode 148\n",
    "\n",
    "```\n",
    "# merge sort, recursively \n",
    "def sortList(self, head):\n",
    "    if not head or not head.next:\n",
    "        return head\n",
    "    # divide list into two parts\n",
    "    fast, slow = head.next, head\n",
    "    while fast and fast.next:\n",
    "        fast = fast.next.next\n",
    "        slow = slow.next\n",
    "    second = slow.next\n",
    "    # cut down the first part\n",
    "    slow.next = None\n",
    "    l = self.sortList(head)\n",
    "    r = self.sortList(second)\n",
    "    return self.merge(l, r)\n",
    "    \n",
    "# merge in-place without dummy node        \n",
    "def merge(self, l, r):\n",
    "    if not l or not r:\n",
    "        return l or r\n",
    "    if l.val > r.val:\n",
    "        l, r = r, l\n",
    "    # get the return node \"head\"\n",
    "    head = pre = l\n",
    "    l = l.next\n",
    "    while l and r:\n",
    "        if l.val < r.val:\n",
    "            l = l.next\n",
    "        else:\n",
    "            nxt = pre.next\n",
    "            pre.next = r\n",
    "            tmp = r.next\n",
    "            r.next = nxt\n",
    "            r = tmp\n",
    "        pre = pre.next\n",
    "    # l and r at least one is None\n",
    "    pre.next = l or r\n",
    "    return head\n",
    "```\n",
    "\n",
    "A good combination of:\n",
    "1. Two pointers\n",
    "2. Mergesort\n",
    "3. Linked list\n"
   ]
  }
 ],
 "metadata": {
  "kernelspec": {
   "display_name": "Python 3",
   "language": "python",
   "name": "python3"
  },
  "language_info": {
   "codemirror_mode": {
    "name": "ipython",
    "version": 3
   },
   "file_extension": ".py",
   "mimetype": "text/x-python",
   "name": "python",
   "nbconvert_exporter": "python",
   "pygments_lexer": "ipython3",
   "version": "3.6.5"
  }
 },
 "nbformat": 4,
 "nbformat_minor": 2
}
