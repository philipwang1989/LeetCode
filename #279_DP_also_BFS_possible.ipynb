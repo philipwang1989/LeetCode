{
 "cells": [
  {
   "cell_type": "code",
   "execution_count": 14,
   "metadata": {},
   "outputs": [
    {
     "name": "stdout",
     "output_type": "stream",
     "text": [
      "[0, 1, inf, inf, inf, inf]\n",
      "[0, 1, 2, inf, inf, inf]\n",
      "[0, 1, 2, 3, inf, inf]\n",
      "[0, 1, 2, 3, 4, inf]\n",
      "[0, 1, 2, 3, 1, inf]\n",
      "[0, 1, 2, 3, 1, 2]\n"
     ]
    },
    {
     "data": {
      "text/plain": [
       "2"
      ]
     },
     "execution_count": 14,
     "metadata": {},
     "output_type": "execute_result"
    }
   ],
   "source": [
    "# 279. Perfect Squares\n",
    "# Input: n = 12\n",
    "# Output: 3 \n",
    "# Explanation: 12 = 4 + 4 + 4.\n",
    "#\n",
    "# Input: n = 13\n",
    "# Output: 2\n",
    "# Explanation: 13 = 4 + 9.\n",
    "class Solution(object):\n",
    "    def numSquares(self, n):\n",
    "        \"\"\"\n",
    "        :type n: int\n",
    "        :rtype: int\n",
    "        \"\"\"\n",
    "        if n==0:\n",
    "            return 0\n",
    "        output = [float('inf')]*(n+1)\n",
    "        output[0] = 0\n",
    "        output[1] = 1\n",
    "        for i in range(2,n+1):\n",
    "            j = 1\n",
    "            while(j*j<=i):\n",
    "                output[i] = min(output[i],output[i-j*j]+1)\n",
    "                j = j+1\n",
    "        \n",
    "        return output[n]\n",
    "\n",
    "Solution().numSquares(5)    \n",
    "        "
   ]
  },
  {
   "cell_type": "code",
   "execution_count": null,
   "metadata": {},
   "outputs": [],
   "source": [
    "# BFS\n"
   ]
  }
 ],
 "metadata": {
  "kernelspec": {
   "display_name": "Python 3",
   "language": "python",
   "name": "python3"
  },
  "language_info": {
   "codemirror_mode": {
    "name": "ipython",
    "version": 3
   },
   "file_extension": ".py",
   "mimetype": "text/x-python",
   "name": "python",
   "nbconvert_exporter": "python",
   "pygments_lexer": "ipython3",
   "version": "3.6.5"
  }
 },
 "nbformat": 4,
 "nbformat_minor": 2
}
