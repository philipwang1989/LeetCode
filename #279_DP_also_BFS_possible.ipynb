{
 "cells": [
  {
   "cell_type": "code",
   "execution_count": 20,
   "metadata": {},
   "outputs": [
    {
     "data": {
      "text/plain": [
       "1"
      ]
     },
     "execution_count": 20,
     "metadata": {},
     "output_type": "execute_result"
    }
   ],
   "source": [
    "# 279. Perfect Squares\n",
    "# brute force, DFS\n",
    "class Solution(object):\n",
    "    def __init__(self):\n",
    "        self.ans = float('inf')\n",
    "        \n",
    "    def numSquares(self, n):\n",
    "        \"\"\"\n",
    "        :type n: int\n",
    "        :rtype: int\n",
    "        \"\"\"\n",
    "        if n==0:\n",
    "            return 0\n",
    "        squares = [i*i for i in range(1, int(n ** 0.5)+1)]\n",
    "        self.DFS(squares, 0, n)\n",
    "        return self.ans\n",
    "        \n",
    "    def DFS(self, squares, count, n):\n",
    "        if n == 0:\n",
    "            self.ans = min(self.ans, count)\n",
    "            return\n",
    "        for i in range(len(squares)):\n",
    "            if n - squares[i] >= 0:\n",
    "                self.DFS(squares, count+1, n-squares[i])\n",
    "            else:\n",
    "                return\n",
    "        \n",
    "        \n",
    "Solution().numSquares(25)"
   ]
  },
  {
   "cell_type": "code",
   "execution_count": 25,
   "metadata": {},
   "outputs": [
    {
     "data": {
      "text/plain": [
       "2"
      ]
     },
     "execution_count": 25,
     "metadata": {},
     "output_type": "execute_result"
    }
   ],
   "source": [
    "# 279. Perfect Squares\n",
    "# Greedy\n",
    "class Solution(object):\n",
    "    def numSquares(self, n):\n",
    "        \"\"\"\n",
    "        :type n: int\n",
    "        :rtype: int\n",
    "        \"\"\"\n",
    "        if n==0:\n",
    "            return 0\n",
    "        squares = [i*i for i in range(1, int(n ** 0.5)+1)]\n",
    "        for count in range(1, n+1):\n",
    "            if self.greedy(squares, n, count):\n",
    "                return count\n",
    "    def greedy(self, squares, n, count):\n",
    "        if count == 1:\n",
    "            return n in squares\n",
    "        for num in squares:\n",
    "            if n-num >= 0 and self.greedy(squares, n-num, count-1):\n",
    "                return True\n",
    "        return False\n",
    "Solution().numSquares(13)"
   ]
  },
  {
   "cell_type": "code",
   "execution_count": null,
   "metadata": {},
   "outputs": [],
   "source": [
    "# Greedy + BFS\n",
    "class Solution:\n",
    "    def numSquares(self, n):\n",
    "\n",
    "        # list of square numbers that are less than `n`\n",
    "        square_nums = [i * i for i in range(1, int(n**0.5)+1)]\n",
    "    \n",
    "        level = 0\n",
    "        queue = {n}\n",
    "        while queue:\n",
    "            level += 1\n",
    "            #! Important: use set() instead of list() to eliminate the redundancy,\n",
    "            # which would even provide a 5-times speedup, 200ms vs. 1000ms.\n",
    "            next_queue = set()\n",
    "            # construct the queue for the next level\n",
    "            for remainder in queue:\n",
    "                for square_num in square_nums:    \n",
    "                    if remainder == square_num:\n",
    "                        return level  # find the node!\n",
    "                    elif remainder < square_num:\n",
    "                        break\n",
    "                    else:\n",
    "                        next_queue.add(remainder - square_num)\n",
    "            queue = next_queue\n",
    "        return level"
   ]
  },
  {
   "cell_type": "code",
   "execution_count": 14,
   "metadata": {},
   "outputs": [
    {
     "name": "stdout",
     "output_type": "stream",
     "text": [
      "[0, 1, inf, inf, inf, inf]\n",
      "[0, 1, 2, inf, inf, inf]\n",
      "[0, 1, 2, 3, inf, inf]\n",
      "[0, 1, 2, 3, 4, inf]\n",
      "[0, 1, 2, 3, 1, inf]\n",
      "[0, 1, 2, 3, 1, 2]\n"
     ]
    },
    {
     "data": {
      "text/plain": [
       "2"
      ]
     },
     "execution_count": 14,
     "metadata": {},
     "output_type": "execute_result"
    }
   ],
   "source": [
    "# 279. Perfect Squares\n",
    "# Input: n = 12\n",
    "# Output: 3 \n",
    "# Explanation: 12 = 4 + 4 + 4.\n",
    "#\n",
    "# Input: n = 13\n",
    "# Output: 2\n",
    "# Explanation: 13 = 4 + 9.\n",
    "class Solution(object):\n",
    "    def numSquares(self, n):\n",
    "        \"\"\"\n",
    "        :type n: int\n",
    "        :rtype: int\n",
    "        \"\"\"\n",
    "        if n==0:\n",
    "            return 0\n",
    "        output = [float('inf')]*(n+1)\n",
    "        output[0] = 0\n",
    "        output[1] = 1\n",
    "        for i in range(2,n+1):\n",
    "            j = 1\n",
    "            while(j*j<=i):\n",
    "                output[i] = min(output[i],output[i-j*j]+1)\n",
    "                j = j+1\n",
    "        # the logic runs the following:\n",
    "        # say we are at 2, then 1*1 <= 2, so output is the minimum of\n",
    "        # (ouput[2]=inf, output[2-1]=1) + 1 => output[2]=2=1^2 + 1^2\n",
    "        # say now we are at 4, then start with 1*1 <= 4, output is the\n",
    "        # minimum of (ouput[4]=inf, output[4-1]=3) + 1\n",
    "        # => output[4] = 4 = 1^2 + 1^2 + ...\n",
    "        # 2*2 <= 4: output is now min(output[4]=4, output[4-4]=0) + 1 = 1!\n",
    "        return output[n]\n",
    "\n",
    "Solution().numSquares(5)    \n",
    "        "
   ]
  }
 ],
 "metadata": {
  "kernelspec": {
   "display_name": "Python 3",
   "language": "python",
   "name": "python3"
  },
  "language_info": {
   "codemirror_mode": {
    "name": "ipython",
    "version": 3
   },
   "file_extension": ".py",
   "mimetype": "text/x-python",
   "name": "python",
   "nbconvert_exporter": "python",
   "pygments_lexer": "ipython3",
   "version": "3.7.3"
  }
 },
 "nbformat": 4,
 "nbformat_minor": 2
}
