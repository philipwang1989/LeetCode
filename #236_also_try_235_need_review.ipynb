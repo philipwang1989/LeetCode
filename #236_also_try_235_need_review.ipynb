{
 "cells": [
  {
   "cell_type": "code",
   "execution_count": null,
   "metadata": {},
   "outputs": [],
   "source": [
    "# 236. Lowest Common Ancestor of a Binary Tree\n",
    "# Definition for a binary tree node.\n",
    "# class TreeNode(object):\n",
    "#     def __init__(self, x):\n",
    "#         self.val = x\n",
    "#         self.left = None\n",
    "#         self.right = None\n",
    "\n",
    "class Solution(object):\n",
    "    def lowestCommonAncestor(self, root, p, q):\n",
    "        \"\"\"\n",
    "        :type root: TreeNode\n",
    "        :type p: TreeNode\n",
    "        :type q: TreeNode\n",
    "        :rtype: TreeNode\n",
    "        \"\"\"\n",
    "#         if root != None:\n",
    "#             print(root.val)\n",
    "        if not root or root == p or root == q:\n",
    "            return root\n",
    "        left = self.lowestCommonAncestor(root.left,p,q)\n",
    "        right = self.lowestCommonAncestor(root.right,p,q)\n",
    "        if left and right:\n",
    "            return root\n",
    "        return left if left else right"
   ]
  },
  {
   "cell_type": "code",
   "execution_count": null,
   "metadata": {},
   "outputs": [],
   "source": [
    "class Solution:\n",
    "\n",
    "    def __init__(self):\n",
    "        # Variable to store LCA node.\n",
    "        self.ans = None\n",
    "\n",
    "    def lowestCommonAncestor(self, root, p, q):\n",
    "        \"\"\"\n",
    "        :type root: TreeNode\n",
    "        :type p: TreeNode\n",
    "        :type q: TreeNode\n",
    "        :rtype: TreeNode\n",
    "        \"\"\"\n",
    "        def recurse_tree(current_node):\n",
    "\n",
    "            # If reached the end of a branch, return False.\n",
    "            if not current_node:\n",
    "                return False\n",
    "\n",
    "            # Left Recursion\n",
    "            left = recurse_tree(current_node.left)\n",
    "\n",
    "            # Right Recursion\n",
    "            right = recurse_tree(current_node.right)\n",
    "\n",
    "            # If the current node is one of p or q\n",
    "            mid = current_node == p or current_node == q\n",
    "\n",
    "            # If any two of the three flags left, right or mid become True.\n",
    "            if mid + left + right >= 2:\n",
    "                self.ans = current_node\n",
    "\n",
    "            # Return True if either of the three bool values is True.\n",
    "            return mid or left or right\n",
    "\n",
    "        # Traverse the tree\n",
    "        recurse_tree(root)\n",
    "        return self.ans"
   ]
  }
 ],
 "metadata": {
  "kernelspec": {
   "display_name": "Python 3",
   "language": "python",
   "name": "python3"
  },
  "language_info": {
   "codemirror_mode": {
    "name": "ipython",
    "version": 3
   },
   "file_extension": ".py",
   "mimetype": "text/x-python",
   "name": "python",
   "nbconvert_exporter": "python",
   "pygments_lexer": "ipython3",
   "version": "3.6.5"
  }
 },
 "nbformat": 4,
 "nbformat_minor": 2
}
