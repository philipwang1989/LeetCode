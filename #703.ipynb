{
 "cells": [
  {
   "cell_type": "code",
   "execution_count": 41,
   "metadata": {},
   "outputs": [
    {
     "name": "stdout",
     "output_type": "stream",
     "text": [
      "[-1, 0]\n",
      "[1, 2]\n"
     ]
    },
    {
     "data": {
      "text/plain": [
       "-1"
      ]
     },
     "execution_count": 41,
     "metadata": {},
     "output_type": "execute_result"
    }
   ],
   "source": [
    "# 703. Kth Largest Element in a Stream\n",
    "# using BST - TLE unfortunately...\n",
    "class KthLargest(object):\n",
    "    def __init__(self, k, nums):\n",
    "        \"\"\"\n",
    "        :type k: int\n",
    "        :type nums: List[int]\n",
    "        \"\"\"\n",
    "        self.root = None\n",
    "        self.k = k\n",
    "        if not nums:\n",
    "            return None\n",
    "        self.root = TreeNode(nums[0])\n",
    "        for i in range(1,len(nums)):\n",
    "            self.buildBST(self.root, nums[i])\n",
    "#         print(self.inorder(self.root))\n",
    "#         print(self.listCnt(self.root))\n",
    "        return\n",
    "\n",
    "    def add(self, val):\n",
    "        \"\"\"\n",
    "        :type val: int\n",
    "        :rtype: int\n",
    "        \"\"\"\n",
    "        if not self.root:\n",
    "            self.root = TreeNode(val)\n",
    "        else:\n",
    "            self.buildBST(self.root, val)\n",
    "        print(self.inorder(self.root))\n",
    "        print(self.listCnt(self.root))\n",
    "        return self.searchKL(self.root, self.k)\n",
    "    \n",
    "    def searchKL(self, root, k):\n",
    "        if not root.right and k == 1:\n",
    "            return root.val\n",
    "        if root.right:\n",
    "            if root.right.cnt + 1 == k:\n",
    "                return root.val # found\n",
    "            elif root.right.cnt < k and root.left: # in the left subtress\n",
    "                new_k = k - root.right.cnt - 1\n",
    "                return self.searchKL(root.left, new_k)\n",
    "            else: # in the right subtree\n",
    "                return self.searchKL(root.right, k)\n",
    "        if root.left:\n",
    "            new_k = k - 1\n",
    "            return self.searchKL(root.left, new_k)\n",
    "        return \n",
    "    \n",
    "    def buildBST(self, root, num):\n",
    "        if num > root.val:\n",
    "            root.cnt += 1\n",
    "            if not root.right:\n",
    "                root.right = TreeNode(num)\n",
    "            else:\n",
    "                self.buildBST(root.right,num)\n",
    "        elif num <= root.val:\n",
    "            root.cnt += 1\n",
    "            if not root.left:\n",
    "                root.left = TreeNode(num)\n",
    "            else:\n",
    "                self.buildBST(root.left,num)\n",
    "#         else:\n",
    "#             root.cnt += 1\n",
    "        return\n",
    "    def inorder(self, root):\n",
    "        if not root:\n",
    "            return []\n",
    "        return self.inorder(root.left) + [root.val] + self.inorder(root.right)\n",
    "    def listCnt(self, root):\n",
    "        if not root:\n",
    "            return []\n",
    "        return self.listCnt(root.left) + [root.cnt] + self.listCnt(root.right)\n",
    "class TreeNode(object):\n",
    "    def __init__(self, x):\n",
    "        self.val = x\n",
    "        self.left = None\n",
    "        self.right = None\n",
    "        self.cnt = 1\n",
    "k = 2\n",
    "nums = [0]\n",
    "sol = KthLargest(k, nums)\n",
    "sol.add(-1)\n",
    "# sol.add(1)\n",
    "# sol.add(-2)\n",
    "# sol.add(-4)\n",
    "# sol.add(3)"
   ]
  },
  {
   "cell_type": "code",
   "execution_count": 7,
   "metadata": {},
   "outputs": [
    {
     "name": "stdout",
     "output_type": "stream",
     "text": [
      "[8, 5, 4, 3, 2]\n"
     ]
    },
    {
     "data": {
      "text/plain": [
       "4"
      ]
     },
     "execution_count": 7,
     "metadata": {},
     "output_type": "execute_result"
    }
   ],
   "source": [
    "# 703. Kth Largest Element in a Stream\n",
    "# dumb method\n",
    "class KthLargest(object):\n",
    "\n",
    "    def __init__(self, k, nums):\n",
    "        \"\"\"\n",
    "        :type k: int\n",
    "        :type nums: List[int]\n",
    "        \"\"\"\n",
    "        self.stream = nums\n",
    "        self.k = k\n",
    "\n",
    "    def add(self, val):\n",
    "        \"\"\"\n",
    "        :type val: int\n",
    "        :rtype: int\n",
    "        \"\"\"\n",
    "        self.stream.append(val)\n",
    "        self.stream.sort(reverse=True)\n",
    "        return self.stream[self.k-1]\n",
    "\n",
    "\n",
    "# Your KthLargest object will be instantiated and called as such:\n",
    "# obj = KthLargest(k, nums)\n",
    "# param_1 = obj.add(val)\n",
    "k = 3\n",
    "nums = [4,5,8,2]\n",
    "sol = KthLargest(k, nums)\n",
    "sol.add(3)"
   ]
  },
  {
   "cell_type": "code",
   "execution_count": null,
   "metadata": {},
   "outputs": [],
   "source": []
  }
 ],
 "metadata": {
  "kernelspec": {
   "display_name": "Python 3",
   "language": "python",
   "name": "python3"
  },
  "language_info": {
   "codemirror_mode": {
    "name": "ipython",
    "version": 3
   },
   "file_extension": ".py",
   "mimetype": "text/x-python",
   "name": "python",
   "nbconvert_exporter": "python",
   "pygments_lexer": "ipython3",
   "version": "3.6.5"
  }
 },
 "nbformat": 4,
 "nbformat_minor": 2
}
