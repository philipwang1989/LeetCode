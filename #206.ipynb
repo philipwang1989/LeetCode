{
 "cells": [
  {
   "cell_type": "code",
   "execution_count": 2,
   "metadata": {},
   "outputs": [
    {
     "name": "stdout",
     "output_type": "stream",
     "text": [
      "[1, 2, 3, 4, 5]\n"
     ]
    },
    {
     "ename": "AttributeError",
     "evalue": "'list' object has no attribute 'next'",
     "output_type": "error",
     "traceback": [
      "\u001b[0;31m---------------------------------------------------------------------------\u001b[0m",
      "\u001b[0;31mAttributeError\u001b[0m                            Traceback (most recent call last)",
      "\u001b[0;32m<ipython-input-2-6c58fe8edfb5>\u001b[0m in \u001b[0;36m<module>\u001b[0;34m()\u001b[0m\n\u001b[1;32m     11\u001b[0m \u001b[0mprint\u001b[0m\u001b[0;34m(\u001b[0m\u001b[0mlinkedList\u001b[0m\u001b[0;34m)\u001b[0m\u001b[0;34m\u001b[0m\u001b[0m\n\u001b[1;32m     12\u001b[0m \u001b[0ms\u001b[0m \u001b[0;34m=\u001b[0m \u001b[0mSolution\u001b[0m\u001b[0;34m(\u001b[0m\u001b[0;34m)\u001b[0m\u001b[0;34m\u001b[0m\u001b[0m\n\u001b[0;32m---> 13\u001b[0;31m \u001b[0ms\u001b[0m\u001b[0;34m.\u001b[0m\u001b[0mreverseList\u001b[0m\u001b[0;34m(\u001b[0m\u001b[0mlinkedList\u001b[0m\u001b[0;34m)\u001b[0m\u001b[0;34m\u001b[0m\u001b[0m\n\u001b[0m\u001b[1;32m     14\u001b[0m \u001b[0mprint\u001b[0m\u001b[0;34m(\u001b[0m\u001b[0ms\u001b[0m\u001b[0;34m)\u001b[0m\u001b[0;34m\u001b[0m\u001b[0m\n",
      "\u001b[0;32m<ipython-input-2-6c58fe8edfb5>\u001b[0m in \u001b[0;36mreverseList\u001b[0;34m(self, head)\u001b[0m\n\u001b[1;32m      4\u001b[0m         \u001b[0mtempval\u001b[0m \u001b[0;34m=\u001b[0m \u001b[0;34m[\u001b[0m\u001b[0;34m]\u001b[0m\u001b[0;34m\u001b[0m\u001b[0m\n\u001b[1;32m      5\u001b[0m         \u001b[0mcurrent\u001b[0m \u001b[0;34m=\u001b[0m \u001b[0mhead\u001b[0m\u001b[0;34m\u001b[0m\u001b[0m\n\u001b[0;32m----> 6\u001b[0;31m         \u001b[0;32mwhile\u001b[0m \u001b[0mcurrent\u001b[0m\u001b[0;34m.\u001b[0m\u001b[0mnext\u001b[0m \u001b[0;34m!=\u001b[0m \u001b[0;32mNone\u001b[0m\u001b[0;34m:\u001b[0m\u001b[0;34m\u001b[0m\u001b[0m\n\u001b[0m\u001b[1;32m      7\u001b[0m             \u001b[0mtempval\u001b[0m\u001b[0;34m.\u001b[0m\u001b[0minsert\u001b[0m\u001b[0;34m(\u001b[0m\u001b[0;36m0\u001b[0m\u001b[0;34m,\u001b[0m \u001b[0mcurrent\u001b[0m\u001b[0;34m.\u001b[0m\u001b[0mval\u001b[0m\u001b[0;34m)\u001b[0m\u001b[0;34m\u001b[0m\u001b[0m\n\u001b[1;32m      8\u001b[0m             \u001b[0mcurrent\u001b[0m \u001b[0;34m=\u001b[0m \u001b[0mcurrent\u001b[0m\u001b[0;34m.\u001b[0m\u001b[0mnext\u001b[0m\u001b[0;34m\u001b[0m\u001b[0m\n",
      "\u001b[0;31mAttributeError\u001b[0m: 'list' object has no attribute 'next'"
     ]
    }
   ],
   "source": [
    "# 206. Reverse Linked List\n",
    "# iteratively - space: O(n), time: O(n)\n",
    "class Solution:\n",
    "    def reverseList(self, head):\n",
    "        if head == None:\n",
    "            return None\n",
    "        tempval = []\n",
    "        current = head\n",
    "        count = 1\n",
    "        while current.next != None:\n",
    "            tempval.insert(0, current.val)\n",
    "            current = current.next\n",
    "            count += 1\n",
    "        tempval.insert(0, current.val)\n",
    "        current = head\n",
    "        for i in range(count):\n",
    "            current.val = tempval[i]\n",
    "            current = current.next\n",
    "        return head\n"
   ]
  },
  {
   "cell_type": "code",
   "execution_count": null,
   "metadata": {},
   "outputs": [],
   "source": [
    "# 206. Reverse Linked List\n",
    "# iteratively - space: O(1), time: O(n)\n",
    "# [1->2->3->4->5]\n",
    "class Solution:\n",
    "    def reverseList(self, head):\n",
    "        if head == None:\n",
    "            return None\n",
    "        tempval = []\n",
    "        current = head # [1->2->3->4->5]\n",
    "        previous = None\n",
    "        while current != None:\n",
    "            nextNode = current.next # [2->3->4->5], [3->4->5]\n",
    "            current.next = previous # [1->null], [2->1->null]\n",
    "            previous = current # [1->null], [2->1->null]\n",
    "            current = nextNode # [2->3->4->5], [3->4->5]\n",
    "        return previous"
   ]
  },
  {
   "cell_type": "code",
   "execution_count": null,
   "metadata": {},
   "outputs": [],
   "source": [
    "# 206. Reverse Linked List\n",
    "# recursion - space: O(n), time: O(n)\n",
    "# [1->2->3->4->5]\n",
    "# think about the origin link list : 1->2->3->4->5.\n",
    "# Now assume that the last node has been reversed.Just like this:\n",
    "# 1->2->3->4<-5.And this time you are at the node 3 , \n",
    "# you want to change 3->4 to 3<-4 , means let 3->next->next = 3.\n",
    "# (3->next is 4 and 4->next = 3 is to reverse it)\n",
    "class Solution:\n",
    "    def reverseList(self, head):\n",
    "        if head == None:\n",
    "            return None\n",
    "        if head.next == None:\n",
    "            return head\n",
    "        p = self.reverseList(head.next)\n",
    "        head.next.next = head\n",
    "        head.next = None\n",
    "        return p"
   ]
  }
 ],
 "metadata": {
  "kernelspec": {
   "display_name": "Python 3",
   "language": "python",
   "name": "python3"
  },
  "language_info": {
   "codemirror_mode": {
    "name": "ipython",
    "version": 3
   },
   "file_extension": ".py",
   "mimetype": "text/x-python",
   "name": "python",
   "nbconvert_exporter": "python",
   "pygments_lexer": "ipython3",
   "version": "3.6.5"
  }
 },
 "nbformat": 4,
 "nbformat_minor": 2
}
