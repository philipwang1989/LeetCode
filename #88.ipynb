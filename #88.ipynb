{
 "cells": [
  {
   "cell_type": "code",
   "execution_count": 6,
   "metadata": {},
   "outputs": [
    {
     "name": "stdout",
     "output_type": "stream",
     "text": [
      "[1, 2]\n"
     ]
    }
   ],
   "source": [
    "# 88. Merge Sorted Array\n",
    "# Input:\n",
    "# nums1 = [1,2,3,0,0,0], m = 3\n",
    "# nums2 = [2,5,6],       n = 3\n",
    "\n",
    "# Output: [1,2,2,3,5,6]\n",
    "class Solution(object):\n",
    "    def merge(self, nums1, m, nums2, n):\n",
    "        \"\"\"\n",
    "        :type nums1: List[int]\n",
    "        :type m: int\n",
    "        :type nums2: List[int]\n",
    "        :type n: int\n",
    "        :rtype: None Do not return anything, modify nums1 in-place instead.\n",
    "        \"\"\"\n",
    "        if n == 0:\n",
    "            return \n",
    "        if m == 0:\n",
    "            nums1[0] = nums2[0]\n",
    "        # some kind of comparison sort?\n",
    "        ind1 = m - 1\n",
    "        ind2 = n - 1\n",
    "        end = m + n - 1\n",
    "        while ind1 >= 0 and ind2 >=0:\n",
    "            if nums1[ind1] > nums2[ind2]:\n",
    "                nums1[end] = nums1[ind1]\n",
    "                ind1 -= 1\n",
    "            else:\n",
    "                nums1[end] = nums2[ind2]\n",
    "                ind2 -= 1\n",
    "            end -= 1\n",
    "        if ind1 < 0: \n",
    "            # nums2 has leftovers, but nums1 is in place and sorted\n",
    "            nums1[:ind2+1] = nums2[:ind2+1]\n",
    "            \n",
    "                \n",
    "nums1 = [2,0]\n",
    "m = 1\n",
    "nums2 = [1]\n",
    "n = 1\n",
    "Solution().merge(nums1, m, nums2, n)\n",
    "print(nums1)"
   ]
  },
  {
   "cell_type": "code",
   "execution_count": null,
   "metadata": {},
   "outputs": [],
   "source": []
  }
 ],
 "metadata": {
  "kernelspec": {
   "display_name": "Python 3",
   "language": "python",
   "name": "python3"
  },
  "language_info": {
   "codemirror_mode": {
    "name": "ipython",
    "version": 3
   },
   "file_extension": ".py",
   "mimetype": "text/x-python",
   "name": "python",
   "nbconvert_exporter": "python",
   "pygments_lexer": "ipython3",
   "version": "3.6.5"
  }
 },
 "nbformat": 4,
 "nbformat_minor": 2
}
