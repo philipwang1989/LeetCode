{
 "cells": [
  {
   "cell_type": "code",
   "execution_count": 26,
   "metadata": {},
   "outputs": [
    {
     "name": "stdout",
     "output_type": "stream",
     "text": [
      "[-1, 1, 1, 2, 0, 2]\n"
     ]
    },
    {
     "data": {
      "text/plain": [
       "2"
      ]
     },
     "execution_count": 26,
     "metadata": {},
     "output_type": "execute_result"
    }
   ],
   "source": [
    "# 322. Coin Change\n",
    "# better starting solution\n",
    "# Input: coins = [1, 2, 5], amount = 11\n",
    "# Output: 3 \n",
    "# Explanation: 11 = 5 + 5 + 1\n",
    "\n",
    "# Input: coins = [2], amount = 3\n",
    "# Output: -1\n",
    "\n",
    "class Solution(object):\n",
    "    def coinChange(self, coins, amount):\n",
    "        \"\"\"\n",
    "        :type coins: List[int]\n",
    "        :type amount: int\n",
    "        :rtype: int\n",
    "        \"\"\"\n",
    "        if amount < 1:\n",
    "            return 0\n",
    "        count = [0] * amount\n",
    "        ans = self.DP(coins, amount, count)\n",
    "        # print(count)\n",
    "        return ans\n",
    "    \n",
    "    def DP(self, coins, rem, count):\n",
    "        if rem < 0:\n",
    "            return -1\n",
    "        if rem == 0:\n",
    "            return 0\n",
    "        if count[rem - 1] != 0:\n",
    "            return count[rem - 1]\n",
    "        minval = float('inf')\n",
    "        for coin in coins:\n",
    "            res = self.DP(coins, rem - coin, count)\n",
    "            if res >= 0 and res < minval:\n",
    "                minval = 1 + res\n",
    "        if minval == float('inf'):\n",
    "            count[rem - 1] = -1\n",
    "        else:\n",
    "            count[rem - 1] = minval\n",
    "        return count[rem - 1]\n",
    "coins = [2,3,5]\n",
    "amount = 6\n",
    "Solution().coinChange(coins, amount)"
   ]
  },
  {
   "cell_type": "code",
   "execution_count": 19,
   "metadata": {},
   "outputs": [
    {
     "data": {
      "text/plain": [
       "2"
      ]
     },
     "execution_count": 19,
     "metadata": {},
     "output_type": "execute_result"
    }
   ],
   "source": [
    "# best solution\n",
    "class Solution(object):\n",
    "    def coinChange(self, coins, amount):\n",
    "        \"\"\"\n",
    "        :type coins: List[int]\n",
    "        :type amount: int\n",
    "        :rtype: int\n",
    "        \"\"\"\n",
    "        if amount == 0:\n",
    "            return 0\n",
    "        value1 = [0]\n",
    "        value2 = []\n",
    "        nc = 0\n",
    "        visited = [False]*(amount+1)\n",
    "        visited[0] = True\n",
    "        while value1:\n",
    "            nc += 1\n",
    "            for v in value1:\n",
    "                for coin in coins:\n",
    "                    newval = v + coin\n",
    "                    if newval == amount:\n",
    "                        return nc\n",
    "                    elif newval > amount:\n",
    "                        continue\n",
    "                    elif not visited[newval]:\n",
    "                        visited[newval] = True\n",
    "                        value2.append(newval)\n",
    "            value1, value2 = value2, []\n",
    "        return -1\n",
    "coins = [2,3,5]\n",
    "amount = 6\n",
    "Solution().coinChange(coins, amount)    "
   ]
  },
  {
   "cell_type": "code",
   "execution_count": 16,
   "metadata": {},
   "outputs": [
    {
     "name": "stdout",
     "output_type": "stream",
     "text": [
      "[0, 7, 1, 1, 2, 1, 2]\n"
     ]
    },
    {
     "data": {
      "text/plain": [
       "2"
      ]
     },
     "execution_count": 16,
     "metadata": {},
     "output_type": "execute_result"
    }
   ],
   "source": [
    "def coinChange(self, coins, amount):\n",
    "    need = [0] + [amount + 1] * amount\n",
    "    for c in coins:\n",
    "        for a in range(c, amount+1):\n",
    "            need[a] = min(need[a], need[a - c] + 1)\n",
    "    return need[-1] if need[-1] <= amount else -1\n",
    "\n",
    "coins = [2,3,5]\n",
    "amount = 6\n",
    "Solution().coinChange(coins, amount)"
   ]
  },
  {
   "cell_type": "code",
   "execution_count": 18,
   "metadata": {},
   "outputs": [
    {
     "data": {
      "text/plain": [
       "2"
      ]
     },
     "execution_count": 18,
     "metadata": {},
     "output_type": "execute_result"
    }
   ],
   "source": [
    "def coinChange(coins, amount):\n",
    "    dp = [0] * (amount + 1)\n",
    "    for i in range(1, amount+1):\n",
    "        dp[i] = min((dp[i-j] for j in coins if i>=j and dp[i-j] >= 0), default=-2) + 1\n",
    "    return dp[amount]\n",
    "coins = [2,3,5]\n",
    "amount = 6\n",
    "coinChange(coins, amount)"
   ]
  },
  {
   "cell_type": "code",
   "execution_count": 2,
   "metadata": {},
   "outputs": [
    {
     "data": {
      "text/plain": [
       "4"
      ]
     },
     "execution_count": 2,
     "metadata": {},
     "output_type": "execute_result"
    }
   ],
   "source": [
    "# 0-1 knapsack problem, DFS\n",
    "# this solution runs a DFS tree\n",
    "# w: weight of each items\n",
    "# v: value of each items\n",
    "# W: max weight permitted\n",
    "def knapsack01DFS(w, v, W):\n",
    "    N = len(w)\n",
    "    def dfs(s, cur_w, cur_v, ans):\n",
    "        ans[0] = max(ans[0], cur_v)\n",
    "        if s == N: return\n",
    "        for i in range(s, N):\n",
    "            if cur_w + w[i] <= W:\n",
    "                dfs(i + 1, cur_w + w[i], cur_v + v[i], ans)\n",
    "    ans = [0]\n",
    "    dfs(0, 0, 0, ans)\n",
    "    return ans[0]\n",
    "\n",
    "coins = [1, 2, 3, 5]\n",
    "amount = 11\n",
    "vals = [1, 1, 1, 1]\n",
    "knapsack01DFS(coins, vals, amount)"
   ]
  },
  {
   "cell_type": "code",
   "execution_count": 21,
   "metadata": {},
   "outputs": [
    {
     "data": {
      "text/plain": [
       "4"
      ]
     },
     "execution_count": 21,
     "metadata": {},
     "output_type": "execute_result"
    }
   ],
   "source": [
    "# 0/1 knapsack problem, DP\n",
    "# w: weight of each items\n",
    "# v: value of each items\n",
    "# W: max weight permitted\n",
    "def knapsack01R2(w, v, W):\n",
    "    N = len(w)\n",
    "    dp = [0] * (W + 1)\n",
    "    for i in range(0, N):\n",
    "        for j in range(W, w[i] - 1, -1):\n",
    "            dp[j] = max(dp[j], dp[j - w[i]] + v[i])\n",
    "    return max(dp)\n",
    "\n",
    "coins = [1, 2, 3, 5]\n",
    "amount = 11\n",
    "vals = [1, 1, 1, 1]\n",
    "knapsack01R2(coins, vals, amount)"
   ]
  },
  {
   "cell_type": "code",
   "execution_count": 25,
   "metadata": {},
   "outputs": [
    {
     "data": {
      "text/plain": [
       "3"
      ]
     },
     "execution_count": 25,
     "metadata": {},
     "output_type": "execute_result"
    }
   ],
   "source": [
    "# 0/1 knapsack problem, DP\n",
    "# w: weight of each items\n",
    "# v: value of each items\n",
    "# W: max weight permitted\n",
    "def knapsack01R2(w, W):\n",
    "    N = len(w)\n",
    "    dp = [0] * (W + 1)\n",
    "    for i in range(0, N):\n",
    "        for j in range(W, w[i] - 1, -1):\n",
    "            dp[j] = max(dp[j], dp[j - w[i]] + 1)\n",
    "    return max(dp)\n",
    "\n",
    "weights = [100,30,30,100,50,100]\n",
    "target = 5000-4850\n",
    "knapsack01R2(weights, target)"
   ]
  },
  {
   "cell_type": "code",
   "execution_count": null,
   "metadata": {},
   "outputs": [],
   "source": []
  }
 ],
 "metadata": {
  "kernelspec": {
   "display_name": "Python 3",
   "language": "python",
   "name": "python3"
  },
  "language_info": {
   "codemirror_mode": {
    "name": "ipython",
    "version": 3
   },
   "file_extension": ".py",
   "mimetype": "text/x-python",
   "name": "python",
   "nbconvert_exporter": "python",
   "pygments_lexer": "ipython3",
   "version": "3.6.5"
  }
 },
 "nbformat": 4,
 "nbformat_minor": 2
}
