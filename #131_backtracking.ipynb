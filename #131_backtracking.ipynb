{
 "cells": [
  {
   "cell_type": "code",
   "execution_count": 6,
   "metadata": {},
   "outputs": [
    {
     "data": {
      "text/plain": [
       "[['a', 'a', 'b'], ['aa', 'b']]"
      ]
     },
     "execution_count": 6,
     "metadata": {},
     "output_type": "execute_result"
    }
   ],
   "source": [
    "# 131. Palindrome Partitioning\n",
    "# Input: \"aab\"\n",
    "# Output:\n",
    "# [\n",
    "#   [\"aa\",\"b\"],\n",
    "#   [\"a\",\"a\",\"b\"]\n",
    "# ]\n",
    "class Solution(object):\n",
    "    def __init__(self):\n",
    "        self.ans = []\n",
    "    def partition(self, s):\n",
    "        \"\"\"\n",
    "        :type s: str\n",
    "        :rtype: List[List[str]]\n",
    "        \"\"\"\n",
    "        if not s:\n",
    "            return []\n",
    "        self.dfs(s, [])\n",
    "        return self.ans\n",
    "        \n",
    "    def dfs(self, s, path):\n",
    "        if len(s) == 0:\n",
    "            self.ans.append(path)\n",
    "            return\n",
    "        for i in range(1,len(s)+1):\n",
    "            if self.isPalindrome(s[:i]):\n",
    "                self.dfs(s[i:], path + [s[:i]])\n",
    "            # no need to return here\n",
    "#             else:\n",
    "#                 return\n",
    "    def isPalindrome(self, s):\n",
    "        return s == s[::-1]\n",
    "        \n",
    "Solution().partition('aab')"
   ]
  },
  {
   "cell_type": "code",
   "execution_count": 8,
   "metadata": {},
   "outputs": [
    {
     "data": {
      "text/plain": [
       "[['a', 'a', 'b'], ['aa', 'b']]"
      ]
     },
     "execution_count": 8,
     "metadata": {},
     "output_type": "execute_result"
    }
   ],
   "source": [
    "# 131. Palindrome Partitioning\n",
    "# Input: \"aab\"\n",
    "# Output:\n",
    "# [\n",
    "#   [\"aa\",\"b\"],\n",
    "#   [\"a\",\"a\",\"b\"]\n",
    "# ]\n",
    "# better and more closely related to backtracking\n",
    "class Solution(object):\n",
    "    def __init__(self):\n",
    "        self.ans = []\n",
    "    def partition(self, s):\n",
    "        \"\"\"\n",
    "        :type s: str\n",
    "        :rtype: List[List[str]]\n",
    "        \"\"\"\n",
    "        if not s:\n",
    "            return []\n",
    "        self.dfs(s, [])\n",
    "        return self.ans\n",
    "    def dfs(self, s, path):\n",
    "        if len(s) == 0:\n",
    "            self.ans.append(path[:])\n",
    "            return\n",
    "        for i in range(1,len(s)+1):\n",
    "            if self.isPalindrome(s[:i]):\n",
    "                path.append(s[:i])\n",
    "                self.dfs(s[i:], path)\n",
    "                path.pop()\n",
    "    \n",
    "    def isPalindrome(self, s):\n",
    "        return s == s[::-1]\n",
    "    \n",
    "Solution().partition('aab')"
   ]
  },
  {
   "cell_type": "code",
   "execution_count": 10,
   "metadata": {},
   "outputs": [
    {
     "data": {
      "text/plain": [
       "[['a', 'a', 'b'], ['aa', 'b']]"
      ]
     },
     "execution_count": 10,
     "metadata": {},
     "output_type": "execute_result"
    }
   ],
   "source": [
    "# 131. Palindrome Partitioning\n",
    "# Input: \"aab\"\n",
    "# Output:\n",
    "# [\n",
    "#   [\"aa\",\"b\"],\n",
    "#   [\"a\",\"a\",\"b\"]\n",
    "# ]\n",
    "# better and more closely related to backtracking w/ save indexing\n",
    "class Solution(object):\n",
    "    def __init__(self):\n",
    "        self.ans = []\n",
    "    def partition(self, s):\n",
    "        \"\"\"\n",
    "        :type s: str\n",
    "        :rtype: List[List[str]]\n",
    "        \"\"\"\n",
    "        if not s:\n",
    "            return []\n",
    "        self.dfs(s, [], 1)\n",
    "        return self.ans\n",
    "    def dfs(self, s, path, index):\n",
    "        if index == len(s)+1:\n",
    "            self.ans.append(path[:])\n",
    "            return\n",
    "        for i in range(index,len(s)+1):\n",
    "            if self.isPalindrome(s[index-1:i]):\n",
    "                path.append(s[index-1:i])\n",
    "                self.dfs(s, path, i+1)\n",
    "                path.pop()\n",
    "    \n",
    "    def isPalindrome(self, s):\n",
    "        return s == s[::-1]\n",
    "    \n",
    "Solution().partition('aab')"
   ]
  },
  {
   "cell_type": "code",
   "execution_count": 13,
   "metadata": {},
   "outputs": [
    {
     "data": {
      "text/plain": [
       "[['a', 'a', 'b'], ['aa', 'b']]"
      ]
     },
     "execution_count": 13,
     "metadata": {},
     "output_type": "execute_result"
    }
   ],
   "source": [
    "# 131. Palindrome Partitioning\n",
    "# Input: \"aab\"\n",
    "# Output:\n",
    "# [\n",
    "#   [\"aa\",\"b\"],\n",
    "#   [\"a\",\"a\",\"b\"]\n",
    "# ]\n",
    "class Solution(object):\n",
    "    def partition(self, s):\n",
    "        \"\"\"\n",
    "        :type s: str\n",
    "        :rtype: List[List[str]]\n",
    "        \"\"\"\n",
    "        res = []\n",
    "        self.dfs(s,[],res)\n",
    "        return res\n",
    "    def dfs(self,s,path,res):\n",
    "        if len(s) == 0:\n",
    "            res.append(path)\n",
    "        else:\n",
    "            for i in range(1, len(s)+1): # +1 is due to slicing\n",
    "                if self.isPalindrome(s[:i]):\n",
    "                    self.dfs(s[i:],path+[s[:i]],res)\n",
    "    def isPalindrome(self,s):\n",
    "        return s == s[::-1]\n",
    "    \n",
    "Solution().partition('aab')"
   ]
  },
  {
   "cell_type": "code",
   "execution_count": 9,
   "metadata": {},
   "outputs": [
    {
     "data": {
      "text/plain": [
       "False"
      ]
     },
     "execution_count": 9,
     "metadata": {},
     "output_type": "execute_result"
    }
   ],
   "source": [
    "# palindrome check with stack\n",
    "def isPalindrome(word):\n",
    "    q = []\n",
    "    for i in range(len(word)//2):\n",
    "        q.insert(0,word[i])\n",
    "    for i in range(len(word)//2,len(word)):\n",
    "        if word[i] == q[0]:\n",
    "            q.pop(0)\n",
    "    if len(q) == 0:\n",
    "        return True\n",
    "    else:\n",
    "        return False\n",
    "    \n",
    "isPalindrome('abcab')"
   ]
  },
  {
   "cell_type": "code",
   "execution_count": 11,
   "metadata": {},
   "outputs": [
    {
     "data": {
      "text/plain": [
       "True"
      ]
     },
     "execution_count": 11,
     "metadata": {},
     "output_type": "execute_result"
    }
   ],
   "source": [
    "# Pythonic(?) palindrome\n",
    "\n",
    "def isPalindrome(word):\n",
    "    if word == word[::-1]:\n",
    "        return True\n",
    "    return False\n",
    "\n",
    "isPalindrome('abcba')\n",
    "    "
   ]
  },
  {
   "cell_type": "code",
   "execution_count": null,
   "metadata": {},
   "outputs": [],
   "source": []
  }
 ],
 "metadata": {
  "kernelspec": {
   "display_name": "Python 3",
   "language": "python",
   "name": "python3"
  },
  "language_info": {
   "codemirror_mode": {
    "name": "ipython",
    "version": 3
   },
   "file_extension": ".py",
   "mimetype": "text/x-python",
   "name": "python",
   "nbconvert_exporter": "python",
   "pygments_lexer": "ipython3",
   "version": "3.7.3"
  }
 },
 "nbformat": 4,
 "nbformat_minor": 2
}
