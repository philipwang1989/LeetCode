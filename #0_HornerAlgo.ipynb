{
 "cells": [
  {
   "cell_type": "code",
   "execution_count": 5,
   "metadata": {},
   "outputs": [
    {
     "data": {
      "text/plain": [
       "3"
      ]
     },
     "execution_count": 5,
     "metadata": {},
     "output_type": "execute_result"
    }
   ],
   "source": [
    "# y = 1+x+xx+xxx+xxxx+xxxxx+...+x^n is equivalent to\n",
    "# y = ((((x+1)x+1)x+1)...)x+1\n",
    "# if n=2, y=1+x+xx=(1+x)x+1=3\n",
    "def horner(x,n):\n",
    "    if n==1:\n",
    "        return x+1\n",
    "    return horner(x,n-1)*x+1\n",
    "\n",
    "horner(1,2)"
   ]
  },
  {
   "cell_type": "code",
   "execution_count": null,
   "metadata": {},
   "outputs": [],
   "source": []
  }
 ],
 "metadata": {
  "kernelspec": {
   "display_name": "Python 3",
   "language": "python",
   "name": "python3"
  },
  "language_info": {
   "codemirror_mode": {
    "name": "ipython",
    "version": 3
   },
   "file_extension": ".py",
   "mimetype": "text/x-python",
   "name": "python",
   "nbconvert_exporter": "python",
   "pygments_lexer": "ipython3",
   "version": "3.6.5"
  }
 },
 "nbformat": 4,
 "nbformat_minor": 2
}
