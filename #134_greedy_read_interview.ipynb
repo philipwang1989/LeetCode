{
 "cells": [
  {
   "cell_type": "code",
   "execution_count": 9,
   "metadata": {},
   "outputs": [
    {
     "data": {
      "text/plain": [
       "3"
      ]
     },
     "execution_count": 9,
     "metadata": {},
     "output_type": "execute_result"
    }
   ],
   "source": [
    "class Solution:\n",
    "    def canCompleteCircuit(self, gas, cost):\n",
    "        \"\"\"\n",
    "        :type gas: List[int]\n",
    "        :type cost: List[int]\n",
    "        :rtype: int\n",
    "        \"\"\"\n",
    "        n = len(gas)\n",
    "        \n",
    "        total_tank, curr_tank = 0, 0\n",
    "        starting_station = 0\n",
    "        for i in range(n):\n",
    "            total_tank += gas[i] - cost[i]\n",
    "            curr_tank += gas[i] - cost[i]\n",
    "            # If one couldn't get here,\n",
    "            if curr_tank < 0:\n",
    "                # Pick up the next station as the starting one.\n",
    "                starting_station = i + 1\n",
    "                # Start with an empty tank.\n",
    "                curr_tank = 0\n",
    "        if total_tank >= 0:\n",
    "            return starting_station\n",
    "        else:\n",
    "            return -1\n",
    "\n",
    "gas = [1,2,3,4,5]\n",
    "cost = [3,4,5,1,2]\n",
    "Solution().canCompleteCircuit(gas, cost)"
   ]
  },
  {
   "cell_type": "code",
   "execution_count": 8,
   "metadata": {},
   "outputs": [
    {
     "data": {
      "text/plain": [
       "-1"
      ]
     },
     "execution_count": 8,
     "metadata": {},
     "output_type": "execute_result"
    }
   ],
   "source": [
    "# 134. Gas Station\n",
    "# TLE...\n",
    "class Solution:\n",
    "    def canCompleteCircuit(self, gas, cost):\n",
    "        # gas: List[int]\n",
    "        # cost: List[int]\n",
    "        # return: int\n",
    "        for i in range(len(gas)):\n",
    "            if cost[i] <= gas[i] and self.isValid(cost, gas, i):\n",
    "                return i\n",
    "        return -1\n",
    "    def isValid(self, cost, gas, i):\n",
    "        # slicing...\n",
    "        cost = cost[i:] + cost[:i]\n",
    "        gas = gas[i:] + gas[:i]\n",
    "        rem = 0\n",
    "        for i in range(len(cost)):\n",
    "            if gas[i] + rem - cost[i] < 0:\n",
    "                return False\n",
    "            else:\n",
    "                rem = rem - cost[i] + gas[i]\n",
    "        return True\n",
    "        \n",
    "# gas = [1,2,3,4,5]\n",
    "# cost = [3,4,5,1,2]\n",
    "\n",
    "gas = [2,3,4]\n",
    "cost = [3,4,3]\n",
    "Solution().canCompleteCircuit(gas, cost)"
   ]
  }
 ],
 "metadata": {
  "kernelspec": {
   "display_name": "Python 3",
   "language": "python",
   "name": "python3"
  },
  "language_info": {
   "codemirror_mode": {
    "name": "ipython",
    "version": 3
   },
   "file_extension": ".py",
   "mimetype": "text/x-python",
   "name": "python",
   "nbconvert_exporter": "python",
   "pygments_lexer": "ipython3",
   "version": "3.7.3"
  }
 },
 "nbformat": 4,
 "nbformat_minor": 2
}
