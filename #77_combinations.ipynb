{
 "cells": [
  {
   "cell_type": "code",
   "execution_count": 2,
   "metadata": {},
   "outputs": [
    {
     "data": {
      "text/plain": [
       "[[1, 2], [1, 3], [1, 4], [2, 3], [2, 4], [3, 4]]"
      ]
     },
     "execution_count": 2,
     "metadata": {},
     "output_type": "execute_result"
    }
   ],
   "source": [
    "# 77. Combinations\n",
    "# Input: n = 4, k = 2\n",
    "# Output:\n",
    "# [\n",
    "#   [2,4],\n",
    "#   [3,4],\n",
    "#   [2,3],\n",
    "#   [1,2],\n",
    "#   [1,3],\n",
    "#   [1,4],\n",
    "# ]\n",
    "\n",
    "class Solution(object):\n",
    "    def __init__(self):\n",
    "        self.res = []\n",
    "    def combine(self, n, k):\n",
    "        \"\"\"\n",
    "        :type n: int\n",
    "        :type k: int\n",
    "        :rtype: List[List[int]]\n",
    "        \"\"\"\n",
    "        path = []\n",
    "        self.helper(1, path, n, k)\n",
    "        return self.res\n",
    "        \n",
    "    def helper(self, start, path, n, k):\n",
    "        if len(path) == k:\n",
    "            self.res.append(path)\n",
    "            return\n",
    "        for i in range(start,n+1):\n",
    "            self.helper(i+1, path + [i], n, k)\n",
    "\n",
    "Solution().combine(4,2)"
   ]
  },
  {
   "cell_type": "code",
   "execution_count": null,
   "metadata": {},
   "outputs": [],
   "source": [
    "class Solution(object):\n",
    "    def __init__(self):\n",
    "        self.res = []\n",
    "    def combine(self, n, k):\n",
    "        \"\"\"\n",
    "        :type n: int\n",
    "        :type k: int\n",
    "        :rtype: List[List[int]]\n",
    "        \"\"\"\n",
    "        path = []\n",
    "        self.helper(1, path, n, k)\n",
    "        return self.res\n",
    "        \n",
    "    def helper(self, start, path, n, k):\n",
    "        if len(path) == k:\n",
    "            self.res.append(path)\n",
    "            return\n",
    "        for i in range(start,n+1):\n",
    "            self.helper(i+1, path + [i], n, k)\n",
    "\n",
    "Solution().combine(4,2)"
   ]
  },
  {
   "cell_type": "code",
   "execution_count": 6,
   "metadata": {},
   "outputs": [
    {
     "data": {
      "text/plain": [
       "[[1, 2], [1, 3], [1, 4], [2, 3], [2, 4], [3, 4]]"
      ]
     },
     "execution_count": 6,
     "metadata": {},
     "output_type": "execute_result"
    }
   ],
   "source": [
    "class Solution(object):\n",
    "    def combine(self, n, k):\n",
    "        res = []\n",
    "        stack = []\n",
    "        x = 1\n",
    "        while True:\n",
    "#             print(x, stack)\n",
    "            if len(stack) == k:\n",
    "                res.append(stack[:])\n",
    "            if len(stack) == k or x > n:\n",
    "                if not stack:\n",
    "                    return res\n",
    "                x = stack.pop() + 1\n",
    "            else:\n",
    "                stack.append(x)\n",
    "                x += 1\n",
    "        return res\n",
    "Solution().combine(4,2)"
   ]
  },
  {
   "cell_type": "code",
   "execution_count": null,
   "metadata": {},
   "outputs": [],
   "source": []
  }
 ],
 "metadata": {
  "kernelspec": {
   "display_name": "Python 3",
   "language": "python",
   "name": "python3"
  },
  "language_info": {
   "codemirror_mode": {
    "name": "ipython",
    "version": 3
   },
   "file_extension": ".py",
   "mimetype": "text/x-python",
   "name": "python",
   "nbconvert_exporter": "python",
   "pygments_lexer": "ipython3",
   "version": "3.6.5"
  }
 },
 "nbformat": 4,
 "nbformat_minor": 2
}
