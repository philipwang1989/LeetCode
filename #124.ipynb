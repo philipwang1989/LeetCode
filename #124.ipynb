{
 "cells": [
  {
   "cell_type": "code",
   "execution_count": null,
   "metadata": {},
   "outputs": [],
   "source": [
    "# 124. Binary Tree Maximum Path Sum\n",
    "class Solution:\n",
    "    def __init__(self):\n",
    "        self.max_sum = -float('inf')\n",
    "    def maxPathSum(self, root: TreeNode) -> int:\n",
    "        self.maxGain(root)\n",
    "        return self.max_sum\n",
    "    \n",
    "    def maxGain(self, node):\n",
    "        if not node:\n",
    "            return 0\n",
    "        left_gain = max(self.maxGain(node.left), 0)\n",
    "        right_gain = max(self.maxGain(node.right), 0)\n",
    "        price_newpath = node.val + left_gain + right_gain\n",
    "        self.max_sum = max(self.max_sum, price_newpath)\n",
    "        return node.val + max(left_gain, right_gain)"
   ]
  },
  {
   "cell_type": "code",
   "execution_count": null,
   "metadata": {},
   "outputs": [],
   "source": [
    "class Solution:\n",
    "    def maxPathSum(self, root):\n",
    "        \"\"\"\n",
    "        :type root: TreeNode\n",
    "        :rtype: int\n",
    "        \"\"\"\n",
    "        def max_gain(node):\n",
    "            nonlocal max_sum\n",
    "            if not node:\n",
    "                return 0\n",
    "\n",
    "            # max sum on the left and right sub-trees of node\n",
    "            left_gain = max(max_gain(node.left), 0)\n",
    "            right_gain = max(max_gain(node.right), 0)\n",
    "            \n",
    "            # the price to start a new path where `node` is a highest node\n",
    "            price_newpath = node.val + left_gain + right_gain\n",
    "            \n",
    "            # update max_sum if it's better to start a new path\n",
    "            max_sum = max(max_sum, price_newpath)\n",
    "        \n",
    "            # for recursion :\n",
    "            # return the max gain if continue the same path\n",
    "            return node.val + max(left_gain, right_gain)\n",
    "   \n",
    "        max_sum = float('-inf')\n",
    "        max_gain(root)\n",
    "        return max_sum"
   ]
  }
 ],
 "metadata": {
  "kernelspec": {
   "display_name": "Python 3",
   "language": "python",
   "name": "python3"
  },
  "language_info": {
   "codemirror_mode": {
    "name": "ipython",
    "version": 3
   },
   "file_extension": ".py",
   "mimetype": "text/x-python",
   "name": "python",
   "nbconvert_exporter": "python",
   "pygments_lexer": "ipython3",
   "version": "3.6.5"
  }
 },
 "nbformat": 4,
 "nbformat_minor": 2
}
