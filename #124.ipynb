{
 "cells": [
  {
   "cell_type": "code",
   "execution_count": null,
   "metadata": {},
   "outputs": [],
   "source": [
    "# 124. Binary Tree Maximum Path Sum\n",
    "class Solution:\n",
    "    def __init__(self):\n",
    "        self.max_sum = -float('inf')\n",
    "    def maxPathSum(self, root: TreeNode) -> int:\n",
    "        self.maxGain(root)\n",
    "        return self.max_sum\n",
    "    \n",
    "    def maxGain(self, node):\n",
    "        if not node:\n",
    "            return 0\n",
    "        left_gain = max(self.maxGain(node.left), 0)\n",
    "        right_gain = max(self.maxGain(node.right), 0)\n",
    "        price_newpath = node.val + left_gain + right_gain\n",
    "        self.max_sum = max(self.max_sum, price_newpath)\n",
    "        return node.val + max(left_gain, right_gain)"
   ]
  },
  {
   "cell_type": "code",
   "execution_count": null,
   "metadata": {},
   "outputs": [],
   "source": [
    "class Solution:\n",
    "    def __init__(self):\n",
    "        self.ans = float('-inf')\n",
    "    def maxPathSum(self, root):\n",
    "        \"\"\"\n",
    "        :type root: TreeNode\n",
    "        :rtype: int\n",
    "        \"\"\"\n",
    "        self.search(root)\n",
    "        return self.ans\n",
    "    def search(self, node):\n",
    "        if not node:\n",
    "            return 0\n",
    "        left_gain = max(self.search(node.left), 0)\n",
    "        right_gain = max(self.search(node.right), 0)\n",
    "        # if this is a new starting node\n",
    "        new_price = node.val + left_gain + right_gain\n",
    "        self.ans = max(self.ans, new_price)\n",
    "        return node.val + max(left_gain, right_gain)"
   ]
  }
 ],
 "metadata": {
  "kernelspec": {
   "display_name": "Python 3",
   "language": "python",
   "name": "python3"
  },
  "language_info": {
   "codemirror_mode": {
    "name": "ipython",
    "version": 3
   },
   "file_extension": ".py",
   "mimetype": "text/x-python",
   "name": "python",
   "nbconvert_exporter": "python",
   "pygments_lexer": "ipython3",
   "version": "3.7.3"
  }
 },
 "nbformat": 4,
 "nbformat_minor": 2
}
