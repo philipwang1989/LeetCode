{
 "cells": [
  {
   "cell_type": "code",
   "execution_count": null,
   "metadata": {},
   "outputs": [],
   "source": [
    "# 100. Same Tree\n",
    "# Definition for a binary tree node.\n",
    "# class TreeNode(object):\n",
    "#     def __init__(self, x):\n",
    "#         self.val = x\n",
    "#         self.left = None\n",
    "#         self.right = None\n",
    "\n",
    "class Solution(object):\n",
    "    def isSameTree(self, p, q):\n",
    "        \"\"\"\n",
    "        :type p: TreeNode\n",
    "        :type q: TreeNode\n",
    "        :rtype: bool\n",
    "        \"\"\"\n",
    "        if not p and not q:\n",
    "            return True\n",
    "        if not p or not q:\n",
    "            return False\n",
    "        if p.val != q.val:\n",
    "            return False\n",
    "        return self.isSameTree(p.left, q.left) and self.isSameTree(p.right, q.right)"
   ]
  },
  {
   "cell_type": "code",
   "execution_count": null,
   "metadata": {},
   "outputs": [],
   "source": [
    "# 100. Same Tree\n",
    "# Definition for a binary tree node.\n",
    "# class TreeNode(object):\n",
    "#     def __init__(self, x):\n",
    "#         self.val = x\n",
    "#         self.left = None\n",
    "#         self.right = None\n",
    "# preorder traversal? CLV\n",
    "\n",
    "class Solution(object):\n",
    "    def isSameTree(self, p, q):\n",
    "        if not p or not q:\n",
    "            return self.check(p, q)\n",
    "        queue1 = [p]\n",
    "        queue2 = [q]\n",
    "        while queue1 and queue2:\n",
    "            root1 = queue1.pop()\n",
    "            root2 = queue2.pop()\n",
    "            if not self.check(root1, root2):\n",
    "                return False\n",
    "            if root1 and root2:\n",
    "                queue1.append(root1.left)\n",
    "                queue2.append(root2.left)\n",
    "                queue1.append(root1.right)\n",
    "                queue2.append(root2.right)\n",
    "        return True\n",
    "    def check(self, root1, root2):\n",
    "        if not root1 and not root2:\n",
    "            return True\n",
    "        if not root1 or not root2:\n",
    "            return False\n",
    "        if root1.val != root2.val:\n",
    "            return False\n",
    "        return True\n",
    "    \n",
    "        \n",
    "        "
   ]
  }
 ],
 "metadata": {
  "kernelspec": {
   "display_name": "Python 3",
   "language": "python",
   "name": "python3"
  },
  "language_info": {
   "codemirror_mode": {
    "name": "ipython",
    "version": 3
   },
   "file_extension": ".py",
   "mimetype": "text/x-python",
   "name": "python",
   "nbconvert_exporter": "python",
   "pygments_lexer": "ipython3",
   "version": "3.6.5"
  }
 },
 "nbformat": 4,
 "nbformat_minor": 2
}
