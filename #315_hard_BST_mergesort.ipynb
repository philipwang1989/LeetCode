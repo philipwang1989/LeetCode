{
 "cells": [
  {
   "cell_type": "code",
   "execution_count": 1,
   "metadata": {},
   "outputs": [
    {
     "data": {
      "text/plain": [
       "[2, 1, 1, 0]"
      ]
     },
     "execution_count": 1,
     "metadata": {},
     "output_type": "execute_result"
    }
   ],
   "source": [
    "# 315. Count of Smaller Numbers After Self\n",
    "# brute force\n",
    "# TLE\n",
    "class Solution(object):\n",
    "    def countSmaller(self, nums):\n",
    "        \"\"\"\n",
    "        :type nums: List[int]\n",
    "        :rtype: List[int]\n",
    "        \"\"\"\n",
    "        counts = [0] * len(nums)\n",
    "        for i in range(len(nums)):\n",
    "            count = 0\n",
    "            for j in range(i,len(nums)):\n",
    "                if nums[j] < nums[i]:\n",
    "                    count += 1\n",
    "            counts[i] = count\n",
    "        return counts\n",
    "    \n",
    "nums = [5,2,6,1]\n",
    "Solution().countSmaller(nums)"
   ]
  },
  {
   "cell_type": "code",
   "execution_count": 7,
   "metadata": {},
   "outputs": [
    {
     "data": {
      "text/plain": [
       "[2, 1, 1, 0]"
      ]
     },
     "execution_count": 7,
     "metadata": {},
     "output_type": "execute_result"
    }
   ],
   "source": [
    "# 315. Count of Smaller Numbers After Self\n",
    "# binary search tree\n",
    "class TreeNode(object):\n",
    "    def __init__(self,val):\n",
    "        self.val = val\n",
    "        self.left = None\n",
    "        self.right = None\n",
    "        self.cnt = 1 # 节点自身的元素个数, duplicates\n",
    "        self.leftCnt = 0 \n",
    "class BinaryST(object): # this implementation is not balanced\n",
    "    def __init__(self):\n",
    "        self.root = None\n",
    "        \n",
    "    def insert(self,val):\n",
    "        if self.root == None:\n",
    "            self.root = TreeNode(val)\n",
    "            return 0 # left most element\n",
    "        root = self.root\n",
    "        cnt = 0\n",
    "        \n",
    "        while root:\n",
    "            if val < root.val: # left\n",
    "                root.leftCnt += 1\n",
    "                if root.left == None:\n",
    "                    root.left = TreeNode(val)\n",
    "                    break\n",
    "                root = root.left\n",
    "            elif val > root.val:\n",
    "                cnt += root.leftCnt + root.cnt\n",
    "                if root.right == None:\n",
    "                    root.right = TreeNode(val)\n",
    "                    break\n",
    "                root = root.right\n",
    "            else:\n",
    "                root.cnt += 1 # duplicates\n",
    "                cnt += root.leftCnt\n",
    "                break\n",
    "        return cnt\n",
    "        # here we run the typical insertion of BST\n",
    "class Solution(object):\n",
    "    def countSmaller(self, nums):\n",
    "        \"\"\"\n",
    "        :type nums: List[int]\n",
    "        :rtype: List[int]\n",
    "        \"\"\"\n",
    "        counts = [0] * len(nums)\n",
    "        BST = BinaryST()\n",
    "        for i in range(len(nums)-1,-1,-1):\n",
    "            counts[i] = BST.insert(nums[i])\n",
    "            \n",
    "        return counts\n",
    "nums = [5,2,6,1]\n",
    "Solution().countSmaller(nums)"
   ]
  },
  {
   "cell_type": "code",
   "execution_count": 6,
   "metadata": {},
   "outputs": [
    {
     "data": {
      "text/plain": [
       "[2, 1, 1, 0]"
      ]
     },
     "execution_count": 6,
     "metadata": {},
     "output_type": "execute_result"
    }
   ],
   "source": [
    "def countSmaller(nums):\n",
    "    def sort(enum):\n",
    "        half = len(enum) // 2\n",
    "        if half:\n",
    "            left, right = sort(enum[:half]), sort(enum[half:])\n",
    "            m, n = len(left), len(right)\n",
    "            i = j = 0\n",
    "            while i < m or j < n:\n",
    "                if j == n or i < m and left[i][1] <= right[j][1]:\n",
    "                    enum[i+j] = left[i]\n",
    "                    smaller[left[i][0]] += j\n",
    "                    i += 1\n",
    "                else:\n",
    "                    enum[i+j] = right[j]\n",
    "                    j += 1\n",
    "        return enum\n",
    "    smaller = [0] * len(nums)\n",
    "    sort(list(enumerate(nums)))\n",
    "    return smaller\n",
    "\n",
    "nums = [5,2,6,1]\n",
    "countSmaller(nums)"
   ]
  },
  {
   "cell_type": "code",
   "execution_count": null,
   "metadata": {},
   "outputs": [],
   "source": []
  }
 ],
 "metadata": {
  "kernelspec": {
   "display_name": "Python 3",
   "language": "python",
   "name": "python3"
  },
  "language_info": {
   "codemirror_mode": {
    "name": "ipython",
    "version": 3
   },
   "file_extension": ".py",
   "mimetype": "text/x-python",
   "name": "python",
   "nbconvert_exporter": "python",
   "pygments_lexer": "ipython3",
   "version": "3.7.3"
  }
 },
 "nbformat": 4,
 "nbformat_minor": 2
}
