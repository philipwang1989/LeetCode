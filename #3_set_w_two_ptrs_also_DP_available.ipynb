{
 "cells": [
  {
   "cell_type": "code",
   "execution_count": 18,
   "metadata": {},
   "outputs": [
    {
     "data": {
      "text/plain": [
       "3"
      ]
     },
     "execution_count": 18,
     "metadata": {},
     "output_type": "execute_result"
    }
   ],
   "source": [
    "# 3. Longest Substring Without Repeating Characters\n",
    "# Input: \"abcabcbb\"\n",
    "# Output: 3 \n",
    "# Explanation: The answer is \"abc\", with the length of 3. \n",
    "\n",
    "# Input: \"bbbbb\"\n",
    "# Output: 1\n",
    "# Explanation: The answer is \"b\", with the length of 1.\n",
    "\n",
    "# Input: \"pwwkew\"\n",
    "# Output: 3\n",
    "# Explanation: The answer is \"wke\", with the length of 3. \n",
    "#              Note that the answer must be a substring, \n",
    "#         \"pwke\" is a subsequence and not a substring.\n",
    "\n",
    "class Solution:\n",
    "    def lengthOfLongestSubstring(self, s):\n",
    "        unique = set()\n",
    "        ans = 0\n",
    "        N = len(s)\n",
    "        i = 0\n",
    "        j = 0\n",
    "        while i < N and j < N:\n",
    "            if s[i] not in unique:\n",
    "                unique.add(s[i])\n",
    "                i += 1\n",
    "                ans = max(ans, i - j)\n",
    "            else:\n",
    "                unique.remove(s[j])\n",
    "                j += 1\n",
    "        return ans\n",
    "    \n",
    "s = \"bbbbb\"\n",
    "s = \"pwwkewc\"\n",
    "s = \"abcabcbb\"\n",
    "Solution().lengthOfLongestSubstring(s)"
   ]
  },
  {
   "cell_type": "code",
   "execution_count": 19,
   "metadata": {},
   "outputs": [
    {
     "data": {
      "text/plain": [
       "3"
      ]
     },
     "execution_count": 19,
     "metadata": {},
     "output_type": "execute_result"
    }
   ],
   "source": [
    "# DP - slightly faster\n",
    "def lengthOfLongestSubstring(self, s):\n",
    "    \"\"\"\n",
    "    dp[i]: Length of longest substring at position i\n",
    "    postdict: to record each characters last position in the input string s\n",
    "    How to obtain dp[i] from dp[i-1]\n",
    "\n",
    "    1) if s[i] not in postdict - s[i] is apparently different from s[i-1], so dp[i] = dp[i-1] + 1\n",
    "    2) if s[i] already in postdict - for example s[i] = 'b', s[i-1] = 'a', from postdict we know the\n",
    "    latest b position is j, and s[j+1] till s[i-1] will not be b. So dp[i] = i - postdict[s[i]]? Wait, if there\n",
    "    is a 2nd 'a' in between two 'b' ? In this case dp[i] = dp[i-1] + 1. So we have min() here.\n",
    "    Example: b***...***ab\n",
    "    Finally, we need to update postdict with s[i] position\n",
    "    \"\"\"\n",
    "    if not s:\n",
    "        return 0\n",
    "\n",
    "    dp = [1] * len(s)\n",
    "    postdict = {s[0]: 0}\n",
    "    longest = 1\n",
    "\n",
    "    for i in range(1, len(s)):\n",
    "        if s[i] in postdict:\n",
    "            dp[i] = min(dp[i-1] + 1, i - postdict[s[i]])\n",
    "        else:\n",
    "            dp[i] = dp[i-1] + 1\n",
    "\n",
    "        postdict[s[i]] = i\n",
    "        longest = max(longest, dp[i])\n",
    "\n",
    "    return longest\n",
    "\n",
    "s = \"bbbbb\"\n",
    "s = \"pwwkewc\"\n",
    "s = \"abcabcbb\"\n",
    "Solution().lengthOfLongestSubstring(s)"
   ]
  },
  {
   "cell_type": "code",
   "execution_count": null,
   "metadata": {},
   "outputs": [],
   "source": []
  }
 ],
 "metadata": {
  "kernelspec": {
   "display_name": "Python 3",
   "language": "python",
   "name": "python3"
  },
  "language_info": {
   "codemirror_mode": {
    "name": "ipython",
    "version": 3
   },
   "file_extension": ".py",
   "mimetype": "text/x-python",
   "name": "python",
   "nbconvert_exporter": "python",
   "pygments_lexer": "ipython3",
   "version": "3.6.5"
  }
 },
 "nbformat": 4,
 "nbformat_minor": 2
}
