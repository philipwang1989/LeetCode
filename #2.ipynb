{
 "cells": [
  {
   "cell_type": "code",
   "execution_count": null,
   "metadata": {},
   "outputs": [],
   "source": [
    "# 2. Add Two Numbers\n",
    "# Definition for singly-linked list.\n",
    "class ListNode(object):\n",
    "    def __init__(self, x):\n",
    "        self.val = x\n",
    "        self.next = None\n",
    "\n",
    "class Solution(object):\n",
    "    def addTwoNumbers(self, l1, l2):\n",
    "        \"\"\"\n",
    "        :type l1: ListNode\n",
    "        :type l2: ListNode\n",
    "        :rtype: ListNode\n",
    "        \"\"\"\n",
    "        num1 = self.LL2num(l1)\n",
    "        num2 = self.LL2num(l2)\n",
    "        num = num1 + num2\n",
    "        \n",
    "        head = ListNode(0)\n",
    "        curr = head\n",
    "        while num != 0:\n",
    "            curr.next = ListNode(num % 10)\n",
    "            curr = curr.next\n",
    "            num = num // 10\n",
    "        return head.next\n",
    "    \n",
    "    def LL2num(self, l1):\n",
    "        stack = []\n",
    "        num = 0\n",
    "        while l1:\n",
    "            stack += [l1.val]\n",
    "            l1 = l1.next\n",
    "        while stack:\n",
    "            num = (num * 10 + stack.pop())\n",
    "        return num\n",
    "    \n",
    "    def reverse(self, node):\n",
    "        if not node:\n",
    "            return None\n",
    "        if not node.next:\n",
    "            return node\n",
    "        p = self.reverse(node.next)\n",
    "        node.next.next = node\n",
    "        node.next = None\n",
    "        return p"
   ]
  }
 ],
 "metadata": {
  "kernelspec": {
   "display_name": "Python 3",
   "language": "python",
   "name": "python3"
  },
  "language_info": {
   "codemirror_mode": {
    "name": "ipython",
    "version": 3
   },
   "file_extension": ".py",
   "mimetype": "text/x-python",
   "name": "python",
   "nbconvert_exporter": "python",
   "pygments_lexer": "ipython3",
   "version": "3.6.5"
  }
 },
 "nbformat": 4,
 "nbformat_minor": 2
}
