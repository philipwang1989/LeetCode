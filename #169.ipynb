{
 "cells": [
  {
   "cell_type": "code",
   "execution_count": 14,
   "metadata": {},
   "outputs": [
    {
     "name": "stdout",
     "output_type": "stream",
     "text": [
      "[1, 1, 2, 3, 3, 3, 3]\n"
     ]
    },
    {
     "data": {
      "text/plain": [
       "[3, 1, 2]"
      ]
     },
     "execution_count": 14,
     "metadata": {},
     "output_type": "execute_result"
    }
   ],
   "source": [
    "# 169. Majority Element\n",
    "# before solving this problem - read about backtracking\n",
    "# method 1: hashmap + sorting\n",
    "class Solution:\n",
    "    def majorityElement(self, nums):\n",
    "        nums.sort()\n",
    "        print(nums)\n",
    "        lib = {}\n",
    "        count = 0\n",
    "        for i in range(0,len(nums)):\n",
    "            if nums[i] == nums[i-1]:\n",
    "                count += 1\n",
    "            elif nums[i] != nums[i-1]:\n",
    "                count = 1\n",
    "            lib[nums[i]] = count\n",
    "        \n",
    "        result = sorted(lib, key=lib.get, reverse=True)\n",
    "        \n",
    "        return result[0]\n",
    "\n",
    "nums = [3,2,3,3,3,1,1]\n",
    "s = Solution()\n",
    "s.majorityElement(nums)"
   ]
  },
  {
   "cell_type": "code",
   "execution_count": 20,
   "metadata": {},
   "outputs": [
    {
     "data": {
      "text/plain": [
       "4"
      ]
     },
     "execution_count": 20,
     "metadata": {},
     "output_type": "execute_result"
    }
   ],
   "source": [
    "# method 2: sorting\n",
    "# using the fact that the majority has a count of > n/2\n",
    "class Solution:\n",
    "    def majorityElement(self, nums):\n",
    "        if len(nums) == 1:\n",
    "            return nums[0]\n",
    "        nums.sort()\n",
    "        result = nums[len(nums)//2]\n",
    "        #if len(nums) % 2 == 1: # odd number\n",
    "        #    result = nums[len(nums)//2]\n",
    "        #else:\n",
    "        #    result = nums[len(nums)//2]\n",
    "        return result\n",
    "\n",
    "nums = [3,3,4]\n",
    "s = Solution()\n",
    "s.majorityElement(nums)"
   ]
  },
  {
   "cell_type": "code",
   "execution_count": 26,
   "metadata": {},
   "outputs": [
    {
     "data": {
      "text/plain": [
       "2"
      ]
     },
     "execution_count": 26,
     "metadata": {},
     "output_type": "execute_result"
    }
   ],
   "source": [
    "4//2"
   ]
  },
  {
   "cell_type": "code",
   "execution_count": null,
   "metadata": {},
   "outputs": [],
   "source": []
  }
 ],
 "metadata": {
  "kernelspec": {
   "display_name": "Python 3",
   "language": "python",
   "name": "python3"
  },
  "language_info": {
   "codemirror_mode": {
    "name": "ipython",
    "version": 3
   },
   "file_extension": ".py",
   "mimetype": "text/x-python",
   "name": "python",
   "nbconvert_exporter": "python",
   "pygments_lexer": "ipython3",
   "version": "3.6.5"
  }
 },
 "nbformat": 4,
 "nbformat_minor": 2
}
