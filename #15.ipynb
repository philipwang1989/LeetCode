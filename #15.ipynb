{
 "cells": [
  {
   "cell_type": "code",
   "execution_count": 29,
   "metadata": {},
   "outputs": [
    {
     "name": "stdout",
     "output_type": "stream",
     "text": [
      "[-4, -1, -1, 0, 1, 2]\n",
      "1 5 1 4\n",
      "2 5 1 4\n",
      "3 5 2 4\n",
      "4 5 3 4\n",
      "2 5 1 1\n",
      "3 4 1 1\n",
      "4 5 3 0\n"
     ]
    },
    {
     "data": {
      "text/plain": [
       "[[-1, -1, 2], [-1, 0, 1]]"
      ]
     },
     "execution_count": 29,
     "metadata": {},
     "output_type": "execute_result"
    }
   ],
   "source": [
    "# 15. 3Sum\n",
    "# Given array nums = [-1, 0, 1, 2, -1, -4],\n",
    "# A solution set is:\n",
    "# [\n",
    "#   [-1, 0, 1],\n",
    "#   [-1, -1, 2]\n",
    "# ]\n",
    "class Solution(object):\n",
    "    def threeSum(self, nums):\n",
    "        \"\"\"\n",
    "        :type nums: List[int]\n",
    "        :rtype: List[List[int]]\n",
    "        \"\"\"\n",
    "        nums.sort()\n",
    "        s = set()\n",
    "        # must stayed ordered to take advantage of set()\n",
    "        # len(nums)-2 because need 3 numbers\n",
    "        for i in range(0, len(nums)-2): \n",
    "            if nums[i] > 0:\n",
    "                break # RHS of i are all > 0 no way to get 0\n",
    "            if i > 0 and nums[i] == nums[i-1]:\n",
    "                continue # repeated!\n",
    "            target = 0 - nums[i]\n",
    "            l = i + 1\n",
    "            r = len(nums) - 1\n",
    "            while l < r:\n",
    "                if (nums[l] + nums[r]) == target:\n",
    "                    s.add((nums[i],nums[l],nums[r]))\n",
    "                    l += 1\n",
    "                    r -= 1\n",
    "                elif (nums[l] + nums[r]) < target:\n",
    "                    l += 1\n",
    "                else:\n",
    "                    r -= 1\n",
    "        return [list(x) for x in s]\n",
    "\n",
    "\n",
    "nums = [-1, 0, 1, 2, -1, -4]\n",
    "Solution().threeSum(nums)"
   ]
  },
  {
   "cell_type": "code",
   "execution_count": 21,
   "metadata": {},
   "outputs": [
    {
     "data": {
      "text/plain": [
       "[[1, 2, 3]]"
      ]
     },
     "execution_count": 21,
     "metadata": {},
     "output_type": "execute_result"
    }
   ],
   "source": [
    "# review: set()\n",
    "s = set()\n",
    "s.add((1,2,3))\n",
    "s.add((1,2,3)) # no duplicates\n",
    "s = list(s)\n",
    "[list(x) for x in s]"
   ]
  },
  {
   "cell_type": "code",
   "execution_count": null,
   "metadata": {},
   "outputs": [],
   "source": []
  }
 ],
 "metadata": {
  "kernelspec": {
   "display_name": "Python 3",
   "language": "python",
   "name": "python3"
  },
  "language_info": {
   "codemirror_mode": {
    "name": "ipython",
    "version": 3
   },
   "file_extension": ".py",
   "mimetype": "text/x-python",
   "name": "python",
   "nbconvert_exporter": "python",
   "pygments_lexer": "ipython3",
   "version": "3.6.5"
  }
 },
 "nbformat": 4,
 "nbformat_minor": 2
}
