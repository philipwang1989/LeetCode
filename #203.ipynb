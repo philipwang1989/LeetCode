{
 "cells": [
  {
   "cell_type": "code",
   "execution_count": null,
   "metadata": {},
   "outputs": [],
   "source": [
    "# 203. Remove Linked List Elements\n",
    "class Solution(object):\n",
    "    def removeElements(self, head, val):\n",
    "        \"\"\"\n",
    "        :type head: ListNode\n",
    "        :type val: int\n",
    "        :rtype: ListNode\n",
    "        \"\"\"\n",
    "        if not head:\n",
    "            return head\n",
    "        curr = head\n",
    "        prev = None\n",
    "        \n",
    "        # check for head\n",
    "        while curr and curr.val == val:\n",
    "            head = curr.next\n",
    "            curr = head\n",
    "        if not head:\n",
    "            return head\n",
    "        \n",
    "        # check for LL with one element\n",
    "        if curr.next:\n",
    "            prev = curr\n",
    "            head = prev\n",
    "            curr = curr.next\n",
    "        else:\n",
    "            return head\n",
    "        while curr:\n",
    "            if curr.val == val:\n",
    "                prev.next = curr.next\n",
    "                curr.next = None\n",
    "                curr = prev.next\n",
    "            else:\n",
    "                prev = curr\n",
    "                curr = curr.next\n",
    "        return head\n",
    "            "
   ]
  }
 ],
 "metadata": {
  "kernelspec": {
   "display_name": "Python 3",
   "language": "python",
   "name": "python3"
  },
  "language_info": {
   "codemirror_mode": {
    "name": "ipython",
    "version": 3
   },
   "file_extension": ".py",
   "mimetype": "text/x-python",
   "name": "python",
   "nbconvert_exporter": "python",
   "pygments_lexer": "ipython3",
   "version": "3.6.5"
  }
 },
 "nbformat": 4,
 "nbformat_minor": 2
}
