{
 "cells": [
  {
   "cell_type": "code",
   "execution_count": 10,
   "metadata": {},
   "outputs": [
    {
     "data": {
      "text/plain": [
       "['dt', 'du', 'dv', 'et', 'eu', 'ev', 'ft', 'fu', 'fv']"
      ]
     },
     "execution_count": 10,
     "metadata": {},
     "output_type": "execute_result"
    }
   ],
   "source": [
    "# 17. Letter Combinations of a Phone Number\n",
    "# Input: \"23\"\n",
    "# Output: [\"ad\", \"ae\", \"af\", \"bd\", \"be\", \"bf\", \"cd\", \"ce\", \"cf\"].\n",
    "class Solution(object):\n",
    "    def __init__(self):\n",
    "        self.res = []\n",
    "        self.d = {'2': ['a', 'b', 'c'],\n",
    "                 '3': ['d', 'e', 'f'],\n",
    "                 '4': ['g', 'h', 'i'],\n",
    "                 '5': ['j', 'k', 'l'],\n",
    "                 '6': ['m', 'n', 'o'],\n",
    "                 '7': ['p', 'q', 'r', 's'],\n",
    "                 '8': ['t', 'u', 'v'],\n",
    "                 '9': ['w', 'x', 'y', 'z']}\n",
    "    def letterCombinations(self, digits):\n",
    "        \"\"\"\n",
    "        :type digits: str\n",
    "        :rtype: List[str]\n",
    "        \"\"\"\n",
    "        if len(digits) == 0:\n",
    "            return []\n",
    "        path = ''\n",
    "        self.search(digits, path)\n",
    "        return self.res\n",
    "    def search(self, digits, path):\n",
    "        if len(digits) == 0:\n",
    "            self.res.append(path)\n",
    "            return\n",
    "        for ch in self.d[digits[0]]:\n",
    "            self.search(digits[1:], path + ch)\n",
    "Solution().letterCombinations('38')"
   ]
  },
  {
   "cell_type": "code",
   "execution_count": 6,
   "metadata": {},
   "outputs": [
    {
     "name": "stdout",
     "output_type": "stream",
     "text": [
      "d\n",
      "dt\n",
      "du\n",
      "dv\n",
      "e\n",
      "et\n",
      "eu\n",
      "ev\n",
      "f\n",
      "ft\n",
      "fu\n",
      "fv\n"
     ]
    },
    {
     "data": {
      "text/plain": [
       "['dt', 'du', 'dv', 'et', 'eu', 'ev', 'ft', 'fu', 'fv']"
      ]
     },
     "execution_count": 6,
     "metadata": {},
     "output_type": "execute_result"
    }
   ],
   "source": [
    "# 17. Letter Combinations of a Phone Number\n",
    "# Input: \"23\"\n",
    "# Output: [\"ad\", \"ae\", \"af\", \"bd\", \"be\", \"bf\", \"cd\", \"ce\", \"cf\"].\n",
    "# start with a dictionary? \n",
    "# then backtracking?\n",
    "class Solution(object):\n",
    "    def letterCombinations(self, digits):\n",
    "        \"\"\"\n",
    "        :type digits: str\n",
    "        :rtype: List[str]\n",
    "        \"\"\"\n",
    "        if len(digits) == 0:\n",
    "            return []\n",
    "        d = {'2': ['a', 'b', 'c'],\n",
    "                 '3': ['d', 'e', 'f'],\n",
    "                 '4': ['g', 'h', 'i'],\n",
    "                 '5': ['j', 'k', 'l'],\n",
    "                 '6': ['m', 'n', 'o'],\n",
    "                 '7': ['p', 'q', 'r', 's'],\n",
    "                 '8': ['t', 'u', 'v'],\n",
    "                 '9': ['w', 'x', 'y', 'z']}\n",
    "        result = []\n",
    "        def backtracking(combination,digits):\n",
    "            if len(digits) == 0:\n",
    "                result.append(combination)\n",
    "            else:\n",
    "                for s in d[digits[0]]:\n",
    "                    backtracking(combination+s,digits[1:])\n",
    "        backtracking('',digits)    \n",
    "        return result\n",
    "    \n",
    "Solution().letterCombinations('38')"
   ]
  },
  {
   "cell_type": "code",
   "execution_count": 4,
   "metadata": {},
   "outputs": [
    {
     "name": "stdout",
     "output_type": "stream",
     "text": [
      "a\n",
      "ab\n",
      "abc\n"
     ]
    }
   ],
   "source": [
    "d = {'2':['a','b','c']}\n",
    "d['2']\n",
    "len(d['2'])\n",
    "ret = ''\n",
    "for ch in d['2']:\n",
    "    ret += ch\n",
    "    print(ret)"
   ]
  },
  {
   "cell_type": "code",
   "execution_count": 7,
   "metadata": {},
   "outputs": [
    {
     "data": {
      "text/plain": [
       "['ad', 'ae', 'af', 'bd', 'be', 'bf', 'cd', 'ce', 'cf']"
      ]
     },
     "execution_count": 7,
     "metadata": {},
     "output_type": "execute_result"
    }
   ],
   "source": [
    "# 2019/10/29\n",
    "# Input: \"23\"\n",
    "# Output: [\"ad\", \"ae\", \"af\", \"bd\", \"be\", \"bf\", \"cd\", \"ce\", \"cf\"].\n",
    "class Solution:\n",
    "    def __init__(self):\n",
    "        self.ans = []\n",
    "        self.d = {'2': ['a', 'b', 'c'],\n",
    "                 '3': ['d', 'e', 'f'],\n",
    "                 '4': ['g', 'h', 'i'],\n",
    "                 '5': ['j', 'k', 'l'],\n",
    "                 '6': ['m', 'n', 'o'],\n",
    "                 '7': ['p', 'q', 'r', 's'],\n",
    "                 '8': ['t', 'u', 'v'],\n",
    "                 '9': ['w', 'x', 'y', 'z']}\n",
    "    def letterCombinations(self, digits):\n",
    "        self.DFS(digits, '')\n",
    "        return self.ans\n",
    "    \n",
    "    def DFS(self, digits, path):\n",
    "        if len(digits) == 0:\n",
    "            self.ans += [path]\n",
    "            return\n",
    "        for ch in self.d[digits[0]]:\n",
    "            self.DFS(digits[1:],path+ch)\n",
    "        \n",
    "digits = '23'\n",
    "Solution().letterCombinations(digits)"
   ]
  },
  {
   "cell_type": "code",
   "execution_count": null,
   "metadata": {},
   "outputs": [],
   "source": []
  }
 ],
 "metadata": {
  "kernelspec": {
   "display_name": "Python 3",
   "language": "python",
   "name": "python3"
  },
  "language_info": {
   "codemirror_mode": {
    "name": "ipython",
    "version": 3
   },
   "file_extension": ".py",
   "mimetype": "text/x-python",
   "name": "python",
   "nbconvert_exporter": "python",
   "pygments_lexer": "ipython3",
   "version": "3.7.3"
  }
 },
 "nbformat": 4,
 "nbformat_minor": 2
}
