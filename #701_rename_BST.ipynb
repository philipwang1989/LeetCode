{
 "cells": [
  {
   "cell_type": "code",
   "execution_count": null,
   "metadata": {},
   "outputs": [],
   "source": [
    "# 701. Insert into a Binary Search Tree\n",
    "# Definition for a binary tree node.\n",
    "class TreeNode(object):\n",
    "    def __init__(self, x):\n",
    "        self.val = x\n",
    "        self.left = None\n",
    "        self.right = None\n",
    "\n",
    "class Solution(object):\n",
    "    def insertIntoBST(self, root, val):\n",
    "        \"\"\"\n",
    "        :type root: TreeNode\n",
    "        :type val: int\n",
    "        :rtype: TreeNode\n",
    "        \"\"\"\n",
    "        if not root:\n",
    "            return TreeNode(val)\n",
    "        self.put(root, val)\n",
    "        return root\n",
    "    def put(self, node, val):\n",
    "        if node.val < val:\n",
    "            if node.right == None:\n",
    "                node.right = TreeNode(val)\n",
    "                return\n",
    "            else:\n",
    "                self.put(node.right, val)\n",
    "        else:\n",
    "            if node.left == None:\n",
    "                node.left = TreeNode(val)\n",
    "                return\n",
    "            else:\n",
    "                self.put(node.left, val)"
   ]
  }
 ],
 "metadata": {
  "kernelspec": {
   "display_name": "Python 3",
   "language": "python",
   "name": "python3"
  },
  "language_info": {
   "codemirror_mode": {
    "name": "ipython",
    "version": 3
   },
   "file_extension": ".py",
   "mimetype": "text/x-python",
   "name": "python",
   "nbconvert_exporter": "python",
   "pygments_lexer": "ipython3",
   "version": "3.6.5"
  }
 },
 "nbformat": 4,
 "nbformat_minor": 2
}
