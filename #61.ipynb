{
 "cells": [
  {
   "cell_type": "code",
   "execution_count": null,
   "metadata": {},
   "outputs": [],
   "source": [
    "# 61. Rotate List\n",
    "# Definition for singly-linked list.\n",
    "# class ListNode(object):\n",
    "#     def __init__(self, x):\n",
    "#         self.val = x\n",
    "#         self.next = None\n",
    "\n",
    "class Solution(object):\n",
    "    def rotateRight(self, head, k):\n",
    "        \"\"\"\n",
    "        :type head: ListNode\n",
    "        :type k: int\n",
    "        :rtype: ListNode\n",
    "        \"\"\"\n",
    "        if not head or k == 0:\n",
    "            return head\n",
    "        lenLL = 0\n",
    "        curr = head\n",
    "        while curr:\n",
    "            curr = curr.next\n",
    "            lenLL += 1\n",
    "        k = k % lenLL\n",
    "        if k == 0:\n",
    "            return head\n",
    "        # step 1: reverse everthing\n",
    "        head = self.reverse(head)\n",
    "        \n",
    "        # step 2: find break point\n",
    "        curr = head\n",
    "        lenLL = 0\n",
    "        while lenLL < k - 1:\n",
    "            curr = curr.next\n",
    "            lenLL += 1\n",
    "        \n",
    "        curr2 = curr.next\n",
    "        curr.next = None\n",
    "        curr = head\n",
    "        \n",
    "        # step 3: reverse two LL\n",
    "        head = self.reverse(curr)\n",
    "        curr = head\n",
    "        curr2 = self.reverse(curr2)\n",
    "        while curr.next:\n",
    "            curr = curr.next\n",
    "        curr.next = curr2\n",
    "        return head\n",
    "    def reverse(self, node):\n",
    "        prev = None\n",
    "        curr = node\n",
    "        while curr:\n",
    "            nextNode = curr.next\n",
    "            curr.next = prev\n",
    "            prev = curr\n",
    "            curr = nextNode\n",
    "        return prev"
   ]
  }
 ],
 "metadata": {
  "kernelspec": {
   "display_name": "Python 3",
   "language": "python",
   "name": "python3"
  },
  "language_info": {
   "codemirror_mode": {
    "name": "ipython",
    "version": 3
   },
   "file_extension": ".py",
   "mimetype": "text/x-python",
   "name": "python",
   "nbconvert_exporter": "python",
   "pygments_lexer": "ipython3",
   "version": "3.6.5"
  }
 },
 "nbformat": 4,
 "nbformat_minor": 2
}
