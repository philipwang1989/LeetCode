{
 "cells": [
  {
   "cell_type": "code",
   "execution_count": null,
   "metadata": {},
   "outputs": [],
   "source": [
    "# 173. Binary Search Tree Iterator\n",
    "\n",
    "# next() and hasNext() should run in average O(1) time\n",
    "# and uses O(h) memory, where h is the height of the tree.\n",
    "\n",
    "# You may assume that next() call will always be valid,\n",
    "# that is, there will be at least a next smallest number\n",
    "# in the BST when next() is called.\n",
    "\n",
    "# Definition for a binary tree node.\n",
    "# class TreeNode(object):\n",
    "#     def __init__(self, x):\n",
    "#         self.val = x\n",
    "#         self.left = None\n",
    "#         self.right = None\n",
    "\n",
    "class BSTIterator(object):\n",
    "\n",
    "    def __init__(self, root):\n",
    "        \"\"\"\n",
    "        :type root: TreeNode\n",
    "        \"\"\"\n",
    "        self.nums = self._inorderTraversal(root)\n",
    "        print(self.nums)\n",
    "        \n",
    "    def _inorderTraversal(self, node):\n",
    "        if not node:\n",
    "            return []\n",
    "        return self._inorderTraversal(node.left) + [node.val] + self._inorderTraversal(node.right)\n",
    "\n",
    "    def next(self):\n",
    "        \"\"\"\n",
    "        @return the next smallest number\n",
    "        :rtype: int\n",
    "        \"\"\"\n",
    "        return self.nums.pop(0)\n",
    "\n",
    "    def hasNext(self):\n",
    "        \"\"\"\n",
    "        @return whether we have a next smallest number\n",
    "        :rtype: bool\n",
    "        \"\"\"\n",
    "        if len(self.nums) == 0:\n",
    "            return False\n",
    "        return True\n",
    "        \n",
    "\n",
    "\n",
    "# Your BSTIterator object will be instantiated and called as such:\n",
    "# obj = BSTIterator(root)\n",
    "# param_1 = obj.next()\n",
    "# param_2 = obj.hasNext()"
   ]
  }
 ],
 "metadata": {
  "kernelspec": {
   "display_name": "Python 3",
   "language": "python",
   "name": "python3"
  },
  "language_info": {
   "codemirror_mode": {
    "name": "ipython",
    "version": 3
   },
   "file_extension": ".py",
   "mimetype": "text/x-python",
   "name": "python",
   "nbconvert_exporter": "python",
   "pygments_lexer": "ipython3",
   "version": "3.6.5"
  }
 },
 "nbformat": 4,
 "nbformat_minor": 2
}
