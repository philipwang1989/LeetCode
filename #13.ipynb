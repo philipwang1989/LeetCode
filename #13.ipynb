{
 "cells": [
  {
   "cell_type": "code",
   "execution_count": 11,
   "metadata": {},
   "outputs": [
    {
     "name": "stdout",
     "output_type": "stream",
     "text": [
      "24\n"
     ]
    }
   ],
   "source": [
    "# 13. Roman to Integer\n",
    "class Solution:\n",
    "    def romanToInt(self, s):\n",
    "        strList = {\n",
    "            'I': 1,\n",
    "            'V': 5,\n",
    "            'X': 10,\n",
    "            'L': 50,\n",
    "            'C': 100,\n",
    "            'D': 500,\n",
    "            'M': 1000\n",
    "        }\n",
    "        result = 0\n",
    "        previous = strList[s[0]]\n",
    "        for i in range(1,len(s)):\n",
    "            current = strList[s[i]]\n",
    "            if current > previous:\n",
    "                result -= previous\n",
    "            else:\n",
    "                result += previous\n",
    "            previous = current\n",
    "        result += previous\n",
    "        return result\n",
    "roman = 'XXIV'\n",
    "s = Solution()\n",
    "s.romanToInt(roman)"
   ]
  },
  {
   "cell_type": "code",
   "execution_count": 3,
   "metadata": {},
   "outputs": [
    {
     "name": "stdout",
     "output_type": "stream",
     "text": [
      "3\n"
     ]
    }
   ],
   "source": [
    "roman = 'III'\n",
    "\n",
    "print(len(roman))"
   ]
  },
  {
   "cell_type": "code",
   "execution_count": null,
   "metadata": {},
   "outputs": [],
   "source": []
  }
 ],
 "metadata": {
  "kernelspec": {
   "display_name": "Python 3",
   "language": "python",
   "name": "python3"
  },
  "language_info": {
   "codemirror_mode": {
    "name": "ipython",
    "version": 3
   },
   "file_extension": ".py",
   "mimetype": "text/x-python",
   "name": "python",
   "nbconvert_exporter": "python",
   "pygments_lexer": "ipython3",
   "version": "3.7.3"
  }
 },
 "nbformat": 4,
 "nbformat_minor": 2
}
