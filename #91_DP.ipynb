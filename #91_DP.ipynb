{
 "cells": [
  {
   "cell_type": "code",
   "execution_count": 2,
   "metadata": {},
   "outputs": [
    {
     "name": "stdout",
     "output_type": "stream",
     "text": [
      "[1, 1, 2, 0]\n",
      "[1, 1, 2, 3]\n"
     ]
    },
    {
     "data": {
      "text/plain": [
       "3"
      ]
     },
     "execution_count": 2,
     "metadata": {},
     "output_type": "execute_result"
    }
   ],
   "source": [
    "# 91. Decode Ways\n",
    "# also read:\n",
    "# 62. Unique Paths\n",
    "# 70. Climbing Stairs\n",
    "# 509. Fibonacci Number\n",
    "class Solution(object):\n",
    "    def numDecodings(self, s):\n",
    "        \"\"\"\n",
    "        :type s: str\n",
    "        :rtype: int\n",
    "        \"\"\"\n",
    "        if not s:\n",
    "            return 0\n",
    "\n",
    "        dp = [0] * (len(s) + 1)\n",
    "        dp[0] = 1\n",
    "        dp[1] = 1 if 0 < int(s[0]) <= 9 else 0\n",
    "\n",
    "        for i in range(2, len(s) + 1):\n",
    "            if 0 < int(s[i-1:i]) <= 9:\n",
    "                dp[i] += dp[i - 1]\n",
    "            if s[i-2:i][0] != '0' and int(s[i-2:i]) <= 26:\n",
    "                dp[i] += dp[i - 2]\n",
    "#             print(dp)\n",
    "        return dp[len(s)]\n",
    "    \n",
    "s = '226'\n",
    "Solution().numDecodings(s)"
   ]
  },
  {
   "cell_type": "code",
   "execution_count": null,
   "metadata": {},
   "outputs": [],
   "source": []
  }
 ],
 "metadata": {
  "kernelspec": {
   "display_name": "Python 3",
   "language": "python",
   "name": "python3"
  },
  "language_info": {
   "codemirror_mode": {
    "name": "ipython",
    "version": 3
   },
   "file_extension": ".py",
   "mimetype": "text/x-python",
   "name": "python",
   "nbconvert_exporter": "python",
   "pygments_lexer": "ipython3",
   "version": "3.6.5"
  }
 },
 "nbformat": 4,
 "nbformat_minor": 2
}
