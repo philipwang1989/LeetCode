{
 "cells": [
  {
   "cell_type": "code",
   "execution_count": 39,
   "metadata": {},
   "outputs": [
    {
     "data": {
      "text/plain": [
       "[1, 5]"
      ]
     },
     "execution_count": 39,
     "metadata": {},
     "output_type": "execute_result"
    }
   ],
   "source": [
    "# 34. Find First and Last Position of Element in Sorted Array\n",
    "# Input: nums = [5,7,7,8,8,10], target = 8\n",
    "# Output: [3,4]\n",
    "# Input: nums = [5,7,7,8,8,10], target = 6\n",
    "# Output: [-1,-1]\n",
    "# since the list is sorted, use binary search\n",
    "class Solution:\n",
    "    def binarySearch(self, nums, target, left):\n",
    "        l = 0\n",
    "        r = len(nums)\n",
    "        while l < r:\n",
    "            mid = (l + r) // 2\n",
    "            if nums[mid] > target or (left and target == nums[mid]):\n",
    "                r = mid\n",
    "            else:\n",
    "                l = mid + 1\n",
    "        return l\n",
    "    def searchRange(self, nums, target):\n",
    "        left_idx = self.binarySearch(nums,target,True)\n",
    "        if left_idx == len(nums) or nums[left_idx] != target:\n",
    "            return [-1, -1]\n",
    "        return [left_idx, self.binarySearch(nums, target, False)-1]\n",
    "     \n",
    "nums = [5,7,7,7,7,7,8,8,10]\n",
    "target = 7\n",
    "Solution().searchRange(nums,target)"
   ]
  },
  {
   "cell_type": "code",
   "execution_count": 49,
   "metadata": {},
   "outputs": [
    {
     "data": {
      "text/plain": [
       "[-1, -1]"
      ]
     },
     "execution_count": 49,
     "metadata": {},
     "output_type": "execute_result"
    }
   ],
   "source": [
    "# My own solution:\n",
    "class Solution:\n",
    "    def searchRange(self, nums, target):\n",
    "        # first get left\n",
    "        l = 0\n",
    "        r = len(nums)\n",
    "        while l < r:\n",
    "            mid = (l + r) // 2\n",
    "            if nums[mid] >= target:\n",
    "                r = mid\n",
    "            else:\n",
    "                l = mid + 1\n",
    "        left = l\n",
    "        # first statement handles nums = []\n",
    "        if left == len(nums) or nums[left] != target:\n",
    "            return [-1,-1]\n",
    "        # now right, which is subtle because you \"squeeze\" until no left\n",
    "        l = 0\n",
    "        r = len(nums)\n",
    "        while l < r:\n",
    "            mid = (l + r) // 2\n",
    "            if nums[mid] <= target:\n",
    "                l = mid + 1\n",
    "            else:\n",
    "                r = mid\n",
    "        right = r\n",
    "        return [left,right-1]\n",
    "        \n",
    "nums = []\n",
    "target = 0\n",
    "Solution().searchRange(nums,target)"
   ]
  },
  {
   "cell_type": "code",
   "execution_count": null,
   "metadata": {},
   "outputs": [],
   "source": []
  }
 ],
 "metadata": {
  "kernelspec": {
   "display_name": "Python 3",
   "language": "python",
   "name": "python3"
  },
  "language_info": {
   "codemirror_mode": {
    "name": "ipython",
    "version": 3
   },
   "file_extension": ".py",
   "mimetype": "text/x-python",
   "name": "python",
   "nbconvert_exporter": "python",
   "pygments_lexer": "ipython3",
   "version": "3.6.5"
  }
 },
 "nbformat": 4,
 "nbformat_minor": 2
}
